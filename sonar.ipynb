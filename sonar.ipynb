{
 "cells": [
  {
   "cell_type": "code",
   "execution_count": 1,
   "metadata": {},
   "outputs": [],
   "source": [
    "import os\n",
    "import glob \n",
    "from hdf5_getters import *\n",
    "import pandas as pd\n",
    "from sklearn.compose import ColumnTransformer\n",
    "from sklearn.pipeline import Pipeline\n",
    "from sklearn.neighbors import NearestNeighbors\n",
    "from sklearn.feature_extraction.text import TfidfVectorizer\n",
    "from sklearn.model_selection import train_test_split"
   ]
  },
  {
   "cell_type": "code",
   "execution_count": 38,
   "metadata": {},
   "outputs": [],
   "source": [
    "def assemble_df(features: [str], basedir: str, ext: str = \".h5\") -> pd.DataFrame:\n",
    "    \n",
    "    msd_dict = {feat:[] for feat in features}\n",
    "    \n",
    "    for root, dirs, files in os.walk(basedir):\n",
    "        files = glob.glob(os.path.join(root, '*'+ext))\n",
    "        \n",
    "        for f in files:\n",
    "            hf = open_h5_file_read(f)\n",
    "            \n",
    "            for feat in features:\n",
    "                info = eval(\"get_{}(hf)\".format(feat))\n",
    "                msd_dict[\"{}\".format(feat)].append(info)\n",
    "            \n",
    "            hf.close()\n",
    "        \n",
    "    return pd.DataFrame(msd_dict)\n",
    "    "
   ]
  },
  {
   "cell_type": "code",
   "execution_count": 39,
   "metadata": {},
   "outputs": [],
   "source": [
    "msd_df = assemble_df([\"title\", \"artist_name\", \"artist_hotttnesss\", \"artist_terms\", \n",
    "                      \"artist_terms_freq\", \"artist_terms_weight\", \"danceability\",\n",
    "                      \"duration\", \"energy\", \"loudness\", \"tempo\", \"year\"], \n",
    "                     \"/home/malits/data/MillionSongSubset/data\")"
   ]
  },
  {
   "cell_type": "code",
   "execution_count": 42,
   "metadata": {},
   "outputs": [],
   "source": [
    "msd_df.to_csv(\"/home/malits/data/MillionSongsDataset.csv\")"
   ]
  },
  {
   "cell_type": "markdown",
   "metadata": {},
   "source": [
    "Next steps: \n",
    "- Clean up data (i.e., remove 'b' indicator)\n",
    "- Scale values appropriately\n",
    "- Create pipeline\n",
    "- Column transformer - start with results on TFIDF for artist labels and see how far that gets\n",
    "- summary stats maybe but also not necessary\n",
    "- afterwards - do year prediction. Maybe some sort of sentiment analysis based off of song content"
   ]
  },
  {
   "cell_type": "code",
   "execution_count": 2,
   "metadata": {},
   "outputs": [],
   "source": [
    "msd_df = pd.read_csv(\"/home/malits/data/MillionSongsDataset.csv\")"
   ]
  },
  {
   "cell_type": "code",
   "execution_count": 4,
   "metadata": {},
   "outputs": [
    {
     "data": {
      "text/html": [
       "<div>\n",
       "<style scoped>\n",
       "    .dataframe tbody tr th:only-of-type {\n",
       "        vertical-align: middle;\n",
       "    }\n",
       "\n",
       "    .dataframe tbody tr th {\n",
       "        vertical-align: top;\n",
       "    }\n",
       "\n",
       "    .dataframe thead th {\n",
       "        text-align: right;\n",
       "    }\n",
       "</style>\n",
       "<table border=\"1\" class=\"dataframe\">\n",
       "  <thead>\n",
       "    <tr style=\"text-align: right;\">\n",
       "      <th></th>\n",
       "      <th>Unnamed: 0</th>\n",
       "      <th>title</th>\n",
       "      <th>artist_name</th>\n",
       "      <th>artist_hotttnesss</th>\n",
       "      <th>artist_terms</th>\n",
       "      <th>artist_terms_freq</th>\n",
       "      <th>artist_terms_weight</th>\n",
       "      <th>danceability</th>\n",
       "      <th>duration</th>\n",
       "      <th>energy</th>\n",
       "      <th>loudness</th>\n",
       "      <th>tempo</th>\n",
       "      <th>year</th>\n",
       "    </tr>\n",
       "  </thead>\n",
       "  <tbody>\n",
       "    <tr>\n",
       "      <th>0</th>\n",
       "      <td>0</td>\n",
       "      <td>b'Le Precipice'</td>\n",
       "      <td>b'Daara J'</td>\n",
       "      <td>0.300735</td>\n",
       "      <td>[b'afrobeat' b'reggae' b'hip hop' b'rap' b'con...</td>\n",
       "      <td>[0.94831612 0.97681825 1.         0.75112764 0...</td>\n",
       "      <td>[1.         0.91655448 0.91356074 0.71026606 0...</td>\n",
       "      <td>0.0</td>\n",
       "      <td>261.61587</td>\n",
       "      <td>0.0</td>\n",
       "      <td>-7.727</td>\n",
       "      <td>91.005</td>\n",
       "      <td>0</td>\n",
       "    </tr>\n",
       "    <tr>\n",
       "      <th>1</th>\n",
       "      <td>1</td>\n",
       "      <td>b'Leaders Of Men'</td>\n",
       "      <td>b'Joy Division'</td>\n",
       "      <td>0.576295</td>\n",
       "      <td>[b'alternative' b'indie' b'gothic rock' b'guit...</td>\n",
       "      <td>[0.99228052 1.         0.42174574 0.39448353 0...</td>\n",
       "      <td>[1.         0.99996121 0.66981663 0.57741088 0...</td>\n",
       "      <td>0.0</td>\n",
       "      <td>141.08689</td>\n",
       "      <td>0.0</td>\n",
       "      <td>-6.021</td>\n",
       "      <td>150.040</td>\n",
       "      <td>1978</td>\n",
       "    </tr>\n",
       "  </tbody>\n",
       "</table>\n",
       "</div>"
      ],
      "text/plain": [
       "   Unnamed: 0              title      artist_name  artist_hotttnesss  \\\n",
       "0           0    b'Le Precipice'       b'Daara J'           0.300735   \n",
       "1           1  b'Leaders Of Men'  b'Joy Division'           0.576295   \n",
       "\n",
       "                                        artist_terms  \\\n",
       "0  [b'afrobeat' b'reggae' b'hip hop' b'rap' b'con...   \n",
       "1  [b'alternative' b'indie' b'gothic rock' b'guit...   \n",
       "\n",
       "                                   artist_terms_freq  \\\n",
       "0  [0.94831612 0.97681825 1.         0.75112764 0...   \n",
       "1  [0.99228052 1.         0.42174574 0.39448353 0...   \n",
       "\n",
       "                                 artist_terms_weight  danceability   duration  \\\n",
       "0  [1.         0.91655448 0.91356074 0.71026606 0...           0.0  261.61587   \n",
       "1  [1.         0.99996121 0.66981663 0.57741088 0...           0.0  141.08689   \n",
       "\n",
       "   energy  loudness    tempo  year  \n",
       "0     0.0    -7.727   91.005     0  \n",
       "1     0.0    -6.021  150.040  1978  "
      ]
     },
     "execution_count": 4,
     "metadata": {},
     "output_type": "execute_result"
    }
   ],
   "source": [
    "msd_df.head(2)"
   ]
  },
  {
   "cell_type": "code",
   "execution_count": 5,
   "metadata": {},
   "outputs": [],
   "source": [
    "working_df = msd_df[['title', 'artist_name', 'artist_terms', 'duration', 'loudness', 'tempo', 'year']]"
   ]
  },
  {
   "cell_type": "code",
   "execution_count": 6,
   "metadata": {},
   "outputs": [
    {
     "data": {
      "text/html": [
       "<div>\n",
       "<style scoped>\n",
       "    .dataframe tbody tr th:only-of-type {\n",
       "        vertical-align: middle;\n",
       "    }\n",
       "\n",
       "    .dataframe tbody tr th {\n",
       "        vertical-align: top;\n",
       "    }\n",
       "\n",
       "    .dataframe thead th {\n",
       "        text-align: right;\n",
       "    }\n",
       "</style>\n",
       "<table border=\"1\" class=\"dataframe\">\n",
       "  <thead>\n",
       "    <tr style=\"text-align: right;\">\n",
       "      <th></th>\n",
       "      <th>title</th>\n",
       "      <th>artist_name</th>\n",
       "      <th>artist_terms</th>\n",
       "      <th>duration</th>\n",
       "      <th>loudness</th>\n",
       "      <th>tempo</th>\n",
       "      <th>year</th>\n",
       "    </tr>\n",
       "  </thead>\n",
       "  <tbody>\n",
       "    <tr>\n",
       "      <th>0</th>\n",
       "      <td>b'Le Precipice'</td>\n",
       "      <td>b'Daara J'</td>\n",
       "      <td>[b'afrobeat' b'reggae' b'hip hop' b'rap' b'con...</td>\n",
       "      <td>261.61587</td>\n",
       "      <td>-7.727</td>\n",
       "      <td>91.005</td>\n",
       "      <td>0</td>\n",
       "    </tr>\n",
       "    <tr>\n",
       "      <th>1</th>\n",
       "      <td>b'Leaders Of Men'</td>\n",
       "      <td>b'Joy Division'</td>\n",
       "      <td>[b'alternative' b'indie' b'gothic rock' b'guit...</td>\n",
       "      <td>141.08689</td>\n",
       "      <td>-6.021</td>\n",
       "      <td>150.040</td>\n",
       "      <td>1978</td>\n",
       "    </tr>\n",
       "  </tbody>\n",
       "</table>\n",
       "</div>"
      ],
      "text/plain": [
       "               title      artist_name  \\\n",
       "0    b'Le Precipice'       b'Daara J'   \n",
       "1  b'Leaders Of Men'  b'Joy Division'   \n",
       "\n",
       "                                        artist_terms   duration  loudness  \\\n",
       "0  [b'afrobeat' b'reggae' b'hip hop' b'rap' b'con...  261.61587    -7.727   \n",
       "1  [b'alternative' b'indie' b'gothic rock' b'guit...  141.08689    -6.021   \n",
       "\n",
       "     tempo  year  \n",
       "0   91.005     0  \n",
       "1  150.040  1978  "
      ]
     },
     "execution_count": 6,
     "metadata": {},
     "output_type": "execute_result"
    }
   ],
   "source": [
    "working_df.head(2)"
   ]
  },
  {
   "cell_type": "code",
   "execution_count": 40,
   "metadata": {},
   "outputs": [],
   "source": [
    "decades = [0, 1920, 1930, 1940, 1950, 1960, 1970, 1980, 1990, 2000, 2010]\n",
    "working_df['decade'] = pd.cut(working_df[\"year\"], decades)\n",
    "working_df[\"valid_decade\"] = working_df[\"year\"] > 0"
   ]
  },
  {
   "cell_type": "code",
   "execution_count": null,
   "metadata": {},
   "outputs": [],
   "source": [
    "work"
   ]
  }
 ],
 "metadata": {
  "kernelspec": {
   "display_name": "Python 3",
   "language": "python",
   "name": "python3"
  },
  "language_info": {
   "codemirror_mode": {
    "name": "ipython",
    "version": 3
   },
   "file_extension": ".py",
   "mimetype": "text/x-python",
   "name": "python",
   "nbconvert_exporter": "python",
   "pygments_lexer": "ipython3",
   "version": "3.7.3"
  }
 },
 "nbformat": 4,
 "nbformat_minor": 2
}
