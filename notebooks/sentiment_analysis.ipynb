{
 "cells": [
  {
   "cell_type": "markdown",
   "metadata": {},
   "source": [
    "## SONAR: Emotionally Intelligent Music Recommendations\n",
    "\n",
    "Draws heavily from [this tutorial](https://ahmedbesbes.com/sentiment-analysis-on-twitter-using-word2vec-and-keras.html)\n",
    "\n",
    "Welcome to Sonar! This project was inpired me to first explore Machine Learning. The premise is simple: we often want different music to listen to based on our mood. However, oftentimes finding that music proves difficult. Sonar takes away that difficulty: by entering short mood messages, sonar generates Spotify recommendations using both your old favorites and determined mood. \n",
    "\n",
    "Enjoy!"
   ]
  },
  {
   "cell_type": "code",
   "execution_count": 1,
   "metadata": {
    "scrolled": true
   },
   "outputs": [
    {
     "name": "stderr",
     "output_type": "stream",
     "text": [
      "Using TensorFlow backend.\n"
     ]
    }
   ],
   "source": [
    "import re\n",
    "\n",
    "from bokeh.plotting import figure, show, output_notebook\n",
    "from bokeh.models import HoverTool\n",
    "import dill as pkl\n",
    "import gensim\n",
    "from gensim.models.word2vec import Word2Vec\n",
    "from keras import Sequential\n",
    "from keras.layers import Dense, Activation\n",
    "import matplotlib.pyplot as plt\n",
    "import numpy as np\n",
    "from nltk.tokenize import TweetTokenizer\n",
    "from nltk.corpus import stopwords\n",
    "import pandas as pd\n",
    "from sklearn.feature_extraction.text import TfidfVectorizer\n",
    "from sklearn.manifold import TSNE\n",
    "from sklearn.model_selection import train_test_split\n",
    "from sklearn.preprocessing import scale\n",
    "from tensorflow.python.keras.preprocessing.text import Tokenizer\n",
    "from tensorflow.python.keras.preprocessing.sequence import pad_sequences\n",
    "from tqdm import tqdm_notebook, tqdm\n",
    "\n",
    "#tqdm_notebook().pandas(desc=\"progress-bar\")\n",
    "tokenizer = TweetTokenizer(strip_handles=True, reduce_len=True)\n",
    "TaggedDocument = gensim.models.doc2vec.TaggedDocument\n",
    "STOPWORDS = set(stopwords.words('english'))\n",
    "\n",
    "not_stops = [\"but\", \"very\", \"most\", \"nor\", \"no\", \"against\"]\n",
    "for stop in not_stops:\n",
    "    STOPWORDS.remove(stop)\n",
    "    \n",
    "%matplotlib inline"
   ]
  },
  {
   "cell_type": "markdown",
   "metadata": {},
   "source": [
    "### Preprocessing\n",
    "\n",
    "- Load tweets into a usable format. Clean up null values and reindex.\n",
    "\n",
    "- Tokenize the data and take only the n values we aim to use in training."
   ]
  },
  {
   "cell_type": "code",
   "execution_count": 2,
   "metadata": {},
   "outputs": [],
   "source": [
    "def load_tweets():\n",
    "    tweets_train = pd.read_csv(\"/home/malits/data/tweets/training.1600000.processed.noemoticon.csv\", \n",
    "                               encoding = \"ISO-8859-1\")\n",
    "    data = pd.DataFrame()\n",
    "    data[\"sentiment\"] = tweets_train[\"0\"].apply(lambda v: 1 if (v >= 2) else 0)\n",
    "    data[\"sentiment\"] = data[\"sentiment\"].map(int)\n",
    "    data[\"tweet\"] = tweets_train.iloc[:, [5]]\n",
    "    data[\"tweet\"] = data[\"tweet\"].astype(str)\n",
    "    data = data[data['tweet'].isnull() == False]\n",
    "    data.reset_index(inplace=True)\n",
    "    data.drop('index', axis=1, inplace=True)\n",
    "    \n",
    "    return data"
   ]
  },
  {
   "cell_type": "code",
   "execution_count": 3,
   "metadata": {},
   "outputs": [
    {
     "data": {
      "text/html": [
       "<div>\n",
       "<style scoped>\n",
       "    .dataframe tbody tr th:only-of-type {\n",
       "        vertical-align: middle;\n",
       "    }\n",
       "\n",
       "    .dataframe tbody tr th {\n",
       "        vertical-align: top;\n",
       "    }\n",
       "\n",
       "    .dataframe thead th {\n",
       "        text-align: right;\n",
       "    }\n",
       "</style>\n",
       "<table border=\"1\" class=\"dataframe\">\n",
       "  <thead>\n",
       "    <tr style=\"text-align: right;\">\n",
       "      <th></th>\n",
       "      <th>sentiment</th>\n",
       "      <th>tweet</th>\n",
       "    </tr>\n",
       "  </thead>\n",
       "  <tbody>\n",
       "    <tr>\n",
       "      <th>0</th>\n",
       "      <td>0</td>\n",
       "      <td>is upset that he can't update his Facebook by ...</td>\n",
       "    </tr>\n",
       "    <tr>\n",
       "      <th>1</th>\n",
       "      <td>0</td>\n",
       "      <td>@Kenichan I dived many times for the ball. Man...</td>\n",
       "    </tr>\n",
       "    <tr>\n",
       "      <th>2</th>\n",
       "      <td>0</td>\n",
       "      <td>my whole body feels itchy and like its on fire</td>\n",
       "    </tr>\n",
       "    <tr>\n",
       "      <th>3</th>\n",
       "      <td>0</td>\n",
       "      <td>@nationwideclass no, it's not behaving at all....</td>\n",
       "    </tr>\n",
       "    <tr>\n",
       "      <th>4</th>\n",
       "      <td>0</td>\n",
       "      <td>@Kwesidei not the whole crew</td>\n",
       "    </tr>\n",
       "  </tbody>\n",
       "</table>\n",
       "</div>"
      ],
      "text/plain": [
       "   sentiment                                              tweet\n",
       "0          0  is upset that he can't update his Facebook by ...\n",
       "1          0  @Kenichan I dived many times for the ball. Man...\n",
       "2          0    my whole body feels itchy and like its on fire \n",
       "3          0  @nationwideclass no, it's not behaving at all....\n",
       "4          0                      @Kwesidei not the whole crew "
      ]
     },
     "execution_count": 3,
     "metadata": {},
     "output_type": "execute_result"
    }
   ],
   "source": [
    "data = load_tweets()\n",
    "data.head()"
   ]
  },
  {
   "cell_type": "code",
   "execution_count": 4,
   "metadata": {},
   "outputs": [],
   "source": [
    "def postprocess(data, n=1000000):\n",
    "    data = data.head(n)\n",
    "    data.loc[:, \"tokens\"] = data.loc[:, \"tweet\"].apply(tokenize)\n",
    "    data = data.loc[data.tokens != 'NC', :]\n",
    "    data.reset_index(inplace=True)\n",
    "    data.drop('index', inplace=True, axis=1)\n",
    "    return data"
   ]
  },
  {
   "cell_type": "code",
   "execution_count": 5,
   "metadata": {},
   "outputs": [],
   "source": [
    "contractions = { \n",
    "\"ain't\": \"am not / are not / is not / has not / have not\",\n",
    "\"aren't\": \"are not / am not\",\n",
    "\"can't\": \"cannot\",\n",
    "\"can't've\": \"cannot have\",\n",
    "\"'cause\": \"because\",\n",
    "\"could've\": \"could have\",\n",
    "\"couldn't\": \"could not\",\n",
    "\"couldn't've\": \"could not have\",\n",
    "\"didn't\": \"did not\",\n",
    "\"doesn't\": \"does not\",\n",
    "\"don't\": \"do not\",\n",
    "\"hadn't\": \"had not\",\n",
    "\"hadn't've\": \"had not have\",\n",
    "\"hasn't\": \"has not\",\n",
    "\"haven't\": \"have not\",\n",
    "\"he'd\": \"he had / he would\",\n",
    "\"he'd've\": \"he would have\",\n",
    "\"he'll\": \"he shall / he will\",\n",
    "\"he'll've\": \"he shall have / he will have\",\n",
    "\"he's\": \"he has / he is\",\n",
    "\"how'd\": \"how did\",\n",
    "\"how'd'y\": \"how do you\",\n",
    "\"how'll\": \"how will\",\n",
    "\"how's\": \"how has / how is / how does\",\n",
    "\"I'd\": \"I had / I would\",\n",
    "\"I'd've\": \"I would have\",\n",
    "\"I'll\": \"I shall / I will\",\n",
    "\"I'll've\": \"I shall have / I will have\",\n",
    "\"I'm\": \"I am\",\n",
    "\"I've\": \"I have\",\n",
    "\"isn't\": \"is not\",\n",
    "\"it'd\": \"it had / it would\",\n",
    "\"it'd've\": \"it would have\",\n",
    "\"it'll\": \"it shall / it will\",\n",
    "\"it'll've\": \"it shall have / it will have\",\n",
    "\"it's\": \"it has / it is\",\n",
    "\"let's\": \"let us\",\n",
    "\"ma'am\": \"madam\",\n",
    "\"mayn't\": \"may not\",\n",
    "\"might've\": \"might have\",\n",
    "\"mightn't\": \"might not\",\n",
    "\"mightn't've\": \"might not have\",\n",
    "\"must've\": \"must have\",\n",
    "\"mustn't\": \"must not\",\n",
    "\"mustn't've\": \"must not have\",\n",
    "\"needn't\": \"need not\",\n",
    "\"needn't've\": \"need not have\",\n",
    "\"o'clock\": \"of the clock\",\n",
    "\"oughtn't\": \"ought not\",\n",
    "\"oughtn't've\": \"ought not have\",\n",
    "\"shan't\": \"shall not\",\n",
    "\"sha'n't\": \"shall not\",\n",
    "\"shan't've\": \"shall not have\",\n",
    "\"she'd\": \"she had / she would\",\n",
    "\"she'd've\": \"she would have\",\n",
    "\"she'll\": \"she shall / she will\",\n",
    "\"she'll've\": \"she shall have / she will have\",\n",
    "\"she's\": \"she has / she is\",\n",
    "\"should've\": \"should have\",\n",
    "\"shouldn't\": \"should not\",\n",
    "\"shouldn't've\": \"should not have\",\n",
    "\"so've\": \"so have\",\n",
    "\"so's\": \"so as / so is\",\n",
    "\"that'd\": \"that would / that had\",\n",
    "\"that'd've\": \"that would have\",\n",
    "\"that's\": \"that has / that is\",\n",
    "\"there'd\": \"there had / there would\",\n",
    "\"there'd've\": \"there would have\",\n",
    "\"there's\": \"there has / there is\",\n",
    "\"they'd\": \"they had / they would\",\n",
    "\"they'd've\": \"they would have\",\n",
    "\"they'll\": \"they shall / they will\",\n",
    "\"they'll've\": \"they shall have / they will have\",\n",
    "\"they're\": \"they are\",\n",
    "\"they've\": \"they have\",\n",
    "\"to've\": \"to have\",\n",
    "\"wasn't\": \"was not\",\n",
    "\"we'd\": \"we had / we would\",\n",
    "\"we'd've\": \"we would have\",\n",
    "\"we'll\": \"we will\",\n",
    "\"we'll've\": \"we will have\",\n",
    "\"we're\": \"we are\",\n",
    "\"we've\": \"we have\",\n",
    "\"weren't\": \"were not\",\n",
    "\"what'll\": \"what shall / what will\",\n",
    "\"what'll've\": \"what shall have / what will have\",\n",
    "\"what're\": \"what are\",\n",
    "\"what's\": \"what has / what is\",\n",
    "\"what've\": \"what have\",\n",
    "\"when's\": \"when has / when is\",\n",
    "\"when've\": \"when have\",\n",
    "\"where'd\": \"where did\",\n",
    "\"where's\": \"where has / where is\",\n",
    "\"where've\": \"where have\",\n",
    "\"who'll\": \"who shall / who will\",\n",
    "\"who'll've\": \"who shall have / who will have\",\n",
    "\"who's\": \"who has / who is\",\n",
    "\"who've\": \"who have\",\n",
    "\"why's\": \"why has / why is\",\n",
    "\"why've\": \"why have\",\n",
    "\"will've\": \"will have\",\n",
    "\"won't\": \"will not\",\n",
    "\"won't've\": \"will not have\",\n",
    "\"would've\": \"would have\",\n",
    "\"wouldn't\": \"would not\",\n",
    "\"wouldn't've\": \"would not have\",\n",
    "\"y'all\": \"you all\",\n",
    "\"y'all'd\": \"you all would\",\n",
    "\"y'all'd've\": \"you all would have\",\n",
    "\"y'all're\": \"you all are\",\n",
    "\"y'all've\": \"you all have\",\n",
    "\"you'd\": \"you had / you would\",\n",
    "\"you'd've\": \"you would have\",\n",
    "\"you'll\": \"you shall / you will\",\n",
    "\"you'll've\": \"you shall have / you will have\",\n",
    "\"you're\": \"you are\",\n",
    "\"you've\": \"you have\"\n",
    "}\n",
    "\n",
    "def expand_contractions(text):\n",
    "    try:\n",
    "        return contractions[text]\n",
    "    except KeyError:\n",
    "        return text"
   ]
  },
  {
   "cell_type": "code",
   "execution_count": 6,
   "metadata": {},
   "outputs": [],
   "source": [
    "def tokenize(tweet):\n",
    "    sub_regex = r'(#[A-Za-z0-9])|(https)|[\\?!\\.,;:]'\n",
    "    tweet = str(tweet)\n",
    "    tokens = tokenizer.tokenize(tweet)\n",
    "    tokens = [re.sub(sub_regex, '', t) for t in tokens]\n",
    "    tokens = [t.lower() for t in tokens if t is not None and t != '']\n",
    "    tokens = [expand_contractions(t) for t in tokens]\n",
    "    tokens = [t for t in tokens if t not in STOPWORDS]\n",
    "    return tokens"
   ]
  },
  {
   "cell_type": "code",
   "execution_count": 7,
   "metadata": {
    "scrolled": false
   },
   "outputs": [
    {
     "name": "stderr",
     "output_type": "stream",
     "text": [
      "/home/malits/anaconda3/envs/sonar/lib/python3.7/site-packages/pandas/core/indexing.py:362: SettingWithCopyWarning: \n",
      "A value is trying to be set on a copy of a slice from a DataFrame.\n",
      "Try using .loc[row_indexer,col_indexer] = value instead\n",
      "\n",
      "See the caveats in the documentation: http://pandas.pydata.org/pandas-docs/stable/user_guide/indexing.html#returning-a-view-versus-a-copy\n",
      "  self.obj[key] = _infer_fill_value(value)\n",
      "/home/malits/anaconda3/envs/sonar/lib/python3.7/site-packages/pandas/core/indexing.py:480: SettingWithCopyWarning: \n",
      "A value is trying to be set on a copy of a slice from a DataFrame.\n",
      "Try using .loc[row_indexer,col_indexer] = value instead\n",
      "\n",
      "See the caveats in the documentation: http://pandas.pydata.org/pandas-docs/stable/user_guide/indexing.html#returning-a-view-versus-a-copy\n",
      "  self.obj[item] = s\n"
     ]
    }
   ],
   "source": [
    "processed = postprocess(data, len(data))"
   ]
  },
  {
   "cell_type": "code",
   "execution_count": 8,
   "metadata": {},
   "outputs": [
    {
     "data": {
      "text/html": [
       "<div>\n",
       "<style scoped>\n",
       "    .dataframe tbody tr th:only-of-type {\n",
       "        vertical-align: middle;\n",
       "    }\n",
       "\n",
       "    .dataframe tbody tr th {\n",
       "        vertical-align: top;\n",
       "    }\n",
       "\n",
       "    .dataframe thead th {\n",
       "        text-align: right;\n",
       "    }\n",
       "</style>\n",
       "<table border=\"1\" class=\"dataframe\">\n",
       "  <thead>\n",
       "    <tr style=\"text-align: right;\">\n",
       "      <th></th>\n",
       "      <th>sentiment</th>\n",
       "      <th>tweet</th>\n",
       "      <th>tokens</th>\n",
       "    </tr>\n",
       "  </thead>\n",
       "  <tbody>\n",
       "    <tr>\n",
       "      <th>0</th>\n",
       "      <td>0</td>\n",
       "      <td>is upset that he can't update his Facebook by ...</td>\n",
       "      <td>[upset, cannot, update, facebook, texting, mig...</td>\n",
       "    </tr>\n",
       "    <tr>\n",
       "      <th>1</th>\n",
       "      <td>0</td>\n",
       "      <td>@Kenichan I dived many times for the ball. Man...</td>\n",
       "      <td>[dived, many, times, ball, managed, save, 50, ...</td>\n",
       "    </tr>\n",
       "    <tr>\n",
       "      <th>2</th>\n",
       "      <td>0</td>\n",
       "      <td>my whole body feels itchy and like its on fire</td>\n",
       "      <td>[whole, body, feels, itchy, like, fire]</td>\n",
       "    </tr>\n",
       "    <tr>\n",
       "      <th>3</th>\n",
       "      <td>0</td>\n",
       "      <td>@nationwideclass no, it's not behaving at all....</td>\n",
       "      <td>[no, it has / it is, behaving, i'm, mad, canno...</td>\n",
       "    </tr>\n",
       "    <tr>\n",
       "      <th>4</th>\n",
       "      <td>0</td>\n",
       "      <td>@Kwesidei not the whole crew</td>\n",
       "      <td>[whole, crew]</td>\n",
       "    </tr>\n",
       "  </tbody>\n",
       "</table>\n",
       "</div>"
      ],
      "text/plain": [
       "   sentiment                                              tweet  \\\n",
       "0          0  is upset that he can't update his Facebook by ...   \n",
       "1          0  @Kenichan I dived many times for the ball. Man...   \n",
       "2          0    my whole body feels itchy and like its on fire    \n",
       "3          0  @nationwideclass no, it's not behaving at all....   \n",
       "4          0                      @Kwesidei not the whole crew    \n",
       "\n",
       "                                              tokens  \n",
       "0  [upset, cannot, update, facebook, texting, mig...  \n",
       "1  [dived, many, times, ball, managed, save, 50, ...  \n",
       "2            [whole, body, feels, itchy, like, fire]  \n",
       "3  [no, it has / it is, behaving, i'm, mad, canno...  \n",
       "4                                      [whole, crew]  "
      ]
     },
     "execution_count": 8,
     "metadata": {},
     "output_type": "execute_result"
    }
   ],
   "source": [
    "processed.head(5)"
   ]
  },
  {
   "cell_type": "markdown",
   "metadata": {},
   "source": [
    "### Create training data"
   ]
  },
  {
   "cell_type": "markdown",
   "metadata": {},
   "source": [
    "Once preprocessed, split to test/train sets and vectorize w w2vec for use in keras"
   ]
  },
  {
   "cell_type": "code",
   "execution_count": 9,
   "metadata": {},
   "outputs": [],
   "source": [
    "# Size of our embedding space\n",
    "\n",
    "N_DIM = 200"
   ]
  },
  {
   "cell_type": "code",
   "execution_count": 10,
   "metadata": {},
   "outputs": [],
   "source": [
    "X_train, X_test, y_train, y_test = train_test_split(np.array(processed['tokens']),\n",
    "                                                    np.array(processed['sentiment']),\n",
    "                                                    test_size=0.2)"
   ]
  },
  {
   "cell_type": "code",
   "execution_count": 11,
   "metadata": {},
   "outputs": [],
   "source": [
    "def labelizeTweets(tweets, label_type):\n",
    "    labelized = []\n",
    "    for i, v in tqdm_notebook(enumerate(tweets)):\n",
    "        label = '{}_{}'.format(label_type, i)\n",
    "        ## Use nltk TaggedDocument obj to mark words with their corresponding label. Makes words easier to retrieve from their vector form.\n",
    "        labelized.append(TaggedDocument(v, [label]))\n",
    "    return labelized"
   ]
  },
  {
   "cell_type": "code",
   "execution_count": 12,
   "metadata": {},
   "outputs": [
    {
     "data": {
      "application/vnd.jupyter.widget-view+json": {
       "model_id": "000dafb9871b442cad9ebcbd33a66698",
       "version_major": 2,
       "version_minor": 0
      },
      "text/plain": [
       "HBox(children=(IntProgress(value=1, bar_style='info', max=1), HTML(value='')))"
      ]
     },
     "metadata": {},
     "output_type": "display_data"
    },
    {
     "name": "stdout",
     "output_type": "stream",
     "text": [
      "\n"
     ]
    },
    {
     "data": {
      "application/vnd.jupyter.widget-view+json": {
       "model_id": "b093ae1f4c1247328a9cb786f19709e5",
       "version_major": 2,
       "version_minor": 0
      },
      "text/plain": [
       "HBox(children=(IntProgress(value=1, bar_style='info', max=1), HTML(value='')))"
      ]
     },
     "metadata": {},
     "output_type": "display_data"
    },
    {
     "name": "stdout",
     "output_type": "stream",
     "text": [
      "\n"
     ]
    }
   ],
   "source": [
    "X_train = labelizeTweets(X_train, 'TRAIN')\n",
    "X_test = labelizeTweets(X_test, 'TEST')"
   ]
  },
  {
   "cell_type": "markdown",
   "metadata": {},
   "source": [
    "## Replace Word2Vec corpus with more data!"
   ]
  },
  {
   "cell_type": "code",
   "execution_count": 13,
   "metadata": {},
   "outputs": [
    {
     "data": {
      "application/vnd.jupyter.widget-view+json": {
       "model_id": "fb294c495d194988bfd3ebccb75d5cc7",
       "version_major": 2,
       "version_minor": 0
      },
      "text/plain": [
       "HBox(children=(IntProgress(value=0, max=1279999), HTML(value='')))"
      ]
     },
     "metadata": {},
     "output_type": "display_data"
    },
    {
     "name": "stdout",
     "output_type": "stream",
     "text": [
      "\n"
     ]
    },
    {
     "data": {
      "application/vnd.jupyter.widget-view+json": {
       "model_id": "c9dc0850e2684a9082fe4c1cbadc7925",
       "version_major": 2,
       "version_minor": 0
      },
      "text/plain": [
       "HBox(children=(IntProgress(value=0, max=1279999), HTML(value='')))"
      ]
     },
     "metadata": {},
     "output_type": "display_data"
    },
    {
     "name": "stdout",
     "output_type": "stream",
     "text": [
      "\n"
     ]
    },
    {
     "data": {
      "text/plain": [
       "(44582499, 50683860)"
      ]
     },
     "execution_count": 13,
     "metadata": {},
     "output_type": "execute_result"
    }
   ],
   "source": [
    "train_size = len(X_train)\n",
    "tweet_w2v = Word2Vec(size=N_DIM, min_count=10)\n",
    "tweet_w2v.build_vocab([x.words for x in tqdm_notebook(X_train)])\n",
    "tweet_w2v.train([x.words for x in tqdm_notebook(X_train)], \n",
    "                total_examples=train_size, epochs = tweet_w2v.epochs)"
   ]
  },
  {
   "cell_type": "code",
   "execution_count": 14,
   "metadata": {},
   "outputs": [],
   "source": [
    "def get_similarity(text):\n",
    "    return tweet_w2v.wv.most_similar(text.lower())"
   ]
  },
  {
   "cell_type": "code",
   "execution_count": 15,
   "metadata": {},
   "outputs": [
    {
     "data": {
      "text/plain": [
       "[('all-american', 0.6761536598205566),\n",
       " ('ne-yo', 0.6727895140647888),\n",
       " ('indies', 0.6499416828155518),\n",
       " ('leighton', 0.6405508518218994),\n",
       " ('rejects', 0.6387357115745544),\n",
       " ('feat', 0.6371992230415344),\n",
       " ('barry', 0.6328898668289185),\n",
       " ('sings', 0.6260355710983276),\n",
       " ('adele', 0.6210954189300537),\n",
       " ('covina', 0.6206552386283875)]"
      ]
     },
     "execution_count": 15,
     "metadata": {},
     "output_type": "execute_result"
    }
   ],
   "source": [
    "get_similarity('kanye')"
   ]
  },
  {
   "cell_type": "code",
   "execution_count": 16,
   "metadata": {},
   "outputs": [
    {
     "name": "stderr",
     "output_type": "stream",
     "text": [
      "/home/malits/anaconda3/envs/sonar/lib/python3.7/site-packages/ipykernel_launcher.py:3: DeprecationWarning: Call to deprecated `__getitem__` (Method will be removed in 4.0.0, use self.wv.__getitem__() instead).\n",
      "  This is separate from the ipykernel package so we can avoid doing imports until\n"
     ]
    },
    {
     "name": "stdout",
     "output_type": "stream",
     "text": [
      "[t-SNE] Computing 91 nearest neighbors...\n",
      "[t-SNE] Indexed 5000 samples in 0.026s...\n",
      "[t-SNE] Computed neighbors for 5000 samples in 8.004s...\n",
      "[t-SNE] Computed conditional probabilities for sample 1000 / 5000\n",
      "[t-SNE] Computed conditional probabilities for sample 2000 / 5000\n",
      "[t-SNE] Computed conditional probabilities for sample 3000 / 5000\n",
      "[t-SNE] Computed conditional probabilities for sample 4000 / 5000\n",
      "[t-SNE] Computed conditional probabilities for sample 5000 / 5000\n",
      "[t-SNE] Mean sigma: 0.547245\n",
      "[t-SNE] KL divergence after 250 iterations with early exaggeration: 85.230515\n",
      "[t-SNE] KL divergence after 1000 iterations: 2.371732\n"
     ]
    }
   ],
   "source": [
    "keys = list(tweet_w2v.wv.vocab.keys())[:5000]\n",
    "\n",
    "word_vectors = [tweet_w2v[w] for w in keys]\n",
    "\n",
    "tsne_model = TSNE(n_components = 2, verbose = 1, random_state = 10)\n",
    "tsne_w2v = tsne_model.fit_transform(word_vectors)\n",
    "\n",
    "tsne_df = pd.DataFrame(tsne_w2v, columns=['x', 'y'])\n",
    "tsne_df['words'] = keys"
   ]
  },
  {
   "cell_type": "code",
   "execution_count": 17,
   "metadata": {},
   "outputs": [
    {
     "data": {
      "text/html": [
       "<div>\n",
       "<style scoped>\n",
       "    .dataframe tbody tr th:only-of-type {\n",
       "        vertical-align: middle;\n",
       "    }\n",
       "\n",
       "    .dataframe tbody tr th {\n",
       "        vertical-align: top;\n",
       "    }\n",
       "\n",
       "    .dataframe thead th {\n",
       "        text-align: right;\n",
       "    }\n",
       "</style>\n",
       "<table border=\"1\" class=\"dataframe\">\n",
       "  <thead>\n",
       "    <tr style=\"text-align: right;\">\n",
       "      <th></th>\n",
       "      <th>x</th>\n",
       "      <th>y</th>\n",
       "      <th>words</th>\n",
       "    </tr>\n",
       "  </thead>\n",
       "  <tbody>\n",
       "    <tr>\n",
       "      <th>0</th>\n",
       "      <td>-1.923984</td>\n",
       "      <td>-26.506626</td>\n",
       "      <td>im</td>\n",
       "    </tr>\n",
       "    <tr>\n",
       "      <th>1</th>\n",
       "      <td>36.973930</td>\n",
       "      <td>-26.296928</td>\n",
       "      <td>trying</td>\n",
       "    </tr>\n",
       "    <tr>\n",
       "      <th>2</th>\n",
       "      <td>-5.716387</td>\n",
       "      <td>44.449276</td>\n",
       "      <td>get</td>\n",
       "    </tr>\n",
       "    <tr>\n",
       "      <th>3</th>\n",
       "      <td>41.921158</td>\n",
       "      <td>27.877148</td>\n",
       "      <td>mine</td>\n",
       "    </tr>\n",
       "  </tbody>\n",
       "</table>\n",
       "</div>"
      ],
      "text/plain": [
       "           x          y   words\n",
       "0  -1.923984 -26.506626      im\n",
       "1  36.973930 -26.296928  trying\n",
       "2  -5.716387  44.449276     get\n",
       "3  41.921158  27.877148    mine"
      ]
     },
     "execution_count": 17,
     "metadata": {},
     "output_type": "execute_result"
    }
   ],
   "source": [
    "tsne_df.head(4)"
   ]
  },
  {
   "cell_type": "code",
   "execution_count": 18,
   "metadata": {},
   "outputs": [
    {
     "data": {
      "text/html": [
       "\n",
       "    <div class=\"bk-root\">\n",
       "        <a href=\"https://bokeh.pydata.org\" target=\"_blank\" class=\"bk-logo bk-logo-small bk-logo-notebook\"></a>\n",
       "        <span id=\"1050\">Loading BokehJS ...</span>\n",
       "    </div>"
      ]
     },
     "metadata": {},
     "output_type": "display_data"
    },
    {
     "data": {
      "application/javascript": [
       "\n",
       "(function(root) {\n",
       "  function now() {\n",
       "    return new Date();\n",
       "  }\n",
       "\n",
       "  var force = true;\n",
       "\n",
       "  if (typeof root._bokeh_onload_callbacks === \"undefined\" || force === true) {\n",
       "    root._bokeh_onload_callbacks = [];\n",
       "    root._bokeh_is_loading = undefined;\n",
       "  }\n",
       "\n",
       "  var JS_MIME_TYPE = 'application/javascript';\n",
       "  var HTML_MIME_TYPE = 'text/html';\n",
       "  var EXEC_MIME_TYPE = 'application/vnd.bokehjs_exec.v0+json';\n",
       "  var CLASS_NAME = 'output_bokeh rendered_html';\n",
       "\n",
       "  /**\n",
       "   * Render data to the DOM node\n",
       "   */\n",
       "  function render(props, node) {\n",
       "    var script = document.createElement(\"script\");\n",
       "    node.appendChild(script);\n",
       "  }\n",
       "\n",
       "  /**\n",
       "   * Handle when an output is cleared or removed\n",
       "   */\n",
       "  function handleClearOutput(event, handle) {\n",
       "    var cell = handle.cell;\n",
       "\n",
       "    var id = cell.output_area._bokeh_element_id;\n",
       "    var server_id = cell.output_area._bokeh_server_id;\n",
       "    // Clean up Bokeh references\n",
       "    if (id != null && id in Bokeh.index) {\n",
       "      Bokeh.index[id].model.document.clear();\n",
       "      delete Bokeh.index[id];\n",
       "    }\n",
       "\n",
       "    if (server_id !== undefined) {\n",
       "      // Clean up Bokeh references\n",
       "      var cmd = \"from bokeh.io.state import curstate; print(curstate().uuid_to_server['\" + server_id + \"'].get_sessions()[0].document.roots[0]._id)\";\n",
       "      cell.notebook.kernel.execute(cmd, {\n",
       "        iopub: {\n",
       "          output: function(msg) {\n",
       "            var id = msg.content.text.trim();\n",
       "            if (id in Bokeh.index) {\n",
       "              Bokeh.index[id].model.document.clear();\n",
       "              delete Bokeh.index[id];\n",
       "            }\n",
       "          }\n",
       "        }\n",
       "      });\n",
       "      // Destroy server and session\n",
       "      var cmd = \"import bokeh.io.notebook as ion; ion.destroy_server('\" + server_id + \"')\";\n",
       "      cell.notebook.kernel.execute(cmd);\n",
       "    }\n",
       "  }\n",
       "\n",
       "  /**\n",
       "   * Handle when a new output is added\n",
       "   */\n",
       "  function handleAddOutput(event, handle) {\n",
       "    var output_area = handle.output_area;\n",
       "    var output = handle.output;\n",
       "\n",
       "    // limit handleAddOutput to display_data with EXEC_MIME_TYPE content only\n",
       "    if ((output.output_type != \"display_data\") || (!output.data.hasOwnProperty(EXEC_MIME_TYPE))) {\n",
       "      return\n",
       "    }\n",
       "\n",
       "    var toinsert = output_area.element.find(\".\" + CLASS_NAME.split(' ')[0]);\n",
       "\n",
       "    if (output.metadata[EXEC_MIME_TYPE][\"id\"] !== undefined) {\n",
       "      toinsert[toinsert.length - 1].firstChild.textContent = output.data[JS_MIME_TYPE];\n",
       "      // store reference to embed id on output_area\n",
       "      output_area._bokeh_element_id = output.metadata[EXEC_MIME_TYPE][\"id\"];\n",
       "    }\n",
       "    if (output.metadata[EXEC_MIME_TYPE][\"server_id\"] !== undefined) {\n",
       "      var bk_div = document.createElement(\"div\");\n",
       "      bk_div.innerHTML = output.data[HTML_MIME_TYPE];\n",
       "      var script_attrs = bk_div.children[0].attributes;\n",
       "      for (var i = 0; i < script_attrs.length; i++) {\n",
       "        toinsert[toinsert.length - 1].firstChild.setAttribute(script_attrs[i].name, script_attrs[i].value);\n",
       "      }\n",
       "      // store reference to server id on output_area\n",
       "      output_area._bokeh_server_id = output.metadata[EXEC_MIME_TYPE][\"server_id\"];\n",
       "    }\n",
       "  }\n",
       "\n",
       "  function register_renderer(events, OutputArea) {\n",
       "\n",
       "    function append_mime(data, metadata, element) {\n",
       "      // create a DOM node to render to\n",
       "      var toinsert = this.create_output_subarea(\n",
       "        metadata,\n",
       "        CLASS_NAME,\n",
       "        EXEC_MIME_TYPE\n",
       "      );\n",
       "      this.keyboard_manager.register_events(toinsert);\n",
       "      // Render to node\n",
       "      var props = {data: data, metadata: metadata[EXEC_MIME_TYPE]};\n",
       "      render(props, toinsert[toinsert.length - 1]);\n",
       "      element.append(toinsert);\n",
       "      return toinsert\n",
       "    }\n",
       "\n",
       "    /* Handle when an output is cleared or removed */\n",
       "    events.on('clear_output.CodeCell', handleClearOutput);\n",
       "    events.on('delete.Cell', handleClearOutput);\n",
       "\n",
       "    /* Handle when a new output is added */\n",
       "    events.on('output_added.OutputArea', handleAddOutput);\n",
       "\n",
       "    /**\n",
       "     * Register the mime type and append_mime function with output_area\n",
       "     */\n",
       "    OutputArea.prototype.register_mime_type(EXEC_MIME_TYPE, append_mime, {\n",
       "      /* Is output safe? */\n",
       "      safe: true,\n",
       "      /* Index of renderer in `output_area.display_order` */\n",
       "      index: 0\n",
       "    });\n",
       "  }\n",
       "\n",
       "  // register the mime type if in Jupyter Notebook environment and previously unregistered\n",
       "  if (root.Jupyter !== undefined) {\n",
       "    var events = require('base/js/events');\n",
       "    var OutputArea = require('notebook/js/outputarea').OutputArea;\n",
       "\n",
       "    if (OutputArea.prototype.mime_types().indexOf(EXEC_MIME_TYPE) == -1) {\n",
       "      register_renderer(events, OutputArea);\n",
       "    }\n",
       "  }\n",
       "\n",
       "  \n",
       "  if (typeof (root._bokeh_timeout) === \"undefined\" || force === true) {\n",
       "    root._bokeh_timeout = Date.now() + 5000;\n",
       "    root._bokeh_failed_load = false;\n",
       "  }\n",
       "\n",
       "  var NB_LOAD_WARNING = {'data': {'text/html':\n",
       "     \"<div style='background-color: #fdd'>\\n\"+\n",
       "     \"<p>\\n\"+\n",
       "     \"BokehJS does not appear to have successfully loaded. If loading BokehJS from CDN, this \\n\"+\n",
       "     \"may be due to a slow or bad network connection. Possible fixes:\\n\"+\n",
       "     \"</p>\\n\"+\n",
       "     \"<ul>\\n\"+\n",
       "     \"<li>re-rerun `output_notebook()` to attempt to load from CDN again, or</li>\\n\"+\n",
       "     \"<li>use INLINE resources instead, as so:</li>\\n\"+\n",
       "     \"</ul>\\n\"+\n",
       "     \"<code>\\n\"+\n",
       "     \"from bokeh.resources import INLINE\\n\"+\n",
       "     \"output_notebook(resources=INLINE)\\n\"+\n",
       "     \"</code>\\n\"+\n",
       "     \"</div>\"}};\n",
       "\n",
       "  function display_loaded() {\n",
       "    var el = document.getElementById(\"1050\");\n",
       "    if (el != null) {\n",
       "      el.textContent = \"BokehJS is loading...\";\n",
       "    }\n",
       "    if (root.Bokeh !== undefined) {\n",
       "      if (el != null) {\n",
       "        el.textContent = \"BokehJS \" + root.Bokeh.version + \" successfully loaded.\";\n",
       "      }\n",
       "    } else if (Date.now() < root._bokeh_timeout) {\n",
       "      setTimeout(display_loaded, 100)\n",
       "    }\n",
       "  }\n",
       "\n",
       "\n",
       "  function run_callbacks() {\n",
       "    try {\n",
       "      root._bokeh_onload_callbacks.forEach(function(callback) {\n",
       "        if (callback != null)\n",
       "          callback();\n",
       "      });\n",
       "    } finally {\n",
       "      delete root._bokeh_onload_callbacks\n",
       "    }\n",
       "    console.debug(\"Bokeh: all callbacks have finished\");\n",
       "  }\n",
       "\n",
       "  function load_libs(css_urls, js_urls, callback) {\n",
       "    if (css_urls == null) css_urls = [];\n",
       "    if (js_urls == null) js_urls = [];\n",
       "\n",
       "    root._bokeh_onload_callbacks.push(callback);\n",
       "    if (root._bokeh_is_loading > 0) {\n",
       "      console.debug(\"Bokeh: BokehJS is being loaded, scheduling callback at\", now());\n",
       "      return null;\n",
       "    }\n",
       "    if (js_urls == null || js_urls.length === 0) {\n",
       "      run_callbacks();\n",
       "      return null;\n",
       "    }\n",
       "    console.debug(\"Bokeh: BokehJS not loaded, scheduling load and callback at\", now());\n",
       "    root._bokeh_is_loading = css_urls.length + js_urls.length;\n",
       "\n",
       "    function on_load() {\n",
       "      root._bokeh_is_loading--;\n",
       "      if (root._bokeh_is_loading === 0) {\n",
       "        console.debug(\"Bokeh: all BokehJS libraries/stylesheets loaded\");\n",
       "        run_callbacks()\n",
       "      }\n",
       "    }\n",
       "\n",
       "    function on_error() {\n",
       "      console.error(\"failed to load \" + url);\n",
       "    }\n",
       "\n",
       "    for (var i = 0; i < css_urls.length; i++) {\n",
       "      var url = css_urls[i];\n",
       "      const element = document.createElement(\"link\");\n",
       "      element.onload = on_load;\n",
       "      element.onerror = on_error;\n",
       "      element.rel = \"stylesheet\";\n",
       "      element.type = \"text/css\";\n",
       "      element.href = url;\n",
       "      console.debug(\"Bokeh: injecting link tag for BokehJS stylesheet: \", url);\n",
       "      document.body.appendChild(element);\n",
       "    }\n",
       "\n",
       "    for (var i = 0; i < js_urls.length; i++) {\n",
       "      var url = js_urls[i];\n",
       "      var element = document.createElement('script');\n",
       "      element.onload = on_load;\n",
       "      element.onerror = on_error;\n",
       "      element.async = false;\n",
       "      element.src = url;\n",
       "      console.debug(\"Bokeh: injecting script tag for BokehJS library: \", url);\n",
       "      document.head.appendChild(element);\n",
       "    }\n",
       "  };var element = document.getElementById(\"1050\");\n",
       "  if (element == null) {\n",
       "    console.error(\"Bokeh: ERROR: autoload.js configured with elementid '1050' but no matching script tag was found. \")\n",
       "    return false;\n",
       "  }\n",
       "\n",
       "  function inject_raw_css(css) {\n",
       "    const element = document.createElement(\"style\");\n",
       "    element.appendChild(document.createTextNode(css));\n",
       "    document.body.appendChild(element);\n",
       "  }\n",
       "\n",
       "  var js_urls = [\"https://cdn.pydata.org/bokeh/release/bokeh-1.3.4.min.js\", \"https://cdn.pydata.org/bokeh/release/bokeh-widgets-1.3.4.min.js\", \"https://cdn.pydata.org/bokeh/release/bokeh-tables-1.3.4.min.js\", \"https://cdn.pydata.org/bokeh/release/bokeh-gl-1.3.4.min.js\"];\n",
       "  var css_urls = [];\n",
       "\n",
       "  var inline_js = [\n",
       "    function(Bokeh) {\n",
       "      Bokeh.set_log_level(\"info\");\n",
       "    },\n",
       "    \n",
       "    function(Bokeh) {\n",
       "      \n",
       "    },\n",
       "    function(Bokeh) {} // ensure no trailing comma for IE\n",
       "  ];\n",
       "\n",
       "  function run_inline_js() {\n",
       "    \n",
       "    if ((root.Bokeh !== undefined) || (force === true)) {\n",
       "      for (var i = 0; i < inline_js.length; i++) {\n",
       "        inline_js[i].call(root, root.Bokeh);\n",
       "      }if (force === true) {\n",
       "        display_loaded();\n",
       "      }} else if (Date.now() < root._bokeh_timeout) {\n",
       "      setTimeout(run_inline_js, 100);\n",
       "    } else if (!root._bokeh_failed_load) {\n",
       "      console.log(\"Bokeh: BokehJS failed to load within specified timeout.\");\n",
       "      root._bokeh_failed_load = true;\n",
       "    } else if (force !== true) {\n",
       "      var cell = $(document.getElementById(\"1050\")).parents('.cell').data().cell;\n",
       "      cell.output_area.append_execute_result(NB_LOAD_WARNING)\n",
       "    }\n",
       "\n",
       "  }\n",
       "\n",
       "  if (root._bokeh_is_loading === 0) {\n",
       "    console.debug(\"Bokeh: BokehJS loaded, going straight to plotting\");\n",
       "    run_inline_js();\n",
       "  } else {\n",
       "    load_libs(css_urls, js_urls, function() {\n",
       "      console.debug(\"Bokeh: BokehJS plotting callback run at\", now());\n",
       "      run_inline_js();\n",
       "    });\n",
       "  }\n",
       "}(window));"
      ],
      "application/vnd.bokehjs_load.v0+json": "\n(function(root) {\n  function now() {\n    return new Date();\n  }\n\n  var force = true;\n\n  if (typeof root._bokeh_onload_callbacks === \"undefined\" || force === true) {\n    root._bokeh_onload_callbacks = [];\n    root._bokeh_is_loading = undefined;\n  }\n\n  \n\n  \n  if (typeof (root._bokeh_timeout) === \"undefined\" || force === true) {\n    root._bokeh_timeout = Date.now() + 5000;\n    root._bokeh_failed_load = false;\n  }\n\n  var NB_LOAD_WARNING = {'data': {'text/html':\n     \"<div style='background-color: #fdd'>\\n\"+\n     \"<p>\\n\"+\n     \"BokehJS does not appear to have successfully loaded. If loading BokehJS from CDN, this \\n\"+\n     \"may be due to a slow or bad network connection. Possible fixes:\\n\"+\n     \"</p>\\n\"+\n     \"<ul>\\n\"+\n     \"<li>re-rerun `output_notebook()` to attempt to load from CDN again, or</li>\\n\"+\n     \"<li>use INLINE resources instead, as so:</li>\\n\"+\n     \"</ul>\\n\"+\n     \"<code>\\n\"+\n     \"from bokeh.resources import INLINE\\n\"+\n     \"output_notebook(resources=INLINE)\\n\"+\n     \"</code>\\n\"+\n     \"</div>\"}};\n\n  function display_loaded() {\n    var el = document.getElementById(\"1050\");\n    if (el != null) {\n      el.textContent = \"BokehJS is loading...\";\n    }\n    if (root.Bokeh !== undefined) {\n      if (el != null) {\n        el.textContent = \"BokehJS \" + root.Bokeh.version + \" successfully loaded.\";\n      }\n    } else if (Date.now() < root._bokeh_timeout) {\n      setTimeout(display_loaded, 100)\n    }\n  }\n\n\n  function run_callbacks() {\n    try {\n      root._bokeh_onload_callbacks.forEach(function(callback) {\n        if (callback != null)\n          callback();\n      });\n    } finally {\n      delete root._bokeh_onload_callbacks\n    }\n    console.debug(\"Bokeh: all callbacks have finished\");\n  }\n\n  function load_libs(css_urls, js_urls, callback) {\n    if (css_urls == null) css_urls = [];\n    if (js_urls == null) js_urls = [];\n\n    root._bokeh_onload_callbacks.push(callback);\n    if (root._bokeh_is_loading > 0) {\n      console.debug(\"Bokeh: BokehJS is being loaded, scheduling callback at\", now());\n      return null;\n    }\n    if (js_urls == null || js_urls.length === 0) {\n      run_callbacks();\n      return null;\n    }\n    console.debug(\"Bokeh: BokehJS not loaded, scheduling load and callback at\", now());\n    root._bokeh_is_loading = css_urls.length + js_urls.length;\n\n    function on_load() {\n      root._bokeh_is_loading--;\n      if (root._bokeh_is_loading === 0) {\n        console.debug(\"Bokeh: all BokehJS libraries/stylesheets loaded\");\n        run_callbacks()\n      }\n    }\n\n    function on_error() {\n      console.error(\"failed to load \" + url);\n    }\n\n    for (var i = 0; i < css_urls.length; i++) {\n      var url = css_urls[i];\n      const element = document.createElement(\"link\");\n      element.onload = on_load;\n      element.onerror = on_error;\n      element.rel = \"stylesheet\";\n      element.type = \"text/css\";\n      element.href = url;\n      console.debug(\"Bokeh: injecting link tag for BokehJS stylesheet: \", url);\n      document.body.appendChild(element);\n    }\n\n    for (var i = 0; i < js_urls.length; i++) {\n      var url = js_urls[i];\n      var element = document.createElement('script');\n      element.onload = on_load;\n      element.onerror = on_error;\n      element.async = false;\n      element.src = url;\n      console.debug(\"Bokeh: injecting script tag for BokehJS library: \", url);\n      document.head.appendChild(element);\n    }\n  };var element = document.getElementById(\"1050\");\n  if (element == null) {\n    console.error(\"Bokeh: ERROR: autoload.js configured with elementid '1050' but no matching script tag was found. \")\n    return false;\n  }\n\n  function inject_raw_css(css) {\n    const element = document.createElement(\"style\");\n    element.appendChild(document.createTextNode(css));\n    document.body.appendChild(element);\n  }\n\n  var js_urls = [\"https://cdn.pydata.org/bokeh/release/bokeh-1.3.4.min.js\", \"https://cdn.pydata.org/bokeh/release/bokeh-widgets-1.3.4.min.js\", \"https://cdn.pydata.org/bokeh/release/bokeh-tables-1.3.4.min.js\", \"https://cdn.pydata.org/bokeh/release/bokeh-gl-1.3.4.min.js\"];\n  var css_urls = [];\n\n  var inline_js = [\n    function(Bokeh) {\n      Bokeh.set_log_level(\"info\");\n    },\n    \n    function(Bokeh) {\n      \n    },\n    function(Bokeh) {} // ensure no trailing comma for IE\n  ];\n\n  function run_inline_js() {\n    \n    if ((root.Bokeh !== undefined) || (force === true)) {\n      for (var i = 0; i < inline_js.length; i++) {\n        inline_js[i].call(root, root.Bokeh);\n      }if (force === true) {\n        display_loaded();\n      }} else if (Date.now() < root._bokeh_timeout) {\n      setTimeout(run_inline_js, 100);\n    } else if (!root._bokeh_failed_load) {\n      console.log(\"Bokeh: BokehJS failed to load within specified timeout.\");\n      root._bokeh_failed_load = true;\n    } else if (force !== true) {\n      var cell = $(document.getElementById(\"1050\")).parents('.cell').data().cell;\n      cell.output_area.append_execute_result(NB_LOAD_WARNING)\n    }\n\n  }\n\n  if (root._bokeh_is_loading === 0) {\n    console.debug(\"Bokeh: BokehJS loaded, going straight to plotting\");\n    run_inline_js();\n  } else {\n    load_libs(css_urls, js_urls, function() {\n      console.debug(\"Bokeh: BokehJS plotting callback run at\", now());\n      run_inline_js();\n    });\n  }\n}(window));"
     },
     "metadata": {},
     "output_type": "display_data"
    },
    {
     "data": {
      "text/html": [
       "\n",
       "\n",
       "\n",
       "\n",
       "\n",
       "\n",
       "  <div class=\"bk-root\" id=\"ff47c4ae-6adc-4e56-afdf-49ad6bf25500\" data-root-id=\"1001\"></div>\n"
      ]
     },
     "metadata": {},
     "output_type": "display_data"
    },
    {
     "data": {
      "application/javascript": [
       "(function(root) {\n",
       "  function embed_document(root) {\n",
       "    \n",
       "  var docs_json = {\"3e85a7af-eea7-4b38-8ce5-f5aed12b829f\":{\"roots\":{\"references\":[{\"attributes\":{\"below\":[{\"id\":\"1010\",\"type\":\"LinearAxis\"}],\"center\":[{\"id\":\"1014\",\"type\":\"Grid\"},{\"id\":\"1019\",\"type\":\"Grid\"}],\"left\":[{\"id\":\"1015\",\"type\":\"LinearAxis\"}],\"renderers\":[{\"id\":\"1039\",\"type\":\"GlyphRenderer\"}],\"title\":{\"id\":\"1042\",\"type\":\"Title\"},\"toolbar\":{\"id\":\"1027\",\"type\":\"Toolbar\"},\"x_range\":{\"id\":\"1002\",\"type\":\"DataRange1d\"},\"x_scale\":{\"id\":\"1006\",\"type\":\"LinearScale\"},\"y_range\":{\"id\":\"1004\",\"type\":\"DataRange1d\"},\"y_scale\":{\"id\":\"1008\",\"type\":\"LinearScale\"}},\"id\":\"1001\",\"subtype\":\"Figure\",\"type\":\"Plot\"},{\"attributes\":{\"active_drag\":\"auto\",\"active_inspect\":\"auto\",\"active_multi\":null,\"active_scroll\":\"auto\",\"active_tap\":\"auto\",\"tools\":[{\"id\":\"1020\",\"type\":\"HoverTool\"},{\"id\":\"1021\",\"type\":\"CrosshairTool\"},{\"id\":\"1022\",\"type\":\"PanTool\"},{\"id\":\"1023\",\"type\":\"WheelZoomTool\"},{\"id\":\"1024\",\"type\":\"ZoomInTool\"},{\"id\":\"1025\",\"type\":\"ZoomOutTool\"},{\"id\":\"1026\",\"type\":\"BoxZoomTool\"}]},\"id\":\"1027\",\"type\":\"Toolbar\"},{\"attributes\":{},\"id\":\"1023\",\"type\":\"WheelZoomTool\"},{\"attributes\":{\"bottom_units\":\"screen\",\"fill_alpha\":{\"value\":0.5},\"fill_color\":{\"value\":\"lightgrey\"},\"left_units\":\"screen\",\"level\":\"overlay\",\"line_alpha\":{\"value\":1.0},\"line_color\":{\"value\":\"black\"},\"line_dash\":[4,4],\"line_width\":{\"value\":2},\"render_mode\":\"css\",\"right_units\":\"screen\",\"top_units\":\"screen\"},\"id\":\"1047\",\"type\":\"BoxAnnotation\"},{\"attributes\":{\"overlay\":{\"id\":\"1047\",\"type\":\"BoxAnnotation\"}},\"id\":\"1026\",\"type\":\"BoxZoomTool\"},{\"attributes\":{},\"id\":\"1044\",\"type\":\"BasicTickFormatter\"},{\"attributes\":{},\"id\":\"1049\",\"type\":\"UnionRenderers\"},{\"attributes\":{\"callback\":null,\"tooltips\":[[\"word\",\"@words\"]]},\"id\":\"1020\",\"type\":\"HoverTool\"},{\"attributes\":{\"callback\":null,\"data\":{\"index\":[0,1,2,3,4,5,6,7,8,9,10,11,12,13,14,15,16,17,18,19,20,21,22,23,24,25,26,27,28,29,30,31,32,33,34,35,36,37,38,39,40,41,42,43,44,45,46,47,48,49,50,51,52,53,54,55,56,57,58,59,60,61,62,63,64,65,66,67,68,69,70,71,72,73,74,75,76,77,78,79,80,81,82,83,84,85,86,87,88,89,90,91,92,93,94,95,96,97,98,99,100,101,102,103,104,105,106,107,108,109,110,111,112,113,114,115,116,117,118,119,120,121,122,123,124,125,126,127,128,129,130,131,132,133,134,135,136,137,138,139,140,141,142,143,144,145,146,147,148,149,150,151,152,153,154,155,156,157,158,159,160,161,162,163,164,165,166,167,168,169,170,171,172,173,174,175,176,177,178,179,180,181,182,183,184,185,186,187,188,189,190,191,192,193,194,195,196,197,198,199,200,201,202,203,204,205,206,207,208,209,210,211,212,213,214,215,216,217,218,219,220,221,222,223,224,225,226,227,228,229,230,231,232,233,234,235,236,237,238,239,240,241,242,243,244,245,246,247,248,249,250,251,252,253,254,255,256,257,258,259,260,261,262,263,264,265,266,267,268,269,270,271,272,273,274,275,276,277,278,279,280,281,282,283,284,285,286,287,288,289,290,291,292,293,294,295,296,297,298,299,300,301,302,303,304,305,306,307,308,309,310,311,312,313,314,315,316,317,318,319,320,321,322,323,324,325,326,327,328,329,330,331,332,333,334,335,336,337,338,339,340,341,342,343,344,345,346,347,348,349,350,351,352,353,354,355,356,357,358,359,360,361,362,363,364,365,366,367,368,369,370,371,372,373,374,375,376,377,378,379,380,381,382,383,384,385,386,387,388,389,390,391,392,393,394,395,396,397,398,399,400,401,402,403,404,405,406,407,408,409,410,411,412,413,414,415,416,417,418,419,420,421,422,423,424,425,426,427,428,429,430,431,432,433,434,435,436,437,438,439,440,441,442,443,444,445,446,447,448,449,450,451,452,453,454,455,456,457,458,459,460,461,462,463,464,465,466,467,468,469,470,471,472,473,474,475,476,477,478,479,480,481,482,483,484,485,486,487,488,489,490,491,492,493,494,495,496,497,498,499,500,501,502,503,504,505,506,507,508,509,510,511,512,513,514,515,516,517,518,519,520,521,522,523,524,525,526,527,528,529,530,531,532,533,534,535,536,537,538,539,540,541,542,543,544,545,546,547,548,549,550,551,552,553,554,555,556,557,558,559,560,561,562,563,564,565,566,567,568,569,570,571,572,573,574,575,576,577,578,579,580,581,582,583,584,585,586,587,588,589,590,591,592,593,594,595,596,597,598,599,600,601,602,603,604,605,606,607,608,609,610,611,612,613,614,615,616,617,618,619,620,621,622,623,624,625,626,627,628,629,630,631,632,633,634,635,636,637,638,639,640,641,642,643,644,645,646,647,648,649,650,651,652,653,654,655,656,657,658,659,660,661,662,663,664,665,666,667,668,669,670,671,672,673,674,675,676,677,678,679,680,681,682,683,684,685,686,687,688,689,690,691,692,693,694,695,696,697,698,699,700,701,702,703,704,705,706,707,708,709,710,711,712,713,714,715,716,717,718,719,720,721,722,723,724,725,726,727,728,729,730,731,732,733,734,735,736,737,738,739,740,741,742,743,744,745,746,747,748,749,750,751,752,753,754,755,756,757,758,759,760,761,762,763,764,765,766,767,768,769,770,771,772,773,774,775,776,777,778,779,780,781,782,783,784,785,786,787,788,789,790,791,792,793,794,795,796,797,798,799,800,801,802,803,804,805,806,807,808,809,810,811,812,813,814,815,816,817,818,819,820,821,822,823,824,825,826,827,828,829,830,831,832,833,834,835,836,837,838,839,840,841,842,843,844,845,846,847,848,849,850,851,852,853,854,855,856,857,858,859,860,861,862,863,864,865,866,867,868,869,870,871,872,873,874,875,876,877,878,879,880,881,882,883,884,885,886,887,888,889,890,891,892,893,894,895,896,897,898,899,900,901,902,903,904,905,906,907,908,909,910,911,912,913,914,915,916,917,918,919,920,921,922,923,924,925,926,927,928,929,930,931,932,933,934,935,936,937,938,939,940,941,942,943,944,945,946,947,948,949,950,951,952,953,954,955,956,957,958,959,960,961,962,963,964,965,966,967,968,969,970,971,972,973,974,975,976,977,978,979,980,981,982,983,984,985,986,987,988,989,990,991,992,993,994,995,996,997,998,999,1000,1001,1002,1003,1004,1005,1006,1007,1008,1009,1010,1011,1012,1013,1014,1015,1016,1017,1018,1019,1020,1021,1022,1023,1024,1025,1026,1027,1028,1029,1030,1031,1032,1033,1034,1035,1036,1037,1038,1039,1040,1041,1042,1043,1044,1045,1046,1047,1048,1049,1050,1051,1052,1053,1054,1055,1056,1057,1058,1059,1060,1061,1062,1063,1064,1065,1066,1067,1068,1069,1070,1071,1072,1073,1074,1075,1076,1077,1078,1079,1080,1081,1082,1083,1084,1085,1086,1087,1088,1089,1090,1091,1092,1093,1094,1095,1096,1097,1098,1099,1100,1101,1102,1103,1104,1105,1106,1107,1108,1109,1110,1111,1112,1113,1114,1115,1116,1117,1118,1119,1120,1121,1122,1123,1124,1125,1126,1127,1128,1129,1130,1131,1132,1133,1134,1135,1136,1137,1138,1139,1140,1141,1142,1143,1144,1145,1146,1147,1148,1149,1150,1151,1152,1153,1154,1155,1156,1157,1158,1159,1160,1161,1162,1163,1164,1165,1166,1167,1168,1169,1170,1171,1172,1173,1174,1175,1176,1177,1178,1179,1180,1181,1182,1183,1184,1185,1186,1187,1188,1189,1190,1191,1192,1193,1194,1195,1196,1197,1198,1199,1200,1201,1202,1203,1204,1205,1206,1207,1208,1209,1210,1211,1212,1213,1214,1215,1216,1217,1218,1219,1220,1221,1222,1223,1224,1225,1226,1227,1228,1229,1230,1231,1232,1233,1234,1235,1236,1237,1238,1239,1240,1241,1242,1243,1244,1245,1246,1247,1248,1249,1250,1251,1252,1253,1254,1255,1256,1257,1258,1259,1260,1261,1262,1263,1264,1265,1266,1267,1268,1269,1270,1271,1272,1273,1274,1275,1276,1277,1278,1279,1280,1281,1282,1283,1284,1285,1286,1287,1288,1289,1290,1291,1292,1293,1294,1295,1296,1297,1298,1299,1300,1301,1302,1303,1304,1305,1306,1307,1308,1309,1310,1311,1312,1313,1314,1315,1316,1317,1318,1319,1320,1321,1322,1323,1324,1325,1326,1327,1328,1329,1330,1331,1332,1333,1334,1335,1336,1337,1338,1339,1340,1341,1342,1343,1344,1345,1346,1347,1348,1349,1350,1351,1352,1353,1354,1355,1356,1357,1358,1359,1360,1361,1362,1363,1364,1365,1366,1367,1368,1369,1370,1371,1372,1373,1374,1375,1376,1377,1378,1379,1380,1381,1382,1383,1384,1385,1386,1387,1388,1389,1390,1391,1392,1393,1394,1395,1396,1397,1398,1399,1400,1401,1402,1403,1404,1405,1406,1407,1408,1409,1410,1411,1412,1413,1414,1415,1416,1417,1418,1419,1420,1421,1422,1423,1424,1425,1426,1427,1428,1429,1430,1431,1432,1433,1434,1435,1436,1437,1438,1439,1440,1441,1442,1443,1444,1445,1446,1447,1448,1449,1450,1451,1452,1453,1454,1455,1456,1457,1458,1459,1460,1461,1462,1463,1464,1465,1466,1467,1468,1469,1470,1471,1472,1473,1474,1475,1476,1477,1478,1479,1480,1481,1482,1483,1484,1485,1486,1487,1488,1489,1490,1491,1492,1493,1494,1495,1496,1497,1498,1499,1500,1501,1502,1503,1504,1505,1506,1507,1508,1509,1510,1511,1512,1513,1514,1515,1516,1517,1518,1519,1520,1521,1522,1523,1524,1525,1526,1527,1528,1529,1530,1531,1532,1533,1534,1535,1536,1537,1538,1539,1540,1541,1542,1543,1544,1545,1546,1547,1548,1549,1550,1551,1552,1553,1554,1555,1556,1557,1558,1559,1560,1561,1562,1563,1564,1565,1566,1567,1568,1569,1570,1571,1572,1573,1574,1575,1576,1577,1578,1579,1580,1581,1582,1583,1584,1585,1586,1587,1588,1589,1590,1591,1592,1593,1594,1595,1596,1597,1598,1599,1600,1601,1602,1603,1604,1605,1606,1607,1608,1609,1610,1611,1612,1613,1614,1615,1616,1617,1618,1619,1620,1621,1622,1623,1624,1625,1626,1627,1628,1629,1630,1631,1632,1633,1634,1635,1636,1637,1638,1639,1640,1641,1642,1643,1644,1645,1646,1647,1648,1649,1650,1651,1652,1653,1654,1655,1656,1657,1658,1659,1660,1661,1662,1663,1664,1665,1666,1667,1668,1669,1670,1671,1672,1673,1674,1675,1676,1677,1678,1679,1680,1681,1682,1683,1684,1685,1686,1687,1688,1689,1690,1691,1692,1693,1694,1695,1696,1697,1698,1699,1700,1701,1702,1703,1704,1705,1706,1707,1708,1709,1710,1711,1712,1713,1714,1715,1716,1717,1718,1719,1720,1721,1722,1723,1724,1725,1726,1727,1728,1729,1730,1731,1732,1733,1734,1735,1736,1737,1738,1739,1740,1741,1742,1743,1744,1745,1746,1747,1748,1749,1750,1751,1752,1753,1754,1755,1756,1757,1758,1759,1760,1761,1762,1763,1764,1765,1766,1767,1768,1769,1770,1771,1772,1773,1774,1775,1776,1777,1778,1779,1780,1781,1782,1783,1784,1785,1786,1787,1788,1789,1790,1791,1792,1793,1794,1795,1796,1797,1798,1799,1800,1801,1802,1803,1804,1805,1806,1807,1808,1809,1810,1811,1812,1813,1814,1815,1816,1817,1818,1819,1820,1821,1822,1823,1824,1825,1826,1827,1828,1829,1830,1831,1832,1833,1834,1835,1836,1837,1838,1839,1840,1841,1842,1843,1844,1845,1846,1847,1848,1849,1850,1851,1852,1853,1854,1855,1856,1857,1858,1859,1860,1861,1862,1863,1864,1865,1866,1867,1868,1869,1870,1871,1872,1873,1874,1875,1876,1877,1878,1879,1880,1881,1882,1883,1884,1885,1886,1887,1888,1889,1890,1891,1892,1893,1894,1895,1896,1897,1898,1899,1900,1901,1902,1903,1904,1905,1906,1907,1908,1909,1910,1911,1912,1913,1914,1915,1916,1917,1918,1919,1920,1921,1922,1923,1924,1925,1926,1927,1928,1929,1930,1931,1932,1933,1934,1935,1936,1937,1938,1939,1940,1941,1942,1943,1944,1945,1946,1947,1948,1949,1950,1951,1952,1953,1954,1955,1956,1957,1958,1959,1960,1961,1962,1963,1964,1965,1966,1967,1968,1969,1970,1971,1972,1973,1974,1975,1976,1977,1978,1979,1980,1981,1982,1983,1984,1985,1986,1987,1988,1989,1990,1991,1992,1993,1994,1995,1996,1997,1998,1999,2000,2001,2002,2003,2004,2005,2006,2007,2008,2009,2010,2011,2012,2013,2014,2015,2016,2017,2018,2019,2020,2021,2022,2023,2024,2025,2026,2027,2028,2029,2030,2031,2032,2033,2034,2035,2036,2037,2038,2039,2040,2041,2042,2043,2044,2045,2046,2047,2048,2049,2050,2051,2052,2053,2054,2055,2056,2057,2058,2059,2060,2061,2062,2063,2064,2065,2066,2067,2068,2069,2070,2071,2072,2073,2074,2075,2076,2077,2078,2079,2080,2081,2082,2083,2084,2085,2086,2087,2088,2089,2090,2091,2092,2093,2094,2095,2096,2097,2098,2099,2100,2101,2102,2103,2104,2105,2106,2107,2108,2109,2110,2111,2112,2113,2114,2115,2116,2117,2118,2119,2120,2121,2122,2123,2124,2125,2126,2127,2128,2129,2130,2131,2132,2133,2134,2135,2136,2137,2138,2139,2140,2141,2142,2143,2144,2145,2146,2147,2148,2149,2150,2151,2152,2153,2154,2155,2156,2157,2158,2159,2160,2161,2162,2163,2164,2165,2166,2167,2168,2169,2170,2171,2172,2173,2174,2175,2176,2177,2178,2179,2180,2181,2182,2183,2184,2185,2186,2187,2188,2189,2190,2191,2192,2193,2194,2195,2196,2197,2198,2199,2200,2201,2202,2203,2204,2205,2206,2207,2208,2209,2210,2211,2212,2213,2214,2215,2216,2217,2218,2219,2220,2221,2222,2223,2224,2225,2226,2227,2228,2229,2230,2231,2232,2233,2234,2235,2236,2237,2238,2239,2240,2241,2242,2243,2244,2245,2246,2247,2248,2249,2250,2251,2252,2253,2254,2255,2256,2257,2258,2259,2260,2261,2262,2263,2264,2265,2266,2267,2268,2269,2270,2271,2272,2273,2274,2275,2276,2277,2278,2279,2280,2281,2282,2283,2284,2285,2286,2287,2288,2289,2290,2291,2292,2293,2294,2295,2296,2297,2298,2299,2300,2301,2302,2303,2304,2305,2306,2307,2308,2309,2310,2311,2312,2313,2314,2315,2316,2317,2318,2319,2320,2321,2322,2323,2324,2325,2326,2327,2328,2329,2330,2331,2332,2333,2334,2335,2336,2337,2338,2339,2340,2341,2342,2343,2344,2345,2346,2347,2348,2349,2350,2351,2352,2353,2354,2355,2356,2357,2358,2359,2360,2361,2362,2363,2364,2365,2366,2367,2368,2369,2370,2371,2372,2373,2374,2375,2376,2377,2378,2379,2380,2381,2382,2383,2384,2385,2386,2387,2388,2389,2390,2391,2392,2393,2394,2395,2396,2397,2398,2399,2400,2401,2402,2403,2404,2405,2406,2407,2408,2409,2410,2411,2412,2413,2414,2415,2416,2417,2418,2419,2420,2421,2422,2423,2424,2425,2426,2427,2428,2429,2430,2431,2432,2433,2434,2435,2436,2437,2438,2439,2440,2441,2442,2443,2444,2445,2446,2447,2448,2449,2450,2451,2452,2453,2454,2455,2456,2457,2458,2459,2460,2461,2462,2463,2464,2465,2466,2467,2468,2469,2470,2471,2472,2473,2474,2475,2476,2477,2478,2479,2480,2481,2482,2483,2484,2485,2486,2487,2488,2489,2490,2491,2492,2493,2494,2495,2496,2497,2498,2499,2500,2501,2502,2503,2504,2505,2506,2507,2508,2509,2510,2511,2512,2513,2514,2515,2516,2517,2518,2519,2520,2521,2522,2523,2524,2525,2526,2527,2528,2529,2530,2531,2532,2533,2534,2535,2536,2537,2538,2539,2540,2541,2542,2543,2544,2545,2546,2547,2548,2549,2550,2551,2552,2553,2554,2555,2556,2557,2558,2559,2560,2561,2562,2563,2564,2565,2566,2567,2568,2569,2570,2571,2572,2573,2574,2575,2576,2577,2578,2579,2580,2581,2582,2583,2584,2585,2586,2587,2588,2589,2590,2591,2592,2593,2594,2595,2596,2597,2598,2599,2600,2601,2602,2603,2604,2605,2606,2607,2608,2609,2610,2611,2612,2613,2614,2615,2616,2617,2618,2619,2620,2621,2622,2623,2624,2625,2626,2627,2628,2629,2630,2631,2632,2633,2634,2635,2636,2637,2638,2639,2640,2641,2642,2643,2644,2645,2646,2647,2648,2649,2650,2651,2652,2653,2654,2655,2656,2657,2658,2659,2660,2661,2662,2663,2664,2665,2666,2667,2668,2669,2670,2671,2672,2673,2674,2675,2676,2677,2678,2679,2680,2681,2682,2683,2684,2685,2686,2687,2688,2689,2690,2691,2692,2693,2694,2695,2696,2697,2698,2699,2700,2701,2702,2703,2704,2705,2706,2707,2708,2709,2710,2711,2712,2713,2714,2715,2716,2717,2718,2719,2720,2721,2722,2723,2724,2725,2726,2727,2728,2729,2730,2731,2732,2733,2734,2735,2736,2737,2738,2739,2740,2741,2742,2743,2744,2745,2746,2747,2748,2749,2750,2751,2752,2753,2754,2755,2756,2757,2758,2759,2760,2761,2762,2763,2764,2765,2766,2767,2768,2769,2770,2771,2772,2773,2774,2775,2776,2777,2778,2779,2780,2781,2782,2783,2784,2785,2786,2787,2788,2789,2790,2791,2792,2793,2794,2795,2796,2797,2798,2799,2800,2801,2802,2803,2804,2805,2806,2807,2808,2809,2810,2811,2812,2813,2814,2815,2816,2817,2818,2819,2820,2821,2822,2823,2824,2825,2826,2827,2828,2829,2830,2831,2832,2833,2834,2835,2836,2837,2838,2839,2840,2841,2842,2843,2844,2845,2846,2847,2848,2849,2850,2851,2852,2853,2854,2855,2856,2857,2858,2859,2860,2861,2862,2863,2864,2865,2866,2867,2868,2869,2870,2871,2872,2873,2874,2875,2876,2877,2878,2879,2880,2881,2882,2883,2884,2885,2886,2887,2888,2889,2890,2891,2892,2893,2894,2895,2896,2897,2898,2899,2900,2901,2902,2903,2904,2905,2906,2907,2908,2909,2910,2911,2912,2913,2914,2915,2916,2917,2918,2919,2920,2921,2922,2923,2924,2925,2926,2927,2928,2929,2930,2931,2932,2933,2934,2935,2936,2937,2938,2939,2940,2941,2942,2943,2944,2945,2946,2947,2948,2949,2950,2951,2952,2953,2954,2955,2956,2957,2958,2959,2960,2961,2962,2963,2964,2965,2966,2967,2968,2969,2970,2971,2972,2973,2974,2975,2976,2977,2978,2979,2980,2981,2982,2983,2984,2985,2986,2987,2988,2989,2990,2991,2992,2993,2994,2995,2996,2997,2998,2999,3000,3001,3002,3003,3004,3005,3006,3007,3008,3009,3010,3011,3012,3013,3014,3015,3016,3017,3018,3019,3020,3021,3022,3023,3024,3025,3026,3027,3028,3029,3030,3031,3032,3033,3034,3035,3036,3037,3038,3039,3040,3041,3042,3043,3044,3045,3046,3047,3048,3049,3050,3051,3052,3053,3054,3055,3056,3057,3058,3059,3060,3061,3062,3063,3064,3065,3066,3067,3068,3069,3070,3071,3072,3073,3074,3075,3076,3077,3078,3079,3080,3081,3082,3083,3084,3085,3086,3087,3088,3089,3090,3091,3092,3093,3094,3095,3096,3097,3098,3099,3100,3101,3102,3103,3104,3105,3106,3107,3108,3109,3110,3111,3112,3113,3114,3115,3116,3117,3118,3119,3120,3121,3122,3123,3124,3125,3126,3127,3128,3129,3130,3131,3132,3133,3134,3135,3136,3137,3138,3139,3140,3141,3142,3143,3144,3145,3146,3147,3148,3149,3150,3151,3152,3153,3154,3155,3156,3157,3158,3159,3160,3161,3162,3163,3164,3165,3166,3167,3168,3169,3170,3171,3172,3173,3174,3175,3176,3177,3178,3179,3180,3181,3182,3183,3184,3185,3186,3187,3188,3189,3190,3191,3192,3193,3194,3195,3196,3197,3198,3199,3200,3201,3202,3203,3204,3205,3206,3207,3208,3209,3210,3211,3212,3213,3214,3215,3216,3217,3218,3219,3220,3221,3222,3223,3224,3225,3226,3227,3228,3229,3230,3231,3232,3233,3234,3235,3236,3237,3238,3239,3240,3241,3242,3243,3244,3245,3246,3247,3248,3249,3250,3251,3252,3253,3254,3255,3256,3257,3258,3259,3260,3261,3262,3263,3264,3265,3266,3267,3268,3269,3270,3271,3272,3273,3274,3275,3276,3277,3278,3279,3280,3281,3282,3283,3284,3285,3286,3287,3288,3289,3290,3291,3292,3293,3294,3295,3296,3297,3298,3299,3300,3301,3302,3303,3304,3305,3306,3307,3308,3309,3310,3311,3312,3313,3314,3315,3316,3317,3318,3319,3320,3321,3322,3323,3324,3325,3326,3327,3328,3329,3330,3331,3332,3333,3334,3335,3336,3337,3338,3339,3340,3341,3342,3343,3344,3345,3346,3347,3348,3349,3350,3351,3352,3353,3354,3355,3356,3357,3358,3359,3360,3361,3362,3363,3364,3365,3366,3367,3368,3369,3370,3371,3372,3373,3374,3375,3376,3377,3378,3379,3380,3381,3382,3383,3384,3385,3386,3387,3388,3389,3390,3391,3392,3393,3394,3395,3396,3397,3398,3399,3400,3401,3402,3403,3404,3405,3406,3407,3408,3409,3410,3411,3412,3413,3414,3415,3416,3417,3418,3419,3420,3421,3422,3423,3424,3425,3426,3427,3428,3429,3430,3431,3432,3433,3434,3435,3436,3437,3438,3439,3440,3441,3442,3443,3444,3445,3446,3447,3448,3449,3450,3451,3452,3453,3454,3455,3456,3457,3458,3459,3460,3461,3462,3463,3464,3465,3466,3467,3468,3469,3470,3471,3472,3473,3474,3475,3476,3477,3478,3479,3480,3481,3482,3483,3484,3485,3486,3487,3488,3489,3490,3491,3492,3493,3494,3495,3496,3497,3498,3499,3500,3501,3502,3503,3504,3505,3506,3507,3508,3509,3510,3511,3512,3513,3514,3515,3516,3517,3518,3519,3520,3521,3522,3523,3524,3525,3526,3527,3528,3529,3530,3531,3532,3533,3534,3535,3536,3537,3538,3539,3540,3541,3542,3543,3544,3545,3546,3547,3548,3549,3550,3551,3552,3553,3554,3555,3556,3557,3558,3559,3560,3561,3562,3563,3564,3565,3566,3567,3568,3569,3570,3571,3572,3573,3574,3575,3576,3577,3578,3579,3580,3581,3582,3583,3584,3585,3586,3587,3588,3589,3590,3591,3592,3593,3594,3595,3596,3597,3598,3599,3600,3601,3602,3603,3604,3605,3606,3607,3608,3609,3610,3611,3612,3613,3614,3615,3616,3617,3618,3619,3620,3621,3622,3623,3624,3625,3626,3627,3628,3629,3630,3631,3632,3633,3634,3635,3636,3637,3638,3639,3640,3641,3642,3643,3644,3645,3646,3647,3648,3649,3650,3651,3652,3653,3654,3655,3656,3657,3658,3659,3660,3661,3662,3663,3664,3665,3666,3667,3668,3669,3670,3671,3672,3673,3674,3675,3676,3677,3678,3679,3680,3681,3682,3683,3684,3685,3686,3687,3688,3689,3690,3691,3692,3693,3694,3695,3696,3697,3698,3699,3700,3701,3702,3703,3704,3705,3706,3707,3708,3709,3710,3711,3712,3713,3714,3715,3716,3717,3718,3719,3720,3721,3722,3723,3724,3725,3726,3727,3728,3729,3730,3731,3732,3733,3734,3735,3736,3737,3738,3739,3740,3741,3742,3743,3744,3745,3746,3747,3748,3749,3750,3751,3752,3753,3754,3755,3756,3757,3758,3759,3760,3761,3762,3763,3764,3765,3766,3767,3768,3769,3770,3771,3772,3773,3774,3775,3776,3777,3778,3779,3780,3781,3782,3783,3784,3785,3786,3787,3788,3789,3790,3791,3792,3793,3794,3795,3796,3797,3798,3799,3800,3801,3802,3803,3804,3805,3806,3807,3808,3809,3810,3811,3812,3813,3814,3815,3816,3817,3818,3819,3820,3821,3822,3823,3824,3825,3826,3827,3828,3829,3830,3831,3832,3833,3834,3835,3836,3837,3838,3839,3840,3841,3842,3843,3844,3845,3846,3847,3848,3849,3850,3851,3852,3853,3854,3855,3856,3857,3858,3859,3860,3861,3862,3863,3864,3865,3866,3867,3868,3869,3870,3871,3872,3873,3874,3875,3876,3877,3878,3879,3880,3881,3882,3883,3884,3885,3886,3887,3888,3889,3890,3891,3892,3893,3894,3895,3896,3897,3898,3899,3900,3901,3902,3903,3904,3905,3906,3907,3908,3909,3910,3911,3912,3913,3914,3915,3916,3917,3918,3919,3920,3921,3922,3923,3924,3925,3926,3927,3928,3929,3930,3931,3932,3933,3934,3935,3936,3937,3938,3939,3940,3941,3942,3943,3944,3945,3946,3947,3948,3949,3950,3951,3952,3953,3954,3955,3956,3957,3958,3959,3960,3961,3962,3963,3964,3965,3966,3967,3968,3969,3970,3971,3972,3973,3974,3975,3976,3977,3978,3979,3980,3981,3982,3983,3984,3985,3986,3987,3988,3989,3990,3991,3992,3993,3994,3995,3996,3997,3998,3999,4000,4001,4002,4003,4004,4005,4006,4007,4008,4009,4010,4011,4012,4013,4014,4015,4016,4017,4018,4019,4020,4021,4022,4023,4024,4025,4026,4027,4028,4029,4030,4031,4032,4033,4034,4035,4036,4037,4038,4039,4040,4041,4042,4043,4044,4045,4046,4047,4048,4049,4050,4051,4052,4053,4054,4055,4056,4057,4058,4059,4060,4061,4062,4063,4064,4065,4066,4067,4068,4069,4070,4071,4072,4073,4074,4075,4076,4077,4078,4079,4080,4081,4082,4083,4084,4085,4086,4087,4088,4089,4090,4091,4092,4093,4094,4095,4096,4097,4098,4099,4100,4101,4102,4103,4104,4105,4106,4107,4108,4109,4110,4111,4112,4113,4114,4115,4116,4117,4118,4119,4120,4121,4122,4123,4124,4125,4126,4127,4128,4129,4130,4131,4132,4133,4134,4135,4136,4137,4138,4139,4140,4141,4142,4143,4144,4145,4146,4147,4148,4149,4150,4151,4152,4153,4154,4155,4156,4157,4158,4159,4160,4161,4162,4163,4164,4165,4166,4167,4168,4169,4170,4171,4172,4173,4174,4175,4176,4177,4178,4179,4180,4181,4182,4183,4184,4185,4186,4187,4188,4189,4190,4191,4192,4193,4194,4195,4196,4197,4198,4199,4200,4201,4202,4203,4204,4205,4206,4207,4208,4209,4210,4211,4212,4213,4214,4215,4216,4217,4218,4219,4220,4221,4222,4223,4224,4225,4226,4227,4228,4229,4230,4231,4232,4233,4234,4235,4236,4237,4238,4239,4240,4241,4242,4243,4244,4245,4246,4247,4248,4249,4250,4251,4252,4253,4254,4255,4256,4257,4258,4259,4260,4261,4262,4263,4264,4265,4266,4267,4268,4269,4270,4271,4272,4273,4274,4275,4276,4277,4278,4279,4280,4281,4282,4283,4284,4285,4286,4287,4288,4289,4290,4291,4292,4293,4294,4295,4296,4297,4298,4299,4300,4301,4302,4303,4304,4305,4306,4307,4308,4309,4310,4311,4312,4313,4314,4315,4316,4317,4318,4319,4320,4321,4322,4323,4324,4325,4326,4327,4328,4329,4330,4331,4332,4333,4334,4335,4336,4337,4338,4339,4340,4341,4342,4343,4344,4345,4346,4347,4348,4349,4350,4351,4352,4353,4354,4355,4356,4357,4358,4359,4360,4361,4362,4363,4364,4365,4366,4367,4368,4369,4370,4371,4372,4373,4374,4375,4376,4377,4378,4379,4380,4381,4382,4383,4384,4385,4386,4387,4388,4389,4390,4391,4392,4393,4394,4395,4396,4397,4398,4399,4400,4401,4402,4403,4404,4405,4406,4407,4408,4409,4410,4411,4412,4413,4414,4415,4416,4417,4418,4419,4420,4421,4422,4423,4424,4425,4426,4427,4428,4429,4430,4431,4432,4433,4434,4435,4436,4437,4438,4439,4440,4441,4442,4443,4444,4445,4446,4447,4448,4449,4450,4451,4452,4453,4454,4455,4456,4457,4458,4459,4460,4461,4462,4463,4464,4465,4466,4467,4468,4469,4470,4471,4472,4473,4474,4475,4476,4477,4478,4479,4480,4481,4482,4483,4484,4485,4486,4487,4488,4489,4490,4491,4492,4493,4494,4495,4496,4497,4498,4499,4500,4501,4502,4503,4504,4505,4506,4507,4508,4509,4510,4511,4512,4513,4514,4515,4516,4517,4518,4519,4520,4521,4522,4523,4524,4525,4526,4527,4528,4529,4530,4531,4532,4533,4534,4535,4536,4537,4538,4539,4540,4541,4542,4543,4544,4545,4546,4547,4548,4549,4550,4551,4552,4553,4554,4555,4556,4557,4558,4559,4560,4561,4562,4563,4564,4565,4566,4567,4568,4569,4570,4571,4572,4573,4574,4575,4576,4577,4578,4579,4580,4581,4582,4583,4584,4585,4586,4587,4588,4589,4590,4591,4592,4593,4594,4595,4596,4597,4598,4599,4600,4601,4602,4603,4604,4605,4606,4607,4608,4609,4610,4611,4612,4613,4614,4615,4616,4617,4618,4619,4620,4621,4622,4623,4624,4625,4626,4627,4628,4629,4630,4631,4632,4633,4634,4635,4636,4637,4638,4639,4640,4641,4642,4643,4644,4645,4646,4647,4648,4649,4650,4651,4652,4653,4654,4655,4656,4657,4658,4659,4660,4661,4662,4663,4664,4665,4666,4667,4668,4669,4670,4671,4672,4673,4674,4675,4676,4677,4678,4679,4680,4681,4682,4683,4684,4685,4686,4687,4688,4689,4690,4691,4692,4693,4694,4695,4696,4697,4698,4699,4700,4701,4702,4703,4704,4705,4706,4707,4708,4709,4710,4711,4712,4713,4714,4715,4716,4717,4718,4719,4720,4721,4722,4723,4724,4725,4726,4727,4728,4729,4730,4731,4732,4733,4734,4735,4736,4737,4738,4739,4740,4741,4742,4743,4744,4745,4746,4747,4748,4749,4750,4751,4752,4753,4754,4755,4756,4757,4758,4759,4760,4761,4762,4763,4764,4765,4766,4767,4768,4769,4770,4771,4772,4773,4774,4775,4776,4777,4778,4779,4780,4781,4782,4783,4784,4785,4786,4787,4788,4789,4790,4791,4792,4793,4794,4795,4796,4797,4798,4799,4800,4801,4802,4803,4804,4805,4806,4807,4808,4809,4810,4811,4812,4813,4814,4815,4816,4817,4818,4819,4820,4821,4822,4823,4824,4825,4826,4827,4828,4829,4830,4831,4832,4833,4834,4835,4836,4837,4838,4839,4840,4841,4842,4843,4844,4845,4846,4847,4848,4849,4850,4851,4852,4853,4854,4855,4856,4857,4858,4859,4860,4861,4862,4863,4864,4865,4866,4867,4868,4869,4870,4871,4872,4873,4874,4875,4876,4877,4878,4879,4880,4881,4882,4883,4884,4885,4886,4887,4888,4889,4890,4891,4892,4893,4894,4895,4896,4897,4898,4899,4900,4901,4902,4903,4904,4905,4906,4907,4908,4909,4910,4911,4912,4913,4914,4915,4916,4917,4918,4919,4920,4921,4922,4923,4924,4925,4926,4927,4928,4929,4930,4931,4932,4933,4934,4935,4936,4937,4938,4939,4940,4941,4942,4943,4944,4945,4946,4947,4948,4949,4950,4951,4952,4953,4954,4955,4956,4957,4958,4959,4960,4961,4962,4963,4964,4965,4966,4967,4968,4969,4970,4971,4972,4973,4974,4975,4976,4977,4978,4979,4980,4981,4982,4983,4984,4985,4986,4987,4988,4989,4990,4991,4992,4993,4994,4995,4996,4997,4998,4999],\"words\":[\"im\",\"trying\",\"get\",\"mine\",\"but\",\"wont\",\"let\",\"keeps\",\"saying\",\"no\",\"matching\",\"tickets\",\"found\",\"oops\",\"havnt\",\"4\",\"much\",\"school\",\"work\",\"hardly\",\"time\",\"sorry\",\"hahaa\",\"figured\",\"request\",\"guacamole\",\"public\",\"he had / he would\",\"right\",\"back\",\"cant\",\"sleep\",\"thinking\",\"bad\",\"stuffs\",\"*\",\"le\",\"sigh\",\"follow\",\"results\",\"tonights\",\"fights\",\"sad\",\"today\",\"broke\",\"shoulder\",\"ok\",\"->\",\"beautiful\",\"day\",\"things\",\"better\",\"facetime\",\"soon\",\"u\",\"deserve\",\"best\",\"hope\",\"helped\",\"never\",\"wait\",\"see\",\"new\",\"moon\",\"tho\",\"cutie\",\"17\",\"haha\",\"heyy\",\"think\",\"yuu\",\"sent\",\"message\",\"signed\",\"last\",\"night\",\"lol\",\"got\",\"fine\",\"stop\",\"talking\",\"twitter\",\"you are\",\"sitting\",\"two\",\"feet\",\"away\",\"ehh\",\"didnt\",\"youu\",\"okayy\",\"youuu\",\"tell\",\"mee\",\"online\",\"oh\",\"well\",\"2\",\"nights\",\"alone\",\"happy\",\"tonight\",\"super\",\"fun\",\"took\",\"very\",\"fast\",\"downhill\",\"turn\",\"friends\",\"chasing\",\"-\",\"post\",\"updates\",\"receive\",\"wish\",\"could\",\"gone\",\"go\",\"check\",\"great\",\"little\",\"seaside\",\"town\",\"lord\",\"nelson\",\"pint\",\"hair\",\"look\",\"kinda\",\"like\",\"taylor\",\"swift\",\"going\",\"ohio\",\"mothers\",\"andd\",\"yesss\",\"beating\",\"lots\",\"apologies\",\"still\",\"desk\",\"friday\",\"sounds\",\"cool\",\"i've\",\"decided\",\"way\",\"husbands\",\"deployment\",\"stay\",\"busy\",\"english\",\"means\",\"shoppin\",\"boys\",\"h\",\"e\",\"c\",\"we have\",\"left\",\"x\",\"love\",\"everyone\",\"believe\",\"sundays\",\"man\",\"use\",\"learn\",\"reflection\",\"faster\",\"one\",\"/\",\"cry\",\"highly\",\"doubt\",\"bonjour\",\"chapter\",\"three\",\"available\",\"\\\"\",\"camp\",\"&\",\"enjoy\",\"do not\",\"forget\",\"vote\",\"us\",\"i'm\",\"kind\",\"excited\",\"watch\",\"baby\",\"play\",\"bass\",\"thank\",\"retweeting\",\"selecting\",\"cms\",\"link\",\"cheers\",\"would\",\"home\",\"omg\",\"pulled\",\"strap\",\"pf\",\"rofl\",\"yes\",\"i'd\",\"k\\u00e3\",\"\\u00b6\",\"hmm\",\"good\",\"it shall / it will\",\"save\",\"cooking\",\"flash\",\"45\",\"minutes\",\"hows\",\"morning\",\"xx\",\"fried\",\"chicken\",\"yummy\",\"southern\",\"food\",\"takin\",\"'\",\"trip\",\"memory\",\"lane\",\"wasteland\",\"nothing\",\"i'll\",\"mel\",\"naked\",\"desert\",\"resolve\",\"slightly\",\"3\",\"voor\",\"een\",\"examen\",\"that has / that is\",\"pain\",\"gain\",\"(\",\"muscles\",\"aaah\",\"orlando\",\"4th\",\"quarter\",\"mins\",\"hes\",\"tuesday\",\"knew\",\"searching\",\"shop\",\"latin\",\"exciting\",\"cannot\",\"listen\",\"tortilla\",\"chips\",\"deadly\",\"strange\",\"seriously\",\"craving\",\"ice\",\"cream\",\"hard\",\"resist\",\"urge\",\"really\",\"ride\",\"please\",\"touch\",\"dispute\",\"manager\",\"show\",\"wonder\",\"screen\",\"taken\",\"damage\",\"works\",\"has not\",\"cracked\",\"though\",\"heart\",\"certainly\",\"doo\",\"dance\",\"waiting\",\"wishing\",\"@\",\"plane\",\"ground\",\"mets\",\"losing\",\"benjamin\",\"button\",\"blu-ray\",\"whose\",\"following\",\"pc\",\"ill\",\"working\",\"management\",\"paper\",\"hawthorne\",\"studies\",\"watching\",\"cubs\",\"getting\",\"ready\",\"quick\",\"grocery\",\"store\",\"sunday\",\"snack\",\"church\",\"praying\",\"looking\",\"forward\",\"e3\",\"especially\",\"news\",\"fifa\",\"10\",\"raining\",\"monday\",\"mornings\",\"suck\",\"hahahaha\",\"jonas\",\"prettty\",\"yeah\",\"kevin\",\"isnt\",\"anymore\",\"guys\",\"crap\",\"website\",\"dying\",\"it has / it is\",\"favorite\",\"they are\",\"pushing\",\"denim\",\"have not\",\"seen\",\"yet\",\"list\",\"summer\",\"tv\",\"rentals\",\"flat\",\"nick\",\")\",\"need\",\"apply\",\"automatically\",\"disappointing\",\"boarded\",\"heading\",\"washington\",\"miss\",\"family\",\"matter\",\"acceptance\",\"case\",\"teams\",\"accept\",\"word\",\"also\",\"serves\",\"plural\",\"form\",\"ohh\",\"useful\",\"gonna\",\"start\",\"certification\",\"worst\",\"hehe\",\"picture\",\"face\",\"turned\",\"god\",\"might\",\"know\",\"space\",\"try\",\"relate\",\"gloria\",\"bigger\",\"actually\",\"interesting\",\"page\",\"must\",\"say\",\"lot\",\"definatly\",\"valid\",\"points\",\"win\",\"7\",\"plz\",\"birthday\",\"roni\",\"mickey\",\"sometimes\",\"make\",\"almost\",\"indiana\",\"old\",\"house\",\"aw\",\"lost\",\"follower\",\"thought\",\"damn\",\"finish\",\"nap\",\"bolt\",\"homework\",\"class\",\"tweet\",\"-->\",\"auto\",\"release\",\"server\",\"migrate\",\"live\",\"site\",\"feel\",\"park\",\"different\",\"area\",\"first\",\"acoustic\",\"paradiso\",\"wallet\",\"tom\",\"lend\",\"martin\",\"fiver\",\"coo\",\"packed\",\"n\",\"hottt\",\"hell\",\"definitely\",\"come\",\"worried\",\"law\",\"courses\",\"anyway\",\"grad\",\"sophomore\",\"take\",\"did not\",\"call\",\"went\",\"there has / there is\",\"upload\",\"pictures\",\"internet\",\"fails\",\"line\",\"enough\",\"fb\",\"bored\",\"portable\",\"personalized\",\"chopsticks\",\"wine\",\"buzz\",\"darts\",\"done\",\"hey\",\"congratulations\",\"heard\",\"kid\",\"aww\",\"lying\",\"mister\",\"find\",\"moms\",\"mad\",\"told\",\"1230\",\"came\",\"1\",\"ruined\",\"surprise\",\"steel\",\"shoes\",\"daddy\",\"stationed\",\"fort\",\"bragg\",\"north\",\"carolina\",\"wanted\",\"hawaii\",\"ate\",\"pizza\",\"head\",\"pa\",\"unless\",\"jackie\",\"wants\",\"amanda\",\"palmer\",\"wandering\",\"brooklyn\",\"weekend\",\"office\",\"bff\",\"dancing\",\"w\",\"gf\",\"hot\",\"cares\",\"yea\",\"tomorrow\",\"maths\",\"luck\",\"8\",\"hours\",\"people\",\"facebook\",\"want\",\"create\",\"application\",\"proud\",\"100\",\"%\",\"correct\",\"quiz\",\"bye\",\"ya\",\"later\",\"radio\",\"station\",\"called\",\"yesterday\",\"interview\",\"iphone\",\"broked\",\"yay\",\"woods\",\"camping\",\"drinking\",\"hate\",\"tanning\",\"desperately\",\"none\",\"braai\",\"sure\",\"stuck\",\"m25\",\"2am\",\"however\",\"waste\",\"climbing\",\"trail\",\"stuff\",\"whatsoever\",\"jackets\",\"guess\",\"moro\",\"enjoying\",\"music\",\"video\",\"vid\",\"leave\",\"spain\",\"put\",\"pay\",\"plans\",\"ah\",\"meant\",\"we will\",\"movies\",\"visiting\",\"tweeples\",\"phone\",\"acting\",\"fml\",\"cheer\",\"cheesy\",\"joke\",\"something\",\"slept\",\"pool\",\"lil\",\"relax\",\"prob\",\"end\",\"playing\",\"tired\",\"tsk\",\"caller\",\"sees\",\"police\",\"ticked\",\"totally\",\"forgot\",\"unfortunately\",\"key\",\"sources\",\"protected\",\"lest\",\"arrested\",\"killed\",\"another\",\"update\",\"sick\",\"animals\",\"finished\",\"potter\",\"book\",\"amazin\",\"film\",\"half\",\"blood\",\"prince\",\"watched\",\"jeff\",\"sleeves\",\"damp\",\"proper\",\"jeans\",\"lycra\",\"\\u0080\",\"\\u00a6\",\"evil\",\"twin\",\"alarm\",\"clock\",\"harsh\",\"mistress\",\"lovelies\",\"cleaning\",\"car\",\"pixie\",\"hospital\",\"hoping\",\"makes\",\"hills\",\"finale\",\"mtv\",\"movie\",\"awards\",\"fuckkk\",\"looks\",\"hole\",\"jus\",\"feed\",\"copped\",\"injections\",\"mouth\",\"2day\",\"xray\",\"2mro\",\"thanks\",\"bill\",\"testing\",\"hand\",\"naw\",\"slackin\",\"yo\",\"august\",\"juiced\",\"probably\",\"5yr\",\"loved\",\"role\",\"model\",\"keep\",\"wrk\",\"big\",\"craziness\",\"season\",\"outside\",\"sore\",\"watchin\",\"federer\",\"fallin\",\"red\",\"earth\",\"roland\",\"garros\",\"weeping\",\"tears\",\"joy\",\"nice\",\"higher\",\"timmy\",\"dude\",\"scares\",\"lovely\",\"rainy\",\"grey\",\"cold\",\"weather\",\"brown\",\"samsung\",\"fw\",\"every\",\"blue\",\"advice\",\"june\",\"sooo\",\"jury\",\"duty\",\"mona\",\"perfect\",\"cell\",\"open\",\"bre\",\"bed\",\"ugh\",\"ones\",\"dwight\",\"howard\",\"nose\",\"bleed\",\"noted\",\"looked\",\"hawk\",\"chicks\",\"fuzzy\",\"white\",\"pattern\",\"saturday\",\"errands\",\"life\",\"admin\",\"derby\",\"perhaps\",\"basketball\",\"elastic\",\"bands\",\"nyc\",\"expensive\",\"creating\",\"assets\",\"whilst\",\"eating\",\"packet\",\"far\",\"fewer\",\"remember\",\"vector\",\"point\",\"possible\",\"quality\",\"history\",\"phones\",\"sleeping\",\"idea\",\"major\",\"headache\",\"cpr\",\"years\",\"dummy\",\"sushi\",\"friend\",\"$\",\"veg\",\"recommendations\",\"long\",\"doc\",\"even\",\"missed\",\"nia\",\"picked\",\"pho\",\"dinner\",\"+\",\"shiraz\",\"relaxing\",\"raw\",\"almonds\",\"ginger\",\"tea\",\"20\",\"already\",\"you have\",\"mail\",\"awww\",\"poor\",\"thing\",\"girlfriend\",\"david\",\"carradine\",\"bee\",\"twitterr\",\"forr\",\"math\",\"rather\",\"act\",\"gotta\",\"mom\",\"hates\",\"money\",\"apparently\",\"videoo\",\"song\",\"ur\",\"album\",\"world\",\"here's\",\"pathetic\",\"featured\",\"kyat\",\"hottest\",\"chennai\",\"dont\",\"fridge\",\"jamming\",\"lv\",\"tt\",\"gave\",\"fenway\",\"saw\",\"beckett\",\"costume\",\"display\",\"disney\",\"german\",\"days\",\"woken\",\"likely\",\"they shall / they will\",\"interrupt\",\"12pm\",\"bin\",\"collection\",\"doll\",\"cryin\",\"throats\",\"bama\",\"worse\",\"comin\",\"mexico\",\"city\",\"te\",\"quiero\",\"df\",\"may\",\"saddle\",\"mile\",\"real\",\"hurting\",\"uni\",\"confused\",\"times\",\"retweet\",\"pretty\",\"ppl\",\"rt\",\"bruins\",\"11\",\"innings\",\"thursday\",\"since\",\"6am\",\"personally\",\"lives\",\"england\",\"whore\",\"followers\",\"maybe\",\"jess\",\"iono\",\"smh\",\"tummy\",\"hurtss\",\"wore\",\"comfy\",\"shape\",\"hopefully\",\"caught\",\"early\",\"wins\",\"ada\",\"apa\",\"types\",\"discussions\",\"week\",\"innovation\",\"jokes\",\"email\",\"course\",\"hahaha\",\"talk\",\"terrified\",\"storms\",\"tornado\",\"miles\",\"alice\",\"short\",\"it had / it would\",\"gosh\",\"soo\",\"ddd\",\"diggin\",\"kings\",\"leon\",\"played\",\"philly\",\"fire\",\"\\u00b4\",\"germany\",\"troops\",\"`\",\"dark\",\"cat\",\"shirt\",\"cute\",\"feeling\",\"honest\",\"meannn\",\"bread\",\"disappointed\",\"celebrity\",\"college\",\"photo\",\"x-box\",\"ict\",\"crew\",\"finsihed\",\"essay\",\"holiday\",\"begin\",\"till\",\"12\",\"30\",\"lasts\",\"late\",\"reverse\",\"hour\",\"q\",\"barbie\",\"ask\",\"nope\",\"party\",\"woman\",\"obviously\",\"thus\",\"according\",\"cult\",\"style\",\"oooh\",\"la\",\"hahah\",\"four\",\"waaay\",\"bradie\",\"  \",\"central\",\"quickly\",\"does not\",\"=(\",\"run\",\"lady\",\"smart\",\"crowded\",\"shitty\",\"quinn\",\"puppy\",\"barely\",\"friggin\",\"move\",\"made\",\"words\",\"caf\",\"she has / she is\",\"threaten\",\"most\",\"welcome\",\"questions\",\"answer\",\"waved\",\"goodbye\",\"gorgeous\",\"whole\",\"twits\",\"beer\",\"pong\",\"wooo\",\"youtube\",\"we are\",\"fair\",\"trade\",\"divas\",\"keeping\",\"sorts\",\"farmers\",\"tobacco\",\"hemp\",\"etc\",\"18\",\"slaves\",\"wave\",\"they have\",\"die\",\"waving\",\"laptop\",\"shindig\",\"touring\",\"uk\",\"0530\",\"ever\",\"signing\",\"erotica\",\"feature\",\"stoked\",\"lawd\",\"scary\",\"hello\",\"young\",\"republican\",\"fucking\",\"continue\",\"attack\",\"satan\",\"picks\",\"targets\",\"dr\",\"miracles\",\"ky\",\"intense\",\"commercials\",\"survive\",\"moving\",\"shooting\",\"airport\",\"parking\",\"full\",\"flight\",\"delayed\",\"35\",\"mon\",\"|\",\"cindy\",\"bar\",\"taste\",\"pies\",\"recommended\",\"mac\",\"glad\",\"weird\",\"pigs\",\"resturant\",\"gurl\",\"gaby\",\"invisible\",\"offline\",\"forum\",\"making\",\"grits\",\"eggs\",\"toast\",\"breakfast\",\"australia\",\"nods\",\"grrr\",\"doin\",\"wer\",\"multiple\",\"fits\",\"somewhere\",\"job\",\"officially\",\"broken\",\"catch\",\"meantime\",\"lame\",\"frustrated\",\"hitting\",\"gym\",\"pineapple\",\"coconut\",\"haagen\",\"daz\",\"calling\",\"dug\",\"garden\",\"justify\",\"californian\",\"pimp\",\"n64\",\"smash\",\"flowers\",\"background\",\"profit\",\"reasons\",\"blog\",\"many\",\"pleased\",\"clean\",\"hairball\",\"instead\",\"stepping\",\"everyday\",\"weeks\",\"miami\",\"anaheim\",\"hilton\",\"self\",\"festival\",\"~\",\"salsa\",\"sticker\",\"someone's\",\"jeep\",\"pic\",\"prove\",\"where has / where is\",\"lisa\",\"sites\",\"influence\",\"knows\",\"attendant\",\"funny\",\"board\",\"guyz\",\"twit\",\"3hrs\",\"louis\",\"darn\",\"games\",\"mentioned\",\"ps3\",\"dang\",\"360\",\"pick\",\"gears\",\"war\",\"diy\",\"annie\",\"visit\",\"wearing\",\"shorts\",\"chilly\",\"rock\",\"havent\",\"eaten\",\"he has / he is\",\"fl\",\"girls\",\"missing\",\"seeing\",\"top\",\"tweeties\",\"awake\",\"dell\",\"lenovo\",\"expectations\",\"dear\",\"lets\",\"guy\",\"date\",\"joining\",\"army\",\"goshh\",\"respect\",\"decision\",\"added\",\"trees\",\"wonna\",\"countdown\",\"everything\",\"shit\",\"month\",\"ich\",\"mich\",\"morgen\",\"keine\",\"zu\",\"xd\",\"marley\",\"intact\",\"dogs\",\"lab\",\"neutered\",\"help\",\"fell\",\"stairs\",\"meal\",\"favourite\",\"impromptu\",\"nkotb\",\"block\",\"agree\",\"guilty\",\"paralysis\",\"crisis\",\"happened\",\"months\",\"geez\",\"revisions\",\"progress\",\"despite\",\"tweeting\",\"distractions\",\"wats\",\"upp\",\"sister\",\"p\",\"hotwords\",\"ahead\",\"wake\",\"hunting\",\"sweeties\",\"automatic\",\"bot\",\"detector\",\"against\",\"give\",\"infinite\",\"bacon\",\"usually\",\"whether\",\"pilates\",\"fan\",\"trainings\",\"sleepy\",\"girl\",\"handle\",\"\\u00e2\",\"\\u00ac\",\"bedtime\",\"twitters\",\"note\",\"yn\",\"}\",\"realized\",\"stupid\",\"thats\",\"could not\",\"change\",\"text\",\"colour\",\"laptops\",\"fault\",\"greek\",\"is not\",\"pokemon\",\"anywhere\",\"recovering\",\"system\",\"crash\",\"normal\",\"buy\",\"tile\",\"embracing\",\"son's\",\"choice\",\"fullest\",\"studied\",\"6\",\"screwed\",\"shem\",\"lucky\",\"recognize\",\"screenshot\",\"smelled\",\"electricity\",\"air\",\"sky\",\"rain\",\"thunder\",\"austin\",\"seem\",\"person\",\"fab\",\"edward\",\"although\",\"sanchez\",\"wilson\",\"coming\",\"game\",\"sign\",\"grudge\",\"prom\",\"scratched\",\"hurts\",\"aswell\",\"throught\",\"injury\",\"kept\",\"hike\",\"posted\",\"deed\",\"myspace\",\"plushie\",\"side\",\"bb\",\"nobody\",\"gives\",\"lettuce\",\"grow\",\"type\",\"window\",\"wow\",\"grows\",\"worth\",\"opted\",\"sunshine\",\"rest\",\"pack\",\"xoxox\",\"vouch\",\"dat\",\"turning\",\"machine\",\"upside\",\"shaking\",\"nothings\",\"hmph\",\"meeting\",\"reach\",\"cafe\",\"morrison\",\"says\",\"he shall / he will\",\"google\",\"maps\",\"failure\",\"repo\",\"road\",\"awesome\",\"met\",\"seems\",\"weekend's\",\"eeewww\",\"giant\",\"spider\",\"crawled\",\"wall\",\"talked\",\"iran\",\"problems\",\"fill\",\"leaving\",\"care\",\"yuk\",\"scared\",\"bitch\",\"draft\",\"file\",\"altho\",\"chapters\",\"heh\",\"silly\",\"always\",\"treat\",\"yayyy\",\"battery\",\"xo\",\"64\",\"less\",\"hurt\",\"papa\",\"roach\",\"eve\",\"train\",\"tiller\",\"hero\",\"women's\",\"freedom\",\"eww\",\"whitney\",\"houston\",\"clip\",\"5a\",\"maria\",\"mean\",\"twilight\",\"books\",\"shhh\",\"mariah\",\"voice\",\"lindo\",\"=\",\"ridiculous\",\"heat\",\"pshh\",\"hear\",\"2me\",\"reason\",\"replies\",\"are not / am not\",\"showing\",\"twitterfox\",\"lime\",\"score\",\"84\",\"parts\",\"business\",\"letter\",\"errors\",\"wanna\",\"shaved\",\"pics\",\"ale\",\"scorching\",\"hail\",\"nahh\",\"wifey\",\"sunny\",\"temp\",\"sold\",\"lancaster\",\"pride\",\"tee\",\"via\",\"whack\",\"imagine\",\"watcha\",\"ha\",\"noo\",\"autograph\",\"walk\",\"canal\",\"st\",\"ish\",\"thinks\",\"scratching\",\"seedlings\",\"-)\",\"realize\",\"til\",\"next\",\"sooner\",\"computer\",\"hiding\",\"behind\",\"eagle\",\"july\",\"mmm\",\"del\",\"taco\",\"c'mon\",\"wisdom\",\"mat\",\"context\",\"second\",\"often\",\"goes\",\"frazzled\",\"ughh\",\"filling\",\"tooth\",\"ear\",\"starting\",\"ache\",\"fiance\",\"gets\",\"raids\",\"irritating\",\"widow\",\"married\",\"somebody\",\"yup\",\"sadd\",\"mother's\",\"spread\",\"sun\",\"6-10\",\"will not\",\"in-store\",\"ashton\",\"wrong\",\"seal\",\"beach\",\"muuch\",\"26th\",\"november\",\"l\",\"fender\",\"favorites\",\"^\",\"free\",\"choose\",\"thanx\",\"airtel\",\"traveling\",\"roaming\",\"moment\",\"reality\",\"used\",\"cynical\",\"becoming\",\"sap\",\"add\",\"nappies\",\"bl\",\"moood\",\"helium\",\"records\",\"promoting\",\"launch\",\"sweet\",\"dreams\",\"paws\",\"realising\",\"dutch\",\"pendant\",\"bat\",\"name\",\"special\",\"dumping\",\"problem\",\"deaf\",\"25c\",\"figure\",\"fix\",\"macbook\",\"charger\",\"venue\",\"storming\",\"yur\",\"least\",\"veggie\",\"kill\",\"herb\",\"cuddles\",\"ball\",\"taking\",\"kia\",\"permanently\",\"street\",\"switching\",\"iestamovement\",\"gd\",\"mornin\",\"in2\",\"smiling\",\"dancin\",\"blues\",\"ago\",\"hilarious\",\"strip\",\"pole\",\"training\",\"sessions\",\"recorded\",\"promo\",\"ran\",\"living\",\"room\",\"screaming\",\"ryan's\",\"using\",\"notebook\",\"bath\",\"addiction\",\"naaah\",\"amaze\",\"marry\",\"ways\",\"john\",\"knee\",\"3hours\",\"you had / you would\",\"couch\",\"neck\",\"nasty\",\"1/2\",\"high\",\"winds\",\"approaching\",\"front\",\"snuck\",\"doh\",\"paint\",\"shed\",\"brilliant\",\"twittering\",\"experiences\",\"interested\",\"nerd\",\"damm\",\"knocked\",\"pocket\",\"10s\",\"rice\",\"water\",\"idk\",\"tasted\",\"felt\",\"teeth\",\"katie's\",\"moves\",\"nc\",\"ipl\",\"cricket\",\"hd\",\"rugby\",\"okay\",\"finland\",\"25\",\"hungary\",\"filled\",\"mom's\",\"meee\",\"supposed\",\"question\",\"middle\",\"navy\",\"packing\",\"cupcakes\",\"mood\",\"babes\",\"naturally\",\"makeup\",\"needed\",\"hereee\",\"cloud\",\"cover\",\"low\",\"bouta\",\"qo\",\"dnt\",\"princess\",\"blanket\",\"soda\",\"mistake\",\"sixty\",\"year\",\"daisy\",\"dukes\",\"total\",\"flaming\",\"fag\",\"eyes\",\"miserable\",\"yum\",\"cha\",\"dumplings\",\"mms\",\"monster\",\"migrane\",\"feels\",\"yucky\",\"listening\",\"painful\",\"tracks\",\"knowing\",\"able\",\"yep\",\"happens\",\"r\",\"mend\",\"xxoo\",\"cept\",\"cereal\",\"milk\",\"wonderful\",\"bbq\",\"posting\",\"studying\",\"easier\",\"pity\",\"blame\",\"failing\",\"stomach\",\"bug\",\"ihope\",\"okkk\",\"superman\",\"gaga\",\"announced\",\"official\",\"member\",\"paramore\",\"woo\",\"realllyyy\",\"tae\",\"kwon\",\"degree\",\"black\",\"belt\",\"wahhh\",\"martial\",\"arts\",\"badly\",\"nifty\",\"finally\",\"pays\",\"ballgame\",\"springs\",\"milf\",\"mm\",\"grins\",\"breaks\",\"intentionally\",\"slide\",\"meetings\",\"conferences\",\"emergencies\",\"true\",\"cd\",\"quiet\",\"said\",\"closed\",\"couple\",\"spreading\",\"ali\",\"sue\",\"jasmine\",\"kathryn\",\"meetup\",\"session\",\"aaahh\",\"wed\",\"mos\",\"def\",\"hit\",\"cloudy\",\"ark\",\"louise\",\"mini\",\"burgers\",\"denny's\",\"yikes\",\"amazing\",\"sandwhiches\",\"bout\",\"shoot\",\"workout\",\"cake\",\"graduation\",\"parties\",\"laughing\",\"excuse\",\"#\",\"russell\",\"v\",\"incredibly\",\"stone\",\"kicks\",\"chorus\",\"orchard\",\"ditto\",\"agreement\",\"increasing\",\"number\",\"companies\",\"marketing\",\"tool\",\"host\",\"football\",\"cup\",\"canberra\",\"sydney\",\"omgosh\",\"hedgehog\",\"comes\",\"hibernation\",\"http//bitly/pmvry\",\"voting\",\"5\",\"minute\",\"mr\",\"universe\",\"peeling\",\"lotion\",\"ashley\",\"michelle\",\"discovered\",\"serving\",\"easter\",\"suspect\",\"bro\",\"celebrating\",\"accounting\",\"final\",\"boyfriend\",\"boy\",\"anything\",\"hi\",\"centre\",\"mall\",\"lunch\",\"break\",\"safe\",\"nah\",\"around\",\"coffee\",\"swimming\",\"checking\",\"jason\",\"segment\",\"thank's\",\"loves\",\"huge\",\"crushing\",\"underbelly\",\"mommy\",\"matt\",\"minimal\",\"ended\",\"passing\",\"sorryyy\",\"running\",\"batteries\",\"outlets\",\"kite\",\"scene\",\"kills\",\"library\",\"19\",\"brother\",\"cried\",\"snagged\",\"headphones\",\"door\",\"wire\",\"snapped\",\"<3\",\"headway\",\"pesky\",\"freelance\",\"projects\",\"launching\",\"moths\",\"windows\",\"option\",\"combine\",\"hide\",\"labels\",\"thx\",\"drive\",\"was not\",\"expecting\",\"else\",\"supposedly\",\"soonish\",\"test\",\"afternoon\",\"bit\",\"warning\",\"signal\",\"yesterday's\",\"investigating\",\"xoxoxo\",\"fifth\",\"jordan\",\"obsessed\",\"metro\",\"chicago\",\"shame\",\"wise\",\"hog\",\"tie\",\"dog\",\"sexy\",\"jeremy\",\"truee\",\"demi\",\"ticket\",\"stunning\",\"bugger\",\"linked\",\"careful\",\"jogging\",\"fever\",\"giving\",\"pitching\",\"lessons\",\"falling\",\"asleep\",\"8am\",\"hollywood\",\"story\",\"uh\",\"yuck\",\"chance\",\"pop\",\"appreciate\",\"baseball\",\"rained\",\"literally\",\"lovesss\",\"absolutely\",\"heartbreaking\",\"dead\",\"ummm\",\"stephanie\",\"others\",\"should not\",\"unbelievable\",\"read\",\"wishes\",\"unborn\",\"child\",\"smoke\",\"60\",\"subtitles\",\"spoke\",\"french\",\"glued\",\"blake\",\"loud\",\"cuz\",\"eats\",\"emails\",\"hrs\",\"originally\",\"fact\",\"casinos\",\"reek\",\"complete\",\"flake\",\"vc\",\"jealous\",\"btw\",\"deleted\",\"smthg\",\"naughty\",\"ironing\",\"place\",\"pieces\",\"glass\",\"gray\",\"extra\",\"veryyy\",\"wash\",\"clothes\",\"boring\",\"b4\",\"youngin\",\"carpet\",\"tough\",\"angel\",\"nathan\",\"mt\",\"dew\",\"mix\",\"sake\",\"v8\",\"fusion\",\"tastes\",\"started\",\"classes\",\"twitterville\",\"datz\",\"crazy\",\"marilyn\",\"horny\",\"rolls\",\"clever\",\"names\",\"heartbreak\",\"sucks\",\"mixed\",\"feelings\",\"helping\",\"support\",\"hunger\",\"relief\",\"profits\",\"http//bitly/eunls\",\"nerve\",\"hug\",\"ps\",\"ziggy\",\"stardust\",\"afi\",\"beat\",\"goodnight\",\"doctor\",\"issues\",\"nooo\",\"bgt\",\"aiden\",\"flawless\",\"shaheen\",\"loss\",\"honey\",\"heal\",\"catching\",\"shades\",\"suitcase\",\"flights\",\"spouse\",\"2see\",\"basically\",\"action\",\"rob's\",\"bummed\",\"sniff\",\"hun\",\"researching\",\"bora\",\"tips\",\"fedora\",\"honor\",\"included\",\"fabulous\",\"company\",\"close\",\"intensive\",\"nickelback\",\"yard\",\"mowed\",\"shower\",\"project\",\"organization\",\"blew\",\"fuse\",\"vw\",\"gps\",\"player\",\"76\",\"b\",\"evening\",\"saved\",\"comedy\",\"darlin\",\"besides\",\"pickles\",\"god's\",\"sense\",\"neighbours\",\"bahaha\",\"zeke\",\"impossible\",\"jamba\",\"blind\",\"sims\",\"cause\",\"near\",\"river\",\"owns\",\"helpless\",\"rental\",\"satellite\",\"21st\",\"flu\",\"witnessed\",\"wife\",\"bus\",\"pushed\",\"ahahahah\",\"teenagers\",\"star\",\"wars\",\"celebrate\",\"round\",\"combination\",\"f\",\"comic\",\"event\",\"mother\",\"who has / who is\",\"tag\",\"along\",\"completely\",\"snuggling\",\"duvet\",\"burned\",\"harry\",\"am not / are not / is not / has not / have not\",\"defense\",\"2morrow\",\"throat\",\"rhyming\",\"fa\",\"sho\",\"california\",\"either\",\"danny\",\"dearest\",\"potatoe\",\"sports\",\"center\",\"east\",\"coast\",\"friend's\",\"eng\",\"subs\",\"crappiest\",\"grammar\",\"li\",\"jun\",\"ki\",\"lounge\",\"raised\",\"price\",\"wtf\",\"bottom\",\"locker\",\"cage\",\"straight\",\"ima\",\"pass\",\"workin\",\"alive\",\"bud\",\"light\",\"deck\",\"ahhh\",\"spending\",\"shopped\",\"insomnia\",\"attacks\",\"ive\",\"dayy\",\"sleeep\",\"dudes\",\"would not\",\"incentive\",\"participate\",\"wide\",\"freakin\",\"fantastic\",\"camden\",\"yeh\",\"worry\",\"um\",\"pe\",\"science\",\"<\",\"order\",\"mum\",\"daycare\",\"snuggle\",\"sweat\",\"blast\",\"doesnt\",\"sound\",\"lotus\",\"canceled\",\"someone\",\"cancelled\",\"recording\",\"language\",\"easy\",\"setup\",\"freaking\",\"awsome\",\"fairly\",\"become\",\"reaching\",\"mil\",\"1st\",\"likewise\",\"definately\",\"unfortunetly\",\"montgomery\",\"county\",\"subscribed\",\"recently\",\"what has / what is\",\"tried\",\"unity\",\"boxer\",\"dice\",\"installer\",\"couldnt\",\"iso\",\"pls\",\"disappeared\",\"pixar\",\"crunk\",\"cracks\",\"adam\",\"pascal\",\"hands\",\"pleeease\",\"curry\",\"hubby\",\"daughter\",\"amusing\",\"5000\",\"kg\",\"box\",\"nevermind\",\"shopping\",\"na\",\"daw\",\"singing\",\"green\",\"begins\",\"humid\",\"chitown\",\"mamma\",\"mia\",\"enjoyed\",\"laundry\",\"driving\",\"traffic\",\"earthquake\",\"talent\",\"shows\",\"napping\",\"cousins\",\"tryin\",\"lakers\",\"fans\",\"meet\",\"chatroom\",\"titties\",\"neat\",\"lvatt\",\"lines\",\"vines\",\"plus\",\"gus\",\"recess\",\"gloomy\",\"gillian\",\"awful\",\"nvm\",\"conversation\",\"without\",\"tech\",\"members\",\"outlook\",\"crashing\",\"fixed\",\"summmerrr\",\"schoool\",\"bueno\",\"understand\",\"poop\",\"borrow\",\"landed\",\"hated\",\"stacey\",\"country\",\"4got\",\"dvr\",\"updated\",\"beloved\",\"sayang\",\"nga\",\"hay\",\"mahal\",\"naman\",\"ang\",\"card\",\"ngayon\",\"expense\",\"ito\",\"shock\",\"horror\",\"pandora\",\"popping\",\"ads\",\"\\u0099\",\"\\u00ab\",\"atl\",\"preorder\",\"ship\",\"singapore\",\"roll\",\"manchester\",\"stationary\",\"thankyou\",\"r's\",\"strawberry\",\"duck\",\"nightmare\",\"timothy\",\"riding\",\"tidying\",\"holidays\",\"palm\",\"pre\",\"september\",\"crappy\",\"oprah\",\"effect\",\"666\",\"releases\",\"cinemas\",\"india\",\"wahaha\",\"ulit\",\"send\",\"mighty\",\"regularly\",\"conversations\",\"goodness\",\"editing\",\"vids\",\"faves\",\"twitterland\",\"ment\",\"coco\",\"pops\",\"curse\",\"otr09\",\"scope\",\"creep\",\"queen\",\"building\",\"itouch\",\"magically\",\"appear\",\"ireland\",\"shining\",\"response\",\"events\",\"media\",\"risen\",\"dramatically\",\"learning\",\"fish\",\"outfit\",\"sorted\",\"crawl\",\"drank\",\"hangover\",\"gifts\",\"arrived\",\"goddamnit\",\"timer\",\"passed\",\"putting\",\"woke\",\"condensed\",\"yogurt\",\"\\u00bf\",\"\\u00bd\",\"contact\",\"review\",\"clearly\",\"brisbane\",\"shout\",\"trippy\",\"stellar\",\"sugar\",\"death\",\"chocolate\",\"hee\",\"amy\",\"ton\",\"golf\",\"improved\",\"ben's\",\"grandma's\",\"mountain\",\"paid\",\"offer\",\"wanting\",\"photography\",\"overwhelming\",\"mama\",\"saynow\",\"eric\",\"needs\",\"deal\",\"loving\",\"diss\",\"talented\",\"successful\",\"admit\",\"weak\",\"show's\",\"premiere\",\"forever\",\"younger\",\"stevie\",\"g\",\"adorable\",\"priorities\",\"wack\",\"jacket\",\"mums\",\"mimi\",\"tour\",\"13th\",\"pune\",\"returning\",\"colorado\",\"idol\",\"finals\",\"lesson\",\"users\",\"denver\",\"pisses\",\"co\",\"you shall / you will\",\"haircut\",\"pro\",\"cuts\",\"prima\",\"photoshoot\",\"buon\",\"giorno\",\"europa\",\"'(\",\"bare\",\"silence\",\"stereo\",\"yest\",\"completed\",\"hitch\",\"checked\",\"twitpics\",\"byee\",\"interval\",\"hill\",\"weights\",\"yoga\",\"bruno\",\"together\",\"whoo\",\"completly\",\"dawg\",\"checklist\",\"exam\",\"facts\",\"details\",\"mcd\",\"blessing\",\"smells\",\"alcohol\",\"   \",\"part\",\"slow\",\"jurassic\",\"babe\",\"topic\",\"incredible\",\"value\",\"importance\",\"besties\",\"\\u00a5\",\"quite\",\"budget\",\"gah\",\"weed\",\"fed\",\"weeds\",\"gay\",\"sunbathing\",\"fool\",\"thks\",\"invite\",\"t-shirt\",\"apple\",\"rejects\",\"commodore\",\"emulator\",\"app\",\"student\",\"dm\",\"msn\",\"angry\",\"daily\",\"anthem\",\"aka\",\"cook\",\"bet\",\"covering\",\"stores\",\"exactly\",\"responded\",\"reply\",\"spent\",\"hiking\",\"thunderstorms\",\"pulling\",\"camera\",\"hw\",\"rebellion\",\"american\",\"idols\",\"temporary\",\"paradise\",\"kay\",\"sucky\",\"j\",\"soccer\",\"witty\",\"current\",\"ollowfriday\",\"hung\",\"rings\",\"hockey\",\"highlights\",\"flyers\",\"zebra\",\"evn\",\"kno\",\"wat\",\"drunk\",\"scott\",\"five\",\"greatest\",\"hits\",\"medley\",\"sadly\",\"hook\",\"lmao\",\"consequences\",\"motivation\",\"desperate\",\"housewives\",\"inbetween\",\"inside\",\"avoiding\",\"joe\",\"fav\",\"cds\",\"lemme\",\"f1\",\"bristol\",\"due\",\"tempe\",\"az\",\"cleanin\",\"booo\",\"belive\",\"jimmy\",\"fallon\",\"conan\",\"leaky\",\"roof\",\"puddle\",\"kitchen\",\"wet\",\"ceiling\",\"skydiving\",\"heights\",\"fare\",\"rollercoaster\",\"paris\",\"lookalike\",\"lonely\",\"currys\",\"brought\",\"fly\",\"jar\",\"carbs\",\"brotha\",\"rule\",\"font\",\"privacy\",\"secret\",\"tweets\",\"irish\",\"supporting\",\"bid\",\"shares\",\"killing\",\"burnt\",\"bae\",\"uugghhh\",\"sidewalk\",\"woohoo\",\"wellington\",\"cassadee\",\"rough\",\"violin\",\"teacher\",\"pissed\",\"she shall / she will\",\"anytime\",\"someplace\",\"bring\",\"planned\",\"sept\",\"survived\",\"dentist\",\"frustrating\",\"threw\",\"uppp\",\"wan't\",\"popcorn\",\"moh\",\"stupidly\",\"drove\",\"fresno\",\"contacts\",\"dropped\",\"custom\",\"ost\",\"wake-up\",\"bestfriend\",\"loser\",\"rocks\",\"lied\",\"pale\",\"tan\",\"potato\",\"bake\",\"emotion\",\"yaaay\",\"aircraft\",\"ironically\",\"whew\",\"100000\",\"coins\",\"farm\",\"xxx\",\"study\",\"ya'll\",\"double\",\"espresso\",\"reading\",\"gahhh\",\"dvd\",\"worked\",\"ipod\",\"yah\",\"goodnite\",\"sooon\",\"headed\",\"pismo\",\"smile\",\"restriction\",\"unfollow\",\"interest\",\"expanding\",\"remotely\",\"atm\",\"blows\",\"power\",\"cousin\",\"texted\",\"ohhh\",\"sending\",\"sprayed\",\"load\",\"hairspray\",\"eye\",\"future\",\"partners\",\"legs\",\"soar\",\"grandparents\",\"tati\",\"reflecting\",\"treating\",\"robots\",\"logical\",\"humans\",\"parma\",\"farting\",\"pew\",\"laying\",\"anxiously\",\"dangerous\",\"lakersss\",\"casting\",\"boat\",\"heck\",\"biking\",\"father\",\"mostly\",\"uphill\",\"stadium\",\"boston\",\"thin\",\"dress\",\"random\",\"sori\",\"lukin\",\"naff\",\"howz\",\"states\",\"nver\",\"sucked\",\"shift\",\"dollars\",\"brush\",\"corners\",\"grandma\",\"died\",\"ew\",\"chinese\",\"vince\",\"walls\",\"2moz\",\"nyt\",\"loveyouuu\",\"wee\",\"jasper\",\"hayfever\",\"terrible\",\"single\",\"fight\",\"vocals\",\"cavs\",\"ec\",\"lal\",\"matches\",\"vs\",\"cc\",\"period\",\"logging\",\"yous\",\"laters\",\"isplayer\",\"anthony\",\"cursed\",\"social\",\"network\",\"slowly\",\"twins\",\"except\",\"bike\",\"pink\",\"havin\",\"rush\",\"homeworks\",\"roots\",\"vomit\",\"term\",\"fansite\",\"broadway\",\"crutches\",\"vicodin\",\"kids\",\"sleepover\",\"cries\",\"hysterically\",\"runs\",\"hugs\",\"voted\",\"web\",\"se\",\"hain\",\"staying\",\"sober\",\"dancers\",\"friendly\",\"avi\",\"files\",\"pleasant\",\"asda\",\"ordering\",\"randi\",\"plan\",\"given\",\"disastrous\",\"kiddos\",\"visual\",\"delivered\",\"voicemails\",\"edge\",\"skills\",\"anger\",\"annoying\",\"advantages\",\"george\",\"clooney\",\"skanky\",\"ages\",\"original\",\"105\",\"sometime\",\"damnn\",\"whyy\",\"disc\",\"upset\",\"laura's\",\"wedding\",\"poorly\",\"hack\",\"boot\",\"loader\",\"ati\",\"followed\",\"chris\",\"robs\",\"travel\",\"norwich\",\"slim\",\"munchkin\",\"benji\",\"drawing\",\"forgotten\",\"willing\",\"robert\",\"pattinson\",\"throw\",\"lobster\",\"mba\",\"folks\",\"pouring\",\"mtl\",\"becca\",\"small\",\"jacob\",\"promise\",\"1h\",\"treadmill\",\"arm\",\"pushups\",\"abs\",\"parents\",\"tub\",\"em\",\"mahn\",\"relaxed\",\"tdot\",\"ohmygosh\",\"serious\",\"mileyworld\",\"hotness\",\"papas\",\"whoa\",\"coat\",\"400\",\"halfway\",\"ldn\",\"produced\",\"rove\",\"blueberry\",\"muffin\",\"aunt\",\"purple\",\"looove\",\"kitten\",\"whatever\",\"seven\",\"init\",\"misses\",\"anyone\",\"tg\",\"orange\",\"vodka\",\"wishhh\",\"oceanside\",\"cv\",\"closer\",\"goin\",\"six\",\"flags\",\"pee\",\"charity\",\"hooome\",\"criminal\",\"assistance\",\"splitting\",\"nuclear\",\"70\",\"health\",\"challenge\",\"wears\",\"tail\",\"address\",\"545\",\"eat\",\"ignored\",\"wrote\",\"alma\",\"patio\",\"mmmm\",\"france\",\"tale\",\"episode\",\"obsession\",\"south\",\"nowhere\",\"fanfic\",\"lifee\",\"screw\",\"leg\",\"properly\",\"spanish\",\"weeeh\",\"thom\",\"counted\",\"development\",\"experience\",\"iit\",\"had not\",\"oneee\",\"ee\",\"cuuute\",\"dose\",\"fluffy\",\"jam\",\"normaly\",\"helen\",\"comcast\",\"cables\",\"cut\",\"replace\",\"bnp\",\"9\",\"west\",\"midlands\",\"seat\",\"abt\",\"listened\",\"bought\",\"supplies\",\"share\",\"recipes\",\"pickle\",\"bummer\",\"ink\",\"hamburger\",\"baskets\",\"fries\",\"pout\",\"tweetdeck\",\"medical\",\"brothers\",\"unhappy\",\"mess\",\"shocking\",\"dante\",\"jail\",\"dui\",\"getaway\",\"sharing\",\"spades\",\"count\",\"cards\",\"nothin\",\"let us\",\"control\",\"frown\",\"fresh\",\"sam\",\"pray\",\"guidance\",\"answers\",\"tweetie\",\"costs\",\"pleasure\",\"whenever\",\"speeding\",\"fear\",\"existed\",\"noticed\",\"appeared\",\"listings\",\"memphis\",\"husband\",\"that would / that had\",\"gross\",\"illegal\",\"bald\",\"profile\",\"miracle\",\"rainbow\",\"22\",\"aug\",\"negotiate\",\"yosemite\",\"desktop\",\"version\",\"headin\",\"present\",\"login\",\"sleepytime\",\"exams\",\"everybody\",\"fantasy\",\"congrats\",\"phoenix\",\"adventure\",\"cinco\",\"de\",\"kim\",\"lindsay\",\"fred\",\"rawr\",\"ewww\",\"spot\",\"infested\",\"gettin\",\"labor\",\"id\",\"accidentally\",\"stars\",\"tink\",\"brazil\",\"stupidest\",\"establish\",\"twice\",\"killer\",\"truth\",\"dirty\",\"subscribers\",\"dish\",\"arty\",\"chef\",\"caveman\",\"garage\",\"sales\",\"sayin\",\"boom\",\"roasted\",\"recommends\",\"join\",\"wwwm2easia\",\"earn\",\"shareholder\",\"dividends\",\"shut\",\"da\",\"jesus\",\"bargain\",\"grape\",\"juice\",\"cheap\",\"argentina\",\"dry\",\"kisses\",\"huuuge\",\"engine\",\"seized\",\"mot\",\"cars\",\"mechanic\",\"fuck\",\"installing\",\"glasses\",\"tip\",\"403\",\"pull\",\"data\",\"elsewhere\",\"behavior\",\"ext\",\"culprit\",\"casey\",\"chills\",\"unsettling\",\"pasta\",\"across\",\"upcoming\",\"lazy\",\"whomever\",\"sweetie\",\"nails\",\"injured\",\"bird\",\"doorstep\",\"arranging\",\"drop\",\"december\",\"muchas\",\"gracias\",\"amigos\",\"boo\",\"ly\",\"oli\",\"liked\",\"typo\",\"productive\",\"texas\",\"wednesday\",\"sadface\",\"volunteer\",\"deeply\",\"reconnect\",\"son\",\"include\",\"men\",\"junior\",\"sucksss\",\"realised\",\"cable\",\"hanger\",\"install\",\"il\",\"invited\",\"anime\",\"infected\",\"sunburn\",\"flyer\",\"burns\",\"brain\",\"mathematics\",\"quarespace\",\"maine\",\"soothes\",\"external\",\"afford\",\"512\",\"kms\",\"behave\",\"bball\",\"4gb\",\"ram\",\">\",\"ghz\",\"dual\",\"core\",\"15\",\"dedicated\",\"uber\",\"warranty\",\"1000\",\"items\",\"0\",\"breast\",\"cancer\",\"gods\",\"steffy\",\"patrol\",\"dismal\",\"promote\",\"strikes\",\"fom\",\"80s\",\"puffy\",\"puff\",\"blunt\",\"c09\",\"utter\",\"desperation\",\"explain\",\"intelligent\",\"shallow\",\"a's\",\"ahh\",\"view\",\"group\",\"crack\",\"piece\",\"crashed\",\"declined\",\"spymaster\",\"notifications\",\"piss\",\"tweeps\",\"sytycd\",\"judge\",\"caitlin\",\"impress\",\"focused\",\"birthdays\",\"interviews\",\"lacking\",\"deprived\",\"hanging\",\"colbie\",\"set\",\"buns\",\"sit\",\"closet\",\"piercing\",\"needle\",\"stud\",\"hating\",\"sunburns\",\"elizabeth\",\"30mins\",\"paddy\",\"bbz\",\"spend\",\"cowboy\",\"bebop\",\"owner\",\"carry\",\"cherry\",\"popular\",\"falls\",\"sur\",\"nopeee\",\"bedding\",\"overload\",\"tmrw\",\"liking\",\"blipfm\",\"published\",\"<---\",\"human\",\"disposition\",\"insects\",\"sandwiches\",\"1030\",\"thn\",\"tortured\",\"starving\",\"artist\",\"schedule\",\"joking\",\"wk\",\"promoted\",\"kitty\",\"sarap\",\"nino\",\"greenhills\",\"rip\",\"peace\",\"wrecked\",\"lawn\",\"furniture\",\"presented\",\"acceptable\",\"reasonable\",\"lighting\",\"werent\",\"pep\",\"kicking\",\"butts\",\"pronto\",\"everyoneee\",\"sod\",\"gutted\",\"bother\",\"woot\",\"exhausted\",\"9pm\",\"1pm\",\"bathing\",\"suit\",\"motorcycle\",\"recession\",\"cases\",\"split\",\"fork\",\"replaced\",\"neglected\",\"updating\",\"stray\",\"kitteh\",\"wild\",\"wwwtweeteraddercom\",\"vip\",\"freeze\",\"smoked\",\"salmon\",\"goood\",\"whip\",\"license\",\"salad\",\"daria\",\"ditch\",\"download\",\"twhirl\",\"kit\",\"uncle\",\"massive\",\"stroke\",\"t-mobile\",\"ranks\",\"someday\",\"mah\",\"permit\",\"step\",\"granny\",\"blockbuster\",\"owell\",\"weekends\",\"main\",\"task\",\"bog\",\"feelin\",\"rite\",\"dare\",\"enter\",\"choosing\",\"cellphones\",\"specs\",\"mind\",\"counts\",\"packs\",\"gum\",\"truck\",\"hols\",\"cairns\",\"hoe\",\"meg\",\"pbr\",\"depressing\",\"design\",\"geeky\",\"ml\",\"quit\",\"theaters\",\"uploaded\",\"rode\",\"50\",\"55\",\"exercise\",\"greeting\",\"otto\",\"homesick\",\"steps\",\"healthier\",\"pitch\",\"adams\",\"matthew\",\"lived\",\"ra\",\"stand\",\"thunderstorm\",\"talkin\",\"02\",\"hubbie\",\"race\",\"t_t\",\"impulse\",\"purchase\",\"spoil\",\"mondays\",\"blow\",\"aright\",\"steak\",\"adulthood\",\"fmylifecom\",\"negative\",\"actual\",\"vacation\",\"handsome\",\"hermit\",\"writer\",\"sunset\",\"colored\",\"pants\",\"dental\",\"horrible\",\"stabs\",\"goodbyes\",\"hayley\",\"lambert's\",\"chat\",\"responsible\",\"yall\",\"peepz\",\"idiot\",\"janelle\",\"puttin\",\"shyt\",\"gemini\",\"kitties\",\"appetizer\",\"kidding\",\"spikey\",\"sandy\",\"blonde\",\"esp\",\"hitched\",\"=p\",\"thnx\",\"joel\",\"pressing\",\"life's\",\"maintenance\",\"corporation\",\"stays\",\"geography\",\"responses\",\"write\",\"ii\",\"reaction\",\"feedback\",\"square\",\"stressed\",\"copy\",\"correcting\",\"travelling\",\"bunch\",\"whoops\",\"messages\",\"addicting\",\"neglect\",\"scalp\",\"bah\",\"burn\",\"thankfully\",\"niece\",\"muse\",\"tone\",\"jon\",\"fat\",\"shits\",\"search\",\"reallly\",\"bab\",\"cycle\",\"within\",\"quarry\",\"glen\",\"finding\",\"limit\",\"140\",\"ch\",\"wwwiamsoannoyedcom\",\"minerals\",\"spell\",\"rotation\",\"mage\",\"build\",\"function\",\"market\",\"wasn\\u00e2\",\"memories\",\"agenda\",\"trouble\",\"midnight\",\"munchies\",\"afraid\",\"measure\",\"code\",\"min\",\"virgin\",\"sinus\",\"movin\",\"eh\",\"heya\",\"stayin\",\"york\",\"wrist\",\"bode\",\"king\",\"vampire\",\"christian\",\"slater\",\"tape\",\"cking\",\"writing\",\"bound\",\"decent\",\"hdd\",\"practise\",\"donuts\",\"melting\",\"keyboard\",\"shortcuts\",\"expected\",\"ns\",\"reduction\",\"alchemist\",\"marathon\",\"swimsuit\",\"wings\",\"onto\",\"ttys\",\"dm's\",\"usual\",\"glove\",\"charmed\",\"dressed\",\"indian\",\"chief\",\"humm\",\"curt\",\"gc\",\"there're\",\"bugs\",\"tasting\",\"strawberries\",\"father's\",\"remedy\",\"doodling\",\"mullet\",\"oc\",\"settled\",\"portrait\",\"input\",\"cone\",\"grind\",\"mixtapes\",\"likes\",\"bryan\",\"blackberry\",\"andrew\",\"offers\",\"candy\",\"longer\",\"opening\",\"crystal\",\"rlly\",\"southampton\",\"beautifully\",\"gift\",\"mommie\",\"sanity\",\"peoples\",\"counting\",\"bleh\",\"team\",\"cups\",\"22nd\",\"nov\",\"lookin\",\"goose\",\"stickin\",\"henny\",\"aint\",\"sword\",\"bum\",\"hopeful\",\"answering\",\"calls\",\"flag\",\"sms\",\"saving\",\"aimee\",\"easily\",\"biggie\",\"hotter\",\"3am\",\"songs\",\"fuss\",\"artwork\",\"\\u00b0\",\"michaels\",\"blocks\",\"flats\",\"houses\",\"bumped\",\"shops\",\"compared\",\"believes\",\"pub\",\"__\",\"meaning\",\"backs\",\"os\",\"touchscreen\",\"monitor\",\"tony's\",\"agnes\",\"bebo\",\"steph's\",\"jac\",\"worrying\",\"=d\",\"car's\",\"sympathy\",\"mechanics\",\"laggy\",\"switched\",\"g4\",\"yeaaa\",\"monfils\",\"twitterific\",\"decides\",\"otherwise\",\"charles\",\"mike\",\"color\",\"combo\",\"enlightening\",\"gas\",\"yr\",\"vet\",\"suggestion\",\"=]\",\"champagne\",\"convert\",\"ui\",\"tinytwitter\",\"fund\",\"kobe\",\"pet\",\"mri\",\"fete\",\"\\u00a3\",\"5k\",\"wear\",\"fyi\",\"alkaline\",\"trio\",\"concert\",\"usage\",\"confusing\",\"combined\",\"sex\",\"orig\",\"bday\",\"hott\",\"culd\",\"alter\",\"ego\",\"kirstie\",\"how has / how is / how does\",\"per\",\"somehow\",\"smiles\",\"regret\",\"babycakes\",\"esta\",\"casa\",\"era\",\"una\",\"usa\",\"3rd\",\"slice\",\"xdd\",\"confirmation\",\"shipment\",\"lake\",\"triple\",\"snuggled\",\"lo\",\"niceee\",\"thatll\",\"charitable\",\"causes\",\"ooo\",\"suggest\",\"pant\",\"[\",\"spelled\",\"]\",\"highlight\",\"tommy\",\"savannah\",\"bell\",\"chow\",\"goh\",\"dimsum\",\"specially\",\"ordered\",\"gig\",\"baaack\",\"buts\",\"swing\",\"patterns\",\"destructive\",\"puppies\",\"possibly\",\"ohno\",\"tuition\",\"ahw\",\"speedy\",\"recovery\",\"quote\",\"views\",\"snake\",\"51\",\"zac\",\"sd\",\"hired\",\"san\",\"fran\",\"iranian\",\"cartoon\",\"ears\",\"huh\",\"cycling\",\"iz\",\"notice\",\"dishwasher\",\"dispatch\",\"lmk\",\"dissappointed\",\"past\",\"yeahhh\",\"tooo\",\"band\",\"hyped\",\"yipppeee\",\"alright\",\"wilco\",\"b-side\",\"unlikely\",\"japan\",\"2003\",\"06\",\"village\",\"restaurant\",\"reads\",\"skinny\",\"latte\",\"sux\",\"youre\",\"teh\",\"fam\",\"massage\",\"octopus\",\"lga\",\"principles\",\"limits\",\"2b\",\"gang\",\"1am\",\"bbs\",\"lovies\",\"besos\",\"coz\",\"composing\",\"vim\",\"posts\",\"served\",\"heritage\",\"sat\",\"harder\",\"joes\",\"arms\",\"mangoes\",\"pokey\",\"fuckin\",\"bookstore\",\"dunno\",\"immm\",\"nite\",\"trust\",\"alot\",\"ring\",\"forced\",\"hosted\",\"xp\",\"software\",\"2008\",\"gladly\",\"guiness\",\"record\",\"accused\",\"thomas\",\"ex\",\"slut\",\"1045\",\"730\",\"pricey\",\"sight\",\"cinnamon\",\"tmw\",\"introducing\",\"juliet\",\"lbs\",\"ounces\",\"dave\",\"shaken\",\"solitude\",\"letting\",\"beats\",\"sink\",\"remaining\",\"spiritual\",\"focusing\",\"rosa\",\"increase\",\"fellow\",\"managers\",\"reunion\",\"island\",\"madagascar\",\"cats\",\"bait\",\"fishing\",\"sharks\",\"shady\",\"sends\",\"diet\",\"coke\",\"peanut\",\"butter\",\"m's\",\"mobile\",\"dad\",\"raybans\",\"horse\",\"trailer\",\"canada\",\"payback\",\"bathroom\",\"cleaned\",\"peeing\",\"karma\",\"ftw\",\"7-8\",\"recieve\",\"unnecessary\",\"verbal\",\"punishment\",\"ivan\",\"dreading\",\"remeber\",\"were not\",\"transcribing\",\"fasho\",\"karaoke\",\"jenny's\",\"goinggg\",\"badass\",\"scenes\",\"alas\",\"plot\",\"lists\",\"prepared\",\"texting\",\"z\",\"<--\",\"ily\",\"shucks\",\"blushing\",\"squeeze\",\"tight\",\"lion\",\"ot\",\"aaahhh\",\"dooo\",\"wimbledon\",\"prison\",\"posible\",\"strong\",\"temptation\",\"fitness\",\"reminds\",\"norway\",\"gale\",\"tshirt\",\"spelt\",\"including\",\"3days\",\"combining\",\"leh\",\"telling\",\"usd\",\"33\",\"rich\",\"michigan\",\"photos\",\"twitpic\",\"blogs\",\"arghhh\",\"geeking\",\"battlestar\",\"ttyl\",\"lotsa\",\"kinky\",\"bank\",\"cash\",\"inbetweeners\",\"grabbed\",\"curling\",\"iron\",\"barrel\",\"fingers\",\"http//twitpiccom/66hcb\",\"cutest\",\"buds\",\"plugged\",\"4-5\",\"parent\",\"childhood\",\"hardest\",\"ensure\",\"print\",\"ad\",\"mer\",\"connection\",\"takes\",\"skype\",\"bro's\",\"nor\",\"latter\",\"hisss\",\"female\",\"superhero\",\"anythin\",\"truly\",\"indeed\",\"graduates\",\"haahah\",\"waking\",\"stayed\",\"5am\",\"thingy\",\"danger\",\"tsa\",\"homemade\",\"hannah\",\"animal\",\"crossing\",\"restaurants\",\"ed\",\"al's\",\"dad's\",\"fma\",\"manga\",\"donation\",\"customer\",\"unpleasant\",\"complain\",\"boss\",\"laugh\",\"log\",\"mate\",\"asking\",\"coll\",\"baby's\",\"jay\",\"leno\",\"cutting\",\"shanghai\",\"rose\",\"robot\",\"monkey\",\"hyper\",\"force\",\"gooo\",\"hangovers\",\"nd\",\"annoyin\",\"logged\",\"lack\",\"sang\",\"tourettes\",\"10pm\",\"begun\",\"bf\",\"delicious\",\"2011\",\"rise\",\"albums\",\"spring\",\"makeover\",\"disgusting\",\"groups\",\"membership\",\"stories\",\"partying\",\"blah\",\"fedex\",\"ups\",\"delivery\",\"notification\",\"corrected\",\"summer's\",\"demo\",\"ultrasn\",\"0w\",\"funnn\",\"third\",\"oscar\",\"worthy\",\"mana\",\"wa\",\"aku\",\"kan\",\"cari\",\"nya\",\"rh\",\"torrent\",\"burning\",\"stood\",\"1430\",\"1730\",\"ergh\",\"cba\",\"olive\",\"chews\",\"pair\",\"prayer\",\"ler\",\"wonders\",\"celebrities\",\"emily\",\"income\",\"cooties\",\"dougie\",\"tem\",\"eles\",\"eu\",\"heyyy\",\"showtime\",\"booking\",\"52\",\"paying\",\"bills\",\"lasted\",\"logo\",\"vietnam\",\"shake\",\"macbeth\",\"videos\",\"182\",\"netball\",\"starts\",\"range\",\"calendar\",\"whats\",\"chillin\",\"wit\",\"drink\",\"funniest\",\"goto\",\"_\",\"suprises\",\"gr8\",\"doctors\",\"ending\",\"worn\",\"ty\",\"spontaneous\",\"sell\",\"toy\",\"guns\",\"status\",\"phi\",\"lambs\",\"verbally\",\"abused\",\"client\",\"helpful\",\"cliche\",\"guitar\",\"reruns\",\"hahahahahaha\",\"covered\",\"sport\",\"summertime\",\"poisoning\",\"chick\",\"giggle\",\"heehee\",\"climb\",\"oooops\",\"stitches\",\"laughter\",\"shoulda\",\"large\",\"breasts\",\"ooh\",\"yummie\",\"icecream\",\"hmmm\",\"bullies\",\"pages\",\"rox\",\"alexander\",\"deserved\",\"settings\",\"nearby\",\"switch\",\"private\",\"mode\",\"character\",\"blissful\",\"capri\",\"puzzle\",\"levels\",\"presents\",\"enterprise\",\"initial\",\"configuration\",\"tasks\",\"prefer\",\"usb\",\"cnt\",\"shell\",\"damned\",\"comfortable\",\"wales\",\"harvey\",\"bumed\",\"tomorow\",\"ideas\",\"zoo\",\"backyard\",\"aha\",\"somthing\",\"stockings\",\"6th\",\"sighs\",\"nowww\",\"inconsiderate\",\"troy\",\"fest\",\"purchases\",\"inform\",\"rejected\",\"wohooo\",\"berry\",\"wondering\",\"maid\",\" \",\"hehehhe\",\"ignore\",\"storm\",\"thundering\",\"lightning\",\"lalala\",\"luxe\",\"series\",\"eminem\",\"mummy\",\"tivo\",\"spice\",\"professional\",\"competitive\",\"nature\",\"minded\",\"international\",\"mktg\",\"fancy\",\"iphones\",\"crackberry\",\"typing\",\"givin\",\"tnite\",\"awkward\",\"oslo\",\"montana\",\"whatcha\",\"wearin\",\"chipotle\",\"thumbs\",\"mhm\",\"bris\",\"shes\",\"ceo\",\"staff\",\"np\",\"fifteen\",\"tumblr\",\"messed\",\"can\\u00e2\",\"edit\",\"wth\",\"ym\",\"leggings\",\"elongeday\",\"930\",\"wheelchair\",\"bringing\",\"sence\",\"banks\",\"children\",\"mild\",\"parks\",\"cooped\",\"escape\",\"cast\",\"walking\",\"selling\",\"heels\",\"breaking\",\"poker\",\"ladygaga\",\"campus\",\"dread\",\"teaching\",\"buffalo\",\"finger\",\"licking\",\"\\u00ef\",\"\\u00bd25\",\"betfair\",\"cashback\",\"loses\",\"situation\",\"occasion\",\"winter\",\"09\",\"succesfully\",\"fought\",\"suicidal\",\"thoughts\",\"smooth\",\"land\",\"throws\",\"eventually\",\"selection\",\"liverpool\",\"grt\",\"organizing\",\"grab\",\"mcfly\",\"cos\",\"munch\",\"collapsing\",\"stage\",\"tha\",\"moe\",\"pictured\",\"ouch\",\"josh\",\"condolences\",\"oy\",\"ip\",\"moscow\",\"exotic\",\"location\",\"eek\",\"pleas\",\"hotmail\",\"account\",\"k\",\"fruity\",\"pebbles\",\"shattered\",\"censorship\",\"potent\",\"general\",\"lingering\",\"effects\",\"twitfam\",\"lately\",\"taryn\",\"retarded\",\"links\",\"evryday\",\"protesters\",\"mask\",\"service\",\"parker\",\"operation\",\"crafty\",\"package\",\"featuring\",\"rare\",\"thick\",\"snap\",\"favor\",\"jk\",\"return\",\"experiencing\",\"troubles\",\"97\",\"drools\",\"sway\",\"86\",\"starbucks\",\"aches\",\"effing\",\"almighty\",\"housemate\",\"virginia\",\"3-1\",\"9th\",\"bases\",\"loaded\",\"4-3\",\"mv\",\"bailey\",\"anywho\",\"scrubs\",\"cuddle\",\"buddy\",\"16\",\"guna\",\"looky\",\"connie\",\"personal\",\"stream\",\"2mrw\",\"hola\",\"drag\",\"famous\",\"body\",\"mass\",\"sox\",\"beginning\",\"torture\",\"420\",\"tim's\",\"funn\",\"laughs\",\"callers\",\"sup\",\"salary\",\"greatly\",\"patient\",\"cruddy\",\"gb\",\"sudden\",\"emergency\",\"section\",\"4pm\",\"queuing\",\"uploading\",\"stopped\",\"warned\",\"bunny\",\"wuz\",\"females\",\"duet\",\"kris\",\"(=\",\"gerry\",\"pooh\",\"annnd\",\"rocky\",\"dedication\",\"workouts\",\"mixes\",\"feat\",\"je\",\"titanic\",\"drug\",\"lolol\",\"referring\",\"ho\",\"floppy\",\"haired\",\"rob\",\"gif\",\"changed\",\"bush\",\"gardens\",\"confined\",\"5th\",\"everywhere\",\"milkshake\",\"complained\",\"ac\",\"sickie\",\"aloud\",\"outage\",\"probs\",\"journey\",\"britains\",\"washing\",\"pac\",\"socks\",\"devastated\",\"surprisingly\",\"warm\",\"watering\",\"homeward\",\"electronic\",\"tomoro\",\"spicy\",\"foods\",\"heavy\",\"orientation\",\"field\",\"women\",\"related\",\"pancakes\",\"bord\",\"heheheheh\",\"announce\",\"yellow\",\"roses\",\"friendship\",\"kindergarten\",\"icon\",\"tunes\",\"beets\",\"tent\",\"tasty\",\"winding\",\"breath\",\"ahahahaha\",\"meow\",\"yusss\",\"set-up\",\"dayyy\",\"actor\",\"solo\",\"fx\",\"shot\",\"excellent\",\"actors\",\"swine\",\"dyinggg\",\"2moro\",\"charlene\",\"ny\",\"comment\",\"million\",\"pajama\",\"referral\",\"electronics\",\"equipment\",\"haters\",\"bible\",\"prius\",\"drivers\",\"allowed\",\"vice\",\"lie\",\"released\",\"stripes\",\"rhcp\",\"item\",\"ten\",\"crying\",\"mi\",\"sing\",\"standing\",\"queue\",\"wen\",\"attitude\",\"goo\",\"er\",\"lift\",\"calculator\",\"urm\",\"florida\",\"resend\",\"mega\",\"chilled\",\"tear\",\"depressed\",\"sumtimes\",\"hopes\",\"fixing\",\"improving\",\"gangster\",\"denzel\",\"based\",\"frank\",\"lucas\",\"grasshopper\",\"ant\",\"cycled\",\"chucking\",\"dreadful\",\"au\",\"revoir\",\"chocolates\",\"hehehe\",\"angels\",\"demons\",\"formula\",\"ilitarymon\",\"tongue\",\"ebay\",\"immediately\",\"brians\",\"faye\",\"moon's\",\"ce\",\"vie\",\"nostalgic\",\"missin\",\"bizzare\",\"accident\",\"hy\",\"gut\",\"bathrooms\",\"woops\",\"randomly\",\"freaked\",\"normally\",\"evenings\",\"hence\",\"electric\",\"210\",\"joanna\",\"hoy\",\"es\",\"loop\",\"turkey\",\"thanksgiving\",\"excessive\",\"syg\",\"melbourne\",\"capital\",\"swear\",\"goodluck\",\"slr\",\"recommend\",\"squats\",\"trials\",\"co-workers\",\"tackle\",\"difficult\",\"state\",\"straw\",\"hat\",\"majority\",\"hahahahaha\",\"direct\",\"wtfff\",\"cop\",\"diamond\",\"glorious\",\"blogging\",\"efforts\",\"http//twitpiccom/67uc7\",\"neither\",\"juz\",\"tk\",\"dun\",\"texts\",\"happend\",\"sl\",\"tentative\",\"sched\",\"happening\",\"medicine\",\"fake\",\"lauren\",\"biz\",\"unit\",\"drown\",\"debt\",\"numbers\",\"sheet\",\"strategy\",\"maintain\",\"eurovision\",\"ian's\",\"b-day\",\"dammit\",\"celebrated\",\"supernatural\",\"doggy\",\"paparazzi\",\"hella\",\"makin\",\"hottie\",\"viking\",\"smaller\",\"woooh\",\"yayayayay\",\"planning\",\"bubble\",\"studio\",\"mid\",\"bri\",\"mart\",\"traitor\",\"locals\",\"occurred\",\"rules\",\"table\",\"hoorah\",\"lightening\",\"0-3\",\"drawn\",\"thread\",\"unlike\",\"decide\",\"ontyouhate\",\"london\",\"rated\",\"vertical\",\"expect\",\"yankees\",\"neue\",\"von\",\"und\",\"placebo\",\"kam\",\"amazon\",\"pcs\",\"happen\",\"mechanism\",\"13\",\"playin\",\"singstar\",\"mono\",\"f\\u00e3\",\"r\\u00e3\",\"\\u00b8\",\"addresses\",\"rent\",\"withdraw\",\"230\",\"venice\",\"tofu\",\"sun's\",\"mar\",\"fairrr\",\"chloe\",\"bag\",\"hiii\",\"scanning\",\"distance\",\"toddlers\",\"tupac\",\"hm\",\"tomatoe\",\"soup\",\"grilled\",\"cheese\",\"sand\",\"vicks\",\"rub\",\"coughing\",\"gu\",\"hye\",\"dubbed\",\"indonesian\",\"sensible\",\"bark\",\"collar\",\"neighborhood\",\"barking\",\"replying\",\"push\",\"portfolio\",\"66\",\"singers\",\"brainstorming\",\"welsh\",\"coursework\",\"analysis\",\"feeds\",\"bloody\",\"analyze\",\"prepping\",\"tomorrow's\",\"presentation\",\"manager's\",\"leadership\",\"ends\",\"argh\",\"wah\",\"cougar\",\"tanner\",\"exceptionally\",\"stiff\",\"swallow\",\"exchange\",\"surprising\",\"named\",\"rafa\",\"noes\",\"lu\",\"sweetest\",\"katie\",\"promised\",\"we had / we would\",\"extremely\",\"jobs\",\"wan\",\"ms\",\"kirsty\",\"could have\",\"blackpool\",\"lara\",\"pj\",\"solution\",\"track\",\"prodigy\",\"invaders\",\"variety\",\"cus\",\"swim\",\"earache\",\"unbearable\",\"gunna\",\"drops\",\"boook\",\"naps\",\"refund\",\"effective\",\"container\",\"stamp\",\"giro\",\"swapping\",\"components\",\"performance\",\"frame\",\"fone\",\"stolen\",\"wks\",\"stole\",\"brand\",\"babies\",\"seats\",\"unlucky\",\"contribute\",\"asia\",\"circus\",\"lib\",\"dem\",\"georgia\",\"theater\",\"mystic\",\"oz\",\"wellies\",\"th\\u00e1\\u00ba\",\"\\u00bb\",\"\\u0087\",\"tr\\u00e1\\u00ba\",\"\\u00a7\",\"tr\\u00e1\",\"ng\",\"c\\u00e1\\u00ba\",\"t\\u00e3\",\"vi\\u00e1\",\"ch\\u00e3\",\"\\u00a2\",\"tay\",\"\\u00b7\",\"c\\u00e3\",\"\\u00a1\",\"b\\u00e1\",\"ph\\u00e1\\u00ba\",\"\\u00ad\",\"kh\\u00e3\",\"\\u00e6\",\"quan\",\"l\\u00e3\",\"cao\",\"enrollment\",\"arriving\",\"transformed\",\"italy\",\"blessed\",\"din\",\"sayo\",\"belgian\",\"yups\",\"sw\",\"bcuz\",\"sis\",\"2009\",\"mp\",\"kate\",\"epic\",\"speaking\",\"bussiness\",\"nervous\",\"u're\",\"avatar\",\"persona\",\"faith\",\"hold\",\"ubuntu\",\"froze\",\"harumph\",\"kick\",\"2nd\",\"christmas\",\"un\",\"grandmas\",\"reeks\",\"cigarette\",\"connect\",\"nike\",\"chic\",\"xoxo\",\"access\",\"alf\",\"hacked\",\"sauces\",\"complaining\",\"crib\",\"ted\",\"talks\",\"afterwards\",\"boyfriends\",\"guts\",\"networks\",\"retain\",\"peaceful\",\"iloveyou\",\"loudly\",\"rents\",\"diversity\",\"suprise\",\"sisters\",\"melanie\",\"nicole\",\"serve\",\"adult\",\"yippeee\",\"bears\",\"smiths\",\"cannes\",\"gail\",\"checkout\",\"yelled\",\"worthless\",\"layout\",\"old-school\",\"swimsuits\",\"cheated\",\"outta\",\"comp\",\"felling\",\"asked\",\"40mins\",\"dryer\",\"7am\",\"brave\",\"outdoors\",\"bm\",\"nba\",\"rooting\",\"uhh\",\"gold\",\"recommending\",\"liquid\",\"blob\",\"bridge\",\"earlier\",\"hungry\",\"milkshakes\",\"t-shirts\",\"reallyy\",\"hallway\",\"routine\",\"lacks\",\"mates\",\"sons\",\"poke\",\"risk\",\"annapolis\",\"froyo\",\"vicariously\",\"alex\",\"allergies\",\"hoped\",\"4k\",\"decreased\",\"stopping\",\"dongle\",\"hix\",\"preview\",\"sunglasses\",\"confuses\",\"sarcasm\",\"statement\",\"fucked\",\"adopted\",\"lucy\",\"replied\",\"flood\",\"applicable\",\"wating\",\"reporting\",\"conditioning\",\"pumped\",\"24\",\"ass\",\"remembered\",\"isolation\",\"dislike\",\"nighttt\",\"u_u\",\"router\",\"neighbourhood\",\"budgeting\",\"ughhh\",\"aim\",\"mails\",\"guest\",\"lecture\",\"extended\",\"abstract\",\"accepted\",\"positive\",\"dias\",\"aff\",\"drying\",\"spotify\",\"creepy\",\"boa\",\"noite\",\"dc\",\"ep\",\"nsn\",\"domination\",\"ironman\",\"arrrgh\",\"toe\",\"translation\",\"stomped\",\"codes\",\"sweden\",\"revising\",\"rubbish\",\"wrapper\",\"drowning\",\"vanilla\",\"emily's\",\"weddings\",\"foreman\",\"report\",\"cm\",\"receipts\",\"carlos\",\"sf\",\"hah\",\"efron\",\"karachi\",\"suerte\",\"merlin\",\"skin\",\"workkk\",\"sarah's\",\"discipline\",\"gabby\",\"belated\",\"italian\",\"milan\",\"cape\",\"welcomes\",\"dawn\",\"wheel\",\"campin\",\"wknd\",\"peeps\",\"anyways\",\"walks\",\"housework\",\"disco\",\"biscuits\",\"nighty\",\"dragging\",\"robinson\",\"tyler\",\"lex\",\"seals\",\"click\",\"thru\",\"uda\",\"gw\",\"wew\",\"dy\",\"compliment\",\"magic\",\"merlot\",\"hamptons\",\"relaxation\",\"teen\",\"bedroom\",\"gawd\",\"upon\",\"gasp\",\"bf's\",\"prog\",\"victoria\",\"ritual\",\"backache\",\"pre-ordered\",\"goode\",\"entertaining\",\"daisies\",\"spamming\",\"nighter\",\"marc\",\"surprises\",\"redwings\",\"penguins\",\"nanna\",\"contest\",\"garrett\",\"earplugs\",\"hungover\",\"rome\",\"sweats\",\"90\",\"degrees\",\"revision\",\"tim\",\"fee\",\"downloaded\",\"ie\",\"godmother\",\"government\",\"nano\",\"frm\",\"floor\",\"bt\",\"stil\",\"kickin\",\"gt\",\"dent\",\"slip\",\"pleasing\",\"headband\",\"draw\",\"hhaha\",\"alan\",\"villain\",\"bruised\",\"research\",\"indy\",\"blipping\",\"helps\",\"mojo\",\"lay\",\"achievements\",\"odd\",\"squeaky\",\"rackle\",\"phew\",\"national\",\"tax\",\"cheque\",\"forrest\",\"gump\",\"bbl\",\"heap\",\"tommorow\",\"walkin\",\"fave\",\"flip\",\"flops\",\"scraped\",\"brill\",\"carmen\",\"ja\",\"beads\",\"hiv\",\"moral\",\"aghh\",\"kami\",\"caffeine\"],\"x\":{\"__ndarray__\":\"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\",\"dtype\":\"float32\",\"shape\":[5000]},\"y\":{\"__ndarray__\":\"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\",\"dtype\":\"float32\",\"shape\":[5000]}},\"selected\":{\"id\":\"1048\",\"type\":\"Selection\"},\"selection_policy\":{\"id\":\"1049\",\"type\":\"UnionRenderers\"}},\"id\":\"1035\",\"type\":\"ColumnDataSource\"},{\"attributes\":{\"source\":{\"id\":\"1035\",\"type\":\"ColumnDataSource\"}},\"id\":\"1040\",\"type\":\"CDSView\"},{\"attributes\":{},\"id\":\"1021\",\"type\":\"CrosshairTool\"},{\"attributes\":{},\"id\":\"1048\",\"type\":\"Selection\"},{\"attributes\":{\"callback\":null},\"id\":\"1002\",\"type\":\"DataRange1d\"},{\"attributes\":{\"formatter\":{\"id\":\"1046\",\"type\":\"BasicTickFormatter\"},\"ticker\":{\"id\":\"1016\",\"type\":\"BasicTicker\"}},\"id\":\"1015\",\"type\":\"LinearAxis\"},{\"attributes\":{\"callback\":null},\"id\":\"1004\",\"type\":\"DataRange1d\"},{\"attributes\":{\"text\":\"\"},\"id\":\"1042\",\"type\":\"Title\"},{\"attributes\":{},\"id\":\"1006\",\"type\":\"LinearScale\"},{\"attributes\":{},\"id\":\"1046\",\"type\":\"BasicTickFormatter\"},{\"attributes\":{\"fill_color\":{\"value\":\"#1f77b4\"},\"line_color\":{\"value\":\"#1f77b4\"},\"x\":{\"field\":\"x\"},\"y\":{\"field\":\"y\"}},\"id\":\"1037\",\"type\":\"Scatter\"},{\"attributes\":{},\"id\":\"1008\",\"type\":\"LinearScale\"},{\"attributes\":{\"formatter\":{\"id\":\"1044\",\"type\":\"BasicTickFormatter\"},\"ticker\":{\"id\":\"1011\",\"type\":\"BasicTicker\"}},\"id\":\"1010\",\"type\":\"LinearAxis\"},{\"attributes\":{\"dimension\":1,\"ticker\":{\"id\":\"1016\",\"type\":\"BasicTicker\"}},\"id\":\"1019\",\"type\":\"Grid\"},{\"attributes\":{},\"id\":\"1011\",\"type\":\"BasicTicker\"},{\"attributes\":{},\"id\":\"1024\",\"type\":\"ZoomInTool\"},{\"attributes\":{},\"id\":\"1016\",\"type\":\"BasicTicker\"},{\"attributes\":{\"ticker\":{\"id\":\"1011\",\"type\":\"BasicTicker\"}},\"id\":\"1014\",\"type\":\"Grid\"},{\"attributes\":{\"fill_alpha\":{\"value\":0.1},\"fill_color\":{\"value\":\"#1f77b4\"},\"line_alpha\":{\"value\":0.1},\"line_color\":{\"value\":\"#1f77b4\"},\"x\":{\"field\":\"x\"},\"y\":{\"field\":\"y\"}},\"id\":\"1038\",\"type\":\"Scatter\"},{\"attributes\":{},\"id\":\"1022\",\"type\":\"PanTool\"},{\"attributes\":{},\"id\":\"1025\",\"type\":\"ZoomOutTool\"},{\"attributes\":{\"data_source\":{\"id\":\"1035\",\"type\":\"ColumnDataSource\"},\"glyph\":{\"id\":\"1037\",\"type\":\"Scatter\"},\"hover_glyph\":null,\"muted_glyph\":null,\"nonselection_glyph\":{\"id\":\"1038\",\"type\":\"Scatter\"},\"selection_glyph\":null,\"view\":{\"id\":\"1040\",\"type\":\"CDSView\"}},\"id\":\"1039\",\"type\":\"GlyphRenderer\"}],\"root_ids\":[\"1001\"]},\"title\":\"Bokeh Application\",\"version\":\"1.3.4\"}};\n",
       "  var render_items = [{\"docid\":\"3e85a7af-eea7-4b38-8ce5-f5aed12b829f\",\"roots\":{\"1001\":\"ff47c4ae-6adc-4e56-afdf-49ad6bf25500\"}}];\n",
       "  root.Bokeh.embed.embed_items_notebook(docs_json, render_items);\n",
       "\n",
       "  }\n",
       "  if (root.Bokeh !== undefined) {\n",
       "    embed_document(root);\n",
       "  } else {\n",
       "    var attempts = 0;\n",
       "    var timer = setInterval(function(root) {\n",
       "      if (root.Bokeh !== undefined) {\n",
       "        embed_document(root);\n",
       "        clearInterval(timer);\n",
       "      }\n",
       "      attempts++;\n",
       "      if (attempts > 100) {\n",
       "        console.log(\"Bokeh: ERROR: Unable to run BokehJS code because BokehJS library is missing\");\n",
       "        clearInterval(timer);\n",
       "      }\n",
       "    }, 10, root)\n",
       "  }\n",
       "})(window);"
      ],
      "application/vnd.bokehjs_exec.v0+json": ""
     },
     "metadata": {
      "application/vnd.bokehjs_exec.v0+json": {
       "id": "1001"
      }
     },
     "output_type": "display_data"
    }
   ],
   "source": [
    "TOOLS=\"hover,crosshair,pan,wheel_zoom,zoom_in,zoom_out,box_zoom,\"\n",
    "\n",
    "p = figure(tools=TOOLS)\n",
    "\n",
    "p.scatter(x='x', y='y', source=tsne_df)\n",
    "\n",
    "hover = p.select(dict(type=HoverTool))\n",
    "hover.tooltips = [\n",
    "    (\"word\", \"@words\"),\n",
    "]\n",
    "\n",
    "output_notebook()\n",
    "\n",
    "show(p)"
   ]
  },
  {
   "cell_type": "markdown",
   "metadata": {},
   "source": [
    "## Transforming"
   ]
  },
  {
   "cell_type": "markdown",
   "metadata": {},
   "source": [
    "We use TF-IDF weightings to weight word vectors accordingly"
   ]
  },
  {
   "cell_type": "code",
   "execution_count": 19,
   "metadata": {},
   "outputs": [],
   "source": [
    "vectorizer = TfidfVectorizer(analyzer=lambda x: x, min_df=10)\n",
    "matrix = vectorizer.fit_transform([x.words for x in X_train])\n",
    "tfidf = dict(zip(vectorizer.get_feature_names(), vectorizer.idf_))"
   ]
  },
  {
   "cell_type": "code",
   "execution_count": 20,
   "metadata": {},
   "outputs": [],
   "source": [
    "def create_tweet_vector(words, ndims=200):\n",
    "    vector = np.zeros((1, ndims))\n",
    "    count = 0\n",
    "    \n",
    "    for w in words:\n",
    "        try:\n",
    "            vector += tweet_w2v.wv[w].reshape((1, ndims)) * tfidf[w]\n",
    "            count += 1\n",
    "        except KeyError:\n",
    "            continue\n",
    "    \n",
    "    if count != 0:\n",
    "        return np.divide(vector,count)\n",
    "    else:\n",
    "        return vector"
   ]
  },
  {
   "cell_type": "code",
   "execution_count": 21,
   "metadata": {},
   "outputs": [
    {
     "data": {
      "application/vnd.jupyter.widget-view+json": {
       "model_id": "d6b5765f3549414384c309e6d651b22f",
       "version_major": 2,
       "version_minor": 0
      },
      "text/plain": [
       "HBox(children=(IntProgress(value=1, bar_style='info', max=1), HTML(value='')))"
      ]
     },
     "metadata": {},
     "output_type": "display_data"
    },
    {
     "name": "stdout",
     "output_type": "stream",
     "text": [
      "\n"
     ]
    },
    {
     "data": {
      "application/vnd.jupyter.widget-view+json": {
       "model_id": "cb6934409f33468eb0be60e80a3d80cf",
       "version_major": 2,
       "version_minor": 0
      },
      "text/plain": [
       "HBox(children=(IntProgress(value=1, bar_style='info', max=1), HTML(value='')))"
      ]
     },
     "metadata": {},
     "output_type": "display_data"
    },
    {
     "name": "stdout",
     "output_type": "stream",
     "text": [
      "\n"
     ]
    }
   ],
   "source": [
    "train_vec_tweets = np.concatenate([create_tweet_vector(x, N_DIM) for x in tqdm_notebook(map(lambda x: x.words, X_train))])\n",
    "train_vec_tweets = scale(train_vec_tweets)\n",
    "\n",
    "test_vec_tweets = np.concatenate([create_tweet_vector(x, N_DIM) for x in tqdm_notebook(map(lambda x: x.words, X_test))])\n",
    "test_vec_tweets = scale(test_vec_tweets)"
   ]
  },
  {
   "cell_type": "markdown",
   "metadata": {},
   "source": [
    "## Neural Architecture in Keras"
   ]
  },
  {
   "cell_type": "code",
   "execution_count": 23,
   "metadata": {},
   "outputs": [
    {
     "name": "stdout",
     "output_type": "stream",
     "text": [
      "Epoch 1/9\n",
      " - 59s - loss: 0.4766 - acc: 0.7730\n",
      "Epoch 2/9\n",
      " - 64s - loss: 0.4666 - acc: 0.7792\n",
      "Epoch 3/9\n",
      " - 80s - loss: 0.4640 - acc: 0.7805\n",
      "Epoch 4/9\n",
      " - 74s - loss: 0.4620 - acc: 0.7817\n",
      "Epoch 5/9\n",
      " - 79s - loss: 0.4609 - acc: 0.7823\n",
      "Epoch 6/9\n",
      " - 80s - loss: 0.4600 - acc: 0.7826\n",
      "Epoch 7/9\n",
      " - 80s - loss: 0.4594 - acc: 0.7831\n",
      "Epoch 8/9\n",
      " - 77s - loss: 0.4589 - acc: 0.7832\n",
      "Epoch 9/9\n",
      " - 66s - loss: 0.4585 - acc: 0.7835\n",
      "320000/320000 [==============================] - 7s 23us/step\n"
     ]
    }
   ],
   "source": [
    "model = Sequential([\n",
    "    Dense(32, input_dim=N_DIM),\n",
    "    Activation('relu'),\n",
    "    Dense(1),\n",
    "    Activation('sigmoid')\n",
    "])\n",
    "model.compile(optimizer='rmsprop',\n",
    "             loss='binary_crossentropy',\n",
    "             metrics=['accuracy'])\n",
    "\n",
    "model.fit(train_vec_tweets, y_train, epochs=9, batch_size=32, verbose=2)\n",
    "\n",
    "score = model.evaluate(test_vec_tweets, y_test, batch_size=32)"
   ]
  },
  {
   "cell_type": "code",
   "execution_count": 24,
   "metadata": {},
   "outputs": [
    {
     "data": {
      "text/plain": [
       "[0.4600269847497344, 0.78199375]"
      ]
     },
     "execution_count": 24,
     "metadata": {},
     "output_type": "execute_result"
    }
   ],
   "source": [
    "score"
   ]
  },
  {
   "cell_type": "code",
   "execution_count": 25,
   "metadata": {},
   "outputs": [],
   "source": [
    "def predict_text(texts):\n",
    "    texts = [tokenize(text) for text in texts]\n",
    "    matrix = np.concatenate([create_tweet_vector(t, N_DIM) for t in texts])\n",
    "    return model.predict(matrix)"
   ]
  },
  {
   "cell_type": "code",
   "execution_count": 26,
   "metadata": {},
   "outputs": [
    {
     "data": {
      "text/plain": [
       "array([[0.00129254],\n",
       "       [0.9999833 ]], dtype=float32)"
      ]
     },
     "execution_count": 26,
     "metadata": {},
     "output_type": "execute_result"
    }
   ],
   "source": [
    "predict_text([\"I hate everything. Today sucks!\", \"I love myself. Life is awesome!\"])"
   ]
  },
  {
   "cell_type": "markdown",
   "metadata": {},
   "source": [
    "## Pickling the neural model, w2vec model and tfidf lookup"
   ]
  },
  {
   "cell_type": "code",
   "execution_count": 31,
   "metadata": {},
   "outputs": [],
   "source": [
    "pkl.dump(model, open(\"../data/sentiment_classifier00.pkl\", \"wb\"))\n",
    "pkl.dump(tweet_w2v, open(\"../data/tweet_w2v00.pkl\", \"wb\"))\n",
    "pkl.dump(tfidf, open(\"../data/tfidf_lookup00.pkl\", \"wb\"))\n",
    "pkl.dump(tokenizer, open(\"../data/tweet_tokenizer00.pkl\", \"wb\"))"
   ]
  },
  {
   "cell_type": "markdown",
   "metadata": {},
   "source": [
    "## Productionalizing Code"
   ]
  },
  {
   "cell_type": "code",
   "execution_count": 37,
   "metadata": {},
   "outputs": [],
   "source": [
    "class SentimentAnalyzer:\n",
    "    \n",
    "    def __init__(self):\n",
    "        self.ndims = 200\n",
    "    \n",
    "    def load_model(self):\n",
    "        self.classifier = pkl.load(open(\"../data/sentiment_classifier00.pkl\", \"rb\"))\n",
    "        self.word2vec = pkl.load(open(\"../data/tweet_w2v00.pkl\", \"rb\"))\n",
    "        self.tfidf = pkl.load(open(\"../data/tfidf_lookup00.pkl\", \"rb\"))\n",
    "        self.tokenizer = pkl.load(open(\"../data/tweet_tokenizer00.pkl\", \"rb\"))\n",
    "        \n",
    "    def tokenize(self, tweet):\n",
    "        sub_regex = r'(#[A-Za-z0-9])|(https)\\?!\\.,'\n",
    "        tweet = str(tweet)\n",
    "        tokens = self.tokenizer.tokenize(tweet)\n",
    "        tokens = [re.sub(sub_regex, '', t) for t in tokens]\n",
    "        tokens = [t.lower() for t in tokens if t is not None and t != '']\n",
    "        tokens = [self.expand_contractions(t) for t in tokens]\n",
    "        tokens = [t for t in tokens if t not in STOPWORDS]\n",
    "        return tokens\n",
    "        \n",
    "    def expand_contractions(self, text):\n",
    "        try:\n",
    "            return contractions[text]\n",
    "        except:\n",
    "            return text\n",
    "        \n",
    "    def create_tweet_vector(self, words):\n",
    "        vector = np.zeros((1, self.ndims))\n",
    "        count = 0\n",
    "\n",
    "        for w in words:\n",
    "            try:\n",
    "                vector += self.word2vec.wv[w].reshape((1, self.ndims)) * self.tfidf[w]\n",
    "                count += 1\n",
    "            except KeyError:\n",
    "                continue\n",
    "\n",
    "        if count != 0:\n",
    "            return np.divide(vector,count)\n",
    "        else:\n",
    "            return vector\n",
    "    \n",
    "    def predict_sentiment(self, texts):\n",
    "        texts = [self.tokenize(text) for text in texts]\n",
    "        tweet_vectors = np.concatenate([self.create_tweet_vector(text) for text in texts])\n",
    "        return self.classifier.predict(tweet_vectors)\n"
   ]
  },
  {
   "cell_type": "code",
   "execution_count": 38,
   "metadata": {},
   "outputs": [],
   "source": [
    "sa = SentimentAnalyzer()\n",
    "sa.load_model()"
   ]
  },
  {
   "cell_type": "code",
   "execution_count": 39,
   "metadata": {},
   "outputs": [
    {
     "data": {
      "text/plain": [
       "array([[0.9999856]], dtype=float32)"
      ]
     },
     "execution_count": 39,
     "metadata": {},
     "output_type": "execute_result"
    }
   ],
   "source": [
    "sa.predict_sentiment([\"NOT GOOD\"])"
   ]
  },
  {
   "cell_type": "code",
   "execution_count": null,
   "metadata": {},
   "outputs": [],
   "source": []
  }
 ],
 "metadata": {
  "kernelspec": {
   "display_name": "Python 3",
   "language": "python",
   "name": "python3"
  },
  "language_info": {
   "codemirror_mode": {
    "name": "ipython",
    "version": 3
   },
   "file_extension": ".py",
   "mimetype": "text/x-python",
   "name": "python",
   "nbconvert_exporter": "python",
   "pygments_lexer": "ipython3",
   "version": "3.7.4"
  }
 },
 "nbformat": 4,
 "nbformat_minor": 2
}
