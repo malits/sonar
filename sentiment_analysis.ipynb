{
 "cells": [
  {
   "cell_type": "markdown",
   "metadata": {},
   "source": [
    "## SONAR: Emotionally Intelligent Music Recommendations\n",
    "\n",
    "Draws heavily from [this tutorial](https://ahmedbesbes.com/sentiment-analysis-on-twitter-using-word2vec-and-keras.html)\n",
    "\n",
    "Welcome to Sonar! This project was inpired me to first explore Machine Learning. The premise is simple: we often want different music to listen to based on our mood. However, oftentimes finding that music proves difficult. Sonar takes away that difficulty: by entering short mood messages, sonar generates Spotify recommendations using both your old favorites and determined mood. \n",
    "\n",
    "Enjoy!"
   ]
  },
  {
   "cell_type": "code",
   "execution_count": 26,
   "metadata": {},
   "outputs": [
    {
     "data": {
      "application/vnd.jupyter.widget-view+json": {
       "model_id": "041502aa27344b9ab5cef1f921aca0fd",
       "version_major": 2,
       "version_minor": 0
      },
      "text/plain": [
       "HBox(children=(IntProgress(value=1, bar_style='info', max=1), HTML(value='')))"
      ]
     },
     "metadata": {},
     "output_type": "display_data"
    },
    {
     "name": "stdout",
     "output_type": "stream",
     "text": [
      "\n"
     ]
    }
   ],
   "source": [
    "import re\n",
    "\n",
    "from bokeh.plotting import figure, show, output_notebook\n",
    "from bokeh.models import HoverTool\n",
    "import dill as pkl\n",
    "import gensim\n",
    "from gensim.models.word2vec import Word2Vec\n",
    "from keras import Sequential\n",
    "from keras.layers import Dense, Activation\n",
    "import matplotlib.pyplot as plt\n",
    "import numpy as np\n",
    "from nltk.tokenize import TweetTokenizer\n",
    "from nltk.corpus import stopwords\n",
    "import pandas as pd\n",
    "from sklearn.feature_extraction.text import TfidfVectorizer\n",
    "from sklearn.manifold import TSNE\n",
    "from sklearn.model_selection import train_test_split\n",
    "from sklearn.preprocessing import scale\n",
    "from tensorflow.python.keras.preprocessing.text import Tokenizer\n",
    "from tensorflow.python.keras.preprocessing.sequence import pad_sequences\n",
    "from tqdm import tqdm_notebook, tqdm\n",
    "\n",
    "nlp = spacy.load(\"en\")\n",
    "tqdm_notebook().pandas(desc=\"progress-bar\")\n",
    "tokenizer = TweetTokenizer(strip_handles=True, reduce_len=True)\n",
    "TaggedDocument = gensim.models.doc2vec.TaggedDocument\n",
    "STOPWORDS = set(stopwords.words('english'))\n",
    "%matplotlib inline"
   ]
  },
  {
   "cell_type": "markdown",
   "metadata": {},
   "source": [
    "### Preprocessing\n",
    "\n",
    "- Load tweets into a usable format. Binarize sentiment from {0, 1, 2, 3, 4} to {0, 1} with 2 serving as the cut off for a \"positive\" sentiment. Clean up null values and reindex.\n",
    "\n",
    "- Tokenize the data and take only the n values we aim to use in training."
   ]
  },
  {
   "cell_type": "code",
   "execution_count": 2,
   "metadata": {},
   "outputs": [],
   "source": [
    "def load_tweets():\n",
    "    tweets_train = pd.read_csv(\"/home/malits/data/twitter_sentiment_analysis/training.1600000.processed.noemoticon.csv\", \n",
    "                               encoding = \"ISO-8859-1\")\n",
    "    data = pd.DataFrame()\n",
    "    data[\"sentiment\"] = tweets_train[\"0\"].apply(lambda v: 1 if (v >= 2) else 0)\n",
    "    data[\"sentiment\"] = data[\"sentiment\"].map(int)\n",
    "    data[\"tweet\"] = tweets_train.iloc[:, [5]]\n",
    "    data[\"tweet\"] = data[\"tweet\"].astype(str)\n",
    "    data = data[data['tweet'].isnull() == False]\n",
    "    data.reset_index(inplace=True)\n",
    "    data.drop('index', axis=1, inplace=True)\n",
    "    \n",
    "    return data"
   ]
  },
  {
   "cell_type": "code",
   "execution_count": 3,
   "metadata": {},
   "outputs": [
    {
     "data": {
      "text/html": [
       "<div>\n",
       "<style scoped>\n",
       "    .dataframe tbody tr th:only-of-type {\n",
       "        vertical-align: middle;\n",
       "    }\n",
       "\n",
       "    .dataframe tbody tr th {\n",
       "        vertical-align: top;\n",
       "    }\n",
       "\n",
       "    .dataframe thead th {\n",
       "        text-align: right;\n",
       "    }\n",
       "</style>\n",
       "<table border=\"1\" class=\"dataframe\">\n",
       "  <thead>\n",
       "    <tr style=\"text-align: right;\">\n",
       "      <th></th>\n",
       "      <th>sentiment</th>\n",
       "      <th>tweet</th>\n",
       "    </tr>\n",
       "  </thead>\n",
       "  <tbody>\n",
       "    <tr>\n",
       "      <th>0</th>\n",
       "      <td>0</td>\n",
       "      <td>is upset that he can't update his Facebook by ...</td>\n",
       "    </tr>\n",
       "    <tr>\n",
       "      <th>1</th>\n",
       "      <td>0</td>\n",
       "      <td>@Kenichan I dived many times for the ball. Man...</td>\n",
       "    </tr>\n",
       "    <tr>\n",
       "      <th>2</th>\n",
       "      <td>0</td>\n",
       "      <td>my whole body feels itchy and like its on fire</td>\n",
       "    </tr>\n",
       "    <tr>\n",
       "      <th>3</th>\n",
       "      <td>0</td>\n",
       "      <td>@nationwideclass no, it's not behaving at all....</td>\n",
       "    </tr>\n",
       "    <tr>\n",
       "      <th>4</th>\n",
       "      <td>0</td>\n",
       "      <td>@Kwesidei not the whole crew</td>\n",
       "    </tr>\n",
       "  </tbody>\n",
       "</table>\n",
       "</div>"
      ],
      "text/plain": [
       "   sentiment                                              tweet\n",
       "0          0  is upset that he can't update his Facebook by ...\n",
       "1          0  @Kenichan I dived many times for the ball. Man...\n",
       "2          0    my whole body feels itchy and like its on fire \n",
       "3          0  @nationwideclass no, it's not behaving at all....\n",
       "4          0                      @Kwesidei not the whole crew "
      ]
     },
     "execution_count": 3,
     "metadata": {},
     "output_type": "execute_result"
    }
   ],
   "source": [
    "data = load_tweets()\n",
    "data.head()"
   ]
  },
  {
   "cell_type": "code",
   "execution_count": 4,
   "metadata": {},
   "outputs": [],
   "source": [
    "def tokenize(tweet):\n",
    "    sub_regex = r'(#[A-Za-z0-9])|(https)\\?!\\.,'\n",
    "    tweet = str(tweet)\n",
    "    tokens = tokenizer.tokenize(tweet)\n",
    "    tokens = [re.sub(sub_regex, '', t) for t in tokens]\n",
    "    tokens = [t.lower() for t in tokens if t is not None and t != '']\n",
    "    tokens = [t for t in tokens if t not in STOPWORDS]\n",
    "    return tokens"
   ]
  },
  {
   "cell_type": "code",
   "execution_count": 5,
   "metadata": {},
   "outputs": [],
   "source": [
    "def postprocess(data, n=1000000):\n",
    "    data = data.head(n)\n",
    "    data.loc[:, \"tokens\"] = data.loc[:, \"tweet\"].progress_apply(tokenize)\n",
    "    data = data.loc[data.tokens != 'NC', :]\n",
    "    data.reset_index(inplace=True)\n",
    "    data.drop('index', inplace=True, axis=1)\n",
    "    return data"
   ]
  },
  {
   "cell_type": "code",
   "execution_count": null,
   "metadata": {
    "scrolled": false
   },
   "outputs": [
    {
     "data": {
      "application/vnd.jupyter.widget-view+json": {
       "model_id": "",
       "version_major": 2,
       "version_minor": 0
      },
      "text/plain": [
       "HBox(children=(IntProgress(value=0, description='progress-bar', max=1599999, style=ProgressStyle(description_w…"
      ]
     },
     "metadata": {},
     "output_type": "display_data"
    }
   ],
   "source": [
    "processed = postprocess(data, len(data))"
   ]
  },
  {
   "cell_type": "markdown",
   "metadata": {},
   "source": [
    "### Create training data"
   ]
  },
  {
   "cell_type": "markdown",
   "metadata": {},
   "source": [
    "Once preprocessed, split to test/train sets and vectorize w w2vec for use in keras"
   ]
  },
  {
   "cell_type": "code",
   "execution_count": 7,
   "metadata": {},
   "outputs": [],
   "source": [
    "# Size of our embedding space\n",
    "\n",
    "N_DIM = 200"
   ]
  },
  {
   "cell_type": "code",
   "execution_count": 8,
   "metadata": {},
   "outputs": [],
   "source": [
    "X_train, X_test, y_train, y_test = train_test_split(np.array(processed['tokens']),\n",
    "                                                    np.array(processed['sentiment']),\n",
    "                                                    test_size=0.2)"
   ]
  },
  {
   "cell_type": "code",
   "execution_count": 9,
   "metadata": {},
   "outputs": [],
   "source": [
    "def labelizeTweets(tweets, label_type):\n",
    "    labelized = []\n",
    "    for i, v in tqdm_notebook(enumerate(tweets)):\n",
    "        label = '{}_{}'.format(label_type, i)\n",
    "        ## Use nltk TaggedDocument obj to mark words with their corresponding label. Makes words easier to retrieve from their vector form.\n",
    "        labelized.append(TaggedDocument(v, [label]))\n",
    "    return labelized"
   ]
  },
  {
   "cell_type": "code",
   "execution_count": 10,
   "metadata": {},
   "outputs": [
    {
     "data": {
      "application/vnd.jupyter.widget-view+json": {
       "model_id": "b68ae73a48e9480d800a539774e69fd1",
       "version_major": 2,
       "version_minor": 0
      },
      "text/plain": [
       "HBox(children=(IntProgress(value=1, bar_style='info', max=1), HTML(value='')))"
      ]
     },
     "metadata": {},
     "output_type": "display_data"
    },
    {
     "name": "stdout",
     "output_type": "stream",
     "text": [
      "\n"
     ]
    },
    {
     "data": {
      "application/vnd.jupyter.widget-view+json": {
       "model_id": "89a1ec1fb10a42af9343f2899978b269",
       "version_major": 2,
       "version_minor": 0
      },
      "text/plain": [
       "HBox(children=(IntProgress(value=1, bar_style='info', max=1), HTML(value='')))"
      ]
     },
     "metadata": {},
     "output_type": "display_data"
    },
    {
     "name": "stdout",
     "output_type": "stream",
     "text": [
      "\n"
     ]
    }
   ],
   "source": [
    "X_train = labelizeTweets(X_train, 'TRAIN')\n",
    "X_test = labelizeTweets(X_test, 'TEST')"
   ]
  },
  {
   "cell_type": "markdown",
   "metadata": {},
   "source": [
    "## Plot"
   ]
  },
  {
   "cell_type": "code",
   "execution_count": null,
   "metadata": {},
   "outputs": [],
   "source": []
  },
  {
   "cell_type": "markdown",
   "metadata": {},
   "source": [
    "## Replace Word2Vec corpus with more data!"
   ]
  },
  {
   "cell_type": "code",
   "execution_count": 11,
   "metadata": {},
   "outputs": [
    {
     "data": {
      "application/vnd.jupyter.widget-view+json": {
       "model_id": "fcc64e4772c34442856f4e2b6c265fe0",
       "version_major": 2,
       "version_minor": 0
      },
      "text/plain": [
       "HBox(children=(IntProgress(value=0, max=800000), HTML(value='')))"
      ]
     },
     "metadata": {},
     "output_type": "display_data"
    },
    {
     "name": "stdout",
     "output_type": "stream",
     "text": [
      "\n"
     ]
    },
    {
     "data": {
      "application/vnd.jupyter.widget-view+json": {
       "model_id": "a5eb16cb373c4bc6aa97d1f0d5afed2b",
       "version_major": 2,
       "version_minor": 0
      },
      "text/plain": [
       "HBox(children=(IntProgress(value=0, max=800000), HTML(value='')))"
      ]
     },
     "metadata": {},
     "output_type": "display_data"
    },
    {
     "name": "stdout",
     "output_type": "stream",
     "text": [
      "\n"
     ]
    },
    {
     "data": {
      "text/plain": [
       "(43254461, 60140120)"
      ]
     },
     "execution_count": 11,
     "metadata": {},
     "output_type": "execute_result"
    }
   ],
   "source": [
    "train_size = len(X_train)\n",
    "tweet_w2v = Word2Vec(size=N_DIM, min_count=10)\n",
    "tweet_w2v.build_vocab([x.words for x in tqdm_notebook(X_train)])\n",
    "tweet_w2v.train([x.words for x in tqdm_notebook(X_train)], \n",
    "                total_examples=train_size, epochs = tweet_w2v.epochs)"
   ]
  },
  {
   "cell_type": "code",
   "execution_count": 12,
   "metadata": {},
   "outputs": [],
   "source": [
    "def get_similarity(text):\n",
    "    return tweet_w2v.wv.most_similar(text.lower())"
   ]
  },
  {
   "cell_type": "code",
   "execution_count": 13,
   "metadata": {},
   "outputs": [
    {
     "data": {
      "text/plain": [
       "[('brom', 0.5770472288131714),\n",
       " ('indies', 0.5731891393661499),\n",
       " ('asher', 0.5657300353050232),\n",
       " ('abu', 0.5633035898208618),\n",
       " ('feat', 0.5593765377998352),\n",
       " ('cudi', 0.5551359057426453),\n",
       " ('nicholas', 0.5498791933059692),\n",
       " ('rascal', 0.5484213829040527),\n",
       " ('vida', 0.5476982593536377),\n",
       " ('fighters', 0.5446628332138062)]"
      ]
     },
     "execution_count": 13,
     "metadata": {},
     "output_type": "execute_result"
    }
   ],
   "source": [
    "get_similarity('kanye')"
   ]
  },
  {
   "cell_type": "code",
   "execution_count": 14,
   "metadata": {},
   "outputs": [
    {
     "name": "stderr",
     "output_type": "stream",
     "text": [
      "/home/malits/anaconda3/lib/python3.7/site-packages/ipykernel_launcher.py:3: DeprecationWarning: Call to deprecated `__getitem__` (Method will be removed in 4.0.0, use self.wv.__getitem__() instead).\n",
      "  This is separate from the ipykernel package so we can avoid doing imports until\n"
     ]
    },
    {
     "name": "stdout",
     "output_type": "stream",
     "text": [
      "[t-SNE] Computing 91 nearest neighbors...\n",
      "[t-SNE] Indexed 5000 samples in 0.025s...\n",
      "[t-SNE] Computed neighbors for 5000 samples in 8.214s...\n",
      "[t-SNE] Computed conditional probabilities for sample 1000 / 5000\n",
      "[t-SNE] Computed conditional probabilities for sample 2000 / 5000\n",
      "[t-SNE] Computed conditional probabilities for sample 3000 / 5000\n",
      "[t-SNE] Computed conditional probabilities for sample 4000 / 5000\n",
      "[t-SNE] Computed conditional probabilities for sample 5000 / 5000\n",
      "[t-SNE] Mean sigma: 0.561966\n",
      "[t-SNE] KL divergence after 250 iterations with early exaggeration: 85.371964\n",
      "[t-SNE] KL divergence after 1000 iterations: 2.369123\n"
     ]
    }
   ],
   "source": [
    "keys = list(tweet_w2v.wv.vocab.keys())[:5000]\n",
    "\n",
    "word_vectors = [tweet_w2v[w] for w in keys]\n",
    "\n",
    "tsne_model = TSNE(n_components = 2, verbose = 1, random_state = 10)\n",
    "tsne_w2v = tsne_model.fit_transform(word_vectors)\n",
    "\n",
    "tsne_df = pd.DataFrame(tsne_w2v, columns=['x', 'y'])\n",
    "tsne_df['words'] = keys"
   ]
  },
  {
   "cell_type": "code",
   "execution_count": 16,
   "metadata": {},
   "outputs": [
    {
     "data": {
      "text/html": [
       "<div>\n",
       "<style scoped>\n",
       "    .dataframe tbody tr th:only-of-type {\n",
       "        vertical-align: middle;\n",
       "    }\n",
       "\n",
       "    .dataframe tbody tr th {\n",
       "        vertical-align: top;\n",
       "    }\n",
       "\n",
       "    .dataframe thead th {\n",
       "        text-align: right;\n",
       "    }\n",
       "</style>\n",
       "<table border=\"1\" class=\"dataframe\">\n",
       "  <thead>\n",
       "    <tr style=\"text-align: right;\">\n",
       "      <th></th>\n",
       "      <th>x</th>\n",
       "      <th>y</th>\n",
       "      <th>words</th>\n",
       "    </tr>\n",
       "  </thead>\n",
       "  <tbody>\n",
       "    <tr>\n",
       "      <th>0</th>\n",
       "      <td>-41.065502</td>\n",
       "      <td>24.006413</td>\n",
       "      <td>awe</td>\n",
       "    </tr>\n",
       "    <tr>\n",
       "      <th>1</th>\n",
       "      <td>-1.834033</td>\n",
       "      <td>47.053192</td>\n",
       "      <td>,</td>\n",
       "    </tr>\n",
       "    <tr>\n",
       "      <th>2</th>\n",
       "      <td>-20.962540</td>\n",
       "      <td>41.751675</td>\n",
       "      <td>it's</td>\n",
       "    </tr>\n",
       "    <tr>\n",
       "      <th>3</th>\n",
       "      <td>-19.120577</td>\n",
       "      <td>-13.219883</td>\n",
       "      <td>not</td>\n",
       "    </tr>\n",
       "  </tbody>\n",
       "</table>\n",
       "</div>"
      ],
      "text/plain": [
       "           x          y words\n",
       "0 -41.065502  24.006413   awe\n",
       "1  -1.834033  47.053192     ,\n",
       "2 -20.962540  41.751675  it's\n",
       "3 -19.120577 -13.219883   not"
      ]
     },
     "execution_count": 16,
     "metadata": {},
     "output_type": "execute_result"
    }
   ],
   "source": [
    "tsne_df.head(4)"
   ]
  },
  {
   "cell_type": "code",
   "execution_count": 22,
   "metadata": {},
   "outputs": [
    {
     "data": {
      "text/html": [
       "\n",
       "    <div class=\"bk-root\">\n",
       "        <a href=\"https://bokeh.pydata.org\" target=\"_blank\" class=\"bk-logo bk-logo-small bk-logo-notebook\"></a>\n",
       "        <span id=\"1775\">Loading BokehJS ...</span>\n",
       "    </div>"
      ]
     },
     "metadata": {},
     "output_type": "display_data"
    },
    {
     "data": {
      "application/javascript": [
       "\n",
       "(function(root) {\n",
       "  function now() {\n",
       "    return new Date();\n",
       "  }\n",
       "\n",
       "  var force = true;\n",
       "\n",
       "  if (typeof root._bokeh_onload_callbacks === \"undefined\" || force === true) {\n",
       "    root._bokeh_onload_callbacks = [];\n",
       "    root._bokeh_is_loading = undefined;\n",
       "  }\n",
       "\n",
       "  var JS_MIME_TYPE = 'application/javascript';\n",
       "  var HTML_MIME_TYPE = 'text/html';\n",
       "  var EXEC_MIME_TYPE = 'application/vnd.bokehjs_exec.v0+json';\n",
       "  var CLASS_NAME = 'output_bokeh rendered_html';\n",
       "\n",
       "  /**\n",
       "   * Render data to the DOM node\n",
       "   */\n",
       "  function render(props, node) {\n",
       "    var script = document.createElement(\"script\");\n",
       "    node.appendChild(script);\n",
       "  }\n",
       "\n",
       "  /**\n",
       "   * Handle when an output is cleared or removed\n",
       "   */\n",
       "  function handleClearOutput(event, handle) {\n",
       "    var cell = handle.cell;\n",
       "\n",
       "    var id = cell.output_area._bokeh_element_id;\n",
       "    var server_id = cell.output_area._bokeh_server_id;\n",
       "    // Clean up Bokeh references\n",
       "    if (id != null && id in Bokeh.index) {\n",
       "      Bokeh.index[id].model.document.clear();\n",
       "      delete Bokeh.index[id];\n",
       "    }\n",
       "\n",
       "    if (server_id !== undefined) {\n",
       "      // Clean up Bokeh references\n",
       "      var cmd = \"from bokeh.io.state import curstate; print(curstate().uuid_to_server['\" + server_id + \"'].get_sessions()[0].document.roots[0]._id)\";\n",
       "      cell.notebook.kernel.execute(cmd, {\n",
       "        iopub: {\n",
       "          output: function(msg) {\n",
       "            var id = msg.content.text.trim();\n",
       "            if (id in Bokeh.index) {\n",
       "              Bokeh.index[id].model.document.clear();\n",
       "              delete Bokeh.index[id];\n",
       "            }\n",
       "          }\n",
       "        }\n",
       "      });\n",
       "      // Destroy server and session\n",
       "      var cmd = \"import bokeh.io.notebook as ion; ion.destroy_server('\" + server_id + \"')\";\n",
       "      cell.notebook.kernel.execute(cmd);\n",
       "    }\n",
       "  }\n",
       "\n",
       "  /**\n",
       "   * Handle when a new output is added\n",
       "   */\n",
       "  function handleAddOutput(event, handle) {\n",
       "    var output_area = handle.output_area;\n",
       "    var output = handle.output;\n",
       "\n",
       "    // limit handleAddOutput to display_data with EXEC_MIME_TYPE content only\n",
       "    if ((output.output_type != \"display_data\") || (!output.data.hasOwnProperty(EXEC_MIME_TYPE))) {\n",
       "      return\n",
       "    }\n",
       "\n",
       "    var toinsert = output_area.element.find(\".\" + CLASS_NAME.split(' ')[0]);\n",
       "\n",
       "    if (output.metadata[EXEC_MIME_TYPE][\"id\"] !== undefined) {\n",
       "      toinsert[toinsert.length - 1].firstChild.textContent = output.data[JS_MIME_TYPE];\n",
       "      // store reference to embed id on output_area\n",
       "      output_area._bokeh_element_id = output.metadata[EXEC_MIME_TYPE][\"id\"];\n",
       "    }\n",
       "    if (output.metadata[EXEC_MIME_TYPE][\"server_id\"] !== undefined) {\n",
       "      var bk_div = document.createElement(\"div\");\n",
       "      bk_div.innerHTML = output.data[HTML_MIME_TYPE];\n",
       "      var script_attrs = bk_div.children[0].attributes;\n",
       "      for (var i = 0; i < script_attrs.length; i++) {\n",
       "        toinsert[toinsert.length - 1].firstChild.setAttribute(script_attrs[i].name, script_attrs[i].value);\n",
       "      }\n",
       "      // store reference to server id on output_area\n",
       "      output_area._bokeh_server_id = output.metadata[EXEC_MIME_TYPE][\"server_id\"];\n",
       "    }\n",
       "  }\n",
       "\n",
       "  function register_renderer(events, OutputArea) {\n",
       "\n",
       "    function append_mime(data, metadata, element) {\n",
       "      // create a DOM node to render to\n",
       "      var toinsert = this.create_output_subarea(\n",
       "        metadata,\n",
       "        CLASS_NAME,\n",
       "        EXEC_MIME_TYPE\n",
       "      );\n",
       "      this.keyboard_manager.register_events(toinsert);\n",
       "      // Render to node\n",
       "      var props = {data: data, metadata: metadata[EXEC_MIME_TYPE]};\n",
       "      render(props, toinsert[toinsert.length - 1]);\n",
       "      element.append(toinsert);\n",
       "      return toinsert\n",
       "    }\n",
       "\n",
       "    /* Handle when an output is cleared or removed */\n",
       "    events.on('clear_output.CodeCell', handleClearOutput);\n",
       "    events.on('delete.Cell', handleClearOutput);\n",
       "\n",
       "    /* Handle when a new output is added */\n",
       "    events.on('output_added.OutputArea', handleAddOutput);\n",
       "\n",
       "    /**\n",
       "     * Register the mime type and append_mime function with output_area\n",
       "     */\n",
       "    OutputArea.prototype.register_mime_type(EXEC_MIME_TYPE, append_mime, {\n",
       "      /* Is output safe? */\n",
       "      safe: true,\n",
       "      /* Index of renderer in `output_area.display_order` */\n",
       "      index: 0\n",
       "    });\n",
       "  }\n",
       "\n",
       "  // register the mime type if in Jupyter Notebook environment and previously unregistered\n",
       "  if (root.Jupyter !== undefined) {\n",
       "    var events = require('base/js/events');\n",
       "    var OutputArea = require('notebook/js/outputarea').OutputArea;\n",
       "\n",
       "    if (OutputArea.prototype.mime_types().indexOf(EXEC_MIME_TYPE) == -1) {\n",
       "      register_renderer(events, OutputArea);\n",
       "    }\n",
       "  }\n",
       "\n",
       "  \n",
       "  if (typeof (root._bokeh_timeout) === \"undefined\" || force === true) {\n",
       "    root._bokeh_timeout = Date.now() + 5000;\n",
       "    root._bokeh_failed_load = false;\n",
       "  }\n",
       "\n",
       "  var NB_LOAD_WARNING = {'data': {'text/html':\n",
       "     \"<div style='background-color: #fdd'>\\n\"+\n",
       "     \"<p>\\n\"+\n",
       "     \"BokehJS does not appear to have successfully loaded. If loading BokehJS from CDN, this \\n\"+\n",
       "     \"may be due to a slow or bad network connection. Possible fixes:\\n\"+\n",
       "     \"</p>\\n\"+\n",
       "     \"<ul>\\n\"+\n",
       "     \"<li>re-rerun `output_notebook()` to attempt to load from CDN again, or</li>\\n\"+\n",
       "     \"<li>use INLINE resources instead, as so:</li>\\n\"+\n",
       "     \"</ul>\\n\"+\n",
       "     \"<code>\\n\"+\n",
       "     \"from bokeh.resources import INLINE\\n\"+\n",
       "     \"output_notebook(resources=INLINE)\\n\"+\n",
       "     \"</code>\\n\"+\n",
       "     \"</div>\"}};\n",
       "\n",
       "  function display_loaded() {\n",
       "    var el = document.getElementById(\"1775\");\n",
       "    if (el != null) {\n",
       "      el.textContent = \"BokehJS is loading...\";\n",
       "    }\n",
       "    if (root.Bokeh !== undefined) {\n",
       "      if (el != null) {\n",
       "        el.textContent = \"BokehJS \" + root.Bokeh.version + \" successfully loaded.\";\n",
       "      }\n",
       "    } else if (Date.now() < root._bokeh_timeout) {\n",
       "      setTimeout(display_loaded, 100)\n",
       "    }\n",
       "  }\n",
       "\n",
       "\n",
       "  function run_callbacks() {\n",
       "    try {\n",
       "      root._bokeh_onload_callbacks.forEach(function(callback) {\n",
       "        if (callback != null)\n",
       "          callback();\n",
       "      });\n",
       "    } finally {\n",
       "      delete root._bokeh_onload_callbacks\n",
       "    }\n",
       "    console.debug(\"Bokeh: all callbacks have finished\");\n",
       "  }\n",
       "\n",
       "  function load_libs(css_urls, js_urls, callback) {\n",
       "    if (css_urls == null) css_urls = [];\n",
       "    if (js_urls == null) js_urls = [];\n",
       "\n",
       "    root._bokeh_onload_callbacks.push(callback);\n",
       "    if (root._bokeh_is_loading > 0) {\n",
       "      console.debug(\"Bokeh: BokehJS is being loaded, scheduling callback at\", now());\n",
       "      return null;\n",
       "    }\n",
       "    if (js_urls == null || js_urls.length === 0) {\n",
       "      run_callbacks();\n",
       "      return null;\n",
       "    }\n",
       "    console.debug(\"Bokeh: BokehJS not loaded, scheduling load and callback at\", now());\n",
       "    root._bokeh_is_loading = css_urls.length + js_urls.length;\n",
       "\n",
       "    function on_load() {\n",
       "      root._bokeh_is_loading--;\n",
       "      if (root._bokeh_is_loading === 0) {\n",
       "        console.debug(\"Bokeh: all BokehJS libraries/stylesheets loaded\");\n",
       "        run_callbacks()\n",
       "      }\n",
       "    }\n",
       "\n",
       "    function on_error() {\n",
       "      console.error(\"failed to load \" + url);\n",
       "    }\n",
       "\n",
       "    for (var i = 0; i < css_urls.length; i++) {\n",
       "      var url = css_urls[i];\n",
       "      const element = document.createElement(\"link\");\n",
       "      element.onload = on_load;\n",
       "      element.onerror = on_error;\n",
       "      element.rel = \"stylesheet\";\n",
       "      element.type = \"text/css\";\n",
       "      element.href = url;\n",
       "      console.debug(\"Bokeh: injecting link tag for BokehJS stylesheet: \", url);\n",
       "      document.body.appendChild(element);\n",
       "    }\n",
       "\n",
       "    for (var i = 0; i < js_urls.length; i++) {\n",
       "      var url = js_urls[i];\n",
       "      var element = document.createElement('script');\n",
       "      element.onload = on_load;\n",
       "      element.onerror = on_error;\n",
       "      element.async = false;\n",
       "      element.src = url;\n",
       "      console.debug(\"Bokeh: injecting script tag for BokehJS library: \", url);\n",
       "      document.head.appendChild(element);\n",
       "    }\n",
       "  };var element = document.getElementById(\"1775\");\n",
       "  if (element == null) {\n",
       "    console.error(\"Bokeh: ERROR: autoload.js configured with elementid '1775' but no matching script tag was found. \")\n",
       "    return false;\n",
       "  }\n",
       "\n",
       "  function inject_raw_css(css) {\n",
       "    const element = document.createElement(\"style\");\n",
       "    element.appendChild(document.createTextNode(css));\n",
       "    document.body.appendChild(element);\n",
       "  }\n",
       "\n",
       "  var js_urls = [\"https://cdn.pydata.org/bokeh/release/bokeh-1.3.0.min.js\", \"https://cdn.pydata.org/bokeh/release/bokeh-widgets-1.3.0.min.js\", \"https://cdn.pydata.org/bokeh/release/bokeh-tables-1.3.0.min.js\", \"https://cdn.pydata.org/bokeh/release/bokeh-gl-1.3.0.min.js\"];\n",
       "  var css_urls = [];\n",
       "\n",
       "  var inline_js = [\n",
       "    function(Bokeh) {\n",
       "      Bokeh.set_log_level(\"info\");\n",
       "    },\n",
       "    \n",
       "    function(Bokeh) {\n",
       "      \n",
       "    },\n",
       "    function(Bokeh) {} // ensure no trailing comma for IE\n",
       "  ];\n",
       "\n",
       "  function run_inline_js() {\n",
       "    \n",
       "    if ((root.Bokeh !== undefined) || (force === true)) {\n",
       "      for (var i = 0; i < inline_js.length; i++) {\n",
       "        inline_js[i].call(root, root.Bokeh);\n",
       "      }if (force === true) {\n",
       "        display_loaded();\n",
       "      }} else if (Date.now() < root._bokeh_timeout) {\n",
       "      setTimeout(run_inline_js, 100);\n",
       "    } else if (!root._bokeh_failed_load) {\n",
       "      console.log(\"Bokeh: BokehJS failed to load within specified timeout.\");\n",
       "      root._bokeh_failed_load = true;\n",
       "    } else if (force !== true) {\n",
       "      var cell = $(document.getElementById(\"1775\")).parents('.cell').data().cell;\n",
       "      cell.output_area.append_execute_result(NB_LOAD_WARNING)\n",
       "    }\n",
       "\n",
       "  }\n",
       "\n",
       "  if (root._bokeh_is_loading === 0) {\n",
       "    console.debug(\"Bokeh: BokehJS loaded, going straight to plotting\");\n",
       "    run_inline_js();\n",
       "  } else {\n",
       "    load_libs(css_urls, js_urls, function() {\n",
       "      console.debug(\"Bokeh: BokehJS plotting callback run at\", now());\n",
       "      run_inline_js();\n",
       "    });\n",
       "  }\n",
       "}(window));"
      ],
      "application/vnd.bokehjs_load.v0+json": "\n(function(root) {\n  function now() {\n    return new Date();\n  }\n\n  var force = true;\n\n  if (typeof root._bokeh_onload_callbacks === \"undefined\" || force === true) {\n    root._bokeh_onload_callbacks = [];\n    root._bokeh_is_loading = undefined;\n  }\n\n  \n\n  \n  if (typeof (root._bokeh_timeout) === \"undefined\" || force === true) {\n    root._bokeh_timeout = Date.now() + 5000;\n    root._bokeh_failed_load = false;\n  }\n\n  var NB_LOAD_WARNING = {'data': {'text/html':\n     \"<div style='background-color: #fdd'>\\n\"+\n     \"<p>\\n\"+\n     \"BokehJS does not appear to have successfully loaded. If loading BokehJS from CDN, this \\n\"+\n     \"may be due to a slow or bad network connection. Possible fixes:\\n\"+\n     \"</p>\\n\"+\n     \"<ul>\\n\"+\n     \"<li>re-rerun `output_notebook()` to attempt to load from CDN again, or</li>\\n\"+\n     \"<li>use INLINE resources instead, as so:</li>\\n\"+\n     \"</ul>\\n\"+\n     \"<code>\\n\"+\n     \"from bokeh.resources import INLINE\\n\"+\n     \"output_notebook(resources=INLINE)\\n\"+\n     \"</code>\\n\"+\n     \"</div>\"}};\n\n  function display_loaded() {\n    var el = document.getElementById(\"1775\");\n    if (el != null) {\n      el.textContent = \"BokehJS is loading...\";\n    }\n    if (root.Bokeh !== undefined) {\n      if (el != null) {\n        el.textContent = \"BokehJS \" + root.Bokeh.version + \" successfully loaded.\";\n      }\n    } else if (Date.now() < root._bokeh_timeout) {\n      setTimeout(display_loaded, 100)\n    }\n  }\n\n\n  function run_callbacks() {\n    try {\n      root._bokeh_onload_callbacks.forEach(function(callback) {\n        if (callback != null)\n          callback();\n      });\n    } finally {\n      delete root._bokeh_onload_callbacks\n    }\n    console.debug(\"Bokeh: all callbacks have finished\");\n  }\n\n  function load_libs(css_urls, js_urls, callback) {\n    if (css_urls == null) css_urls = [];\n    if (js_urls == null) js_urls = [];\n\n    root._bokeh_onload_callbacks.push(callback);\n    if (root._bokeh_is_loading > 0) {\n      console.debug(\"Bokeh: BokehJS is being loaded, scheduling callback at\", now());\n      return null;\n    }\n    if (js_urls == null || js_urls.length === 0) {\n      run_callbacks();\n      return null;\n    }\n    console.debug(\"Bokeh: BokehJS not loaded, scheduling load and callback at\", now());\n    root._bokeh_is_loading = css_urls.length + js_urls.length;\n\n    function on_load() {\n      root._bokeh_is_loading--;\n      if (root._bokeh_is_loading === 0) {\n        console.debug(\"Bokeh: all BokehJS libraries/stylesheets loaded\");\n        run_callbacks()\n      }\n    }\n\n    function on_error() {\n      console.error(\"failed to load \" + url);\n    }\n\n    for (var i = 0; i < css_urls.length; i++) {\n      var url = css_urls[i];\n      const element = document.createElement(\"link\");\n      element.onload = on_load;\n      element.onerror = on_error;\n      element.rel = \"stylesheet\";\n      element.type = \"text/css\";\n      element.href = url;\n      console.debug(\"Bokeh: injecting link tag for BokehJS stylesheet: \", url);\n      document.body.appendChild(element);\n    }\n\n    for (var i = 0; i < js_urls.length; i++) {\n      var url = js_urls[i];\n      var element = document.createElement('script');\n      element.onload = on_load;\n      element.onerror = on_error;\n      element.async = false;\n      element.src = url;\n      console.debug(\"Bokeh: injecting script tag for BokehJS library: \", url);\n      document.head.appendChild(element);\n    }\n  };var element = document.getElementById(\"1775\");\n  if (element == null) {\n    console.error(\"Bokeh: ERROR: autoload.js configured with elementid '1775' but no matching script tag was found. \")\n    return false;\n  }\n\n  function inject_raw_css(css) {\n    const element = document.createElement(\"style\");\n    element.appendChild(document.createTextNode(css));\n    document.body.appendChild(element);\n  }\n\n  var js_urls = [\"https://cdn.pydata.org/bokeh/release/bokeh-1.3.0.min.js\", \"https://cdn.pydata.org/bokeh/release/bokeh-widgets-1.3.0.min.js\", \"https://cdn.pydata.org/bokeh/release/bokeh-tables-1.3.0.min.js\", \"https://cdn.pydata.org/bokeh/release/bokeh-gl-1.3.0.min.js\"];\n  var css_urls = [];\n\n  var inline_js = [\n    function(Bokeh) {\n      Bokeh.set_log_level(\"info\");\n    },\n    \n    function(Bokeh) {\n      \n    },\n    function(Bokeh) {} // ensure no trailing comma for IE\n  ];\n\n  function run_inline_js() {\n    \n    if ((root.Bokeh !== undefined) || (force === true)) {\n      for (var i = 0; i < inline_js.length; i++) {\n        inline_js[i].call(root, root.Bokeh);\n      }if (force === true) {\n        display_loaded();\n      }} else if (Date.now() < root._bokeh_timeout) {\n      setTimeout(run_inline_js, 100);\n    } else if (!root._bokeh_failed_load) {\n      console.log(\"Bokeh: BokehJS failed to load within specified timeout.\");\n      root._bokeh_failed_load = true;\n    } else if (force !== true) {\n      var cell = $(document.getElementById(\"1775\")).parents('.cell').data().cell;\n      cell.output_area.append_execute_result(NB_LOAD_WARNING)\n    }\n\n  }\n\n  if (root._bokeh_is_loading === 0) {\n    console.debug(\"Bokeh: BokehJS loaded, going straight to plotting\");\n    run_inline_js();\n  } else {\n    load_libs(css_urls, js_urls, function() {\n      console.debug(\"Bokeh: BokehJS plotting callback run at\", now());\n      run_inline_js();\n    });\n  }\n}(window));"
     },
     "metadata": {},
     "output_type": "display_data"
    },
    {
     "data": {
      "text/html": [
       "\n",
       "\n",
       "\n",
       "\n",
       "\n",
       "\n",
       "  <div class=\"bk-root\" id=\"d1be8f70-56e7-44f2-b114-dd22f78f8c0d\" data-root-id=\"1726\"></div>\n"
      ]
     },
     "metadata": {},
     "output_type": "display_data"
    },
    {
     "data": {
      "application/javascript": [
       "(function(root) {\n",
       "  function embed_document(root) {\n",
       "    \n",
       "  var docs_json = {\"046db44a-c0d9-4662-bfe5-c3f1f83a0666\":{\"roots\":{\"references\":[{\"attributes\":{\"below\":[{\"id\":\"1735\",\"type\":\"LinearAxis\"}],\"center\":[{\"id\":\"1739\",\"type\":\"Grid\"},{\"id\":\"1744\",\"type\":\"Grid\"}],\"left\":[{\"id\":\"1740\",\"type\":\"LinearAxis\"}],\"renderers\":[{\"id\":\"1764\",\"type\":\"GlyphRenderer\"}],\"title\":{\"id\":\"1767\",\"type\":\"Title\"},\"toolbar\":{\"id\":\"1752\",\"type\":\"Toolbar\"},\"x_range\":{\"id\":\"1727\",\"type\":\"DataRange1d\"},\"x_scale\":{\"id\":\"1731\",\"type\":\"LinearScale\"},\"y_range\":{\"id\":\"1729\",\"type\":\"DataRange1d\"},\"y_scale\":{\"id\":\"1733\",\"type\":\"LinearScale\"}},\"id\":\"1726\",\"subtype\":\"Figure\",\"type\":\"Plot\"},{\"attributes\":{},\"id\":\"1741\",\"type\":\"BasicTicker\"},{\"attributes\":{\"source\":{\"id\":\"1760\",\"type\":\"ColumnDataSource\"}},\"id\":\"1765\",\"type\":\"CDSView\"},{\"attributes\":{\"fill_alpha\":{\"value\":0.1},\"fill_color\":{\"value\":\"#1f77b4\"},\"line_alpha\":{\"value\":0.1},\"line_color\":{\"value\":\"#1f77b4\"},\"x\":{\"field\":\"x\"},\"y\":{\"field\":\"y\"}},\"id\":\"1763\",\"type\":\"Scatter\"},{\"attributes\":{\"ticker\":{\"id\":\"1736\",\"type\":\"BasicTicker\"}},\"id\":\"1739\",\"type\":\"Grid\"},{\"attributes\":{},\"id\":\"1768\",\"type\":\"BasicTickFormatter\"},{\"attributes\":{\"formatter\":{\"id\":\"1768\",\"type\":\"BasicTickFormatter\"},\"ticker\":{\"id\":\"1736\",\"type\":\"BasicTicker\"}},\"id\":\"1735\",\"type\":\"LinearAxis\"},{\"attributes\":{\"data_source\":{\"id\":\"1760\",\"type\":\"ColumnDataSource\"},\"glyph\":{\"id\":\"1762\",\"type\":\"Scatter\"},\"hover_glyph\":null,\"muted_glyph\":null,\"nonselection_glyph\":{\"id\":\"1763\",\"type\":\"Scatter\"},\"selection_glyph\":null,\"view\":{\"id\":\"1765\",\"type\":\"CDSView\"}},\"id\":\"1764\",\"type\":\"GlyphRenderer\"},{\"attributes\":{\"fill_color\":{\"value\":\"#1f77b4\"},\"line_color\":{\"value\":\"#1f77b4\"},\"x\":{\"field\":\"x\"},\"y\":{\"field\":\"y\"}},\"id\":\"1762\",\"type\":\"Scatter\"},{\"attributes\":{},\"id\":\"1733\",\"type\":\"LinearScale\"},{\"attributes\":{},\"id\":\"1736\",\"type\":\"BasicTicker\"},{\"attributes\":{},\"id\":\"1747\",\"type\":\"PanTool\"},{\"attributes\":{},\"id\":\"1749\",\"type\":\"ZoomInTool\"},{\"attributes\":{\"callback\":null},\"id\":\"1729\",\"type\":\"DataRange1d\"},{\"attributes\":{},\"id\":\"1748\",\"type\":\"WheelZoomTool\"},{\"attributes\":{},\"id\":\"1773\",\"type\":\"UnionRenderers\"},{\"attributes\":{\"callback\":null},\"id\":\"1727\",\"type\":\"DataRange1d\"},{\"attributes\":{\"overlay\":{\"id\":\"1772\",\"type\":\"BoxAnnotation\"}},\"id\":\"1751\",\"type\":\"BoxZoomTool\"},{\"attributes\":{},\"id\":\"1731\",\"type\":\"LinearScale\"},{\"attributes\":{\"bottom_units\":\"screen\",\"fill_alpha\":{\"value\":0.5},\"fill_color\":{\"value\":\"lightgrey\"},\"left_units\":\"screen\",\"level\":\"overlay\",\"line_alpha\":{\"value\":1.0},\"line_color\":{\"value\":\"black\"},\"line_dash\":[4,4],\"line_width\":{\"value\":2},\"render_mode\":\"css\",\"right_units\":\"screen\",\"top_units\":\"screen\"},\"id\":\"1772\",\"type\":\"BoxAnnotation\"},{\"attributes\":{},\"id\":\"1750\",\"type\":\"ZoomOutTool\"},{\"attributes\":{\"active_drag\":\"auto\",\"active_inspect\":\"auto\",\"active_multi\":null,\"active_scroll\":\"auto\",\"active_tap\":\"auto\",\"tools\":[{\"id\":\"1745\",\"type\":\"HoverTool\"},{\"id\":\"1746\",\"type\":\"CrosshairTool\"},{\"id\":\"1747\",\"type\":\"PanTool\"},{\"id\":\"1748\",\"type\":\"WheelZoomTool\"},{\"id\":\"1749\",\"type\":\"ZoomInTool\"},{\"id\":\"1750\",\"type\":\"ZoomOutTool\"},{\"id\":\"1751\",\"type\":\"BoxZoomTool\"}]},\"id\":\"1752\",\"type\":\"Toolbar\"},{\"attributes\":{},\"id\":\"1774\",\"type\":\"Selection\"},{\"attributes\":{\"text\":\"\"},\"id\":\"1767\",\"type\":\"Title\"},{\"attributes\":{},\"id\":\"1746\",\"type\":\"CrosshairTool\"},{\"attributes\":{\"callback\":null,\"tooltips\":[[\"word\",\"@words\"]]},\"id\":\"1745\",\"type\":\"HoverTool\"},{\"attributes\":{\"callback\":null,\"data\":{\"index\":[0,1,2,3,4,5,6,7,8,9,10,11,12,13,14,15,16,17,18,19,20,21,22,23,24,25,26,27,28,29,30,31,32,33,34,35,36,37,38,39,40,41,42,43,44,45,46,47,48,49,50,51,52,53,54,55,56,57,58,59,60,61,62,63,64,65,66,67,68,69,70,71,72,73,74,75,76,77,78,79,80,81,82,83,84,85,86,87,88,89,90,91,92,93,94,95,96,97,98,99,100,101,102,103,104,105,106,107,108,109,110,111,112,113,114,115,116,117,118,119,120,121,122,123,124,125,126,127,128,129,130,131,132,133,134,135,136,137,138,139,140,141,142,143,144,145,146,147,148,149,150,151,152,153,154,155,156,157,158,159,160,161,162,163,164,165,166,167,168,169,170,171,172,173,174,175,176,177,178,179,180,181,182,183,184,185,186,187,188,189,190,191,192,193,194,195,196,197,198,199,200,201,202,203,204,205,206,207,208,209,210,211,212,213,214,215,216,217,218,219,220,221,222,223,224,225,226,227,228,229,230,231,232,233,234,235,236,237,238,239,240,241,242,243,244,245,246,247,248,249,250,251,252,253,254,255,256,257,258,259,260,261,262,263,264,265,266,267,268,269,270,271,272,273,274,275,276,277,278,279,280,281,282,283,284,285,286,287,288,289,290,291,292,293,294,295,296,297,298,299,300,301,302,303,304,305,306,307,308,309,310,311,312,313,314,315,316,317,318,319,320,321,322,323,324,325,326,327,328,329,330,331,332,333,334,335,336,337,338,339,340,341,342,343,344,345,346,347,348,349,350,351,352,353,354,355,356,357,358,359,360,361,362,363,364,365,366,367,368,369,370,371,372,373,374,375,376,377,378,379,380,381,382,383,384,385,386,387,388,389,390,391,392,393,394,395,396,397,398,399,400,401,402,403,404,405,406,407,408,409,410,411,412,413,414,415,416,417,418,419,420,421,422,423,424,425,426,427,428,429,430,431,432,433,434,435,436,437,438,439,440,441,442,443,444,445,446,447,448,449,450,451,452,453,454,455,456,457,458,459,460,461,462,463,464,465,466,467,468,469,470,471,472,473,474,475,476,477,478,479,480,481,482,483,484,485,486,487,488,489,490,491,492,493,494,495,496,497,498,499,500,501,502,503,504,505,506,507,508,509,510,511,512,513,514,515,516,517,518,519,520,521,522,523,524,525,526,527,528,529,530,531,532,533,534,535,536,537,538,539,540,541,542,543,544,545,546,547,548,549,550,551,552,553,554,555,556,557,558,559,560,561,562,563,564,565,566,567,568,569,570,571,572,573,574,575,576,577,578,579,580,581,582,583,584,585,586,587,588,589,590,591,592,593,594,595,596,597,598,599,600,601,602,603,604,605,606,607,608,609,610,611,612,613,614,615,616,617,618,619,620,621,622,623,624,625,626,627,628,629,630,631,632,633,634,635,636,637,638,639,640,641,642,643,644,645,646,647,648,649,650,651,652,653,654,655,656,657,658,659,660,661,662,663,664,665,666,667,668,669,670,671,672,673,674,675,676,677,678,679,680,681,682,683,684,685,686,687,688,689,690,691,692,693,694,695,696,697,698,699,700,701,702,703,704,705,706,707,708,709,710,711,712,713,714,715,716,717,718,719,720,721,722,723,724,725,726,727,728,729,730,731,732,733,734,735,736,737,738,739,740,741,742,743,744,745,746,747,748,749,750,751,752,753,754,755,756,757,758,759,760,761,762,763,764,765,766,767,768,769,770,771,772,773,774,775,776,777,778,779,780,781,782,783,784,785,786,787,788,789,790,791,792,793,794,795,796,797,798,799,800,801,802,803,804,805,806,807,808,809,810,811,812,813,814,815,816,817,818,819,820,821,822,823,824,825,826,827,828,829,830,831,832,833,834,835,836,837,838,839,840,841,842,843,844,845,846,847,848,849,850,851,852,853,854,855,856,857,858,859,860,861,862,863,864,865,866,867,868,869,870,871,872,873,874,875,876,877,878,879,880,881,882,883,884,885,886,887,888,889,890,891,892,893,894,895,896,897,898,899,900,901,902,903,904,905,906,907,908,909,910,911,912,913,914,915,916,917,918,919,920,921,922,923,924,925,926,927,928,929,930,931,932,933,934,935,936,937,938,939,940,941,942,943,944,945,946,947,948,949,950,951,952,953,954,955,956,957,958,959,960,961,962,963,964,965,966,967,968,969,970,971,972,973,974,975,976,977,978,979,980,981,982,983,984,985,986,987,988,989,990,991,992,993,994,995,996,997,998,999,1000,1001,1002,1003,1004,1005,1006,1007,1008,1009,1010,1011,1012,1013,1014,1015,1016,1017,1018,1019,1020,1021,1022,1023,1024,1025,1026,1027,1028,1029,1030,1031,1032,1033,1034,1035,1036,1037,1038,1039,1040,1041,1042,1043,1044,1045,1046,1047,1048,1049,1050,1051,1052,1053,1054,1055,1056,1057,1058,1059,1060,1061,1062,1063,1064,1065,1066,1067,1068,1069,1070,1071,1072,1073,1074,1075,1076,1077,1078,1079,1080,1081,1082,1083,1084,1085,1086,1087,1088,1089,1090,1091,1092,1093,1094,1095,1096,1097,1098,1099,1100,1101,1102,1103,1104,1105,1106,1107,1108,1109,1110,1111,1112,1113,1114,1115,1116,1117,1118,1119,1120,1121,1122,1123,1124,1125,1126,1127,1128,1129,1130,1131,1132,1133,1134,1135,1136,1137,1138,1139,1140,1141,1142,1143,1144,1145,1146,1147,1148,1149,1150,1151,1152,1153,1154,1155,1156,1157,1158,1159,1160,1161,1162,1163,1164,1165,1166,1167,1168,1169,1170,1171,1172,1173,1174,1175,1176,1177,1178,1179,1180,1181,1182,1183,1184,1185,1186,1187,1188,1189,1190,1191,1192,1193,1194,1195,1196,1197,1198,1199,1200,1201,1202,1203,1204,1205,1206,1207,1208,1209,1210,1211,1212,1213,1214,1215,1216,1217,1218,1219,1220,1221,1222,1223,1224,1225,1226,1227,1228,1229,1230,1231,1232,1233,1234,1235,1236,1237,1238,1239,1240,1241,1242,1243,1244,1245,1246,1247,1248,1249,1250,1251,1252,1253,1254,1255,1256,1257,1258,1259,1260,1261,1262,1263,1264,1265,1266,1267,1268,1269,1270,1271,1272,1273,1274,1275,1276,1277,1278,1279,1280,1281,1282,1283,1284,1285,1286,1287,1288,1289,1290,1291,1292,1293,1294,1295,1296,1297,1298,1299,1300,1301,1302,1303,1304,1305,1306,1307,1308,1309,1310,1311,1312,1313,1314,1315,1316,1317,1318,1319,1320,1321,1322,1323,1324,1325,1326,1327,1328,1329,1330,1331,1332,1333,1334,1335,1336,1337,1338,1339,1340,1341,1342,1343,1344,1345,1346,1347,1348,1349,1350,1351,1352,1353,1354,1355,1356,1357,1358,1359,1360,1361,1362,1363,1364,1365,1366,1367,1368,1369,1370,1371,1372,1373,1374,1375,1376,1377,1378,1379,1380,1381,1382,1383,1384,1385,1386,1387,1388,1389,1390,1391,1392,1393,1394,1395,1396,1397,1398,1399,1400,1401,1402,1403,1404,1405,1406,1407,1408,1409,1410,1411,1412,1413,1414,1415,1416,1417,1418,1419,1420,1421,1422,1423,1424,1425,1426,1427,1428,1429,1430,1431,1432,1433,1434,1435,1436,1437,1438,1439,1440,1441,1442,1443,1444,1445,1446,1447,1448,1449,1450,1451,1452,1453,1454,1455,1456,1457,1458,1459,1460,1461,1462,1463,1464,1465,1466,1467,1468,1469,1470,1471,1472,1473,1474,1475,1476,1477,1478,1479,1480,1481,1482,1483,1484,1485,1486,1487,1488,1489,1490,1491,1492,1493,1494,1495,1496,1497,1498,1499,1500,1501,1502,1503,1504,1505,1506,1507,1508,1509,1510,1511,1512,1513,1514,1515,1516,1517,1518,1519,1520,1521,1522,1523,1524,1525,1526,1527,1528,1529,1530,1531,1532,1533,1534,1535,1536,1537,1538,1539,1540,1541,1542,1543,1544,1545,1546,1547,1548,1549,1550,1551,1552,1553,1554,1555,1556,1557,1558,1559,1560,1561,1562,1563,1564,1565,1566,1567,1568,1569,1570,1571,1572,1573,1574,1575,1576,1577,1578,1579,1580,1581,1582,1583,1584,1585,1586,1587,1588,1589,1590,1591,1592,1593,1594,1595,1596,1597,1598,1599,1600,1601,1602,1603,1604,1605,1606,1607,1608,1609,1610,1611,1612,1613,1614,1615,1616,1617,1618,1619,1620,1621,1622,1623,1624,1625,1626,1627,1628,1629,1630,1631,1632,1633,1634,1635,1636,1637,1638,1639,1640,1641,1642,1643,1644,1645,1646,1647,1648,1649,1650,1651,1652,1653,1654,1655,1656,1657,1658,1659,1660,1661,1662,1663,1664,1665,1666,1667,1668,1669,1670,1671,1672,1673,1674,1675,1676,1677,1678,1679,1680,1681,1682,1683,1684,1685,1686,1687,1688,1689,1690,1691,1692,1693,1694,1695,1696,1697,1698,1699,1700,1701,1702,1703,1704,1705,1706,1707,1708,1709,1710,1711,1712,1713,1714,1715,1716,1717,1718,1719,1720,1721,1722,1723,1724,1725,1726,1727,1728,1729,1730,1731,1732,1733,1734,1735,1736,1737,1738,1739,1740,1741,1742,1743,1744,1745,1746,1747,1748,1749,1750,1751,1752,1753,1754,1755,1756,1757,1758,1759,1760,1761,1762,1763,1764,1765,1766,1767,1768,1769,1770,1771,1772,1773,1774,1775,1776,1777,1778,1779,1780,1781,1782,1783,1784,1785,1786,1787,1788,1789,1790,1791,1792,1793,1794,1795,1796,1797,1798,1799,1800,1801,1802,1803,1804,1805,1806,1807,1808,1809,1810,1811,1812,1813,1814,1815,1816,1817,1818,1819,1820,1821,1822,1823,1824,1825,1826,1827,1828,1829,1830,1831,1832,1833,1834,1835,1836,1837,1838,1839,1840,1841,1842,1843,1844,1845,1846,1847,1848,1849,1850,1851,1852,1853,1854,1855,1856,1857,1858,1859,1860,1861,1862,1863,1864,1865,1866,1867,1868,1869,1870,1871,1872,1873,1874,1875,1876,1877,1878,1879,1880,1881,1882,1883,1884,1885,1886,1887,1888,1889,1890,1891,1892,1893,1894,1895,1896,1897,1898,1899,1900,1901,1902,1903,1904,1905,1906,1907,1908,1909,1910,1911,1912,1913,1914,1915,1916,1917,1918,1919,1920,1921,1922,1923,1924,1925,1926,1927,1928,1929,1930,1931,1932,1933,1934,1935,1936,1937,1938,1939,1940,1941,1942,1943,1944,1945,1946,1947,1948,1949,1950,1951,1952,1953,1954,1955,1956,1957,1958,1959,1960,1961,1962,1963,1964,1965,1966,1967,1968,1969,1970,1971,1972,1973,1974,1975,1976,1977,1978,1979,1980,1981,1982,1983,1984,1985,1986,1987,1988,1989,1990,1991,1992,1993,1994,1995,1996,1997,1998,1999,2000,2001,2002,2003,2004,2005,2006,2007,2008,2009,2010,2011,2012,2013,2014,2015,2016,2017,2018,2019,2020,2021,2022,2023,2024,2025,2026,2027,2028,2029,2030,2031,2032,2033,2034,2035,2036,2037,2038,2039,2040,2041,2042,2043,2044,2045,2046,2047,2048,2049,2050,2051,2052,2053,2054,2055,2056,2057,2058,2059,2060,2061,2062,2063,2064,2065,2066,2067,2068,2069,2070,2071,2072,2073,2074,2075,2076,2077,2078,2079,2080,2081,2082,2083,2084,2085,2086,2087,2088,2089,2090,2091,2092,2093,2094,2095,2096,2097,2098,2099,2100,2101,2102,2103,2104,2105,2106,2107,2108,2109,2110,2111,2112,2113,2114,2115,2116,2117,2118,2119,2120,2121,2122,2123,2124,2125,2126,2127,2128,2129,2130,2131,2132,2133,2134,2135,2136,2137,2138,2139,2140,2141,2142,2143,2144,2145,2146,2147,2148,2149,2150,2151,2152,2153,2154,2155,2156,2157,2158,2159,2160,2161,2162,2163,2164,2165,2166,2167,2168,2169,2170,2171,2172,2173,2174,2175,2176,2177,2178,2179,2180,2181,2182,2183,2184,2185,2186,2187,2188,2189,2190,2191,2192,2193,2194,2195,2196,2197,2198,2199,2200,2201,2202,2203,2204,2205,2206,2207,2208,2209,2210,2211,2212,2213,2214,2215,2216,2217,2218,2219,2220,2221,2222,2223,2224,2225,2226,2227,2228,2229,2230,2231,2232,2233,2234,2235,2236,2237,2238,2239,2240,2241,2242,2243,2244,2245,2246,2247,2248,2249,2250,2251,2252,2253,2254,2255,2256,2257,2258,2259,2260,2261,2262,2263,2264,2265,2266,2267,2268,2269,2270,2271,2272,2273,2274,2275,2276,2277,2278,2279,2280,2281,2282,2283,2284,2285,2286,2287,2288,2289,2290,2291,2292,2293,2294,2295,2296,2297,2298,2299,2300,2301,2302,2303,2304,2305,2306,2307,2308,2309,2310,2311,2312,2313,2314,2315,2316,2317,2318,2319,2320,2321,2322,2323,2324,2325,2326,2327,2328,2329,2330,2331,2332,2333,2334,2335,2336,2337,2338,2339,2340,2341,2342,2343,2344,2345,2346,2347,2348,2349,2350,2351,2352,2353,2354,2355,2356,2357,2358,2359,2360,2361,2362,2363,2364,2365,2366,2367,2368,2369,2370,2371,2372,2373,2374,2375,2376,2377,2378,2379,2380,2381,2382,2383,2384,2385,2386,2387,2388,2389,2390,2391,2392,2393,2394,2395,2396,2397,2398,2399,2400,2401,2402,2403,2404,2405,2406,2407,2408,2409,2410,2411,2412,2413,2414,2415,2416,2417,2418,2419,2420,2421,2422,2423,2424,2425,2426,2427,2428,2429,2430,2431,2432,2433,2434,2435,2436,2437,2438,2439,2440,2441,2442,2443,2444,2445,2446,2447,2448,2449,2450,2451,2452,2453,2454,2455,2456,2457,2458,2459,2460,2461,2462,2463,2464,2465,2466,2467,2468,2469,2470,2471,2472,2473,2474,2475,2476,2477,2478,2479,2480,2481,2482,2483,2484,2485,2486,2487,2488,2489,2490,2491,2492,2493,2494,2495,2496,2497,2498,2499,2500,2501,2502,2503,2504,2505,2506,2507,2508,2509,2510,2511,2512,2513,2514,2515,2516,2517,2518,2519,2520,2521,2522,2523,2524,2525,2526,2527,2528,2529,2530,2531,2532,2533,2534,2535,2536,2537,2538,2539,2540,2541,2542,2543,2544,2545,2546,2547,2548,2549,2550,2551,2552,2553,2554,2555,2556,2557,2558,2559,2560,2561,2562,2563,2564,2565,2566,2567,2568,2569,2570,2571,2572,2573,2574,2575,2576,2577,2578,2579,2580,2581,2582,2583,2584,2585,2586,2587,2588,2589,2590,2591,2592,2593,2594,2595,2596,2597,2598,2599,2600,2601,2602,2603,2604,2605,2606,2607,2608,2609,2610,2611,2612,2613,2614,2615,2616,2617,2618,2619,2620,2621,2622,2623,2624,2625,2626,2627,2628,2629,2630,2631,2632,2633,2634,2635,2636,2637,2638,2639,2640,2641,2642,2643,2644,2645,2646,2647,2648,2649,2650,2651,2652,2653,2654,2655,2656,2657,2658,2659,2660,2661,2662,2663,2664,2665,2666,2667,2668,2669,2670,2671,2672,2673,2674,2675,2676,2677,2678,2679,2680,2681,2682,2683,2684,2685,2686,2687,2688,2689,2690,2691,2692,2693,2694,2695,2696,2697,2698,2699,2700,2701,2702,2703,2704,2705,2706,2707,2708,2709,2710,2711,2712,2713,2714,2715,2716,2717,2718,2719,2720,2721,2722,2723,2724,2725,2726,2727,2728,2729,2730,2731,2732,2733,2734,2735,2736,2737,2738,2739,2740,2741,2742,2743,2744,2745,2746,2747,2748,2749,2750,2751,2752,2753,2754,2755,2756,2757,2758,2759,2760,2761,2762,2763,2764,2765,2766,2767,2768,2769,2770,2771,2772,2773,2774,2775,2776,2777,2778,2779,2780,2781,2782,2783,2784,2785,2786,2787,2788,2789,2790,2791,2792,2793,2794,2795,2796,2797,2798,2799,2800,2801,2802,2803,2804,2805,2806,2807,2808,2809,2810,2811,2812,2813,2814,2815,2816,2817,2818,2819,2820,2821,2822,2823,2824,2825,2826,2827,2828,2829,2830,2831,2832,2833,2834,2835,2836,2837,2838,2839,2840,2841,2842,2843,2844,2845,2846,2847,2848,2849,2850,2851,2852,2853,2854,2855,2856,2857,2858,2859,2860,2861,2862,2863,2864,2865,2866,2867,2868,2869,2870,2871,2872,2873,2874,2875,2876,2877,2878,2879,2880,2881,2882,2883,2884,2885,2886,2887,2888,2889,2890,2891,2892,2893,2894,2895,2896,2897,2898,2899,2900,2901,2902,2903,2904,2905,2906,2907,2908,2909,2910,2911,2912,2913,2914,2915,2916,2917,2918,2919,2920,2921,2922,2923,2924,2925,2926,2927,2928,2929,2930,2931,2932,2933,2934,2935,2936,2937,2938,2939,2940,2941,2942,2943,2944,2945,2946,2947,2948,2949,2950,2951,2952,2953,2954,2955,2956,2957,2958,2959,2960,2961,2962,2963,2964,2965,2966,2967,2968,2969,2970,2971,2972,2973,2974,2975,2976,2977,2978,2979,2980,2981,2982,2983,2984,2985,2986,2987,2988,2989,2990,2991,2992,2993,2994,2995,2996,2997,2998,2999,3000,3001,3002,3003,3004,3005,3006,3007,3008,3009,3010,3011,3012,3013,3014,3015,3016,3017,3018,3019,3020,3021,3022,3023,3024,3025,3026,3027,3028,3029,3030,3031,3032,3033,3034,3035,3036,3037,3038,3039,3040,3041,3042,3043,3044,3045,3046,3047,3048,3049,3050,3051,3052,3053,3054,3055,3056,3057,3058,3059,3060,3061,3062,3063,3064,3065,3066,3067,3068,3069,3070,3071,3072,3073,3074,3075,3076,3077,3078,3079,3080,3081,3082,3083,3084,3085,3086,3087,3088,3089,3090,3091,3092,3093,3094,3095,3096,3097,3098,3099,3100,3101,3102,3103,3104,3105,3106,3107,3108,3109,3110,3111,3112,3113,3114,3115,3116,3117,3118,3119,3120,3121,3122,3123,3124,3125,3126,3127,3128,3129,3130,3131,3132,3133,3134,3135,3136,3137,3138,3139,3140,3141,3142,3143,3144,3145,3146,3147,3148,3149,3150,3151,3152,3153,3154,3155,3156,3157,3158,3159,3160,3161,3162,3163,3164,3165,3166,3167,3168,3169,3170,3171,3172,3173,3174,3175,3176,3177,3178,3179,3180,3181,3182,3183,3184,3185,3186,3187,3188,3189,3190,3191,3192,3193,3194,3195,3196,3197,3198,3199,3200,3201,3202,3203,3204,3205,3206,3207,3208,3209,3210,3211,3212,3213,3214,3215,3216,3217,3218,3219,3220,3221,3222,3223,3224,3225,3226,3227,3228,3229,3230,3231,3232,3233,3234,3235,3236,3237,3238,3239,3240,3241,3242,3243,3244,3245,3246,3247,3248,3249,3250,3251,3252,3253,3254,3255,3256,3257,3258,3259,3260,3261,3262,3263,3264,3265,3266,3267,3268,3269,3270,3271,3272,3273,3274,3275,3276,3277,3278,3279,3280,3281,3282,3283,3284,3285,3286,3287,3288,3289,3290,3291,3292,3293,3294,3295,3296,3297,3298,3299,3300,3301,3302,3303,3304,3305,3306,3307,3308,3309,3310,3311,3312,3313,3314,3315,3316,3317,3318,3319,3320,3321,3322,3323,3324,3325,3326,3327,3328,3329,3330,3331,3332,3333,3334,3335,3336,3337,3338,3339,3340,3341,3342,3343,3344,3345,3346,3347,3348,3349,3350,3351,3352,3353,3354,3355,3356,3357,3358,3359,3360,3361,3362,3363,3364,3365,3366,3367,3368,3369,3370,3371,3372,3373,3374,3375,3376,3377,3378,3379,3380,3381,3382,3383,3384,3385,3386,3387,3388,3389,3390,3391,3392,3393,3394,3395,3396,3397,3398,3399,3400,3401,3402,3403,3404,3405,3406,3407,3408,3409,3410,3411,3412,3413,3414,3415,3416,3417,3418,3419,3420,3421,3422,3423,3424,3425,3426,3427,3428,3429,3430,3431,3432,3433,3434,3435,3436,3437,3438,3439,3440,3441,3442,3443,3444,3445,3446,3447,3448,3449,3450,3451,3452,3453,3454,3455,3456,3457,3458,3459,3460,3461,3462,3463,3464,3465,3466,3467,3468,3469,3470,3471,3472,3473,3474,3475,3476,3477,3478,3479,3480,3481,3482,3483,3484,3485,3486,3487,3488,3489,3490,3491,3492,3493,3494,3495,3496,3497,3498,3499,3500,3501,3502,3503,3504,3505,3506,3507,3508,3509,3510,3511,3512,3513,3514,3515,3516,3517,3518,3519,3520,3521,3522,3523,3524,3525,3526,3527,3528,3529,3530,3531,3532,3533,3534,3535,3536,3537,3538,3539,3540,3541,3542,3543,3544,3545,3546,3547,3548,3549,3550,3551,3552,3553,3554,3555,3556,3557,3558,3559,3560,3561,3562,3563,3564,3565,3566,3567,3568,3569,3570,3571,3572,3573,3574,3575,3576,3577,3578,3579,3580,3581,3582,3583,3584,3585,3586,3587,3588,3589,3590,3591,3592,3593,3594,3595,3596,3597,3598,3599,3600,3601,3602,3603,3604,3605,3606,3607,3608,3609,3610,3611,3612,3613,3614,3615,3616,3617,3618,3619,3620,3621,3622,3623,3624,3625,3626,3627,3628,3629,3630,3631,3632,3633,3634,3635,3636,3637,3638,3639,3640,3641,3642,3643,3644,3645,3646,3647,3648,3649,3650,3651,3652,3653,3654,3655,3656,3657,3658,3659,3660,3661,3662,3663,3664,3665,3666,3667,3668,3669,3670,3671,3672,3673,3674,3675,3676,3677,3678,3679,3680,3681,3682,3683,3684,3685,3686,3687,3688,3689,3690,3691,3692,3693,3694,3695,3696,3697,3698,3699,3700,3701,3702,3703,3704,3705,3706,3707,3708,3709,3710,3711,3712,3713,3714,3715,3716,3717,3718,3719,3720,3721,3722,3723,3724,3725,3726,3727,3728,3729,3730,3731,3732,3733,3734,3735,3736,3737,3738,3739,3740,3741,3742,3743,3744,3745,3746,3747,3748,3749,3750,3751,3752,3753,3754,3755,3756,3757,3758,3759,3760,3761,3762,3763,3764,3765,3766,3767,3768,3769,3770,3771,3772,3773,3774,3775,3776,3777,3778,3779,3780,3781,3782,3783,3784,3785,3786,3787,3788,3789,3790,3791,3792,3793,3794,3795,3796,3797,3798,3799,3800,3801,3802,3803,3804,3805,3806,3807,3808,3809,3810,3811,3812,3813,3814,3815,3816,3817,3818,3819,3820,3821,3822,3823,3824,3825,3826,3827,3828,3829,3830,3831,3832,3833,3834,3835,3836,3837,3838,3839,3840,3841,3842,3843,3844,3845,3846,3847,3848,3849,3850,3851,3852,3853,3854,3855,3856,3857,3858,3859,3860,3861,3862,3863,3864,3865,3866,3867,3868,3869,3870,3871,3872,3873,3874,3875,3876,3877,3878,3879,3880,3881,3882,3883,3884,3885,3886,3887,3888,3889,3890,3891,3892,3893,3894,3895,3896,3897,3898,3899,3900,3901,3902,3903,3904,3905,3906,3907,3908,3909,3910,3911,3912,3913,3914,3915,3916,3917,3918,3919,3920,3921,3922,3923,3924,3925,3926,3927,3928,3929,3930,3931,3932,3933,3934,3935,3936,3937,3938,3939,3940,3941,3942,3943,3944,3945,3946,3947,3948,3949,3950,3951,3952,3953,3954,3955,3956,3957,3958,3959,3960,3961,3962,3963,3964,3965,3966,3967,3968,3969,3970,3971,3972,3973,3974,3975,3976,3977,3978,3979,3980,3981,3982,3983,3984,3985,3986,3987,3988,3989,3990,3991,3992,3993,3994,3995,3996,3997,3998,3999,4000,4001,4002,4003,4004,4005,4006,4007,4008,4009,4010,4011,4012,4013,4014,4015,4016,4017,4018,4019,4020,4021,4022,4023,4024,4025,4026,4027,4028,4029,4030,4031,4032,4033,4034,4035,4036,4037,4038,4039,4040,4041,4042,4043,4044,4045,4046,4047,4048,4049,4050,4051,4052,4053,4054,4055,4056,4057,4058,4059,4060,4061,4062,4063,4064,4065,4066,4067,4068,4069,4070,4071,4072,4073,4074,4075,4076,4077,4078,4079,4080,4081,4082,4083,4084,4085,4086,4087,4088,4089,4090,4091,4092,4093,4094,4095,4096,4097,4098,4099,4100,4101,4102,4103,4104,4105,4106,4107,4108,4109,4110,4111,4112,4113,4114,4115,4116,4117,4118,4119,4120,4121,4122,4123,4124,4125,4126,4127,4128,4129,4130,4131,4132,4133,4134,4135,4136,4137,4138,4139,4140,4141,4142,4143,4144,4145,4146,4147,4148,4149,4150,4151,4152,4153,4154,4155,4156,4157,4158,4159,4160,4161,4162,4163,4164,4165,4166,4167,4168,4169,4170,4171,4172,4173,4174,4175,4176,4177,4178,4179,4180,4181,4182,4183,4184,4185,4186,4187,4188,4189,4190,4191,4192,4193,4194,4195,4196,4197,4198,4199,4200,4201,4202,4203,4204,4205,4206,4207,4208,4209,4210,4211,4212,4213,4214,4215,4216,4217,4218,4219,4220,4221,4222,4223,4224,4225,4226,4227,4228,4229,4230,4231,4232,4233,4234,4235,4236,4237,4238,4239,4240,4241,4242,4243,4244,4245,4246,4247,4248,4249,4250,4251,4252,4253,4254,4255,4256,4257,4258,4259,4260,4261,4262,4263,4264,4265,4266,4267,4268,4269,4270,4271,4272,4273,4274,4275,4276,4277,4278,4279,4280,4281,4282,4283,4284,4285,4286,4287,4288,4289,4290,4291,4292,4293,4294,4295,4296,4297,4298,4299,4300,4301,4302,4303,4304,4305,4306,4307,4308,4309,4310,4311,4312,4313,4314,4315,4316,4317,4318,4319,4320,4321,4322,4323,4324,4325,4326,4327,4328,4329,4330,4331,4332,4333,4334,4335,4336,4337,4338,4339,4340,4341,4342,4343,4344,4345,4346,4347,4348,4349,4350,4351,4352,4353,4354,4355,4356,4357,4358,4359,4360,4361,4362,4363,4364,4365,4366,4367,4368,4369,4370,4371,4372,4373,4374,4375,4376,4377,4378,4379,4380,4381,4382,4383,4384,4385,4386,4387,4388,4389,4390,4391,4392,4393,4394,4395,4396,4397,4398,4399,4400,4401,4402,4403,4404,4405,4406,4407,4408,4409,4410,4411,4412,4413,4414,4415,4416,4417,4418,4419,4420,4421,4422,4423,4424,4425,4426,4427,4428,4429,4430,4431,4432,4433,4434,4435,4436,4437,4438,4439,4440,4441,4442,4443,4444,4445,4446,4447,4448,4449,4450,4451,4452,4453,4454,4455,4456,4457,4458,4459,4460,4461,4462,4463,4464,4465,4466,4467,4468,4469,4470,4471,4472,4473,4474,4475,4476,4477,4478,4479,4480,4481,4482,4483,4484,4485,4486,4487,4488,4489,4490,4491,4492,4493,4494,4495,4496,4497,4498,4499,4500,4501,4502,4503,4504,4505,4506,4507,4508,4509,4510,4511,4512,4513,4514,4515,4516,4517,4518,4519,4520,4521,4522,4523,4524,4525,4526,4527,4528,4529,4530,4531,4532,4533,4534,4535,4536,4537,4538,4539,4540,4541,4542,4543,4544,4545,4546,4547,4548,4549,4550,4551,4552,4553,4554,4555,4556,4557,4558,4559,4560,4561,4562,4563,4564,4565,4566,4567,4568,4569,4570,4571,4572,4573,4574,4575,4576,4577,4578,4579,4580,4581,4582,4583,4584,4585,4586,4587,4588,4589,4590,4591,4592,4593,4594,4595,4596,4597,4598,4599,4600,4601,4602,4603,4604,4605,4606,4607,4608,4609,4610,4611,4612,4613,4614,4615,4616,4617,4618,4619,4620,4621,4622,4623,4624,4625,4626,4627,4628,4629,4630,4631,4632,4633,4634,4635,4636,4637,4638,4639,4640,4641,4642,4643,4644,4645,4646,4647,4648,4649,4650,4651,4652,4653,4654,4655,4656,4657,4658,4659,4660,4661,4662,4663,4664,4665,4666,4667,4668,4669,4670,4671,4672,4673,4674,4675,4676,4677,4678,4679,4680,4681,4682,4683,4684,4685,4686,4687,4688,4689,4690,4691,4692,4693,4694,4695,4696,4697,4698,4699,4700,4701,4702,4703,4704,4705,4706,4707,4708,4709,4710,4711,4712,4713,4714,4715,4716,4717,4718,4719,4720,4721,4722,4723,4724,4725,4726,4727,4728,4729,4730,4731,4732,4733,4734,4735,4736,4737,4738,4739,4740,4741,4742,4743,4744,4745,4746,4747,4748,4749,4750,4751,4752,4753,4754,4755,4756,4757,4758,4759,4760,4761,4762,4763,4764,4765,4766,4767,4768,4769,4770,4771,4772,4773,4774,4775,4776,4777,4778,4779,4780,4781,4782,4783,4784,4785,4786,4787,4788,4789,4790,4791,4792,4793,4794,4795,4796,4797,4798,4799,4800,4801,4802,4803,4804,4805,4806,4807,4808,4809,4810,4811,4812,4813,4814,4815,4816,4817,4818,4819,4820,4821,4822,4823,4824,4825,4826,4827,4828,4829,4830,4831,4832,4833,4834,4835,4836,4837,4838,4839,4840,4841,4842,4843,4844,4845,4846,4847,4848,4849,4850,4851,4852,4853,4854,4855,4856,4857,4858,4859,4860,4861,4862,4863,4864,4865,4866,4867,4868,4869,4870,4871,4872,4873,4874,4875,4876,4877,4878,4879,4880,4881,4882,4883,4884,4885,4886,4887,4888,4889,4890,4891,4892,4893,4894,4895,4896,4897,4898,4899,4900,4901,4902,4903,4904,4905,4906,4907,4908,4909,4910,4911,4912,4913,4914,4915,4916,4917,4918,4919,4920,4921,4922,4923,4924,4925,4926,4927,4928,4929,4930,4931,4932,4933,4934,4935,4936,4937,4938,4939,4940,4941,4942,4943,4944,4945,4946,4947,4948,4949,4950,4951,4952,4953,4954,4955,4956,4957,4958,4959,4960,4961,4962,4963,4964,4965,4966,4967,4968,4969,4970,4971,4972,4973,4974,4975,4976,4977,4978,4979,4980,4981,4982,4983,4984,4985,4986,4987,4988,4989,4990,4991,4992,4993,4994,4995,4996,4997,4998,4999],\"words\":[\"awe\",\",\",\"it's\",\"not\",\"for\",\"iphone\",\".\",\"i\",\"saw\",\"your\",\"facebook\",\"post\",\"shoutout\",\"to\",\"we're\",\"both\",\"starvin\",\"like\",\"homeless\",\"kids\",\"lmao\",\"ugh\",\"!\",\"so\",\"grouchy\",\"today\",\"sick\",\"n\",\"tired\",\"of\",\"being\",\"don't\",\"think\",\"i'll\",\"be\",\"able\",\"get\",\"it\",\"off\",\"i'm\",\"on\",\"the\",\"bar\",\"tonight\",\"and\",\"saturday\",\"auchh\",\"drop\",\"by\",\"1\",\"(\",\"17\",\")\",\"sorry\",\"but\",\"am\",\"happy\",\"should\",\"him\",\"hahah\",\"operation\",\"kidnap\",\"lana\",\"are\",\"wish\",\"there\",\"was\",\"a\",\"parental\",\"control\",\"that\",\"let\",\"you\",\"only\",\"look\",\"at\",\"positive\",\"/\",\"nice\",\"things\",\"about\",\"internetz\",\"u\",\"know\",\"need\",\"do\",\"laundry\",\"when\",\"have\",\"choose\",\"clothes\",\"wear\",\"based\",\"whether\",\"or\",\"can\",\"go\",\"commando\",\"in\",\"them\",\"just\",\"submitted\",\"entry\",\"writer's\",\"digest\",\"contest\",\"me\",\"luck\",\"aww\",\"had\",\"few\",\"weeks\",\"ago\",\"didn't\",\"enjoy\",\"very\",\"much\",\"lol\",\":\",\"l\",\"x\",\"i've\",\"been\",\"flat\",\"out\",\"bitch\",\"since\",\"last\",\"night\",\"apologize\",\"why\",\"face\",\"?\",\"suck\",\"took\",\"car\",\"service\",\"8am\",\"supposed\",\"take\",\"an\",\"hour\",\"half\",\"still\",\"waiting\",\"doesn't\",\"feel\",\"working\",\"@\",\"12th\",\"street\",\"gym\",\"cant\",\"sleep\",\"up\",\"5:30\",\"visiting\",\";)\",\"hahaha\",\"can't\",\"jelly\",\"fishing\",\"good\",\"then\",\"that's\",\"what\",\"because\",\"really\",\"upset\",\"93\",\"degrees\",\"outside\",\"wished\",\"student\",\"again\",\"pt\",\"could\",\"sit\",\"lake\",\"ad\",\"as\",\"if\",\"my\",\"thumb\",\"ache\",\"enough\",\"from\",\"texting\",\"..\",\"now\",\"killin\",\"beating\",\"ass\",\"ufc\",\"shoulda\",\"lost\",\"hello\",\"<3\",\"2\",\"work\",\"paid\",\"phn\",\"bill\",\"miss\",\"shaved\",\"legs\",\"feeling\",\"fresh\",\"morning\",\"everyone\",\"finals\",\"all\",\"this\",\"week\",\"got\",\"new\",\"cousin\",\"11th\",\"named\",\"benjamin\",\"he\",\"is\",\"currently\",\"cause\",\"having\",\"problems\",\"breathing\",\"doesnt\",\"want\",\"move\",\"these\",\"already\",\"spoken\",\"kidney\",\"stones\",\"ouchie\",\"shet\",\"guys\",\"too\",\"ms\",\"ouch\",\"tummy\",\"hurts\",\"_\",\"check\",\"mu\",\"poem\",\"flying\",\"home\",\"...\",\"lil\",\"bit\",\"desperate\",\"find\",\"another\",\"friend\",\"circle\",\"going\",\"bed\",\"love\",\"yes\",\"peanut\",\"butter\",\"sandwhich\",\"ask\",\"else\",\"exactly\",\"sure\",\"editing\",\"diddy\",\"would\",\"say\",\"\\\"\",\"let's\",\"hahahaha\",\"hay\",\"here\",\"comes\",\"rain\",\"frank\",\"truly\",\"bad\",\"tila\",\"tequila\",\"bonus\",\"we\",\"town\",\"together\",\"glad\",\"jeff\",\"back\",\"school\",\"thursday\",\"gone\",\"yesterday\",\"without\",\"ima\",\"next\",\"year\",\"oh\",\"fantastic\",\"thought\",\"price\",\"sad\",\"with\",\"black\",\"kitty\",\"addicted\",\"reality\",\"shows\",\"ashamed\",\"buenas\",\"noches\",\"twitters\",\"mayhem\",\"fest\",\"marilyn\",\"manson\",\"cancelled\",\"toronto\",\"-\",\"crusty\",\"paint\",\"hand\",\"no\",\"havent\",\"tis\",\"stupid\",\"guy\",\"snoring\",\"lovely\",\"behind\",\"bus\",\"noisy\",\"well\",\"least\",\"doing\",\"job\",\"getting\",\"towed\",\"greenville\",\"tow\",\"place\",\"letting\",\"pick\",\"unless\",\"its\",\"between\",\"6\",\"30am\",\"10\",\"30\",\"pm\",\"head\",\"girl\",\"dear\",\"change\",\"password\",\"btw\",\"isabelle\",\"turned\",\"faceless\",\"siren\",\"real\",\"person\",\"never\",\"die\",\"sucks\",\"see\",\"happen\",\"hunny\",\"hope\",\"better\",\"guessing\",\"bounce\",\"care\",\"xoxox\",\"starting\",\"skeptical\",\"robsten\",\"pf\",\"ag\",\"said\",\"hate\",\"revising\",\"regents\",\"some\",\"sunnn\",\"official\",\"we've\",\"made\",\"whole\",\"people\",\"food\",\"stinks\",\"hear\",\"shit\",\"someone\",\"needs\",\"bring\",\"hot\",\"breakfast\",\"damn\",\"shocked\",\"way\",\"show\",\"put\",\"spirits\",\"after\",\"watching\",\"mean\",\"were\",\"great\",\"anyone\",\"where\",\"buy\",\"used\",\"fridge\",\"mine\",\"broke\",\"ps\",\"chatting\",\"sexy\",\"manly\",\"self\",\"halfway\",\"done\",\"typing\",\"essay\",\"shower\",\"driving\",\"around\",\"hmm\",\"alright\",\"tho\",\"acting\",\"mad\",\"pulling\",\"hair\",\"trying\",\"set\",\"hrm\",\"answers\",\"site\",\"tidying\",\"best\",\"apartment\",\"dc\",\"preparation\",\"moving\",\"what's\",\"big\",\"deal\",\"twitter\",\"kinda\",\"boring\",\"&\",\"confusing\",\"coming\",\"cincinnati\",\"gonna\",\"catch\",\"ya\",\"youtube\",\"wait\",\"album\",\"matt\",\"nap\",\"tryin\",\"keep\",\"eyes\",\"open\",\"ughh\",\"ill\",\"more\",\"ideas\",\"50\",\"%\",\"shy\",\"rent\",\"might\",\"use\",\"pix\",\"incentive\",\"yarn\",\"make\",\"sun\",\"florida\",\"rainy\",\"cloudy\",\"chill\",\"lookin\",\"100\",\"'\",\"s\",\"old\",\"pic\",\"sigh\",\"haha\",\"stop\",\"swear\",\"owl\",\"everything\",\"during\",\"day\",\"any\",\"quizzes\",\"ur\",\"even\",\"following\",\"such\",\"outcast\",\"freezin\",\"cold\",\"grr\",\"sleepin\",\"rainin\",\"wishin\",\"cuddle\",\"wit\",\"part\",\"communicate\",\"network\",\"same\",\"interests\",\"welcome\",\"rats\",\"they\",\"ruin\",\"days\",\"ewww\",\"danny\",\"gokey\",\"photo\",\"wife\",\"brush\",\"weeds\",\"tarmac\",\"visible\",\"first\",\"time\",\"years\",\"headache\",\"fun\",\"experimenting\",\"fillings\",\"failing\",\"thing\",\"write\",\"ingredients\",\"down\",\"ha\",\"haa\",\"logic\",\"lousy\",\"minds\",\"must\",\"also\",\"planning\",\"2:30\",\"please\",\"tell\",\"twitpic\",\"evidence\",\"prove\",\"otherwise\",\"hey\",\"bored\",\"condo\",\"yeah\",\"lay\",\"watch\",\"friends\",\"hubby\",\"who's\",\"outta\",\"tomorrow\",\"brown\",\"sauce\",\"female\",\"hardcore\",\"hip\",\"hop\",\"heads\",\"exist\",\"us\",\"fluff\",\"sometimes\",\"fight\",\"music\",\"beautiful\",\"marisa\",\"dresses\",\"leaving\",\"tear\",\"grocery\",\"store\",\"mom\",\"won't\",\"ride\",\"cart\",\"spent\",\"$\",\"15\",\"market\",\"cute\",\"bought\",\"sunglasses\",\"wanted\",\"overall\",\"internet\",\"boo\",\"guess\",\"twitterberry\",\"wishing\",\"world\",\"gettin\",\"seemed\",\"until\",\"chain\",\"email\",\"warned\",\"deleted\",\"pls\",\"send\",\"those\",\"apologies\",\"tough\",\"how\",\"damnit\",\"fucking\",\"stay\",\"horrible\",\"fear\",\"quakes\",\"you're\",\"exceeded\",\"imagined\",\"damage\",\"fix\",\"dick\",\"has\",\"high\",\"imm\",\"entirely\",\"studying\",\"exams\",\"workout\",\";\",\"although\",\"tried\",\"livenation\",\"knows\",\"theory\",\"syncing\",\"3\",\"devices\",\"cloud\",\"seems\",\"easy\",\"refuse\",\"conan\",\"jay\",\"funny\",\"o\",\"rest\",\"her\",\"she's\",\"lady\",\";d\",\"reached\",\"his\",\"upgrade\",\"jealous\",\"hang\",\"til\",\"january\",\"house\",\"insurance\",\"did\",\"bike\",\"nicely\",\"meeting\",\"which\",\"don\\u00e2\",\"\\u00b4\",\"t\",\"meet\",\"\\u00e2\",\"\\u0080\",\"\\u00a6\",\"she\",\"office\",\"unfortunately\",\"pics\",\"lame\",\"shot\",\"pits\",\"totalled\",\"step\",\"bro\",\"come\",\"seen\",\"highlights\",\"wings\",\"soundly\",\"chicago\",\"game\",\"happily\",\"retire\",\"sooo\",\"freakin\",\"rox\",\"major\",\"sox\",\"conference\",\"playoff\",\"champs\",\"looong\",\"awesome\",\"yayyy\",\"who'd\",\"2-3\",\"months\",\"before\",\"kidding\",\"spam\",\"y'all\",\"anymore\",\"wanna\",\"david\",\"cook\",\"archuleta's\",\"concert\",\"disappointed\",\"wasn't\",\"followers\",\"raise\",\"500k\",\"kwl\",\"pretty\",\"shocking\",\"writing\",\"shamed\",\"belive\",\"gosh\",\"sound\",\"grumpy\",\"man\",\"television\",\"vent\",\"yooo\",\"dont\",\"y\",\"la\",\"por\",\"glasses\",\"nope\",\"sarcasm\",\"involved\",\"wishes\",\"skip\",\"module\",\"she'll\",\"finish\",\"current\",\"one\",\"torchwood\",\"will\",\"long\",\"wow\",\"slept\",\"sofa\",\"studio\",\"thanks\",\"blankie\",\"dreaming\",\"europe\",\"whilst\",\"awww\",\"heard\",\"sat\",\"hoping\",\"isnt\",\"away\",\"jazz\",\"performance\",\"aka\",\"our\",\"agh\",\"wind\",\"forget\",\"two\",\"beer\",\"bottles\",\"freezer\",\"chillin\",\"german\",\"begin\",\"sir\",\"looking\",\"right\",\"brilliant\",\"expensive\",\"though\",\"boogie\",\"ladies\",\"surely\",\"extremely\",\"hungry\",\"heading\",\"eagle\",\"lanes\",\"end\",\"season\",\"actually\",\"monday\",\"anyway\",\"every\",\"update\",\"always\",\"takes\",\"hurry\",\"prom\",\"shoes\",\"money\",\"threatened\",\"ppl\",\"stuff\",\"works\",\"5\",\"praying\",\"hubbys\",\"mri\",\"goes\",\"nothings\",\"horribly\",\"wrong\",\"soo\",\"early\",\"jail\",\"confused\",\"leavin\",\"portland\",\"yo\",\"miles\",\"aching\",\"pain\",\"exercise\",\"constantly\",\"starving\",\"thinking\",\"pc\",\"exam\",\"left\",\"problem\",\"physics\",\"momma\",\"rolling\",\"stone\",\"skipping\",\"cell\",\"phone\",\"smh\",\"gutted\",\"couldn't\",\"top\",\"60\",\"many\",\"bands\",\"close\",\"missed\",\"ready\",\"god\",\"assembly\",\"xxx\",\"omg\",\"stamp\",\"forgot\",\"give\",\"till\",\"friday\",\"gotta\",\"unlock\",\"wont\",\"release\",\"boss\",\"jackass\",\"paris\",\"thx\",\"hun\",\">\",\"taking\",\"over\",\"mafia\",\"proud\",\"member\",\"either\",\"taken\",\"stripped\",\"audio\",\"ridiculous\",\"art\",\"videos\",\"adding\",\"fell\",\"asleep\",\"balcony\",\"lovin\",\"evening\",\"books\",\"study\",\"install\",\"smoothly\",\"talk\",\"rachael\",\"lack\",\"web\",\"standards\",\"loving\",\"3gs\",\"coverage\",\"australia\",\"everton\",\"sending\",\"former\",\"judge\",\"cozy\",\"dunk\",\"dries\",\"4\",\"im\",\"dammit\",\"everyones\",\"gd\",\"later\",\"bye\",\"maybe\",\"conversations\",\"hbu\",\"fml\",\"does\",\"hard\",\"child\",\"crying\",\"saying\",\"grandpa\",\"killing\",\"inside\",\"cryyy\",\"sleeping\",\"window\",\"room\",\"hotter\",\"swine\",\"flu\",\"hahahahaha\",\"thats\",\"leave\",\"cool\",\"fill\",\"wall\",\"bare\",\"thank\",\"called\",\"near\",\"reeeally\",\"download\",\"hush\",\"pcd\",\"song\",\"version\",\"wheres\",\"remix\",\"late\",\"realy\",\"twittering\",\"minutes\",\"went\",\"explore\",\"area\",\"surrounding\",\"hotel\",\"started\",\"raining\",\"jeans\",\"shop\",\"featuring\",\"2day\",\"yuck\",\"slutty\",\"mixtape\",\"nothing\",\"lied\",\"yet\",\"men\",\"loved\",\"heels\",\"fave\",\"movies\",\"looked\",\"stunning\",\"sleepless\",\"kid\",\"quite\",\"different\",\"plans\",\"mum\",\"explain\",\"p\",\"dw\",\"aq\",\"ng\",\"e\",\"ln\",\"nmn\",\"course\",\"london\",\"month\",\"milk\",\"lucky\",\"bum\",\"pigeon\",\"venue\",\"yah\",\"japanese\",\"firms\",\"along\",\"speak\",\"english\",\"carless\",\"nooo\",\"crappy\",\"90\",\"stealing\",\"other\",\"people's\",\"drunk\",\"r\",\"wishhh\",\"group\",\"om\",\"test\",\"approaching\",\"fast\",\"probably\",\"eaten\",\"forward\",\"fine\",\"dandy\",\"fishy\",\"photos\",\"series\",\"watched\",\"decent\",\"film\",\"pluck\",\"eyebrows\",\"designs\",\"yay\",\"start\",\"starbucks\",\"bag\",\"brighton\",\"simon\",\"serena\",\"introducing\",\"mas\",\"voice\",\"tweets\",\"account\",\"latte\",\"mocha\",\"staying\",\"colleague\",\"7ish\",\"t_t\",\"amazing\",\"cried\",\"laughed\",\"heartbroken\",\"laugh\",\"follow\",\"simple\",\"llama\",\"megan\",\"<---\",\"fuck\",\"theatre\",\"fm\",\"transmitter\",\"ipod\",\"brother\",\"sister\",\"words\",\"complex\",\"sentences\",\"american\",\"icon\",\"hungover\",\"there's\",\"wedding\",\"lord\",\"gimme\",\"strength\",\"aaah\",\"mosh\",\"hammond\",\"bug\",\"bites\",\"hurt\",\"weekend\",\"cleaning\",\"read\",\"tweet\",\"perfect\",\"life\",\"hangout\",\"3:00\",\"drove\",\"through\",\"slush\",\"snow\",\"sucky\",\"winter\",\"weather\",\"found\",\"call\",\"woke\",\"hours\",\"tiredd\",\"darwin\",\"award\",\"youngest\",\"muck\",\"cancel\",\"strange\",\"dream\",\"maccabees\",\"aha\",\"chick-fil-a\",\"shake\",\"sunday\",\"closed\",\"pen\",\"pink\",\"poker\",\"burned\",\"1/3\",\"grinding\",\"who\",\"ever\",\"herd\",\"gs\",\"sweaty\",\"california\",\"todays\",\"earthquake\",\"wonderful\",\"san\",\"francisco\",\"background\",\"image\",\"wide\",\"pixels\",\"helps\",\"spanish\",\"believe\",\"lovato\",\"hilarious\",\"nw\",\"dis\",\"f\",\"*\",\"d\",\"20\",\"mins\",\"cud\",\"hav\",\"written\",\"mails\",\"surprise\",\"visit\",\"ma\",\"gf\",\"b\",\"houston\",\"atm\",\"freaking\",\"taco\",\"born\",\"barn\",\"8-)\",\"(8\",\"mother\",\"feelin\",\"lovey\",\"lightning\",\"makin\",\"snuggle\",\"2nite\",\"grabs\",\"pillow\",\"understand\",\"concept\",\"absolutely\",\"flaked\",\"philly\",\"exhausted\",\"cheeky\",\"chilli\",\"thai\",\"fried\",\"rice\",\"red\",\"lets\",\"dodgers\",\"meee\",\"mowing\",\"shade\",\"attitude\",\"may\",\"gotten\",\"running\",\"ca\",\"assignment\",\"burn\",\"midnight\",\"oil\",\"candy\",\"instead\",\"sugar\",\"=\",\"times\",\"friend's\",\"parents\",\"met\",\"accident\",\"they're\",\"making\",\"happens\",\"tony\",\"cis\",\"agree\",\"aircraft\",\"tailbone\",\"waking\",\"ungodly\",\"coffee\",\"killed\",\"spider\",\"inches\",\"nearly\",\"heart\",\"attack\",\"walking\",\"throat\",\"giving\",\"folding\",\"tweetie\",\"tooo\",\"grouping\",\"replies\",\"happening\",\"okay\",\"shall\",\"played\",\"tennis\",\"he's\",\"actual\",\"base\",\"trailer\",\"remake\",\"fame\",\"dog\",\"101\",\"hit\",\"pets\",\"abandoned\",\"ran\",\"into\",\"uncle\",\"forest\",\"gate\",\"considering\",\"2nd\",\"family\",\"banging\",\"passing\",\"table\",\"wakin\",\"singin\",\"while\",\"laughin\",\"durin\",\"kareoke\",\"skin\",\"hates\",\"sunburned\",\"wolfram\",\"can\\u00ef\",\"\\u00bf\",\"\\u00bdt\",\"energy\",\"henry\",\"expressed\",\"\\u00ef\",\"\\u00bd\",\"nia\",\"boyfriend\",\"dilemma\",\"yourself\",\"filling\",\"role\",\"persons\",\"forever\",\"feels\",\"alone\",\"unwanted\",\"crazy\",\"finally\",\"detox\",\"nurse\",\"raging\",\"fever\",\"hahaah\",\"bet\",\"freedom\",\"waaay\",\"once\",\"boot\",\"ones\",\"report\",\"moment\",\"expecting\",\"load\",\"3.0\",\"launch\",\"paperwork\",\"girls\",\"ftl\",\"recently\",\"gained\",\"highly\",\"goodbye\",\"barely\",\"haven't\",\"blink\",\"issue\",\"mail\",\"three\",\"client\",\"points\",\"their\",\"offices\",\"walk\",\"ivy\",\"won\",\"summer\",\"wtf\",\"upload\",\"solve\",\"drawing\",\"board\",\"square\",\"cupboard\",\"craft\",\":p\",\"excited\",\"xx\",\"system\",\"software\",\"engineering\",\"completed\",\"returning\",\"c\",\"+\",\"usually\",\"germs\",\"niece\",\"attacked\",\"fl\",\"yest\",\"paranoid\",\"0\",\"count\",\"voting\",\"minute\",\"ah\",\"fair\",\"connections\",\"rely\",\"using\",\"anywhere\",\"beach\",\"humph\",\"rains\",\"pours\",\"apparently\",\"handle\",\"ok\",\"beirut\",\"uff\",\"plz\",\"eye\",\"bones\",\"becoming\",\"brittle\",\"evry\",\"gay\",\"reading\",\"lauren\",\"da\",\"playing\",\"guitar\",\"learning\",\"something\",\"cookie\",\"subway\",\"dissing\",\"denied\",\"catching\",\"grey's\",\"quiet\",\"aren't\",\"bbq\",\"turns\",\"host\",\"themed\",\"session\",\"fail\",\"stuck\",\"deep\",\"doo\",\"lots\",\"light\",\"poop\",\"images\",\"mission\",\"accomplished\",\"super\",\"duper\",\"restless\",\"rip\",\"swells\",\"writer\",\"nme\",\"upper\",\"yelling\",\"cardio\",\"owie\",\"squashed\",\"cockroach\",\"somewhere\",\"under\",\"ty\",\"tip\",\"wifi\",\"networking\",\"talents\",\"bothered\",\"chillaxin\",\"watchin\",\"passion\",\"christ\",\"updates\",\"appear\",\"broken\",\"myself\",\"hospital\",\"loss\",\"sounds\",\"boy\",\"attending\",\"killer\",\"cousins\",\"riding\",\"campus\",\"second\",\"tons\",\"homework\",\"krispy\",\"kremes\",\"given\",\"craving\",\"kreme\",\"seagull\",\"ice\",\"cream\",\"annoying\",\"hp\",\"gb\",\"answer\",\"row\",\"iz\",\"fucked\",\"<sigh>\",\"secret\",\"channels\",\"less\",\"chilling\",\"eating\",\"pampered\",\"usual\",\"brave\",\"traffic\",\"cake\",\"earlier\",\"string\",\"cheese\",\"normal\",\"size\",\"hi\",\"intense\",\"ticketmaster\",\"tickets\",\"tour\",\"\\u00a9\",\"eee\",\"sean\",\"company\",\"taylor\",\"swift's\",\"personality\",\"fake\",\"character\",\"birthday\",\"actin\",\"scared\",\"violence\",\"soon\",\"ting\",\"tings\",\"via\",\"livestream\",\"tomarrow\",\"gross\",\"skipped\",\"frustrated\",\"swim\",\"practice\",\"competition\",\"number\",\"finished\",\"harry\",\"potter\",\"frankfurt\",\"little\",\"dove\",\"annoyed\",\"b4\",\"boys\",\"rounds\",\"acquire\",\"famous\",\"isn't\",\"body\",\"delicious\",\"owww\",\"stomach\",\"hurtin\",\"drank\",\"pop\",\"alot\",\"notes\",\"atleast\",\"theres\",\"chance\",\"brooklyn\",\"spain\",\"songs\",\"aunt\",\"wonder\",\"tia\",\"trouble\",\"raspberry\",\"address\",\"outfit\",\"80\",\"beaver\",\"stadium\",\"plenty\",\"suggestion\",\"sims\",\"forum\",\"distracted\",\"shelly\",\"ticket\",\"spreadsheets\",\"crossing\",\"often\",\"son\",\"favourite\",\"somehow\",\"incapable\",\"emergency\",\"surgery\",\"dumped\",\"passed\",\"lazy\",\"lori\",\"totally\",\"irritated\",\"wouldn't\",\"slightest\",\"clue\",\"classes\",\"tom\",\"worth\",\"alseep\",\"sitting\",\"name\",\"`\",\"re\",\"classmates\",\"owned\",\"link\",\"darn\",\"loves\",\"sundays\",\"apple\",\"laptop\",\"difference\",\"cara\",\"payment\",\"nightmare\",\"begins\",\"coughing\",\"fit\",\"woody\",\"allen\",\"party\",\"straight\",\"partying\",\"disgusted\",\"dentist\",\"ew\",\"didnt\",\"own\",\"knocked\",\"external\",\"hd\",\"floor\",\"spinning\",\"horrid\",\"noises\",\"jus\",\"news\",\"sux\",\"weetdeck\",\"hanging\",\"follower\",\"hmmm\",\"band\",\"brothers\",\"marathon\",\"makes\",\"lying\",\"bank\",\"holidays\",\"required\",\"happened\",\"than\",\"airport\",\"story\",\"plane\",\"texas\",\"bound\",\"dare\",\"mimi\",\"material\",\"asap\",\"1,2\",\"bc\",\"havn't\",\"most\",\"dislike\",\"complain\",\"word\",\"jake\",\"true\",\"mms\",\"supported\",\"support\",\"feature\",\"mile\",\"run\",\"painful\",\"ankle\",\"gave\",\"bent\",\"popped\",\"program\",\"terry\",\"lunch\",\"date\",\"huge\",\"x's\",\"hands\",\"tiiired\",\"cheer\",\"worse\",\"hawks\",\"footy\",\"sense\",\"withdrawal\",\"symptoms\",\"came\",\"past\",\"manc\",\"train\",\"aswell\",\"worried\",\"id\",\"shorty\",\"england\",\"cricket\",\"team\",\"quotes\",\"movie\",\"chest\",\"washing\",\"machine\",\"itss\",\"cooold\",\"breaks\",\"semi\",\"comin\",\"dishes\",\"cos\",\"mood\",\"video\",\"private\",\"gamestop\",\"noodles\",\"belated\",\"b-day\",\"dinner\",\"buying\",\"blue\",\"kellie\",\"wee\",\"lewis\",\"tweetless\",\"organic\",\"beans\",\"gets\",\"geese\",\"bummed\",\"play\",\"sam\",\"goin\",\"holy\",\"toledo\",\"dental\",\"appointments\",\"future\",\"received\",\":/\",\"stoked\",\"nicole\",\"chills\",\"episodes\",\"laying\",\"project\",\"duty\",\"calls\",\"bluetooth\",\"james\",\"local\",\"nursery\",\"he'll\",\"sept\",\"sniff\",\"online\",\":|\",\"w\",\"m\",\"chem\",\"question\",\"longer\",\"dvd\",\"scratched\",\"medicine\",\"higher\",\"lower\",\"ughhh\",\"aches\",\"mmm\",\"yum\",\"hehe\",\"parade\",\"design\",\"mac\",\"6am\",\"8p\",\"korea\",\"lolll\",\"theyr\",\"in2\",\"memorial\",\"holiday\",\"highlight\",\"shopping\",\"gran\",\"easter\",\"pair\",\"boots\",\"ive\",\"mass\",\"rained\",\"everyday\",\"missing\",\"sunny\",\"socal\",\"ack\",\"taping\",\"daughter\",\"kind\",\"sickness\",\"clears\",\"fully\",\"recovered\",\"disappeared\",\"coz\",\"battle\",\"todayyy\",\"ohhh\",\"grind\",\"opera\",\"looks\",\"known\",\"booked\",\"block\",\"apps\",\"individually\",\"myspace\",\"lately\",\"worked\",\"anybody\",\"whos\",\"died\",\"try\",\"save\",\"payed\",\"23\",\"august\",\"ate\",\"packet\",\"serve\",\"ears\",\"shame\",\"jack\",\"vera\",\"married\",\"irl\",\"mike\",\"mn\",\"volunteering\",\"financially\",\"noes\",\"yours\",\"2pm\",\"hardly\",\"held\",\"hostage\",\"tuesday\",\"kid's\",\"bummer\",\"sink\",\"11\",\"sed\",\"ach\",\"dress\",\"reason\",\"pleaseee\",\"uggh\",\"castle\",\"awake\",\"grandfather\",\"w00t\",\"stock\",\"stitches\",\"rockwell\",\"disappointing\",\"midterm\",\"bananas\",\"goood\",\"developing\",\"mikey\",\"picked\",\"trigger\",\"finger\",\"rsvp\",\"stressin\",\"bout\",\"headed\",\"york\",\"law\",\"mess\",\"dressed\",\"nun\",\"tbs\",\"jk\",\"12\",\"dad\",\"star\",\"trek\",\"poo\",\"girrrl\",\"it'll\",\"grow\",\"nicer\",\"twists\",\"al\",\"microwave\",\"june\",\"6th\",\"live\",\"training\",\"aye\",\"msn\",\"excellent\",\"dallas\",\"symphony\",\"king\",\"tut\",\"paints\",\"stuffs\",\"wore\",\"matching\",\"color\",\"jacket\",\"discount\",\"fergie\",\"meth\",\"blah\",\"poor\",\"josh\",\"fails\",\"possibly\",\"dogs\",\"present\",\"4th\",\"leg\",\"fallen\",\"cannot\",\"mark\",\"wahlberg\",\"wire\",\"rite\",\"members\",\"rnt\",\"gud\",\"3-1\",\"neither\",\"sumthin\",\"waste\",\"calories\",\"almost\",\"vin\",\"vault\",\"2.5\",\"feet\",\"pole\",\"hopefully\",\"grip\",\"reply\",\"serious\",\"gene\",\"hunt\",\"guilty\",\"pleasure\",\"consecutive\",\"ily\",\"xoxo\",\"yep\",\"drink\",\"whee\",\"peter\",\"definitely\",\"hearing\",\"alive\",\"longest\",\"lot\",\"racetrack\",\"spicy\",\"kitten\",\"computer\",\"planet\",\"hollywood\",\"las\",\"vegas\",\"thumbs\",\"seriously\",\"sk\",\"loud\",\"aaron\",\"maid\",\"ruined\",\"ugly\",\"stain\",\"screen\",\"hat\",\"shampoo\",\"joe\",\"suit\",\"shades\",\"wearing\",\"insomniac\",\"pictures\",\"slideshow\",\"baby\",\"dangerous\",\"tend\",\"fall\",\"arms\",\"bogus\",\"amen\",\"cd\",\"yearbooks\",\"worst\",\"picture\",\"jobros\",\"dang\",\"chicken\",\"soup\",\"we'll\",\"chat\",\"rid\",\"weird\",\"dreams\",\"spend\",\"help\",\"accounting\",\"doctors\",\"docs\",\"lip\",\"piercing\",\"cry\",\"screw\",\"monkey\",\"strong\",\"wake\",\"dreamed\",\"girlfriend\",\"brain\",\"freeze\",\"gasp\",\"shelf\",\"mermaid\",\"gurl\",\"aint\",\"tryna\",\"cuz\",\"gona\",\"eugh\",\"participation\",\"disney\",\"ahead\",\"fingers\",\"crossed\",\"terrible\",\"nighty\",\"martha\",\"oooh\",\"amarok\",\"mvc\",\"copy\",\"dude\",\"addicting\",\"website\",\"colchester\",\"nightclub\",\"rly\",\"slow\",\"dno\",\"fish\",\"foood\",\"therapy\",\"fallin\",\"wet\",\"syd\",\"booo\",\"busy\",\"yea\",\"tofu\",\"green\",\"overlay\",\"sm\",\"sites\",\"ny\",\"liz\",\"log\",\"gmail\",\"firefox\",\"clearing\",\"cookies\",\"cache\",\"allowed\",\"sons\",\"makeup\",\"tomorrows\",\". ...\",\"billy\",\"bob\",\"sling\",\"blade\",\"o_o\",\"rob\",\"microsoft\",\"qualifying\",\"village\",\"pouring\",\"contemplating\",\"mexico\",\"opportunity\",\"unleash\",\"wrath\",\"eh\",\"puddle\",\"front\",\"comment\",\"hottest\",\"city\",\"races\",\"short\",\"battles\",\"mother's\",\"hug\",\"emo\",\"patient\",\"sore\",\"everything's\",\"~\",\"pay\",\"satellite\",\"iranian\",\"farsi\",\"protest\",\"tomrrow\",\"says\",\"library\",\"trust\",\"radar\",\"alias\",\"u2\",\"sack\",\"bebo\",\"hasn't\",\"figure\",\"daughter's\",\"5th\",\"planned\",\"attend\",\"far\",\"solo\",\"hangover\",\"yur\",\"rude\",\"yu\",\"exciting\",\"nuts\",\"eatin\",\"wondered\",\"sign\",\"dying\",\"gee\",\"posts\",\"x2\",\"metaphor\",\"dirty\",\"water\",\"boston\",\"saved\",\"twice\",\"cat\",\"hid\",\"fields\",\"3rd\",\"fone\",\"puppies\",\"sis\",\"linked\",\"literally\",\"gl\",\"thru\",\"gahhh\",\"tonights\",\"mistake\",\"bf\",\"dads\",\"full\",\"olivia\",\"ther\",\"brewers\",\"crew\",\"tweetdeck\",\"small\",\"cooking\",\"scan\",\"order\",\"particular\",\"nan\",\"italy\",\"match\",\"against\",\"egypt\",\"grim\",\"kiddo\",\"placement\",\"breaking\",\"reiki\",\"clients\",\"mate\",\"leaves\",\"oz\",\"9\",\"humour\",\"fired\",\"burnt\",\"ending\",\"fab\",\"drive\",\"virginia\",\"anything\",\"tv\",\"prayers\",\"thoughts\",\"hugs\",\"allergic\",\"breathe\",\"etc\",\"type\",\"rash\",\"impossible\",\"natural\",\"tan\",\"bake\",\"brian\",\"goo\",\"nails\",\"ridiculously\",\"rubbish\",\"differences\",\"celebrate\",\"enjoyed\",\"teaching\",\"teach\",\"yr\",\"daddys\",\"computers\",\"weathers\",\"cash\",\"tommarow\",\"charger\",\"paper\",\"shredder\",\"plug\",\"special\",\"pencil\",\"crate\",\"despite\",\"fact\",\"e3\",\"sunburn\",\"hurty\",\"club\",\"muchhh\",\"k\",\"spill\",\"lap\",\"weekend's\",\"travel\",\"plan\",\"brussels\",\"dreamland\",\"admit\",\"chiropractor\",\"commit\",\"nor\",\"environment\",\"amazin\",\"ooh\",\"quit\",\"when's\",\"aqua\",\"teen\",\"hunger\",\"force\",\"jokes\",\"calling\",\"book\",\"no-one\",\"answered\",\"xd\",\"sweetheart\",\"realise\",\"losing\",\"bbc\",\"important\",\"10am\",\"buffering\",\"states\",\"remember\",\"cisco\",\"campaign\",\"original\",\"idea\",\"nights\",\"episode\",\"hannah\",\"montana\",\"jimmy\",\"aah\",\"weekends\",\"direct\",\"message\",\"text\",\"clone\",\"24\",\"imac\",\"snuggie\",\"shaun\",\"xmas\",\"rotfl\",\"routine\",\"ryan\",\"climb\",\"eu\",\"acho\",\"mais\",\"miley\",\"cyrus\",\"lights\",\"jamie\",\"smile\",\"puked\",\"practically\",\"whoa\",\"further\",\"eric\",\"coolest\",\"premiere\",\"eli\",\"listening\",\"realized\",\"mcfly\",\"desktop\",\"cr\",\"tday\",\"palm\",\"pre\",\"t-mobile\",\"g1\",\"sidekick\",\"2008\",\"sold\",\"uk\",\"pinot\",\"perhaps\",\"revise\",\"schoool\",\"2moro\",\":'(\",\"traveling\",\"christmas\",\"vacation\",\"arrived\",\"colour\",\"rub\",\"return\",\"sorting\",\"contact\",\"lists\",\"everr\",\"edward\",\"wats\",\"smut\",\"saddd\",\"que\",\"paso\",\"uploading\",\"yeaa\",\"knocks\",\"matter\",\"anyways\",\"angels\",\"jj\",\"sing\",\"clearly\",\"nlt\",\"backup\",\"sarah\",\"superb\",\"lah\",\"anw\",\"whenever\",\"freee\",\"kay\",\"wth\",\"drama\",\"d:\",\"air\",\"linux\",\"seesmic\",\"pimpin\",\"pimp\",\"herself\",\"tor\",\"crap\",\"means\",\"knowing\",\"owners\",\"puddles\",\"chipped\",\"sections\",\"none\",\"whatsoever\",\"profile\",\"bg\",\"garrett\",\"kim\",\"amanda\",\"keeping\",\"interest\",\"emmy\",\"woohoo\",\"auto\",\"hide\",\"dock\",\"win\",\"opening\",\"george\",\"harrison\",\"torres\",\"chelsea\",\"yummm\",\"extreme\",\"fourth\",\"butt\",\"holding\",\"promise\",\"bother\",\"banana\",\"hostel\",\"reservation\",\"abit\",\"leh\",\"users\",\"games\",\"rare\",\"sg\",\"clever\",\"wales\",\"usa\",\"e-mail\",\"bugger\",\"admin\",\"rights\",\"language\",\"photography\",\"sings\",\"luv\",\"page\",\"especially\",\"dig\",\"goldfish\",\"snap\",\"asses\",\"custom\",\"masks\",\"one's\",\"oops\",\"button\",\"70\",\"joel\",\"appetite\",\"class\",\"trip\",\"results\",\"mexican\",\"nudge\",\"junk\",\"woo\",\"estimates\",\"experts\",\"michael\",\"could've\",\"stayed\",\"precious\",\"comments\",\"brought\",\"advance\",\"screening\",\"passes\",\"zooey\",\"500\",\"banned\",\"trash\",\"weak\",\"caught\",\"sane\",\"sorted\",\"lesbians\",\"walang\",\"box\",\"pa\",\"als\",\"hospice\",\"iraq\",\"helped\",\"meant\",\"[\",\"blog\",\"]\",\"loan\",\"debt\",\"000\",\"woot\",\"accounts\",\"vote\",\"goal\",\"ahhh\",\"demi\",\"ppp\",\"dean\",\"o2\",\"broadband\",\"enter\",\"valid\",\"van\",\"dyke\",\"recovering\",\"ruff\",\"brasil\",\"seeing\",\"transformers\",\"bay\",\"sunday's\",\"shuttle\",\"canceled\",\"due\",\"idle\",\"school's\",\"phones\",\"cameras\",\"memories\",\"finding\",\"celtics\",\"bulls\",\"smash\",\"consider\",\"occasion\",\"treat\",\"extra\",\"catholic\",\"falls\",\"christian\",\"passengers\",\"country\",\"calgary\",\"bon\",\"voyage\",\"measly\",\"7\",\"research\",\"wor\",\"lose\",\"weight\",\"metro\",\"gah\",\"3hr\",\"naps\",\"deadly\",\"cram\",\"hr\",\"psych\",\"frick\",\"tmrw\",\"scratches\",\"wants\",\"chinese\",\"maintenance\",\"pacific\",\"worrying\",\"stall\",\"chars\",\"max\",\"sentence\",\"structure\",\"mound\",\"ets\",\"yummy\",\"pizza\",\"allnighter\",\"ict\",\"park\",\"camp\",\"forecast\",\"skye\",\"gracie\",\"goodnight\",\"5a\",\"voted\",\"concentrate\",\"goals\",\"direction\",\"youuu\",\"puerto\",\"rico\",\"signing\",\"yup\",\"kills\",\"zombies\",\"g2g\",\"stand\",\"twitterers\",\"each\",\"wasted\",\"needed\",\"blood\",\"tommy\",\"couldnt\",\"thunderstorm\",\"cut\",\"electricity\",\"blocking\",\"tx\",\"co\",\"hiring\",\"faith\",\"imma\",\"playin\",\"monopoly\",\"edition\",\"changed\",\"credit\",\"cards\",\"million\",\"knob\",\"container\",\"min\",\"melted\",\"yesss\",\"nashville\",\"cocks\",\"sushi\",\"soccer\",\"mamas\",\"army\",\"va\",\"particularly\",\"scary\",\"thoughtful\",\"bo\",\"peep\",\"bday\",\"dorm\",\"attempted\",\"voicemail\",\"shouldn't\",\"4:30\",\"insomnia\",\"nighter\",\"multiplayer\",\"coop\",\"main\",\"storyline\",\"spoiled\",\"teeny\",\"terribly\",\"surprised\",\"unfollow\",\"beatles\",\"dy\",\"wk\",\"corner\",\"sole\",\"custody\",\"ex\",\"including\",\"wknd\",\"windows\",\"laptop's\",\"aaa\",\"hold\",\"macbook\",\"alternative\",\"genius\",\"experience\",\"dept\",\"responded\",\"flood\",\"prob\",\"jobs\",\"nxt\",\"nightmares\",\"ton\",\"jonas\",\"emails\",\"norway\",\"sent\",\"eachother\",\"epic\",\"losers\",\"department\",\"wanting\",\"quickly\",\"wake-up\",\"uni\",\"2morrow\",\"mommy\",\"hbo\",\"demand\",\"dvds\",\"target\",\"wondering\",\"dealing\",\"allergies\",\"hows\",\"chris\",\"expect\",\"mcd's\",\"allow\",\"technology\",\"hooked\",\"printer\",\"deff\",\"hardest\",\"cover\",\"shout\",\"cuss\",\"thier\",\"username\",\"sry\",\"bcos\",\"nite\",\"iv\",\"distraught\",\"gauge\",\"audience\",\"reaction\",\"specially\",\"8\",\"himself\",\"mighty\",\"nah\",\"bunny\",\"avoid\",\"state\",\"billion\",\"dollars\",\"affairs\",\"warning\",\"healing\",\"coworker\",\"michelle\",\"solution\",\"muscle\",\"sytycd\",\"tonite\",\"vivid\",\"painted\",\"ceiling\",\"thunder\",\"knew\",\"designing\",\"hahhaha\",\"indeed\",\"spoon\",\"comic\",\"bubble\",\"frame\",\"attempt\",\"seem\",\"hrs\",\"32\",\"andi\",\"struggling\",\"tools\",\"chosen\",\"teams\",\"agreement\",\"usage\",\"qualify\",\"assumption\",\"ergo\",\"previous\",\"statement\",\"acceptable\",\"trains\",\"arent\",\"melbourne\",\"ol\",\"low\",\"lunchtime\",\"battling\",\"haaa\",\"soul\",\"tv's\",\"crashes\",\"relaxin\",\"catchin\",\"tree\",\"hill\",\"spring\",\"tulips\",\"parking\",\"retro\",\"animation\",\"sesame\",\"ace\",\"bnp\",\"votes\",\"encouraging\",\"idk\",\"smell\",\"posted\",\"access\",\"notice\",\"nail\",\"rather\",\"garden\",\"unlucky\",\"likely\",\"procrastinator\",\"exeter\",\"journey\",\"tyson\",\"tragic\",\"share\",\"mondays\",\"wise\",\"sex\",\"hafta\",\"unemployment\",\"fireworks\",\"austin\",\"promised\",\"dm\",\"break\",\"umbrella\",\"ella\",\"singing\",\"tix\",\"aw\",\"shining\",\"enjoying\",\"prada\",\"69\",\"il\",\"re-post\",\"status\",\"packing\",\"eff\",\"graduation\",\"radio\",\"active\",\"player\",\"awh\",\"liked\",\"aiden\",\"note\",\"synth\",\"ages\",\"roland\",\"plugged\",\"revision\",\"ball\",\"ring\",\"pants\",\"hooray\",\"healthy\",\"searching\",\"cupboards\",\"careful\",\"blasting\",\"earphones\",\"ahaha\",\"anytime\",\"bestie\",\"evil\",\"lottery\",\"trace\",\"utterly\",\"bah\",\"double\",\"whammy\",\"supper\",\"mopping\",\"brows\",\"hills\",\"wars\",\"imax\",\"12:45\",\"center\",\"interview\",\"warm\",\"fussy\",\"ignore\",\"except\",\"reverse\",\"jackson\",\"sorrry\",\"tabs\",\"bringin\",\"lady's\",\"lived\",\"cue\",\"melancholic\",\"emotion\",\"dam\",\"insists\",\"fam\",\"itll\",\"9000\",\"locked\",\"threads\",\"dns\",\"remove\",\"tile\",\"parts\",\"hosting\",\"provider\",\"customer\",\"information\",\"server\",\"affected\",\"warped\",\"porno\",\"where's\",\"slim\",\"coldest\",\"ireland\",\"degree\",\"humidity\",\"wisdom\",\"teeth\",\"pulled\",\"wall-e\",\"toy\",\"bella\",\"power\",\"outage\",\"wana\",\"wuld\",\"oakland\",\"cinderella\",\"kaiser\",\"def\",\"edge\",\"luckyy\",\"tests\",\"downloading\",\"gig\",\"landon\",\"twitterland\",\"volunteered\",\"umm\",\"auburn\",\"west\",\"switching\",\"burgers\",\"eat\",\"kept\",\"falling\",\"bun\",\"paralyzed\",\"disk\",\"tanning\",\"lotion\",\"beats\",\"cancer\",\"told\",\"daniel\",\"hopes\",\"enuff\",\"beers\",\"keeps\",\"telling\",\"woah\",\"north\",\"impromptu\",\"pool\",\"jon\",\"kate\",\"plus\",\"five\",\"depressed\",\"destroyed\",\"roommates\",\"list\",\"200th\",\"ahh\",\"sleepy\",\"6:30\",\"deprived\",\"mitchel\",\"estonia\",\"saaad\",\"buddy\",\"manage\",\"geez\",\"couple\",\"newspapers\",\"sadly\",\"etprophet\",\"lan\",\"d-day\",\"bot\",\"horny\",\"stranger\",\"noticed\",\"chilled\",\"runny\",\"nose\",\"stuffed\",\"felling\",\"honestly\",\"huff\",\"players\",\"favorite\",\"hw\",\"infusion\",\"pump\",\"uncomfortable\",\"yess\",\"advice\",\"info\",\"rome\",\"strongly\",\"dark\",\"materials\",\"hence\",\"lab\",\"swimming\",\"creative\",\"sorta\",\"tells\",\"abt\",\"respond\",\"wks\",\"boat\",\"dead\",\"chocolate\",\"replace\",\"disaster\",\"unlocked\",\"cabinets\",\"juice\",\"soda\",\"everywhere\",\"checking\",\"raindrops\",\"consistent\",\"screamin\",\"alert\",\"allergy\",\"pills\",\"bedroom\",\"scars\",\"ain't\",\"heal\",\"minus\",\"evans\",\"rumored\",\"dating\",\"scene\",\"queen\",\"gas\",\"ugggh\",\"construction\",\"mixed\",\"emotions\",\"tiered\",\"ohh\",\"asking\",\"thou\",\"com\",\"finance\",\"perfectly\",\"pissed\",\"holla\",\"rings\",\"slipped\",\"steps\",\"mind\",\"thunderstorming\",\"father\",\"lobster\",\";-)\",\"form\",\"studied\",\"science\",\"french\",\"naw\",\"coach\",\"convenient\",\"tub\",\"missin\",\"updated\",\"itunes\",\"morn\",\"stopped\",\"root\",\"shell\",\"commands\",\"manchester\",\"united\",\"heart's\",\"twitterverse\",\"properly\",\"ascar\",\"nana's\",\"ground\",\"rb\",\"blip\",\"\\u0099\",\"\\u00ab\",\"mel\",\"comfort\",\"mi\",\"1st\",\"stabs\",\"necessary\",\"prop\",\"offered\",\"refused\",\"unrealistic\",\"offers\",\"war\",\"columbus\",\"hung\",\"smiling\",\"--->\",\"turn\",\"grrr\",\"itouch\",\"act\",\"dropped\",\"ding\",\"side\",\"s4\",\"chief\",\"designated\",\"driver\",\"drinking\",\"angie\",\"^\",\"-->\",\"suggested\",\"russ\",\"hurting\",\"several\",\"compatible\",\"b2\",\"awhhh\",\"dependent\",\"pity\",\"hiatus\",\"shittiest\",\"travis\",\"woman\",\"personal\",\"anthem\",\"bronx\",\"wentz\",\"adorable\",\"mummy\",\"lonely\",\"preferably\",\":]\",\"bits\",\"kita\",\"preparing\",\"twilight\",\"kill\",\"carradine\",\"commited\",\"suicide\",\"asian\",\"unofficial\",\"titanic\",\"sa\",\"cu\",\"nu\",\"asa\",\"useful\",\"tweeting\",\"varsity\",\"tomo\",\"urg\",\"sadness\",\"sighhh\",\"ghetto\",\"failed\",\"aweful\",\"mcdonalds\",\"tweeps\",\"nasty\",\"perks\",\"completely\",\"<\",\"zeke\",\"300\",\"kicked\",\"stickam\",\"america\",\"survived\",\"slot\",\"officer\",\"tooth\",\"chewed\",\"college\",\"fan\",\"hm\",\"insensitive\",\"worries\",\"negativity\",\"towards\",\"throw\",\"shirt\",\"bottle\",\"tasty\",\"tastes\",\"stars\",\"dope\",\"sodium\",\"bitchy\",\"uterus\",\"month's\",\"situation\",\"swamped\",\"comfortably\",\"frustrating\",\"cope\",\"brick\",\"apple's\",\"blessing\",\"device\",\"haven\",\"crisp\",\"would've\",\"understood\",\"sale\",\"fat\",\"ergh\",\"infected\",\"daytime\",\"final\",\"bigger\",\"remembered\",\"afternoon\",\"mentioned\",\"risk\",\"consult\",\"beauty\",\"specialist\",\"reinstalled\",\"lush\",\"flipflops\",\"sunnies\",\"sleeep\",\"slight\",\"skinned\",\"shhh\",\"leno\",\"proper\",\"giddy\",\"dunno\",\"sprout\",\"loudest\",\"neighbors\",\"kentucky\",\"derby\",\"hats\",\"gin\",\"pricey\",\"telly\",\"weeek\",\"orlando\",\"magic\",\"superman\",\"goodness\",\"logged\",\"33\",\"daysss\",\"1030\",\"suggest\",\"electro\",\"http://bit.ly/nos9d\",\"free\",\"cheers\",\"prepare\",\"knee\",\"papers\",\"specs\",\"legit\",\"progress\",\"across\",\"dull\",\"tedious\",\"ish\",\"gr8t\",\"busted\",\"speed\",\"camera\",\"physically\",\"emotionally\",\"bear\",\"crashing\",\"yer\",\"blocked\",\"football\",\"ixreplies\",\"pau\",\"sisters\",\"addictive\",\"tylenol\",\"mama\",\"pass\",\"pet\",\"society\",\"app\",\"survive\",\"bowl\",\"cherries\",\"neglecting\",\"bb\",\"listener\",\"pretend\",\"cg\",\"young\",\"charles\",\"xavier\",\"okayy\",\"hah\",\"uh\",\"felt\",\"reduced\",\"lags\",\"clicks\",\"vitamins\",\"wednesday\",\"kno\",\"confuse\",\"sumone\",\"rm\",\"rooom\",\"bawl\",\"learn\",\"tsk\",\"loads\",\"shots\",\"needle\",\"jesse\",\"fantasy\",\"pokemon\",\"gameboy\",\"mall\",\"iced\",\"donuts\",\"canada\",\"heck\",\"approx\",\"streets\",\"somebody\",\"prayer\",\"vocal\",\"cords\",\"history\",\"geography\",\"iss\",\"cinemas\",\"sadd\",\"si\",\"itu\",\"ada\",\"g\",\"ga\",\"details\",\"nya\",\"jadi\",\"reasons\",\"dollhouse\",\"feelings\",\"unfair\",\"hazel\",\"infection\",\"antibiotics\",\"livin\",\"stairs\",\"officially\",\"carpets\",\"woops\",\"whew\",\"meetings\",\"desk\",\"103\",\"tim\",\"ferris\",\"franz\",\"ferdinand\",\"ff\",\"style\",\"licks\",\"fetish\",\"listened\",\"vehicle\",\"crutches\",\"september\",\"voodoo\",\"doughnuts\",\"channel\",\"oregon\",\"judd\",\"armed\",\"forces\",\"omggg\",\"fliers\",\"white\",\"cali\",\"record\",\"you'll\",\"dif\",\"nerd\",\"sucked\",\"church\",\"race\",\"conflicts\",\"dvr\",\":-d\",\"edit\",\"appearance\",\"rl\",\"bash\",\"coldplay\",\"theyre\",\"draw\",\"kev\",\"worthwhile\",\"add\",\"interesting\",\"adam\",\"ways\",\"promote\",\"ads\",\"consumer\",\"yt\",\"partners\",\"views\",\"earned\",\"sec\",\"posse\",\"writin\",\"outbid\",\"awee\",\"snl\",\"remembers\",\"hangin\",\"display\",\"shrunk\",\"braces\",\"bottom\",\"blacked\",\"rangers\",\"damnn\",\"pens\",\"effort\",\"content\",\"added\",\"lease\",\"digital\",\"tight\",\"mobile\",\"noo\",\"dms\",\"hitting\",\"punish\",\"wolverhampton\",\"ugghh\",\"dreading\",\"noon\",\"timing\",\"moms\",\"umbrellas\",\"poked\",\"tips\",\"xbox\",\"nao\",\"sou\",\"scripted\",\"changes\",\"doggy\",\"threw\",\"chatter\",\"carpet\",\"clean\",\"puppy\",\"1:30\",\"alerts\",\"piece\",\"feed\",\"bunnies\",\"stink\",\"living\",\"shadow\",\"stalker\",\"managed\",\"pointed\",\"fallout\",\"here's\",\"definition\",\"interested\",\"glasgow\",\"stays\",\"40\",\"gooo\",\"blur\",\"cheapest\",\"\\u00a3\",\"whoop\",\"de\",\"counting\",\"26\",\"workkk\",\"swell\",\"urs\",\"lolol\",\"farrah\",\"fawcett\",\"boy's\",\"crush\",\"age\",\"nadal\",\"vs\",\"federer\",\"rafa\",\"collection\",\"item\",\"#\",\"entertaining\",\"father's\",\"domestic\",\"sunshine\",\"skies\",\"unloved\",\"stress\",\"contd\",\"wilson\",\"endlessly\",\"mock\",\"beard\",\"...  ...\",\"paramore\",\"wines\",\"wine\",\"norton\",\"healthcare\",\"contract\",\"ends\",\"renew\",\"mixing\",\"concrete\",\"cement\",\"internship\",\"starring\",\"wwe\",\"wrestler\",\"kane\",\"track\",\"he'd\",\"tire\",\"cup\",\"ss\",\"shirts\",\"detroit\",\"cinci\",\"nj\",\"mccartney\",\"families\",\"diane\",\"reeves\",\"naman\",\"touring\",\"jen\",\"):\",\"j\",\"blinded\",\"bright\",\"drugs\",\"rocking\",\"vou\",\"ver\",\"er\",\"shortened\",\"messages\",\"tessa\",\"clinton\",\"bush\",\"seminar\",\"jess\",\"apparel\",\"accept\",\"hunting\",\"supervisor\",\"php\",\"noob\",\"skype\",\"messy\",\"charging\",\"line\",\"helping\",\"pack\",\"dubai\",\"international\",\"gov\",\"driver's\",\"ed\",\"olds\",\"whut\",\"hell\",\"congrats\",\"timee\",\"gift\",\"phoebe\",\"tipsy\",\"22\",\"older\",\"determined\",\"hwk\",\"restaurant\",\"build\",\"outdoor\",\"theater\",\"cheap\",\"sinus\",\"slowly\",\"steph\",\"bk\",\"babe\",\"oo\",\"latvia\",\"4got\",\"press\",\"itz\",\"naan\",\"uncles\",\"pear\",\"cider\",\"ups\",\"downs\",\"events\",\"deciding\",\"reception\",\"365\",\"random\",\"point\",\"t-shirt\",\"peel\",\"layer\",\"shouted\",\"letter\",\"sunburns\",\"what'd\",\"cruise\",\"fans\",\"tbh\",\"wicked\",\"cage\",\"elephant\",\"metric\",\"pickle\",\"within\",\"rules\",\"dsi\",\"offer\",\"jalan\",\"sti\",\"udh\",\"pergi\",\"madly\",\"musiq\",\"civic\",\"terms\",\"packed\",\"effect\",\"event\",\"beginnings\",\"migraine\",\"werk\",\"cereal\",\"fork\",\"yesterday's\",\"haul\",\"misses\",\"singers\",\"yaya\",\"besties\",\"amy\",\"wasnt\",\"hellooo\",\"(:\",\"lool\",\"wen\",\"chic\",\"yall\",\"georgia\",\"grief\",\"leslie\",\"oatmeal\",\"wing\",\"result\",\"phone's\",\"updating\",\"barf\",\"storms\",\"hum\",\"dun\",\"ten\",\"anniversary\",\"columbine\",\"shooting\",\"pray\",\"realised\",\"brithday\",\"tomorrow's\",\"malaysia\",\"potify\",\"playlist\",\"forbidden\",\"temple\",\"slugs\",\"snails\",\"=(\",\"changeling\",\"zzz's\",\"stolen\",\"bride\",\"u're\",\"fuel\",\"brand\",\"jason\",\"36\",\"eddie\",\"39\",\"marriage\",\"curves\",\"places\",\"20th\",\"neck\",\"similar\",\"germany\",\"ahahahaha\",\"untouchable\",\"nobody\",\"setting\",\"sunset\",\"observe\",\"surroundings\",\"postman\",\"pinched\",\"clock\",\"arrghh\",\"dye\",\"afraid\",\"spoil\",\"inlove\",\"twas\",\"aawww\",\"iron\",\"filled\",\"odd\",\"430\",\"coool\",\"entertainment\",\"submit\",\"musical\",\"recording\",\"mid\",\"file\",\"conditioner\",\"\\u00a4\",\"imagine\",\"chuck\",\"sittin\",\"nt\",\"340\",\"tierd\",\"scraped\",\"toe\",\"fav\",\"yellow\",\"disneyland\",\"mickey\",\"mouse\",\"lives\",\"nkotb\",\"23rd\",\"ping\",\"pong\",\"grade\",\"delivering\",\"adult\",\"education\",\"traditional\",\"ce\",\"collapsing\",\"b-side\",\"getaway\",\"lifeguard\",\"tesco\",\"peace\",\"sky\",\"ako\",\"din\",\"nalang\",\"kayo\",\"dito\",\"fro\",\"bff\",\"realli\",\"wbu\",\"shoot\",\"swish\",\"grats\",\"finishing\",\"semester\",\"ac\",\"munching\",\"grease\",\"snack\",\"prefer\",\"lounge\",\"puncture\",\"possible\",\"stats\",\"unfortunate\",\"boa\",\"tarde\",\"pow\",\"q\",\"um\",\"clip\",\"colds\",\"remedy\",\"truck\",\"unlimited\",\"ringtones\",\"cal\",\"8th\",\"gr\",\"dance\",\"stick\",\"insects\",\"bender\",\"passport\",\"huni\",\"jst\",\"modeling\",\"wkend\",\"mite\",\"nemore\",\"success\",\"hoodie\",\"nerds\",\"entertained\",\"pooch\",\"touch\",\"casing\",\"looove\",\"dq\",\"rejected\",\"200\",\"8:\",\"winner\",\"gavin\",\"kristi\",\"mr\",\"grateful\",\"business\",\"rocks\",\"south\",\"goto\",\"drat\",\"chip\",\"prices\",\"roof\",\"calm\",\"pc's\",\"east\",\"coast\",\"lmfao\",\"cavs\",\"drag\",\"hmph\",\"wii\",\"2am\",\"muscles\",\"caps\",\"obnoxious\",\"celebrities\",\"spoke\",\"huntington\",\"honey\",\"gr8\",\"sweet\",\"thanx\",\"nature\",\"afford\",\"loose\",\"bleah\",\"coke\",\"amounts\",\"asked\",\"cbc\",\"atl\",\"decided\",\"washed\",\"straighten\",\"bust\",\"chores\",\"hits\",\"comming\",\"favour\",\"mumbai\",\"mtv\",\"swollen\",\"srsly\",\"meredith\",\"lexie\",\"bridesmaid\",\"i'd\",\"huh\",\"ooo\",\"divorce\",\"skanky\",\"you've\",\"tweeted\",\"santa\",\"monica\",\"heat\",\"touchscreen\",\"m\\u00ef\",\"\\u00bdy\",\"em\",\"torrent\",\"th\\u00ef\",\"b\\u00ef\",\"ch\",\"tr\\u00ef\",\"\\u00bdn\",\"nh\\u00ef\",\"ang\",\"argh\",\"began\",\"logan\",\"flight\",\"delayed\",\"everytime\",\"october\",\"lilly\",\"figures\",\"budget\",\"impressed\",\"veggie\",\"tomatoes\",\"squash\",\"potatoes\",\"peas\",\"covering\",\"relatively\",\"dry\",\"round\",\"homemade\",\"oreos\",\"queasy\",\"level\",\"golf\",\"cannon\",\"putt\",\"dough\",\"monies\",\"tampa\",\"topless\",\"key\",\"instructor\",\"kings\",\"island\",\"kristen\",\"begging\",\"anxiously\",\"ingredient\",\"brownies\",\"nervous\",\"jailbroken\",\"agent\",\"miley's\",\"weren't\",\"bases\",\"mornings\",\"removed\",\"violation\",\"ranelection\",\"basketball\",\"overcast\",\"bills\",\"tuesdays\",\"gloomy\",\"battery\",\"charge\",\"decisions\",\"busch\",\"gardens\",\"workie\",\"appreciated\",\"psyched\",\"tweetup\",\"badness\",\"iran\",\"aus\",\"uplifting\",\"doom\",\"gloom\",\"shift\",\"ikea\",\"relaxing\",\"ob\",\"storm\",\"i'ts\",\"obviously\",\"lighting\",\"webcam\",\"http://bit.ly/czhd8\",\"oprah\",\"bloody\",\"progressing\",\"seats\",\"freaky\",\"yells\",\"runs\",\"hehehehe\",\"awful\",\"human\",\"harlem\",\"shuld\",\"directions\",\"false\",\"boutique\",\"bia\",\"newest\",\"tempted\",\"froze\",\"winning\",\"jules\",\"addison\",\"gosselin\",\"filing\",\"mice\",\"attic\",\"neeed\",\"bin\",\"loveee\",\"bowling\",\"rising\",\"rates\",\"threaten\",\"dim\",\"prospects\",\"housing\",\"recovery\",\"con\",\"links\",\"ended\",\"\\u00b1\",\"ana\",\"eep\",\"lines\",\"vines\",\"maria\",\"brazil\",\"beta\",\"oldest\",\"submarine\",\"fiber\",\"cable\",\"damaged\",\"fabulous\",\"push\",\"offline\",\"cupcakes\",\"oven\",\"cooked\",\"hs\",\"rough\",\"jobless\",\"intel\",\"graphics\",\"housewarming\",\"jury\",\"worry\",\"grounded\",\"grades\",\"lifes\",\"awhile\",\"09\",\"others\",\"probs\",\"wid\",\"yahoo\",\"messenger\",\"shifts\",\"ruining\",\"talking\",\"sooon\",\"2000\",\"jammies\",\"however\",\"yoou\",\"waaant\",\"rhode\",\"seed\",\"starts\",\"bt\",\"dnt\",\"danced\",\"husband\",\"strip\",\"skate\",\"leaked\",\"psp\",\"breath\",\"sour\",\"patch\",\"sunflower\",\"seeds\",\"announce\",\"writers\",\"retreat\",\"panda\",\"mothers\",\"congratulations\",\"reli\",\"4.50\",\"alls\",\"quote\",\"insane\",\"filed\",\"drunken\",\"threat\",\"u've\",\"sophia\",\"ellie\",\"belly\",\"scored\",\"chick\",\"underneath\",\"ye\",\"agreed\",\"t__t\",\"affordable\",\"wack\",\"kc\",\"choices\",\"skint\",\"packin\",\"poorly\",\"lisa\",\"moo\",\"9am\",\"personally\",\"issues\",\"hinder\",\"evenings\",\"pup\",\"introduce\",\"seven\",\"micro\",\"lg\",\"di\",\"tp\",\"apa\",\"daya\",\"tak\",\"marvelous\",\"sicky\",\"lakewood\",\"twitterfon\",\"fills\",\"ordered\",\"likes\",\"friendship\",\"relationships\",\"recorded\",\"become\",\"communities\",\"forgotten\",\"baddd\",\"ganna\",\"fire\",\"alarm\",\"replied\",\"dumb\",\"halle\",\"hocangetit\",\"uniform\",\"pronounced\",\"italian\",\"sheesh\",\"lipstick\",\"sister's\",\"hai\",\"realize\",\"quick\",\"goa\",\"daddy\",\"los\",\"angeles\",\"india\",\"messed\",\"doors\",\"luxury\",\"vista\",\"effin\",\"5am\",\"raymond\",\"blackberry\",\"recliner\",\"smart\",\"headachy\",\"boxes\",\"cavities\",\"clubbin\",\"twit\",\"terrifying\",\"vibes\",\"unbelievable\",\"newbies\",\"common\",\"humanity\",\"alfred\",\"women\",\"romania\",\"fairies\",\"outfits\",\"whats\",\"trashy\",\"countdown\",\"dot\",\"replaced\",\"gps\",\"sms\",\"lecturer\",\"jg\",\"heee\",\"stomachache\",\"posting\",\"pnc\",\"suppose\",\"comfortable\",\"blanket\",\"locals\",\"archie\",\"safe\",\"drupal\",\"painting\",\"mention\",\"downloads\",\"woop\",\"depressing\",\"china\",\"gifts\",\"batman\",\"mon\",\"hoops\",\"nicked\",\"l's\",\"cutting\",\"thankfully\",\"smiled\",\"notebook\",\"somethings\",\"sewing\",\"bless\",\"susan\",\"boyle\",\"career\",\"fixed\",\"retweet\",\"alex\",\"prepared\",\"doin\",\"horrific\",\"\\\\\",\"15th\",\"ron\",\"draco\",\"hating\",\"hoo\",\"smoothie\",\"mich\",\"assholes\",\"nowww\",\"howie\",\"switch\",\"suburbs\",\"unbelievably\",\"view\",\"southern\",\"herpes\",\"joke\",\"spray\",\"tanned\",\"third\",\"moved\",\"dates\",\"japan\",\"mines\",\"allready\",\"lyric\",\"10:30\",\"shatner\",\"didn\\u00ef\",\"we\\u00ef\",\"\\u00bdre\",\"doomed\",\"discovery\",\"programming\",\"thunderstorms\",\"calves\",\"chipotle\",\"good-bye\",\"mgr\",\"bid\",\"elena\",\"angel\",\"libs\",\"textbook\",\"lecture\",\"beanie\",\"jp\",\"someone's\",\"requested\",\"culture\",\"waitin\",\"ships\",\"baking\",\"dami\",\"namin\",\"dapat\",\"nag\",\"lang\",\"csi\",\"space\",\"sunlight\",\"shut\",\"difficult\",\"followin\",\"involves\",\"finances\",\"dismal\",\"boredd\",\"classic\",\"metal\",\"students\",\"reaching\",\"partially\",\"raised\",\"cof\",\"norwich\",\"taught\",\"accepted\",\"champ\",\"upside\",\"radiator\",\"paste\",\"treadmill\",\"hubbie\",\"pups\",\"nickname\",\"ducky\",\"drizzling\",\"appointment\",\"mixture\",\"meal\",\"curry\",\"veg\",\"wild\",\"murray\",\"neon\",\"4-6\",\"http://ustre.am/3v2f\",\"snuck\",\"wolverine\",\"bell\",\"v\",\"redbull\",\"www.youtube.com/titomi15..watch\",\"suscribe\",\"2mo\",\"possibility\",\"carrying\",\"styling\",\"concerts\",\"talented\",\"musicians\",\"gentle\",\"sickk\",\"tattoo\",\"scar\",\"bakers\",\"toilets\",\"miserable\",\"wat\",\"paranormal\",\"ions\",\"coursework\",\"hyitweet\",\"importance\",\"88\",\"mostly\",\"blind\",\"limited\",\"whom\",\"es\",\"ein\",\"mp3\",\"bud\",\"havin\",\"ova\",\"tent\",\"wooo\",\"reach\",\"card\",\"aspirin\",\"thnks\",\"philippines\",\"crapping\",\"rumour\",\"coincidence\",\"four\",\"gloria\",\"became\",\"jan\",\"jane\",\"jean\",\"jenny\",\"joan\",\"dylan\",\"glen\",\"beck\",\"pressure\",\"sighs\",\"stormy\",\"st\",\"louis\",\"forcing\",\"bing\",\"ie6\",\"shared\",\"punished\",\"surprising\",\"th\",\"12am\",\"putting\",\"owe\",\"backed\",\"slowness\",\"tense\",\"python\",\"refusing\",\"correctly\",\"pathetic\",\"plays\",\"action\",\". . .\",\"spirit\",\"steve\",\"installation\",\"rooting\",\"hairdryer\",\"buh\",\"inbox\",\"click\",\"6-7\",\"numbers\",\"login\",\"torn\",\"total\",\"speechless\",\"convo\",\"arrest\",\"zomg\",\"unsure\",\"voyager\",\"tng\",\"practical\",\"squirrel\",\"podcast\",\"equivalent\",\"surrounded\",\"animated\",\"tonight's\",\"simpsons\",\"sarcastic\",\"reflection\",\"monsoon\",\"nyc\",\"sum\",\"twizzlers\",\"mom's\",\"subscribe\",\"hereee\",\"gow\",\"march\",\"2010\",\"wins\",\"land\",\"mysterious\",\"blake\",\"gen\",\"nonsense\",\"smelling\",\"goddammit\",\"pride\",\"joy\",\"cocktail\",\"uggghhh\",\"rarely\",\"that'd\",\"case\",\"among\",\"bridge\",\"loans\",\"scare\",\"calorie\",\"counter\",\"cheddar\",\"kitchen\",\"chef\",\"tasting\",\"virtually\",\"sendin\",\"arm\",\"incase\",\"longtime\",\"affair\",\"opportunities\",\"ud\",\"stressed\",\"recommending\",\"hulu\",\"butchered\",\"ben\",\"drew\",\"pleeease\",\"coldd\",\"incomplete\",\"sheeesh\",\"charged\",\"pidgin\",\"eminem\",\"verbal\",\"asks\",\"crash\",\"northeast\",\"manic\",\"joseph\",\"bikini\",\"assignments\",\"household\",\"adjust\",\"moustache\",\"fancied\",\"hitler\",\"situations\",\"nat\",\"jalapeno\",\"elbow\",\"reader\",\"cavity\",\"slob\",\"punk\",\"fyi\",\"bali\",\"logo\",\"gear\",\"bleeding\",\"gorgeous\",\"latest\",\"kittie\",\"duh\",\"disapointed\",\"clark\",\"kent\",\"sweat\",\"meanie\",\"joined\",\"font\",\"txt\",\"inch\",\"creepy\",\"reasonable\",\"invent\",\"pee\",\"madd\",\"yeees\",\"nowhere\",\"gadget\",\"easier\",\"zero\",\"achieved\",\"1200\",\"sulking\",\"justified\",\"xl\",\"arghhh\",\"amp\",\"suggestions\",\"punched\",\"knuckles\",\"bled\",\"yelled\",\"weeding\",\"yard\",\"uggg\",\"tissue\",\"foot\",\"mt\",\"grace\",\"belgian\",\"google\",\"workday\",\"staples\",\"hahahh\",\"shank\",\"becuase\",\"finds\",\"polka\",\"fabric\",\"ship\",\"dust\",\"cheesecake\",\"hott\",\"dt\",\"burning\",\"yippee\",\"available\",\"i-phone\",\"whatever\",\"marketing\",\"carla\",\"dominos\",\"scandal\",\"must've\",\"bulldog\",\"picking\",\"discharged\",\"op\",\"daily\",\"injection\",\"district\",\"deadline\",\"yawn\",\"jaw\",\"pops\",\"follows\",\"exit\",\"unfollows\",\"everybody\",\"courthouse\",\"speeding\",\"advil\",\"sluggish\",\"stack\",\"freezes\",\"boyfriends\",\"gaaah\",\"21st\",\"geek\",\"bathroom\",\"ashley\",\"mohegan\",\"aunt's\",\"overnight\",\"keyboard\",\"comcast\",\"fault\",\"prof\",\"knock\",\"dats\",\"dunt\",\"kissing\",\"poser\",\"disappearing\",\"dayy\",\"everyone's\",\"britney\",\"suddenly\",\"pace\",\"anxious\",\"they'll\",\"wm\",\"6.5\",\"omnia\",\"xp\",\"ps1\",\"cds\",\"screwed\",\"turning\",\"quality\",\"eclipse\",\"h\",\"schedule\",\"wisconsin\",\"marina\",\"del\",\"rey\",\"zac\",\"jb\",\"drinkies\",\"dominating\",\"fir\",\"walked\",\"7:20\",\"showered\",\"puke\",\"hellla\",\"nowt\",\"poppin\",\"ram\",\"jessica\",\"posh\",\"mag\",\"apart\",\"selena\",\"gomez\",\"workin\",\"needa\",\"drained\",\"seldom\",\"epidemic\",\"thousand\",\"splendid\",\"suns\",\"spark\",\"whoops\",\"closet\",\"wakeup\",\"aubrey\",\"choke\",\"flowing\",\"lit\",\"3500\",\"essays\",\"single\",\"ve\",\"thinkin\",\"quoting\",\"hashtag\",\"camping\",\"emotional\",\"reset\",\"freezing\",\"alcohol\",\"glorious\",\"vibrating\",\"streaming\",\"hq\",\"droped\",\"tought\",\"ddub\",\"capture\",\"330\",\"puffs\",\"flask\",\"demands\",\"broadcasting\",\"dump\",\"tool\",\"director\",\"invited\",\"identified\",\"keys\",\"humane\",\"removal\",\"raccoons\",\"circumstances\",\"arrange\",\"nic\",\"roll\",\"spin\",\"sneaker\",\"learnt\",\"sessions\",\"collect\",\"instruction\",\"texts\",\"prayin\",\"crystal\",\"pulls\",\"irony\",\"haunted\",\"supa\",\"concerned\",\"bailey\",\"avi\",\"males\",\"hiks\",\"wally\",\"cameron\",\"bamboo\",\"bagel\",\"grapevine\",\"ceci\",\"godaddy\",\"zealand\",\"mistaken\",\"cheerios\",\"scones\",\"diary\",\"it'd\",\"journal\",\"onys\",\"showing\",\"prep\",\"relate\",\"woe\",\"doctor\",\"tee\",\"european\",\"sorbet\",\"mapping\",\"certified\",\"tourism\",\"deals\",\"crank\",\"auction\",\"goose\",\"someones\",\"donna\",\"sup\",\"pinkpop\",\"search\",\"engine\",\"ranking\",\"factor\",\"v2\",\"article\",\"figured\",\"toning\",\"beefy\",\"ballet\",\"folder\",\"digg\",\"pogo\",\"gif\",\"]:\",\"backflip\",\"sos\",\"pho\",\"bubba\",\"cafe\",\"7:30\",\"appt\",\"pure\",\"mathematics\",\"highest\",\"difficulty\",\"blast\",\"katie\",\"alexa\",\"volleyball\",\"tourny\",\"bringing\",\"breakin\",\"mraz\",\"listenin\",\"moyles\",\"duration\",\"resistance\",\"balls\",\"argument\",\"housemates\",\"fairly\",\"shitty\",\"jacuzzi\",\"11pm\",\"dh\",\"blew\",\"mornin\",\"haaate\",\"canterbury\",\"compared\",\"configure\",\"laptops\",\"grandma\",\"aim\",\"nooot\",\"prison\",\"escape\",\"desperatly\",\"snuggles\",\"simply\",\"cerritos\",\"ballard\",\"78\",\"films\",\"france\",\"atlantic\",\"m's\",\"bird\",\"penguins\",\"penguin\",\"cow\",\"emailing\",\"ally\",\"freaked\",\"stationed\",\"cupertino\",\"tunes\",\"pple\",\"july\",\"27\",\"patrol\",\"join\",\"lineup\",\"banquet\",\"augh\",\"shaving\",\"sell\",\"hahaa\",\"mcm\",\"yg\",\"sakit\",\"babi\",\"esp\",\"entire\",\"seasons\",\"you'd\",\"dancing\",\"blessed\",\"neil\",\"lotsa\",\"qualified\",\"nyte\",\"americans\",\"hsm\",\"tablets\",\"becuz\",\"encouragement\",\"appreciate\",\"beb\",\"ahah\",\"rambo\",\"legacy\",\"code\",\"takin\",\"housework\",\"snowing\",\"devo\",\"scotty\",\"\\u00a5\",\"claim\",\"maths\",\"devil\",\"400\",\"weather's\",\"changing\",\"lifeline\",\"druid\",\"costume\",\"shinning\",\"feb\",\"mainly\",\"furniture\",\"dealer\",\"performed\",\"prague\",\"chapter\",\"upgraded\",\"blogger\",\"layout\",\"rebuilding\",\"boooring\",\"wireless\",\"template\",\"volumes\",\"crippled\",\"philosophy\",\"bricking\",\"correct\",\"bee\",\"slip\",\"disgusting\",\"mc\",\"parent\",\"samsung\",\"flip\"],\"x\":{\"__ndarray__\":\"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\",\"dtype\":\"float32\",\"shape\":[5000]},\"y\":{\"__ndarray__\":\"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\",\"dtype\":\"float32\",\"shape\":[5000]}},\"selected\":{\"id\":\"1774\",\"type\":\"Selection\"},\"selection_policy\":{\"id\":\"1773\",\"type\":\"UnionRenderers\"}},\"id\":\"1760\",\"type\":\"ColumnDataSource\"},{\"attributes\":{},\"id\":\"1770\",\"type\":\"BasicTickFormatter\"},{\"attributes\":{\"formatter\":{\"id\":\"1770\",\"type\":\"BasicTickFormatter\"},\"ticker\":{\"id\":\"1741\",\"type\":\"BasicTicker\"}},\"id\":\"1740\",\"type\":\"LinearAxis\"},{\"attributes\":{\"dimension\":1,\"ticker\":{\"id\":\"1741\",\"type\":\"BasicTicker\"}},\"id\":\"1744\",\"type\":\"Grid\"}],\"root_ids\":[\"1726\"]},\"title\":\"Bokeh Application\",\"version\":\"1.3.0\"}};\n",
       "  var render_items = [{\"docid\":\"046db44a-c0d9-4662-bfe5-c3f1f83a0666\",\"roots\":{\"1726\":\"d1be8f70-56e7-44f2-b114-dd22f78f8c0d\"}}];\n",
       "  root.Bokeh.embed.embed_items_notebook(docs_json, render_items);\n",
       "\n",
       "  }\n",
       "  if (root.Bokeh !== undefined) {\n",
       "    embed_document(root);\n",
       "  } else {\n",
       "    var attempts = 0;\n",
       "    var timer = setInterval(function(root) {\n",
       "      if (root.Bokeh !== undefined) {\n",
       "        embed_document(root);\n",
       "        clearInterval(timer);\n",
       "      }\n",
       "      attempts++;\n",
       "      if (attempts > 100) {\n",
       "        console.log(\"Bokeh: ERROR: Unable to run BokehJS code because BokehJS library is missing\");\n",
       "        clearInterval(timer);\n",
       "      }\n",
       "    }, 10, root)\n",
       "  }\n",
       "})(window);"
      ],
      "application/vnd.bokehjs_exec.v0+json": ""
     },
     "metadata": {
      "application/vnd.bokehjs_exec.v0+json": {
       "id": "1726"
      }
     },
     "output_type": "display_data"
    }
   ],
   "source": [
    "TOOLS=\"hover,crosshair,pan,wheel_zoom,zoom_in,zoom_out,box_zoom,\"\n",
    "\n",
    "p = figure(tools=TOOLS)\n",
    "\n",
    "p.scatter(x='x', y='y', source=tsne_df)\n",
    "\n",
    "hover = p.select(dict(type=HoverTool))\n",
    "hover.tooltips = [\n",
    "    (\"word\", \"@words\"),\n",
    "]\n",
    "\n",
    "output_notebook()\n",
    "\n",
    "show(p)"
   ]
  },
  {
   "cell_type": "markdown",
   "metadata": {},
   "source": [
    "## Transforming"
   ]
  },
  {
   "cell_type": "markdown",
   "metadata": {},
   "source": [
    "We use TF-IDF weightings to weight word vectors accordingly"
   ]
  },
  {
   "cell_type": "code",
   "execution_count": 28,
   "metadata": {},
   "outputs": [],
   "source": [
    "vectorizer = TfidfVectorizer(analyzer=lambda x: x, min_df=10)\n",
    "matrix = vectorizer.fit_transform([x.words for x in X_train])\n",
    "tfidf = dict(zip(vectorizer.get_feature_names(), vectorizer.idf_))"
   ]
  },
  {
   "cell_type": "code",
   "execution_count": 29,
   "metadata": {},
   "outputs": [],
   "source": [
    "def create_tweet_vector(words, ndims=200):\n",
    "    vector = np.zeros((1, ndims))\n",
    "    count = 0\n",
    "    \n",
    "    for w in words:\n",
    "        try:\n",
    "            vector += tweet_w2v.wv[w].reshape((1, ndims)) * tfidf[w]\n",
    "            count += 1\n",
    "        except KeyError:\n",
    "            continue\n",
    "    \n",
    "    if count != 0:\n",
    "        return np.divide(vector,count)\n",
    "    else:\n",
    "        return vector"
   ]
  },
  {
   "cell_type": "code",
   "execution_count": 30,
   "metadata": {},
   "outputs": [
    {
     "data": {
      "application/vnd.jupyter.widget-view+json": {
       "model_id": "5d4104d6b53d42599decdd7dd4ce2893",
       "version_major": 2,
       "version_minor": 0
      },
      "text/plain": [
       "HBox(children=(IntProgress(value=1, bar_style='info', max=1), HTML(value='')))"
      ]
     },
     "metadata": {},
     "output_type": "display_data"
    },
    {
     "name": "stdout",
     "output_type": "stream",
     "text": [
      "\n"
     ]
    },
    {
     "data": {
      "application/vnd.jupyter.widget-view+json": {
       "model_id": "1d27d19c07f44282bd1390cc98027dda",
       "version_major": 2,
       "version_minor": 0
      },
      "text/plain": [
       "HBox(children=(IntProgress(value=1, bar_style='info', max=1), HTML(value='')))"
      ]
     },
     "metadata": {},
     "output_type": "display_data"
    },
    {
     "name": "stdout",
     "output_type": "stream",
     "text": [
      "\n"
     ]
    }
   ],
   "source": [
    "train_vec_tweets = np.concatenate([create_tweet_vector(x, N_DIM) for x in tqdm_notebook(map(lambda x: x.words, X_train))])\n",
    "train_vec_tweets = scale(train_vec_tweets)\n",
    "\n",
    "test_vec_tweets = np.concatenate([create_tweet_vector(x, N_DIM) for x in tqdm_notebook(map(lambda x: x.words, X_test))])\n",
    "test_vec_tweets = scale(test_vec_tweets)"
   ]
  },
  {
   "cell_type": "markdown",
   "metadata": {},
   "source": [
    "## Neural Architecture in Keras"
   ]
  },
  {
   "cell_type": "code",
   "execution_count": 31,
   "metadata": {},
   "outputs": [
    {
     "name": "stderr",
     "output_type": "stream",
     "text": [
      "W0727 13:33:39.524584 139637494863680 deprecation_wrapper.py:119] From /home/malits/anaconda3/lib/python3.7/site-packages/keras/backend/tensorflow_backend.py:986: The name tf.assign_add is deprecated. Please use tf.compat.v1.assign_add instead.\n",
      "\n"
     ]
    },
    {
     "name": "stdout",
     "output_type": "stream",
     "text": [
      "Epoch 1/9\n",
      " - 25s - loss: 0.3493 - acc: 0.8545\n",
      "Epoch 2/9\n",
      " - 25s - loss: 0.3369 - acc: 0.8595\n",
      "Epoch 3/9\n",
      " - 25s - loss: 0.3338 - acc: 0.8610\n",
      "Epoch 4/9\n",
      " - 25s - loss: 0.3318 - acc: 0.8623\n",
      "Epoch 5/9\n",
      " - 25s - loss: 0.3305 - acc: 0.8626\n",
      "Epoch 6/9\n",
      " - 25s - loss: 0.3297 - acc: 0.8630\n",
      "Epoch 7/9\n",
      " - 25s - loss: 0.3289 - acc: 0.8632\n",
      "Epoch 8/9\n",
      " - 25s - loss: 0.3283 - acc: 0.8637\n",
      "Epoch 9/9\n",
      " - 25s - loss: 0.3280 - acc: 0.8640\n",
      "200000/200000 [==============================] - 3s 13us/step\n"
     ]
    }
   ],
   "source": [
    "model = Sequential([\n",
    "    Dense(32, input_dim=N_DIM),\n",
    "    Activation('relu'),\n",
    "    Dense(1),\n",
    "    Activation('sigmoid')\n",
    "])\n",
    "model.compile(optimizer='rmsprop',\n",
    "             loss='binary_crossentropy',\n",
    "             metrics=['accuracy'])\n",
    "\n",
    "model.fit(train_vec_tweets, y_train, epochs=9, batch_size=32, verbose=2)\n",
    "\n",
    "score = model.evaluate(test_vec_tweets, y_test, batch_size=32)"
   ]
  },
  {
   "cell_type": "code",
   "execution_count": 32,
   "metadata": {},
   "outputs": [
    {
     "data": {
      "text/plain": [
       "[0.3337647577881813, 0.861485]"
      ]
     },
     "execution_count": 32,
     "metadata": {},
     "output_type": "execute_result"
    }
   ],
   "source": [
    "score"
   ]
  },
  {
   "cell_type": "code",
   "execution_count": 67,
   "metadata": {},
   "outputs": [],
   "source": [
    "def predict_text(texts):\n",
    "    texts = [tokenize(text) for text in texts]\n",
    "    matrix = np.concatenate([create_tweet_vector(t, N_DIM) for t in texts])\n",
    "    return model.predict(matrix)"
   ]
  },
  {
   "cell_type": "code",
   "execution_count": 90,
   "metadata": {},
   "outputs": [
    {
     "data": {
      "text/plain": [
       "array([[7.7025041e-05],\n",
       "       [9.9925810e-01],\n",
       "       [9.9969125e-01],\n",
       "       [9.9715638e-01],\n",
       "       [9.8254794e-01]], dtype=float32)"
      ]
     },
     "execution_count": 90,
     "metadata": {},
     "output_type": "execute_result"
    }
   ],
   "source": [
    "predict_text([\"I hate everything. Today sucks!\", \"I love myself. Life is awesome!\", \"Make America Great Again\", \"Kanye West\", \"Caleb Litster\"])"
   ]
  },
  {
   "cell_type": "markdown",
   "metadata": {},
   "source": [
    "## Pickling the neural model, w2vec model and tfidf lookup"
   ]
  },
  {
   "cell_type": "code",
   "execution_count": 34,
   "metadata": {},
   "outputs": [
    {
     "data": {
      "text/plain": [
       "'\\npkl.dump(model, open(\"data/sentiment_classifier00.pkl\", \"wb\"))\\npkl.dump(tweet_w2v, open(\"data/tweet_w2v00.pkl\", \"wb\"))\\npkl.dump(tfidf, open(\"data/tfidf_lookup00.pkl\", \"wb\"))\\n'"
      ]
     },
     "execution_count": 34,
     "metadata": {},
     "output_type": "execute_result"
    }
   ],
   "source": [
    "\"\"\"\n",
    "pkl.dump(model, open(\"data/sentiment_classifier00.pkl\", \"wb\"))\n",
    "pkl.dump(tweet_w2v, open(\"data/tweet_w2v00.pkl\", \"wb\"))\n",
    "pkl.dump(tfidf, open(\"data/tfidf_lookup00.pkl\", \"wb\"))\n",
    "\"\"\""
   ]
  },
  {
   "cell_type": "markdown",
   "metadata": {},
   "source": [
    "## Productionalizing Code"
   ]
  },
  {
   "cell_type": "code",
   "execution_count": 69,
   "metadata": {},
   "outputs": [],
   "source": [
    "class SentimentAnalyzer:\n",
    "    \n",
    "    def __init__(self):\n",
    "        self.ndims = 200\n",
    "    \n",
    "    def load_model(self):\n",
    "        self.classifier = pkl.load(open(\"data/sentiment_classifier00.pkl\", \"rb\"))\n",
    "        self.word2vec = pkl.load(open(\"data/tweet_w2v00.pkl\", \"rb\"))\n",
    "        self.tfidf = pkl.load(open(\"data/tfidf_lookup00.pkl\", \"rb\"))\n",
    "        \n",
    "    def tokenize(self, tweet):\n",
    "        sub_regex = r'(#[A-Za-z0-9])|(https)\\?!\\.,'\n",
    "        tweet = str(tweet)\n",
    "        tokens = tokenizer.tokenize(tweet)\n",
    "        tokens = [re.sub(sub_regex, '', t) for t in tokens]\n",
    "        tokens = [t.lower() for t in tokens if t is not None and t != '']\n",
    "        tokens = [t for t in tokens if t not in STOPWORDS]\n",
    "        return tokens\n",
    "    \n",
    "    def create_tweet_vector(self, words):\n",
    "        vector = np.zeros((1, self.ndims))\n",
    "        count = 0\n",
    "\n",
    "        for w in words:\n",
    "            try:\n",
    "                vector += self.tweet_w2v.wv[w].reshape((1, self.ndims)) * self.tfidf[w]\n",
    "                count += 1\n",
    "            except KeyError:\n",
    "                continue\n",
    "\n",
    "        if count != 0:\n",
    "            return np.divide(vector,count)\n",
    "        else:\n",
    "            return vector\n",
    "    \n",
    "    def predict_sentiment(self, texts):\n",
    "        texts = [self.tokenize(text) for text in texts]\n",
    "        tweet_vectors = np.concatenate([self.create_tweet_vector(text) for text in texts])\n",
    "        return self.classifier.predict(tweet_vectors)"
   ]
  },
  {
   "cell_type": "code",
   "execution_count": null,
   "metadata": {},
   "outputs": [],
   "source": []
  }
 ],
 "metadata": {
  "kernelspec": {
   "display_name": "Python 3",
   "language": "python",
   "name": "python3"
  },
  "language_info": {
   "codemirror_mode": {
    "name": "ipython",
    "version": 3
   },
   "file_extension": ".py",
   "mimetype": "text/x-python",
   "name": "python",
   "nbconvert_exporter": "python",
   "pygments_lexer": "ipython3",
   "version": "3.7.3"
  }
 },
 "nbformat": 4,
 "nbformat_minor": 2
}
