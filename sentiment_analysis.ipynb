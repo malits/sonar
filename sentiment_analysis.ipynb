{
 "cells": [
  {
   "cell_type": "markdown",
   "metadata": {},
   "source": [
    "## SONAR: Emotionally Intelligent Music Recommendations\n",
    "\n",
    "Draws heavily from [this tutorial](https://ahmedbesbes.com/sentiment-analysis-on-twitter-using-word2vec-and-keras.html)\n",
    "\n",
    "Welcome to Sonar! This project was inpired me to first explore Machine Learning. The premise is simple: we often want different music to listen to based on our mood. However, oftentimes finding that music proves difficult. Sonar takes away that difficulty: by entering short mood messages, sonar generates Spotify recommendations using both your old favorites and determined mood. \n",
    "\n",
    "Enjoy!"
   ]
  },
  {
   "cell_type": "code",
   "execution_count": 99,
   "metadata": {},
   "outputs": [
    {
     "data": {
      "application/vnd.jupyter.widget-view+json": {
       "model_id": "b71fb2148b064a3bb1729de37141b8b5",
       "version_major": 2,
       "version_minor": 0
      },
      "text/plain": [
       "HBox(children=(IntProgress(value=1, bar_style='info', max=1), HTML(value='')))"
      ]
     },
     "metadata": {},
     "output_type": "display_data"
    }
   ],
   "source": [
    "import re\n",
    "\n",
    "from bokeh.plotting import figure, show, output_notebook\n",
    "from bokeh.models import HoverTool\n",
    "import dill as pkl\n",
    "import gensim\n",
    "from gensim.models.word2vec import Word2Vec\n",
    "from keras import Sequential\n",
    "from keras.layers import Dense, Activation\n",
    "import matplotlib.pyplot as plt\n",
    "import numpy as np\n",
    "from nltk.tokenize import TweetTokenizer\n",
    "from nltk.corpus import stopwords\n",
    "import pandas as pd\n",
    "from sklearn.feature_extraction.text import TfidfVectorizer\n",
    "from sklearn.manifold import TSNE\n",
    "from sklearn.model_selection import train_test_split\n",
    "from sklearn.preprocessing import scale\n",
    "from tensorflow.python.keras.preprocessing.text import Tokenizer\n",
    "from tensorflow.python.keras.preprocessing.sequence import pad_sequences\n",
    "from tqdm import tqdm_notebook, tqdm\n",
    "\n",
    "tqdm_notebook().pandas(desc=\"progress-bar\")\n",
    "tokenizer = TweetTokenizer(strip_handles=True, reduce_len=True)\n",
    "TaggedDocument = gensim.models.doc2vec.TaggedDocument\n",
    "STOPWORDS = set(stopwords.words('english'))\n",
    "\n",
    "not_stops = [\"but\", \"very\", \"most\", \"nor\", \"no\", \"against\"]\n",
    "for stop in not_stops:\n",
    "    STOPWORDS.remove(stop)\n",
    "    \n",
    "%matplotlib inline"
   ]
  },
  {
   "cell_type": "markdown",
   "metadata": {},
   "source": [
    "### Preprocessing\n",
    "\n",
    "- Load tweets into a usable format. Binarize sentiment from {0, 1, 2, 3, 4} to {0, 1} with 2 serving as the cut off for a \"positive\" sentiment. Clean up null values and reindex.\n",
    "\n",
    "- Tokenize the data and take only the n values we aim to use in training."
   ]
  },
  {
   "cell_type": "code",
   "execution_count": 100,
   "metadata": {},
   "outputs": [],
   "source": [
    "def load_tweets():\n",
    "    tweets_train = pd.read_csv(\"/home/malits/data/twitter_sentiment_analysis/training.1600000.processed.noemoticon.csv\", \n",
    "                               encoding = \"ISO-8859-1\")\n",
    "    data = pd.DataFrame()\n",
    "    data[\"sentiment\"] = tweets_train[\"0\"].apply(lambda v: 1 if (v >= 2) else 0)\n",
    "    data[\"sentiment\"] = data[\"sentiment\"].map(int)\n",
    "    data[\"tweet\"] = tweets_train.iloc[:, [5]]\n",
    "    data[\"tweet\"] = data[\"tweet\"].astype(str)\n",
    "    data = data[data['tweet'].isnull() == False]\n",
    "    data.reset_index(inplace=True)\n",
    "    data.drop('index', axis=1, inplace=True)\n",
    "    \n",
    "    return data"
   ]
  },
  {
   "cell_type": "code",
   "execution_count": 101,
   "metadata": {},
   "outputs": [
    {
     "data": {
      "text/html": [
       "<div>\n",
       "<style scoped>\n",
       "    .dataframe tbody tr th:only-of-type {\n",
       "        vertical-align: middle;\n",
       "    }\n",
       "\n",
       "    .dataframe tbody tr th {\n",
       "        vertical-align: top;\n",
       "    }\n",
       "\n",
       "    .dataframe thead th {\n",
       "        text-align: right;\n",
       "    }\n",
       "</style>\n",
       "<table border=\"1\" class=\"dataframe\">\n",
       "  <thead>\n",
       "    <tr style=\"text-align: right;\">\n",
       "      <th></th>\n",
       "      <th>sentiment</th>\n",
       "      <th>tweet</th>\n",
       "    </tr>\n",
       "  </thead>\n",
       "  <tbody>\n",
       "    <tr>\n",
       "      <th>0</th>\n",
       "      <td>0</td>\n",
       "      <td>is upset that he can't update his Facebook by ...</td>\n",
       "    </tr>\n",
       "    <tr>\n",
       "      <th>1</th>\n",
       "      <td>0</td>\n",
       "      <td>@Kenichan I dived many times for the ball. Man...</td>\n",
       "    </tr>\n",
       "    <tr>\n",
       "      <th>2</th>\n",
       "      <td>0</td>\n",
       "      <td>my whole body feels itchy and like its on fire</td>\n",
       "    </tr>\n",
       "    <tr>\n",
       "      <th>3</th>\n",
       "      <td>0</td>\n",
       "      <td>@nationwideclass no, it's not behaving at all....</td>\n",
       "    </tr>\n",
       "    <tr>\n",
       "      <th>4</th>\n",
       "      <td>0</td>\n",
       "      <td>@Kwesidei not the whole crew</td>\n",
       "    </tr>\n",
       "  </tbody>\n",
       "</table>\n",
       "</div>"
      ],
      "text/plain": [
       "   sentiment                                              tweet\n",
       "0          0  is upset that he can't update his Facebook by ...\n",
       "1          0  @Kenichan I dived many times for the ball. Man...\n",
       "2          0    my whole body feels itchy and like its on fire \n",
       "3          0  @nationwideclass no, it's not behaving at all....\n",
       "4          0                      @Kwesidei not the whole crew "
      ]
     },
     "execution_count": 101,
     "metadata": {},
     "output_type": "execute_result"
    }
   ],
   "source": [
    "data = load_tweets()\n",
    "data.head()"
   ]
  },
  {
   "cell_type": "code",
   "execution_count": 102,
   "metadata": {},
   "outputs": [],
   "source": [
    "def tokenize(tweet):\n",
    "    sub_regex = r'(#[A-Za-z0-9])|(https)|[\\?!\\.,;:]'\n",
    "    tweet = str(tweet)\n",
    "    tokens = tokenizer.tokenize(tweet)\n",
    "    tokens = [re.sub(sub_regex, '', t) for t in tokens]\n",
    "    tokens = [t.lower() for t in tokens if t is not None and t != '']\n",
    "    tokens = [t for t in tokens if t not in STOPWORDS]\n",
    "    return tokens"
   ]
  },
  {
   "cell_type": "code",
   "execution_count": 103,
   "metadata": {},
   "outputs": [],
   "source": [
    "def postprocess(data, n=1000000):\n",
    "    data = data.head(n)\n",
    "    data.loc[:, \"tokens\"] = data.loc[:, \"tweet\"].progress_apply(tokenize)\n",
    "    data = data.loc[data.tokens != 'NC', :]\n",
    "    data.reset_index(inplace=True)\n",
    "    data.drop('index', inplace=True, axis=1)\n",
    "    return data"
   ]
  },
  {
   "cell_type": "code",
   "execution_count": 104,
   "metadata": {},
   "outputs": [],
   "source": [
    "contractions = { \n",
    "\"ain't\": \"am not / are not / is not / has not / have not\",\n",
    "\"aren't\": \"are not / am not\",\n",
    "\"can't\": \"cannot\",\n",
    "\"can't've\": \"cannot have\",\n",
    "\"'cause\": \"because\",\n",
    "\"could've\": \"could have\",\n",
    "\"couldn't\": \"could not\",\n",
    "\"couldn't've\": \"could not have\",\n",
    "\"didn't\": \"did not\",\n",
    "\"doesn't\": \"does not\",\n",
    "\"don't\": \"do not\",\n",
    "\"hadn't\": \"had not\",\n",
    "\"hadn't've\": \"had not have\",\n",
    "\"hasn't\": \"has not\",\n",
    "\"haven't\": \"have not\",\n",
    "\"he'd\": \"he had / he would\",\n",
    "\"he'd've\": \"he would have\",\n",
    "\"he'll\": \"he shall / he will\",\n",
    "\"he'll've\": \"he shall have / he will have\",\n",
    "\"he's\": \"he has / he is\",\n",
    "\"how'd\": \"how did\",\n",
    "\"how'd'y\": \"how do you\",\n",
    "\"how'll\": \"how will\",\n",
    "\"how's\": \"how has / how is / how does\",\n",
    "\"I'd\": \"I had / I would\",\n",
    "\"I'd've\": \"I would have\",\n",
    "\"I'll\": \"I shall / I will\",\n",
    "\"I'll've\": \"I shall have / I will have\",\n",
    "\"I'm\": \"I am\",\n",
    "\"I've\": \"I have\",\n",
    "\"isn't\": \"is not\",\n",
    "\"it'd\": \"it had / it would\",\n",
    "\"it'd've\": \"it would have\",\n",
    "\"it'll\": \"it shall / it will\",\n",
    "\"it'll've\": \"it shall have / it will have\",\n",
    "\"it's\": \"it has / it is\",\n",
    "\"let's\": \"let us\",\n",
    "\"ma'am\": \"madam\",\n",
    "\"mayn't\": \"may not\",\n",
    "\"might've\": \"might have\",\n",
    "\"mightn't\": \"might not\",\n",
    "\"mightn't've\": \"might not have\",\n",
    "\"must've\": \"must have\",\n",
    "\"mustn't\": \"must not\",\n",
    "\"mustn't've\": \"must not have\",\n",
    "\"needn't\": \"need not\",\n",
    "\"needn't've\": \"need not have\",\n",
    "\"o'clock\": \"of the clock\",\n",
    "\"oughtn't\": \"ought not\",\n",
    "\"oughtn't've\": \"ought not have\",\n",
    "\"shan't\": \"shall not\",\n",
    "\"sha'n't\": \"shall not\",\n",
    "\"shan't've\": \"shall not have\",\n",
    "\"she'd\": \"she had / she would\",\n",
    "\"she'd've\": \"she would have\",\n",
    "\"she'll\": \"she shall / she will\",\n",
    "\"she'll've\": \"she shall have / she will have\",\n",
    "\"she's\": \"she has / she is\",\n",
    "\"should've\": \"should have\",\n",
    "\"shouldn't\": \"should not\",\n",
    "\"shouldn't've\": \"should not have\",\n",
    "\"so've\": \"so have\",\n",
    "\"so's\": \"so as / so is\",\n",
    "\"that'd\": \"that would / that had\",\n",
    "\"that'd've\": \"that would have\",\n",
    "\"that's\": \"that has / that is\",\n",
    "\"there'd\": \"there had / there would\",\n",
    "\"there'd've\": \"there would have\",\n",
    "\"there's\": \"there has / there is\",\n",
    "\"they'd\": \"they had / they would\",\n",
    "\"they'd've\": \"they would have\",\n",
    "\"they'll\": \"they shall / they will\",\n",
    "\"they'll've\": \"they shall have / they will have\",\n",
    "\"they're\": \"they are\",\n",
    "\"they've\": \"they have\",\n",
    "\"to've\": \"to have\",\n",
    "\"wasn't\": \"was not\",\n",
    "\"we'd\": \"we had / we would\",\n",
    "\"we'd've\": \"we would have\",\n",
    "\"we'll\": \"we will\",\n",
    "\"we'll've\": \"we will have\",\n",
    "\"we're\": \"we are\",\n",
    "\"we've\": \"we have\",\n",
    "\"weren't\": \"were not\",\n",
    "\"what'll\": \"what shall / what will\",\n",
    "\"what'll've\": \"what shall have / what will have\",\n",
    "\"what're\": \"what are\",\n",
    "\"what's\": \"what has / what is\",\n",
    "\"what've\": \"what have\",\n",
    "\"when's\": \"when has / when is\",\n",
    "\"when've\": \"when have\",\n",
    "\"where'd\": \"where did\",\n",
    "\"where's\": \"where has / where is\",\n",
    "\"where've\": \"where have\",\n",
    "\"who'll\": \"who shall / who will\",\n",
    "\"who'll've\": \"who shall have / who will have\",\n",
    "\"who's\": \"who has / who is\",\n",
    "\"who've\": \"who have\",\n",
    "\"why's\": \"why has / why is\",\n",
    "\"why've\": \"why have\",\n",
    "\"will've\": \"will have\",\n",
    "\"won't\": \"will not\",\n",
    "\"won't've\": \"will not have\",\n",
    "\"would've\": \"would have\",\n",
    "\"wouldn't\": \"would not\",\n",
    "\"wouldn't've\": \"would not have\",\n",
    "\"y'all\": \"you all\",\n",
    "\"y'all'd\": \"you all would\",\n",
    "\"y'all'd've\": \"you all would have\",\n",
    "\"y'all're\": \"you all are\",\n",
    "\"y'all've\": \"you all have\",\n",
    "\"you'd\": \"you had / you would\",\n",
    "\"you'd've\": \"you would have\",\n",
    "\"you'll\": \"you shall / you will\",\n",
    "\"you'll've\": \"you shall have / you will have\",\n",
    "\"you're\": \"you are\",\n",
    "\"you've\": \"you have\"\n",
    "}\n",
    "\n",
    "def expand_contractions(text):\n",
    "    return contractions[text]"
   ]
  },
  {
   "cell_type": "code",
   "execution_count": 105,
   "metadata": {
    "scrolled": false
   },
   "outputs": [
    {
     "data": {
      "application/vnd.jupyter.widget-view+json": {
       "model_id": "69fe750861174c9dadf9cc839d44d749",
       "version_major": 2,
       "version_minor": 0
      },
      "text/plain": [
       "HBox(children=(IntProgress(value=0, description='progress-bar', max=1599999, style=ProgressStyle(description_w…"
      ]
     },
     "metadata": {},
     "output_type": "display_data"
    },
    {
     "name": "stderr",
     "output_type": "stream",
     "text": [
      "/home/malits/anaconda3/lib/python3.7/site-packages/pandas/core/indexing.py:362: SettingWithCopyWarning: \n",
      "A value is trying to be set on a copy of a slice from a DataFrame.\n",
      "Try using .loc[row_indexer,col_indexer] = value instead\n",
      "\n",
      "See the caveats in the documentation: http://pandas.pydata.org/pandas-docs/stable/indexing.html#indexing-view-versus-copy\n",
      "  self.obj[key] = _infer_fill_value(value)\n",
      "/home/malits/anaconda3/lib/python3.7/site-packages/pandas/core/indexing.py:543: SettingWithCopyWarning: \n",
      "A value is trying to be set on a copy of a slice from a DataFrame.\n",
      "Try using .loc[row_indexer,col_indexer] = value instead\n",
      "\n",
      "See the caveats in the documentation: http://pandas.pydata.org/pandas-docs/stable/indexing.html#indexing-view-versus-copy\n",
      "  self.obj[item] = s\n"
     ]
    }
   ],
   "source": [
    "processed = postprocess(data, len(data))"
   ]
  },
  {
   "cell_type": "markdown",
   "metadata": {},
   "source": [
    "### Create training data"
   ]
  },
  {
   "cell_type": "markdown",
   "metadata": {},
   "source": [
    "Once preprocessed, split to test/train sets and vectorize w w2vec for use in keras"
   ]
  },
  {
   "cell_type": "code",
   "execution_count": 106,
   "metadata": {},
   "outputs": [],
   "source": [
    "# Size of our embedding space\n",
    "\n",
    "N_DIM = 200"
   ]
  },
  {
   "cell_type": "code",
   "execution_count": 107,
   "metadata": {},
   "outputs": [],
   "source": [
    "X_train, X_test, y_train, y_test = train_test_split(np.array(processed['tokens']),\n",
    "                                                    np.array(processed['sentiment']),\n",
    "                                                    test_size=0.2)"
   ]
  },
  {
   "cell_type": "code",
   "execution_count": 108,
   "metadata": {},
   "outputs": [],
   "source": [
    "def labelizeTweets(tweets, label_type):\n",
    "    labelized = []\n",
    "    for i, v in tqdm_notebook(enumerate(tweets)):\n",
    "        label = '{}_{}'.format(label_type, i)\n",
    "        ## Use nltk TaggedDocument obj to mark words with their corresponding label. Makes words easier to retrieve from their vector form.\n",
    "        labelized.append(TaggedDocument(v, [label]))\n",
    "    return labelized"
   ]
  },
  {
   "cell_type": "code",
   "execution_count": 109,
   "metadata": {},
   "outputs": [
    {
     "data": {
      "application/vnd.jupyter.widget-view+json": {
       "model_id": "637c4be8d7f848bb8de81eb07ec4f667",
       "version_major": 2,
       "version_minor": 0
      },
      "text/plain": [
       "HBox(children=(IntProgress(value=1, bar_style='info', max=1), HTML(value='')))"
      ]
     },
     "metadata": {},
     "output_type": "display_data"
    },
    {
     "data": {
      "application/vnd.jupyter.widget-view+json": {
       "model_id": "2cd8477d50d94bada50b450d0a43c345",
       "version_major": 2,
       "version_minor": 0
      },
      "text/plain": [
       "HBox(children=(IntProgress(value=1, bar_style='info', max=1), HTML(value='')))"
      ]
     },
     "metadata": {},
     "output_type": "display_data"
    }
   ],
   "source": [
    "X_train = labelizeTweets(X_train, 'TRAIN')\n",
    "X_test = labelizeTweets(X_test, 'TEST')"
   ]
  },
  {
   "cell_type": "markdown",
   "metadata": {},
   "source": [
    "## Replace Word2Vec corpus with more data!"
   ]
  },
  {
   "cell_type": "code",
   "execution_count": 110,
   "metadata": {},
   "outputs": [
    {
     "data": {
      "application/vnd.jupyter.widget-view+json": {
       "model_id": "eb28dd986f0f4985bd9db663ccfce0e8",
       "version_major": 2,
       "version_minor": 0
      },
      "text/plain": [
       "HBox(children=(IntProgress(value=0, max=1279999), HTML(value='')))"
      ]
     },
     "metadata": {},
     "output_type": "display_data"
    },
    {
     "data": {
      "application/vnd.jupyter.widget-view+json": {
       "model_id": "cc5e5be5e0f84cb2b15ee5a130e0fb87",
       "version_major": 2,
       "version_minor": 0
      },
      "text/plain": [
       "HBox(children=(IntProgress(value=0, max=1279999), HTML(value='')))"
      ]
     },
     "metadata": {},
     "output_type": "display_data"
    },
    {
     "data": {
      "text/plain": [
       "(43763488, 49793575)"
      ]
     },
     "execution_count": 110,
     "metadata": {},
     "output_type": "execute_result"
    }
   ],
   "source": [
    "train_size = len(X_train)\n",
    "tweet_w2v = Word2Vec(size=N_DIM, min_count=10)\n",
    "tweet_w2v.build_vocab([x.words for x in tqdm_notebook(X_train)])\n",
    "tweet_w2v.train([x.words for x in tqdm_notebook(X_train)], \n",
    "                total_examples=train_size, epochs = tweet_w2v.epochs)"
   ]
  },
  {
   "cell_type": "code",
   "execution_count": 111,
   "metadata": {},
   "outputs": [],
   "source": [
    "def get_similarity(text):\n",
    "    return tweet_w2v.wv.most_similar(text.lower())"
   ]
  },
  {
   "cell_type": "code",
   "execution_count": 112,
   "metadata": {},
   "outputs": [
    {
     "data": {
      "text/plain": [
       "[('covina', 0.67521733045578),\n",
       " ('ne-yo', 0.6707881689071655),\n",
       " ('feat', 0.6326252818107605),\n",
       " ('indies', 0.6301157474517822),\n",
       " ('rendition', 0.622601330280304),\n",
       " ('gabriel', 0.6082316040992737),\n",
       " ('leighton', 0.5982348322868347),\n",
       " ('sparks', 0.5908383131027222),\n",
       " ('avril', 0.5811007022857666),\n",
       " ('rejects', 0.5791023969650269)]"
      ]
     },
     "execution_count": 112,
     "metadata": {},
     "output_type": "execute_result"
    }
   ],
   "source": [
    "get_similarity('kanye')"
   ]
  },
  {
   "cell_type": "code",
   "execution_count": 113,
   "metadata": {},
   "outputs": [
    {
     "name": "stderr",
     "output_type": "stream",
     "text": [
      "/home/malits/anaconda3/lib/python3.7/site-packages/ipykernel_launcher.py:3: DeprecationWarning: Call to deprecated `__getitem__` (Method will be removed in 4.0.0, use self.wv.__getitem__() instead).\n",
      "  This is separate from the ipykernel package so we can avoid doing imports until\n"
     ]
    },
    {
     "name": "stdout",
     "output_type": "stream",
     "text": [
      "[t-SNE] Computing 91 nearest neighbors...\n",
      "[t-SNE] Indexed 5000 samples in 0.027s...\n",
      "[t-SNE] Computed neighbors for 5000 samples in 8.197s...\n",
      "[t-SNE] Computed conditional probabilities for sample 1000 / 5000\n",
      "[t-SNE] Computed conditional probabilities for sample 2000 / 5000\n",
      "[t-SNE] Computed conditional probabilities for sample 3000 / 5000\n",
      "[t-SNE] Computed conditional probabilities for sample 4000 / 5000\n",
      "[t-SNE] Computed conditional probabilities for sample 5000 / 5000\n",
      "[t-SNE] Mean sigma: 0.553429\n",
      "[t-SNE] KL divergence after 250 iterations with early exaggeration: 84.263145\n",
      "[t-SNE] KL divergence after 1000 iterations: 2.333207\n"
     ]
    }
   ],
   "source": [
    "keys = list(tweet_w2v.wv.vocab.keys())[:5000]\n",
    "\n",
    "word_vectors = [tweet_w2v[w] for w in keys]\n",
    "\n",
    "tsne_model = TSNE(n_components = 2, verbose = 1, random_state = 10)\n",
    "tsne_w2v = tsne_model.fit_transform(word_vectors)\n",
    "\n",
    "tsne_df = pd.DataFrame(tsne_w2v, columns=['x', 'y'])\n",
    "tsne_df['words'] = keys"
   ]
  },
  {
   "cell_type": "code",
   "execution_count": 114,
   "metadata": {},
   "outputs": [
    {
     "data": {
      "text/html": [
       "<div>\n",
       "<style scoped>\n",
       "    .dataframe tbody tr th:only-of-type {\n",
       "        vertical-align: middle;\n",
       "    }\n",
       "\n",
       "    .dataframe tbody tr th {\n",
       "        vertical-align: top;\n",
       "    }\n",
       "\n",
       "    .dataframe thead th {\n",
       "        text-align: right;\n",
       "    }\n",
       "</style>\n",
       "<table border=\"1\" class=\"dataframe\">\n",
       "  <thead>\n",
       "    <tr style=\"text-align: right;\">\n",
       "      <th></th>\n",
       "      <th>x</th>\n",
       "      <th>y</th>\n",
       "      <th>words</th>\n",
       "    </tr>\n",
       "  </thead>\n",
       "  <tbody>\n",
       "    <tr>\n",
       "      <th>0</th>\n",
       "      <td>-53.729881</td>\n",
       "      <td>-10.386250</td>\n",
       "      <td>hot</td>\n",
       "    </tr>\n",
       "    <tr>\n",
       "      <th>1</th>\n",
       "      <td>-3.361568</td>\n",
       "      <td>34.448860</td>\n",
       "      <td>coach</td>\n",
       "    </tr>\n",
       "    <tr>\n",
       "      <th>2</th>\n",
       "      <td>64.133453</td>\n",
       "      <td>-18.742090</td>\n",
       "      <td>70</td>\n",
       "    </tr>\n",
       "    <tr>\n",
       "      <th>3</th>\n",
       "      <td>-14.910975</td>\n",
       "      <td>54.412407</td>\n",
       "      <td>minutes</td>\n",
       "    </tr>\n",
       "  </tbody>\n",
       "</table>\n",
       "</div>"
      ],
      "text/plain": [
       "           x          y    words\n",
       "0 -53.729881 -10.386250      hot\n",
       "1  -3.361568  34.448860    coach\n",
       "2  64.133453 -18.742090       70\n",
       "3 -14.910975  54.412407  minutes"
      ]
     },
     "execution_count": 114,
     "metadata": {},
     "output_type": "execute_result"
    }
   ],
   "source": [
    "tsne_df.head(4)"
   ]
  },
  {
   "cell_type": "code",
   "execution_count": 115,
   "metadata": {},
   "outputs": [
    {
     "data": {
      "text/html": [
       "\n",
       "    <div class=\"bk-root\">\n",
       "        <a href=\"https://bokeh.pydata.org\" target=\"_blank\" class=\"bk-logo bk-logo-small bk-logo-notebook\"></a>\n",
       "        <span id=\"1285\">Loading BokehJS ...</span>\n",
       "    </div>"
      ]
     },
     "metadata": {},
     "output_type": "display_data"
    },
    {
     "data": {
      "application/javascript": [
       "\n",
       "(function(root) {\n",
       "  function now() {\n",
       "    return new Date();\n",
       "  }\n",
       "\n",
       "  var force = true;\n",
       "\n",
       "  if (typeof root._bokeh_onload_callbacks === \"undefined\" || force === true) {\n",
       "    root._bokeh_onload_callbacks = [];\n",
       "    root._bokeh_is_loading = undefined;\n",
       "  }\n",
       "\n",
       "  var JS_MIME_TYPE = 'application/javascript';\n",
       "  var HTML_MIME_TYPE = 'text/html';\n",
       "  var EXEC_MIME_TYPE = 'application/vnd.bokehjs_exec.v0+json';\n",
       "  var CLASS_NAME = 'output_bokeh rendered_html';\n",
       "\n",
       "  /**\n",
       "   * Render data to the DOM node\n",
       "   */\n",
       "  function render(props, node) {\n",
       "    var script = document.createElement(\"script\");\n",
       "    node.appendChild(script);\n",
       "  }\n",
       "\n",
       "  /**\n",
       "   * Handle when an output is cleared or removed\n",
       "   */\n",
       "  function handleClearOutput(event, handle) {\n",
       "    var cell = handle.cell;\n",
       "\n",
       "    var id = cell.output_area._bokeh_element_id;\n",
       "    var server_id = cell.output_area._bokeh_server_id;\n",
       "    // Clean up Bokeh references\n",
       "    if (id != null && id in Bokeh.index) {\n",
       "      Bokeh.index[id].model.document.clear();\n",
       "      delete Bokeh.index[id];\n",
       "    }\n",
       "\n",
       "    if (server_id !== undefined) {\n",
       "      // Clean up Bokeh references\n",
       "      var cmd = \"from bokeh.io.state import curstate; print(curstate().uuid_to_server['\" + server_id + \"'].get_sessions()[0].document.roots[0]._id)\";\n",
       "      cell.notebook.kernel.execute(cmd, {\n",
       "        iopub: {\n",
       "          output: function(msg) {\n",
       "            var id = msg.content.text.trim();\n",
       "            if (id in Bokeh.index) {\n",
       "              Bokeh.index[id].model.document.clear();\n",
       "              delete Bokeh.index[id];\n",
       "            }\n",
       "          }\n",
       "        }\n",
       "      });\n",
       "      // Destroy server and session\n",
       "      var cmd = \"import bokeh.io.notebook as ion; ion.destroy_server('\" + server_id + \"')\";\n",
       "      cell.notebook.kernel.execute(cmd);\n",
       "    }\n",
       "  }\n",
       "\n",
       "  /**\n",
       "   * Handle when a new output is added\n",
       "   */\n",
       "  function handleAddOutput(event, handle) {\n",
       "    var output_area = handle.output_area;\n",
       "    var output = handle.output;\n",
       "\n",
       "    // limit handleAddOutput to display_data with EXEC_MIME_TYPE content only\n",
       "    if ((output.output_type != \"display_data\") || (!output.data.hasOwnProperty(EXEC_MIME_TYPE))) {\n",
       "      return\n",
       "    }\n",
       "\n",
       "    var toinsert = output_area.element.find(\".\" + CLASS_NAME.split(' ')[0]);\n",
       "\n",
       "    if (output.metadata[EXEC_MIME_TYPE][\"id\"] !== undefined) {\n",
       "      toinsert[toinsert.length - 1].firstChild.textContent = output.data[JS_MIME_TYPE];\n",
       "      // store reference to embed id on output_area\n",
       "      output_area._bokeh_element_id = output.metadata[EXEC_MIME_TYPE][\"id\"];\n",
       "    }\n",
       "    if (output.metadata[EXEC_MIME_TYPE][\"server_id\"] !== undefined) {\n",
       "      var bk_div = document.createElement(\"div\");\n",
       "      bk_div.innerHTML = output.data[HTML_MIME_TYPE];\n",
       "      var script_attrs = bk_div.children[0].attributes;\n",
       "      for (var i = 0; i < script_attrs.length; i++) {\n",
       "        toinsert[toinsert.length - 1].firstChild.setAttribute(script_attrs[i].name, script_attrs[i].value);\n",
       "      }\n",
       "      // store reference to server id on output_area\n",
       "      output_area._bokeh_server_id = output.metadata[EXEC_MIME_TYPE][\"server_id\"];\n",
       "    }\n",
       "  }\n",
       "\n",
       "  function register_renderer(events, OutputArea) {\n",
       "\n",
       "    function append_mime(data, metadata, element) {\n",
       "      // create a DOM node to render to\n",
       "      var toinsert = this.create_output_subarea(\n",
       "        metadata,\n",
       "        CLASS_NAME,\n",
       "        EXEC_MIME_TYPE\n",
       "      );\n",
       "      this.keyboard_manager.register_events(toinsert);\n",
       "      // Render to node\n",
       "      var props = {data: data, metadata: metadata[EXEC_MIME_TYPE]};\n",
       "      render(props, toinsert[toinsert.length - 1]);\n",
       "      element.append(toinsert);\n",
       "      return toinsert\n",
       "    }\n",
       "\n",
       "    /* Handle when an output is cleared or removed */\n",
       "    events.on('clear_output.CodeCell', handleClearOutput);\n",
       "    events.on('delete.Cell', handleClearOutput);\n",
       "\n",
       "    /* Handle when a new output is added */\n",
       "    events.on('output_added.OutputArea', handleAddOutput);\n",
       "\n",
       "    /**\n",
       "     * Register the mime type and append_mime function with output_area\n",
       "     */\n",
       "    OutputArea.prototype.register_mime_type(EXEC_MIME_TYPE, append_mime, {\n",
       "      /* Is output safe? */\n",
       "      safe: true,\n",
       "      /* Index of renderer in `output_area.display_order` */\n",
       "      index: 0\n",
       "    });\n",
       "  }\n",
       "\n",
       "  // register the mime type if in Jupyter Notebook environment and previously unregistered\n",
       "  if (root.Jupyter !== undefined) {\n",
       "    var events = require('base/js/events');\n",
       "    var OutputArea = require('notebook/js/outputarea').OutputArea;\n",
       "\n",
       "    if (OutputArea.prototype.mime_types().indexOf(EXEC_MIME_TYPE) == -1) {\n",
       "      register_renderer(events, OutputArea);\n",
       "    }\n",
       "  }\n",
       "\n",
       "  \n",
       "  if (typeof (root._bokeh_timeout) === \"undefined\" || force === true) {\n",
       "    root._bokeh_timeout = Date.now() + 5000;\n",
       "    root._bokeh_failed_load = false;\n",
       "  }\n",
       "\n",
       "  var NB_LOAD_WARNING = {'data': {'text/html':\n",
       "     \"<div style='background-color: #fdd'>\\n\"+\n",
       "     \"<p>\\n\"+\n",
       "     \"BokehJS does not appear to have successfully loaded. If loading BokehJS from CDN, this \\n\"+\n",
       "     \"may be due to a slow or bad network connection. Possible fixes:\\n\"+\n",
       "     \"</p>\\n\"+\n",
       "     \"<ul>\\n\"+\n",
       "     \"<li>re-rerun `output_notebook()` to attempt to load from CDN again, or</li>\\n\"+\n",
       "     \"<li>use INLINE resources instead, as so:</li>\\n\"+\n",
       "     \"</ul>\\n\"+\n",
       "     \"<code>\\n\"+\n",
       "     \"from bokeh.resources import INLINE\\n\"+\n",
       "     \"output_notebook(resources=INLINE)\\n\"+\n",
       "     \"</code>\\n\"+\n",
       "     \"</div>\"}};\n",
       "\n",
       "  function display_loaded() {\n",
       "    var el = document.getElementById(\"1285\");\n",
       "    if (el != null) {\n",
       "      el.textContent = \"BokehJS is loading...\";\n",
       "    }\n",
       "    if (root.Bokeh !== undefined) {\n",
       "      if (el != null) {\n",
       "        el.textContent = \"BokehJS \" + root.Bokeh.version + \" successfully loaded.\";\n",
       "      }\n",
       "    } else if (Date.now() < root._bokeh_timeout) {\n",
       "      setTimeout(display_loaded, 100)\n",
       "    }\n",
       "  }\n",
       "\n",
       "\n",
       "  function run_callbacks() {\n",
       "    try {\n",
       "      root._bokeh_onload_callbacks.forEach(function(callback) {\n",
       "        if (callback != null)\n",
       "          callback();\n",
       "      });\n",
       "    } finally {\n",
       "      delete root._bokeh_onload_callbacks\n",
       "    }\n",
       "    console.debug(\"Bokeh: all callbacks have finished\");\n",
       "  }\n",
       "\n",
       "  function load_libs(css_urls, js_urls, callback) {\n",
       "    if (css_urls == null) css_urls = [];\n",
       "    if (js_urls == null) js_urls = [];\n",
       "\n",
       "    root._bokeh_onload_callbacks.push(callback);\n",
       "    if (root._bokeh_is_loading > 0) {\n",
       "      console.debug(\"Bokeh: BokehJS is being loaded, scheduling callback at\", now());\n",
       "      return null;\n",
       "    }\n",
       "    if (js_urls == null || js_urls.length === 0) {\n",
       "      run_callbacks();\n",
       "      return null;\n",
       "    }\n",
       "    console.debug(\"Bokeh: BokehJS not loaded, scheduling load and callback at\", now());\n",
       "    root._bokeh_is_loading = css_urls.length + js_urls.length;\n",
       "\n",
       "    function on_load() {\n",
       "      root._bokeh_is_loading--;\n",
       "      if (root._bokeh_is_loading === 0) {\n",
       "        console.debug(\"Bokeh: all BokehJS libraries/stylesheets loaded\");\n",
       "        run_callbacks()\n",
       "      }\n",
       "    }\n",
       "\n",
       "    function on_error() {\n",
       "      console.error(\"failed to load \" + url);\n",
       "    }\n",
       "\n",
       "    for (var i = 0; i < css_urls.length; i++) {\n",
       "      var url = css_urls[i];\n",
       "      const element = document.createElement(\"link\");\n",
       "      element.onload = on_load;\n",
       "      element.onerror = on_error;\n",
       "      element.rel = \"stylesheet\";\n",
       "      element.type = \"text/css\";\n",
       "      element.href = url;\n",
       "      console.debug(\"Bokeh: injecting link tag for BokehJS stylesheet: \", url);\n",
       "      document.body.appendChild(element);\n",
       "    }\n",
       "\n",
       "    for (var i = 0; i < js_urls.length; i++) {\n",
       "      var url = js_urls[i];\n",
       "      var element = document.createElement('script');\n",
       "      element.onload = on_load;\n",
       "      element.onerror = on_error;\n",
       "      element.async = false;\n",
       "      element.src = url;\n",
       "      console.debug(\"Bokeh: injecting script tag for BokehJS library: \", url);\n",
       "      document.head.appendChild(element);\n",
       "    }\n",
       "  };var element = document.getElementById(\"1285\");\n",
       "  if (element == null) {\n",
       "    console.error(\"Bokeh: ERROR: autoload.js configured with elementid '1285' but no matching script tag was found. \")\n",
       "    return false;\n",
       "  }\n",
       "\n",
       "  function inject_raw_css(css) {\n",
       "    const element = document.createElement(\"style\");\n",
       "    element.appendChild(document.createTextNode(css));\n",
       "    document.body.appendChild(element);\n",
       "  }\n",
       "\n",
       "  var js_urls = [\"https://cdn.pydata.org/bokeh/release/bokeh-1.3.0.min.js\", \"https://cdn.pydata.org/bokeh/release/bokeh-widgets-1.3.0.min.js\", \"https://cdn.pydata.org/bokeh/release/bokeh-tables-1.3.0.min.js\", \"https://cdn.pydata.org/bokeh/release/bokeh-gl-1.3.0.min.js\"];\n",
       "  var css_urls = [];\n",
       "\n",
       "  var inline_js = [\n",
       "    function(Bokeh) {\n",
       "      Bokeh.set_log_level(\"info\");\n",
       "    },\n",
       "    \n",
       "    function(Bokeh) {\n",
       "      \n",
       "    },\n",
       "    function(Bokeh) {} // ensure no trailing comma for IE\n",
       "  ];\n",
       "\n",
       "  function run_inline_js() {\n",
       "    \n",
       "    if ((root.Bokeh !== undefined) || (force === true)) {\n",
       "      for (var i = 0; i < inline_js.length; i++) {\n",
       "        inline_js[i].call(root, root.Bokeh);\n",
       "      }if (force === true) {\n",
       "        display_loaded();\n",
       "      }} else if (Date.now() < root._bokeh_timeout) {\n",
       "      setTimeout(run_inline_js, 100);\n",
       "    } else if (!root._bokeh_failed_load) {\n",
       "      console.log(\"Bokeh: BokehJS failed to load within specified timeout.\");\n",
       "      root._bokeh_failed_load = true;\n",
       "    } else if (force !== true) {\n",
       "      var cell = $(document.getElementById(\"1285\")).parents('.cell').data().cell;\n",
       "      cell.output_area.append_execute_result(NB_LOAD_WARNING)\n",
       "    }\n",
       "\n",
       "  }\n",
       "\n",
       "  if (root._bokeh_is_loading === 0) {\n",
       "    console.debug(\"Bokeh: BokehJS loaded, going straight to plotting\");\n",
       "    run_inline_js();\n",
       "  } else {\n",
       "    load_libs(css_urls, js_urls, function() {\n",
       "      console.debug(\"Bokeh: BokehJS plotting callback run at\", now());\n",
       "      run_inline_js();\n",
       "    });\n",
       "  }\n",
       "}(window));"
      ],
      "application/vnd.bokehjs_load.v0+json": "\n(function(root) {\n  function now() {\n    return new Date();\n  }\n\n  var force = true;\n\n  if (typeof root._bokeh_onload_callbacks === \"undefined\" || force === true) {\n    root._bokeh_onload_callbacks = [];\n    root._bokeh_is_loading = undefined;\n  }\n\n  \n\n  \n  if (typeof (root._bokeh_timeout) === \"undefined\" || force === true) {\n    root._bokeh_timeout = Date.now() + 5000;\n    root._bokeh_failed_load = false;\n  }\n\n  var NB_LOAD_WARNING = {'data': {'text/html':\n     \"<div style='background-color: #fdd'>\\n\"+\n     \"<p>\\n\"+\n     \"BokehJS does not appear to have successfully loaded. If loading BokehJS from CDN, this \\n\"+\n     \"may be due to a slow or bad network connection. Possible fixes:\\n\"+\n     \"</p>\\n\"+\n     \"<ul>\\n\"+\n     \"<li>re-rerun `output_notebook()` to attempt to load from CDN again, or</li>\\n\"+\n     \"<li>use INLINE resources instead, as so:</li>\\n\"+\n     \"</ul>\\n\"+\n     \"<code>\\n\"+\n     \"from bokeh.resources import INLINE\\n\"+\n     \"output_notebook(resources=INLINE)\\n\"+\n     \"</code>\\n\"+\n     \"</div>\"}};\n\n  function display_loaded() {\n    var el = document.getElementById(\"1285\");\n    if (el != null) {\n      el.textContent = \"BokehJS is loading...\";\n    }\n    if (root.Bokeh !== undefined) {\n      if (el != null) {\n        el.textContent = \"BokehJS \" + root.Bokeh.version + \" successfully loaded.\";\n      }\n    } else if (Date.now() < root._bokeh_timeout) {\n      setTimeout(display_loaded, 100)\n    }\n  }\n\n\n  function run_callbacks() {\n    try {\n      root._bokeh_onload_callbacks.forEach(function(callback) {\n        if (callback != null)\n          callback();\n      });\n    } finally {\n      delete root._bokeh_onload_callbacks\n    }\n    console.debug(\"Bokeh: all callbacks have finished\");\n  }\n\n  function load_libs(css_urls, js_urls, callback) {\n    if (css_urls == null) css_urls = [];\n    if (js_urls == null) js_urls = [];\n\n    root._bokeh_onload_callbacks.push(callback);\n    if (root._bokeh_is_loading > 0) {\n      console.debug(\"Bokeh: BokehJS is being loaded, scheduling callback at\", now());\n      return null;\n    }\n    if (js_urls == null || js_urls.length === 0) {\n      run_callbacks();\n      return null;\n    }\n    console.debug(\"Bokeh: BokehJS not loaded, scheduling load and callback at\", now());\n    root._bokeh_is_loading = css_urls.length + js_urls.length;\n\n    function on_load() {\n      root._bokeh_is_loading--;\n      if (root._bokeh_is_loading === 0) {\n        console.debug(\"Bokeh: all BokehJS libraries/stylesheets loaded\");\n        run_callbacks()\n      }\n    }\n\n    function on_error() {\n      console.error(\"failed to load \" + url);\n    }\n\n    for (var i = 0; i < css_urls.length; i++) {\n      var url = css_urls[i];\n      const element = document.createElement(\"link\");\n      element.onload = on_load;\n      element.onerror = on_error;\n      element.rel = \"stylesheet\";\n      element.type = \"text/css\";\n      element.href = url;\n      console.debug(\"Bokeh: injecting link tag for BokehJS stylesheet: \", url);\n      document.body.appendChild(element);\n    }\n\n    for (var i = 0; i < js_urls.length; i++) {\n      var url = js_urls[i];\n      var element = document.createElement('script');\n      element.onload = on_load;\n      element.onerror = on_error;\n      element.async = false;\n      element.src = url;\n      console.debug(\"Bokeh: injecting script tag for BokehJS library: \", url);\n      document.head.appendChild(element);\n    }\n  };var element = document.getElementById(\"1285\");\n  if (element == null) {\n    console.error(\"Bokeh: ERROR: autoload.js configured with elementid '1285' but no matching script tag was found. \")\n    return false;\n  }\n\n  function inject_raw_css(css) {\n    const element = document.createElement(\"style\");\n    element.appendChild(document.createTextNode(css));\n    document.body.appendChild(element);\n  }\n\n  var js_urls = [\"https://cdn.pydata.org/bokeh/release/bokeh-1.3.0.min.js\", \"https://cdn.pydata.org/bokeh/release/bokeh-widgets-1.3.0.min.js\", \"https://cdn.pydata.org/bokeh/release/bokeh-tables-1.3.0.min.js\", \"https://cdn.pydata.org/bokeh/release/bokeh-gl-1.3.0.min.js\"];\n  var css_urls = [];\n\n  var inline_js = [\n    function(Bokeh) {\n      Bokeh.set_log_level(\"info\");\n    },\n    \n    function(Bokeh) {\n      \n    },\n    function(Bokeh) {} // ensure no trailing comma for IE\n  ];\n\n  function run_inline_js() {\n    \n    if ((root.Bokeh !== undefined) || (force === true)) {\n      for (var i = 0; i < inline_js.length; i++) {\n        inline_js[i].call(root, root.Bokeh);\n      }if (force === true) {\n        display_loaded();\n      }} else if (Date.now() < root._bokeh_timeout) {\n      setTimeout(run_inline_js, 100);\n    } else if (!root._bokeh_failed_load) {\n      console.log(\"Bokeh: BokehJS failed to load within specified timeout.\");\n      root._bokeh_failed_load = true;\n    } else if (force !== true) {\n      var cell = $(document.getElementById(\"1285\")).parents('.cell').data().cell;\n      cell.output_area.append_execute_result(NB_LOAD_WARNING)\n    }\n\n  }\n\n  if (root._bokeh_is_loading === 0) {\n    console.debug(\"Bokeh: BokehJS loaded, going straight to plotting\");\n    run_inline_js();\n  } else {\n    load_libs(css_urls, js_urls, function() {\n      console.debug(\"Bokeh: BokehJS plotting callback run at\", now());\n      run_inline_js();\n    });\n  }\n}(window));"
     },
     "metadata": {},
     "output_type": "display_data"
    },
    {
     "data": {
      "text/html": [
       "\n",
       "\n",
       "\n",
       "\n",
       "\n",
       "\n",
       "  <div class=\"bk-root\" id=\"1af6d3db-cc66-4a5c-a180-5f0e26abdee7\" data-root-id=\"1236\"></div>\n"
      ]
     },
     "metadata": {},
     "output_type": "display_data"
    },
    {
     "data": {
      "application/javascript": [
       "(function(root) {\n",
       "  function embed_document(root) {\n",
       "    \n",
       "  var docs_json = {\"80a081a9-557a-4dac-8f9c-c345b21502cc\":{\"roots\":{\"references\":[{\"attributes\":{\"below\":[{\"id\":\"1245\",\"type\":\"LinearAxis\"}],\"center\":[{\"id\":\"1249\",\"type\":\"Grid\"},{\"id\":\"1254\",\"type\":\"Grid\"}],\"left\":[{\"id\":\"1250\",\"type\":\"LinearAxis\"}],\"renderers\":[{\"id\":\"1274\",\"type\":\"GlyphRenderer\"}],\"title\":{\"id\":\"1276\",\"type\":\"Title\"},\"toolbar\":{\"id\":\"1262\",\"type\":\"Toolbar\"},\"x_range\":{\"id\":\"1237\",\"type\":\"DataRange1d\"},\"x_scale\":{\"id\":\"1241\",\"type\":\"LinearScale\"},\"y_range\":{\"id\":\"1239\",\"type\":\"DataRange1d\"},\"y_scale\":{\"id\":\"1243\",\"type\":\"LinearScale\"}},\"id\":\"1236\",\"subtype\":\"Figure\",\"type\":\"Plot\"},{\"attributes\":{},\"id\":\"1283\",\"type\":\"UnionRenderers\"},{\"attributes\":{\"fill_alpha\":{\"value\":0.1},\"fill_color\":{\"value\":\"#1f77b4\"},\"line_alpha\":{\"value\":0.1},\"line_color\":{\"value\":\"#1f77b4\"},\"x\":{\"field\":\"x\"},\"y\":{\"field\":\"y\"}},\"id\":\"1273\",\"type\":\"Scatter\"},{\"attributes\":{\"formatter\":{\"id\":\"1281\",\"type\":\"BasicTickFormatter\"},\"ticker\":{\"id\":\"1246\",\"type\":\"BasicTicker\"}},\"id\":\"1245\",\"type\":\"LinearAxis\"},{\"attributes\":{},\"id\":\"1241\",\"type\":\"LinearScale\"},{\"attributes\":{\"callback\":null},\"id\":\"1239\",\"type\":\"DataRange1d\"},{\"attributes\":{\"fill_color\":{\"value\":\"#1f77b4\"},\"line_color\":{\"value\":\"#1f77b4\"},\"x\":{\"field\":\"x\"},\"y\":{\"field\":\"y\"}},\"id\":\"1272\",\"type\":\"Scatter\"},{\"attributes\":{},\"id\":\"1243\",\"type\":\"LinearScale\"},{\"attributes\":{},\"id\":\"1279\",\"type\":\"BasicTickFormatter\"},{\"attributes\":{\"callback\":null,\"tooltips\":[[\"word\",\"@words\"]]},\"id\":\"1255\",\"type\":\"HoverTool\"},{\"attributes\":{\"active_drag\":\"auto\",\"active_inspect\":\"auto\",\"active_multi\":null,\"active_scroll\":\"auto\",\"active_tap\":\"auto\",\"tools\":[{\"id\":\"1255\",\"type\":\"HoverTool\"},{\"id\":\"1256\",\"type\":\"CrosshairTool\"},{\"id\":\"1257\",\"type\":\"PanTool\"},{\"id\":\"1258\",\"type\":\"WheelZoomTool\"},{\"id\":\"1259\",\"type\":\"ZoomInTool\"},{\"id\":\"1260\",\"type\":\"ZoomOutTool\"},{\"id\":\"1261\",\"type\":\"BoxZoomTool\"}]},\"id\":\"1262\",\"type\":\"Toolbar\"},{\"attributes\":{},\"id\":\"1284\",\"type\":\"Selection\"},{\"attributes\":{\"source\":{\"id\":\"1270\",\"type\":\"ColumnDataSource\"}},\"id\":\"1275\",\"type\":\"CDSView\"},{\"attributes\":{\"dimension\":1,\"ticker\":{\"id\":\"1251\",\"type\":\"BasicTicker\"}},\"id\":\"1254\",\"type\":\"Grid\"},{\"attributes\":{},\"id\":\"1259\",\"type\":\"ZoomInTool\"},{\"attributes\":{\"data_source\":{\"id\":\"1270\",\"type\":\"ColumnDataSource\"},\"glyph\":{\"id\":\"1272\",\"type\":\"Scatter\"},\"hover_glyph\":null,\"muted_glyph\":null,\"nonselection_glyph\":{\"id\":\"1273\",\"type\":\"Scatter\"},\"selection_glyph\":null,\"view\":{\"id\":\"1275\",\"type\":\"CDSView\"}},\"id\":\"1274\",\"type\":\"GlyphRenderer\"},{\"attributes\":{\"text\":\"\"},\"id\":\"1276\",\"type\":\"Title\"},{\"attributes\":{},\"id\":\"1256\",\"type\":\"CrosshairTool\"},{\"attributes\":{},\"id\":\"1281\",\"type\":\"BasicTickFormatter\"},{\"attributes\":{\"callback\":null,\"data\":{\"index\":[0,1,2,3,4,5,6,7,8,9,10,11,12,13,14,15,16,17,18,19,20,21,22,23,24,25,26,27,28,29,30,31,32,33,34,35,36,37,38,39,40,41,42,43,44,45,46,47,48,49,50,51,52,53,54,55,56,57,58,59,60,61,62,63,64,65,66,67,68,69,70,71,72,73,74,75,76,77,78,79,80,81,82,83,84,85,86,87,88,89,90,91,92,93,94,95,96,97,98,99,100,101,102,103,104,105,106,107,108,109,110,111,112,113,114,115,116,117,118,119,120,121,122,123,124,125,126,127,128,129,130,131,132,133,134,135,136,137,138,139,140,141,142,143,144,145,146,147,148,149,150,151,152,153,154,155,156,157,158,159,160,161,162,163,164,165,166,167,168,169,170,171,172,173,174,175,176,177,178,179,180,181,182,183,184,185,186,187,188,189,190,191,192,193,194,195,196,197,198,199,200,201,202,203,204,205,206,207,208,209,210,211,212,213,214,215,216,217,218,219,220,221,222,223,224,225,226,227,228,229,230,231,232,233,234,235,236,237,238,239,240,241,242,243,244,245,246,247,248,249,250,251,252,253,254,255,256,257,258,259,260,261,262,263,264,265,266,267,268,269,270,271,272,273,274,275,276,277,278,279,280,281,282,283,284,285,286,287,288,289,290,291,292,293,294,295,296,297,298,299,300,301,302,303,304,305,306,307,308,309,310,311,312,313,314,315,316,317,318,319,320,321,322,323,324,325,326,327,328,329,330,331,332,333,334,335,336,337,338,339,340,341,342,343,344,345,346,347,348,349,350,351,352,353,354,355,356,357,358,359,360,361,362,363,364,365,366,367,368,369,370,371,372,373,374,375,376,377,378,379,380,381,382,383,384,385,386,387,388,389,390,391,392,393,394,395,396,397,398,399,400,401,402,403,404,405,406,407,408,409,410,411,412,413,414,415,416,417,418,419,420,421,422,423,424,425,426,427,428,429,430,431,432,433,434,435,436,437,438,439,440,441,442,443,444,445,446,447,448,449,450,451,452,453,454,455,456,457,458,459,460,461,462,463,464,465,466,467,468,469,470,471,472,473,474,475,476,477,478,479,480,481,482,483,484,485,486,487,488,489,490,491,492,493,494,495,496,497,498,499,500,501,502,503,504,505,506,507,508,509,510,511,512,513,514,515,516,517,518,519,520,521,522,523,524,525,526,527,528,529,530,531,532,533,534,535,536,537,538,539,540,541,542,543,544,545,546,547,548,549,550,551,552,553,554,555,556,557,558,559,560,561,562,563,564,565,566,567,568,569,570,571,572,573,574,575,576,577,578,579,580,581,582,583,584,585,586,587,588,589,590,591,592,593,594,595,596,597,598,599,600,601,602,603,604,605,606,607,608,609,610,611,612,613,614,615,616,617,618,619,620,621,622,623,624,625,626,627,628,629,630,631,632,633,634,635,636,637,638,639,640,641,642,643,644,645,646,647,648,649,650,651,652,653,654,655,656,657,658,659,660,661,662,663,664,665,666,667,668,669,670,671,672,673,674,675,676,677,678,679,680,681,682,683,684,685,686,687,688,689,690,691,692,693,694,695,696,697,698,699,700,701,702,703,704,705,706,707,708,709,710,711,712,713,714,715,716,717,718,719,720,721,722,723,724,725,726,727,728,729,730,731,732,733,734,735,736,737,738,739,740,741,742,743,744,745,746,747,748,749,750,751,752,753,754,755,756,757,758,759,760,761,762,763,764,765,766,767,768,769,770,771,772,773,774,775,776,777,778,779,780,781,782,783,784,785,786,787,788,789,790,791,792,793,794,795,796,797,798,799,800,801,802,803,804,805,806,807,808,809,810,811,812,813,814,815,816,817,818,819,820,821,822,823,824,825,826,827,828,829,830,831,832,833,834,835,836,837,838,839,840,841,842,843,844,845,846,847,848,849,850,851,852,853,854,855,856,857,858,859,860,861,862,863,864,865,866,867,868,869,870,871,872,873,874,875,876,877,878,879,880,881,882,883,884,885,886,887,888,889,890,891,892,893,894,895,896,897,898,899,900,901,902,903,904,905,906,907,908,909,910,911,912,913,914,915,916,917,918,919,920,921,922,923,924,925,926,927,928,929,930,931,932,933,934,935,936,937,938,939,940,941,942,943,944,945,946,947,948,949,950,951,952,953,954,955,956,957,958,959,960,961,962,963,964,965,966,967,968,969,970,971,972,973,974,975,976,977,978,979,980,981,982,983,984,985,986,987,988,989,990,991,992,993,994,995,996,997,998,999,1000,1001,1002,1003,1004,1005,1006,1007,1008,1009,1010,1011,1012,1013,1014,1015,1016,1017,1018,1019,1020,1021,1022,1023,1024,1025,1026,1027,1028,1029,1030,1031,1032,1033,1034,1035,1036,1037,1038,1039,1040,1041,1042,1043,1044,1045,1046,1047,1048,1049,1050,1051,1052,1053,1054,1055,1056,1057,1058,1059,1060,1061,1062,1063,1064,1065,1066,1067,1068,1069,1070,1071,1072,1073,1074,1075,1076,1077,1078,1079,1080,1081,1082,1083,1084,1085,1086,1087,1088,1089,1090,1091,1092,1093,1094,1095,1096,1097,1098,1099,1100,1101,1102,1103,1104,1105,1106,1107,1108,1109,1110,1111,1112,1113,1114,1115,1116,1117,1118,1119,1120,1121,1122,1123,1124,1125,1126,1127,1128,1129,1130,1131,1132,1133,1134,1135,1136,1137,1138,1139,1140,1141,1142,1143,1144,1145,1146,1147,1148,1149,1150,1151,1152,1153,1154,1155,1156,1157,1158,1159,1160,1161,1162,1163,1164,1165,1166,1167,1168,1169,1170,1171,1172,1173,1174,1175,1176,1177,1178,1179,1180,1181,1182,1183,1184,1185,1186,1187,1188,1189,1190,1191,1192,1193,1194,1195,1196,1197,1198,1199,1200,1201,1202,1203,1204,1205,1206,1207,1208,1209,1210,1211,1212,1213,1214,1215,1216,1217,1218,1219,1220,1221,1222,1223,1224,1225,1226,1227,1228,1229,1230,1231,1232,1233,1234,1235,1236,1237,1238,1239,1240,1241,1242,1243,1244,1245,1246,1247,1248,1249,1250,1251,1252,1253,1254,1255,1256,1257,1258,1259,1260,1261,1262,1263,1264,1265,1266,1267,1268,1269,1270,1271,1272,1273,1274,1275,1276,1277,1278,1279,1280,1281,1282,1283,1284,1285,1286,1287,1288,1289,1290,1291,1292,1293,1294,1295,1296,1297,1298,1299,1300,1301,1302,1303,1304,1305,1306,1307,1308,1309,1310,1311,1312,1313,1314,1315,1316,1317,1318,1319,1320,1321,1322,1323,1324,1325,1326,1327,1328,1329,1330,1331,1332,1333,1334,1335,1336,1337,1338,1339,1340,1341,1342,1343,1344,1345,1346,1347,1348,1349,1350,1351,1352,1353,1354,1355,1356,1357,1358,1359,1360,1361,1362,1363,1364,1365,1366,1367,1368,1369,1370,1371,1372,1373,1374,1375,1376,1377,1378,1379,1380,1381,1382,1383,1384,1385,1386,1387,1388,1389,1390,1391,1392,1393,1394,1395,1396,1397,1398,1399,1400,1401,1402,1403,1404,1405,1406,1407,1408,1409,1410,1411,1412,1413,1414,1415,1416,1417,1418,1419,1420,1421,1422,1423,1424,1425,1426,1427,1428,1429,1430,1431,1432,1433,1434,1435,1436,1437,1438,1439,1440,1441,1442,1443,1444,1445,1446,1447,1448,1449,1450,1451,1452,1453,1454,1455,1456,1457,1458,1459,1460,1461,1462,1463,1464,1465,1466,1467,1468,1469,1470,1471,1472,1473,1474,1475,1476,1477,1478,1479,1480,1481,1482,1483,1484,1485,1486,1487,1488,1489,1490,1491,1492,1493,1494,1495,1496,1497,1498,1499,1500,1501,1502,1503,1504,1505,1506,1507,1508,1509,1510,1511,1512,1513,1514,1515,1516,1517,1518,1519,1520,1521,1522,1523,1524,1525,1526,1527,1528,1529,1530,1531,1532,1533,1534,1535,1536,1537,1538,1539,1540,1541,1542,1543,1544,1545,1546,1547,1548,1549,1550,1551,1552,1553,1554,1555,1556,1557,1558,1559,1560,1561,1562,1563,1564,1565,1566,1567,1568,1569,1570,1571,1572,1573,1574,1575,1576,1577,1578,1579,1580,1581,1582,1583,1584,1585,1586,1587,1588,1589,1590,1591,1592,1593,1594,1595,1596,1597,1598,1599,1600,1601,1602,1603,1604,1605,1606,1607,1608,1609,1610,1611,1612,1613,1614,1615,1616,1617,1618,1619,1620,1621,1622,1623,1624,1625,1626,1627,1628,1629,1630,1631,1632,1633,1634,1635,1636,1637,1638,1639,1640,1641,1642,1643,1644,1645,1646,1647,1648,1649,1650,1651,1652,1653,1654,1655,1656,1657,1658,1659,1660,1661,1662,1663,1664,1665,1666,1667,1668,1669,1670,1671,1672,1673,1674,1675,1676,1677,1678,1679,1680,1681,1682,1683,1684,1685,1686,1687,1688,1689,1690,1691,1692,1693,1694,1695,1696,1697,1698,1699,1700,1701,1702,1703,1704,1705,1706,1707,1708,1709,1710,1711,1712,1713,1714,1715,1716,1717,1718,1719,1720,1721,1722,1723,1724,1725,1726,1727,1728,1729,1730,1731,1732,1733,1734,1735,1736,1737,1738,1739,1740,1741,1742,1743,1744,1745,1746,1747,1748,1749,1750,1751,1752,1753,1754,1755,1756,1757,1758,1759,1760,1761,1762,1763,1764,1765,1766,1767,1768,1769,1770,1771,1772,1773,1774,1775,1776,1777,1778,1779,1780,1781,1782,1783,1784,1785,1786,1787,1788,1789,1790,1791,1792,1793,1794,1795,1796,1797,1798,1799,1800,1801,1802,1803,1804,1805,1806,1807,1808,1809,1810,1811,1812,1813,1814,1815,1816,1817,1818,1819,1820,1821,1822,1823,1824,1825,1826,1827,1828,1829,1830,1831,1832,1833,1834,1835,1836,1837,1838,1839,1840,1841,1842,1843,1844,1845,1846,1847,1848,1849,1850,1851,1852,1853,1854,1855,1856,1857,1858,1859,1860,1861,1862,1863,1864,1865,1866,1867,1868,1869,1870,1871,1872,1873,1874,1875,1876,1877,1878,1879,1880,1881,1882,1883,1884,1885,1886,1887,1888,1889,1890,1891,1892,1893,1894,1895,1896,1897,1898,1899,1900,1901,1902,1903,1904,1905,1906,1907,1908,1909,1910,1911,1912,1913,1914,1915,1916,1917,1918,1919,1920,1921,1922,1923,1924,1925,1926,1927,1928,1929,1930,1931,1932,1933,1934,1935,1936,1937,1938,1939,1940,1941,1942,1943,1944,1945,1946,1947,1948,1949,1950,1951,1952,1953,1954,1955,1956,1957,1958,1959,1960,1961,1962,1963,1964,1965,1966,1967,1968,1969,1970,1971,1972,1973,1974,1975,1976,1977,1978,1979,1980,1981,1982,1983,1984,1985,1986,1987,1988,1989,1990,1991,1992,1993,1994,1995,1996,1997,1998,1999,2000,2001,2002,2003,2004,2005,2006,2007,2008,2009,2010,2011,2012,2013,2014,2015,2016,2017,2018,2019,2020,2021,2022,2023,2024,2025,2026,2027,2028,2029,2030,2031,2032,2033,2034,2035,2036,2037,2038,2039,2040,2041,2042,2043,2044,2045,2046,2047,2048,2049,2050,2051,2052,2053,2054,2055,2056,2057,2058,2059,2060,2061,2062,2063,2064,2065,2066,2067,2068,2069,2070,2071,2072,2073,2074,2075,2076,2077,2078,2079,2080,2081,2082,2083,2084,2085,2086,2087,2088,2089,2090,2091,2092,2093,2094,2095,2096,2097,2098,2099,2100,2101,2102,2103,2104,2105,2106,2107,2108,2109,2110,2111,2112,2113,2114,2115,2116,2117,2118,2119,2120,2121,2122,2123,2124,2125,2126,2127,2128,2129,2130,2131,2132,2133,2134,2135,2136,2137,2138,2139,2140,2141,2142,2143,2144,2145,2146,2147,2148,2149,2150,2151,2152,2153,2154,2155,2156,2157,2158,2159,2160,2161,2162,2163,2164,2165,2166,2167,2168,2169,2170,2171,2172,2173,2174,2175,2176,2177,2178,2179,2180,2181,2182,2183,2184,2185,2186,2187,2188,2189,2190,2191,2192,2193,2194,2195,2196,2197,2198,2199,2200,2201,2202,2203,2204,2205,2206,2207,2208,2209,2210,2211,2212,2213,2214,2215,2216,2217,2218,2219,2220,2221,2222,2223,2224,2225,2226,2227,2228,2229,2230,2231,2232,2233,2234,2235,2236,2237,2238,2239,2240,2241,2242,2243,2244,2245,2246,2247,2248,2249,2250,2251,2252,2253,2254,2255,2256,2257,2258,2259,2260,2261,2262,2263,2264,2265,2266,2267,2268,2269,2270,2271,2272,2273,2274,2275,2276,2277,2278,2279,2280,2281,2282,2283,2284,2285,2286,2287,2288,2289,2290,2291,2292,2293,2294,2295,2296,2297,2298,2299,2300,2301,2302,2303,2304,2305,2306,2307,2308,2309,2310,2311,2312,2313,2314,2315,2316,2317,2318,2319,2320,2321,2322,2323,2324,2325,2326,2327,2328,2329,2330,2331,2332,2333,2334,2335,2336,2337,2338,2339,2340,2341,2342,2343,2344,2345,2346,2347,2348,2349,2350,2351,2352,2353,2354,2355,2356,2357,2358,2359,2360,2361,2362,2363,2364,2365,2366,2367,2368,2369,2370,2371,2372,2373,2374,2375,2376,2377,2378,2379,2380,2381,2382,2383,2384,2385,2386,2387,2388,2389,2390,2391,2392,2393,2394,2395,2396,2397,2398,2399,2400,2401,2402,2403,2404,2405,2406,2407,2408,2409,2410,2411,2412,2413,2414,2415,2416,2417,2418,2419,2420,2421,2422,2423,2424,2425,2426,2427,2428,2429,2430,2431,2432,2433,2434,2435,2436,2437,2438,2439,2440,2441,2442,2443,2444,2445,2446,2447,2448,2449,2450,2451,2452,2453,2454,2455,2456,2457,2458,2459,2460,2461,2462,2463,2464,2465,2466,2467,2468,2469,2470,2471,2472,2473,2474,2475,2476,2477,2478,2479,2480,2481,2482,2483,2484,2485,2486,2487,2488,2489,2490,2491,2492,2493,2494,2495,2496,2497,2498,2499,2500,2501,2502,2503,2504,2505,2506,2507,2508,2509,2510,2511,2512,2513,2514,2515,2516,2517,2518,2519,2520,2521,2522,2523,2524,2525,2526,2527,2528,2529,2530,2531,2532,2533,2534,2535,2536,2537,2538,2539,2540,2541,2542,2543,2544,2545,2546,2547,2548,2549,2550,2551,2552,2553,2554,2555,2556,2557,2558,2559,2560,2561,2562,2563,2564,2565,2566,2567,2568,2569,2570,2571,2572,2573,2574,2575,2576,2577,2578,2579,2580,2581,2582,2583,2584,2585,2586,2587,2588,2589,2590,2591,2592,2593,2594,2595,2596,2597,2598,2599,2600,2601,2602,2603,2604,2605,2606,2607,2608,2609,2610,2611,2612,2613,2614,2615,2616,2617,2618,2619,2620,2621,2622,2623,2624,2625,2626,2627,2628,2629,2630,2631,2632,2633,2634,2635,2636,2637,2638,2639,2640,2641,2642,2643,2644,2645,2646,2647,2648,2649,2650,2651,2652,2653,2654,2655,2656,2657,2658,2659,2660,2661,2662,2663,2664,2665,2666,2667,2668,2669,2670,2671,2672,2673,2674,2675,2676,2677,2678,2679,2680,2681,2682,2683,2684,2685,2686,2687,2688,2689,2690,2691,2692,2693,2694,2695,2696,2697,2698,2699,2700,2701,2702,2703,2704,2705,2706,2707,2708,2709,2710,2711,2712,2713,2714,2715,2716,2717,2718,2719,2720,2721,2722,2723,2724,2725,2726,2727,2728,2729,2730,2731,2732,2733,2734,2735,2736,2737,2738,2739,2740,2741,2742,2743,2744,2745,2746,2747,2748,2749,2750,2751,2752,2753,2754,2755,2756,2757,2758,2759,2760,2761,2762,2763,2764,2765,2766,2767,2768,2769,2770,2771,2772,2773,2774,2775,2776,2777,2778,2779,2780,2781,2782,2783,2784,2785,2786,2787,2788,2789,2790,2791,2792,2793,2794,2795,2796,2797,2798,2799,2800,2801,2802,2803,2804,2805,2806,2807,2808,2809,2810,2811,2812,2813,2814,2815,2816,2817,2818,2819,2820,2821,2822,2823,2824,2825,2826,2827,2828,2829,2830,2831,2832,2833,2834,2835,2836,2837,2838,2839,2840,2841,2842,2843,2844,2845,2846,2847,2848,2849,2850,2851,2852,2853,2854,2855,2856,2857,2858,2859,2860,2861,2862,2863,2864,2865,2866,2867,2868,2869,2870,2871,2872,2873,2874,2875,2876,2877,2878,2879,2880,2881,2882,2883,2884,2885,2886,2887,2888,2889,2890,2891,2892,2893,2894,2895,2896,2897,2898,2899,2900,2901,2902,2903,2904,2905,2906,2907,2908,2909,2910,2911,2912,2913,2914,2915,2916,2917,2918,2919,2920,2921,2922,2923,2924,2925,2926,2927,2928,2929,2930,2931,2932,2933,2934,2935,2936,2937,2938,2939,2940,2941,2942,2943,2944,2945,2946,2947,2948,2949,2950,2951,2952,2953,2954,2955,2956,2957,2958,2959,2960,2961,2962,2963,2964,2965,2966,2967,2968,2969,2970,2971,2972,2973,2974,2975,2976,2977,2978,2979,2980,2981,2982,2983,2984,2985,2986,2987,2988,2989,2990,2991,2992,2993,2994,2995,2996,2997,2998,2999,3000,3001,3002,3003,3004,3005,3006,3007,3008,3009,3010,3011,3012,3013,3014,3015,3016,3017,3018,3019,3020,3021,3022,3023,3024,3025,3026,3027,3028,3029,3030,3031,3032,3033,3034,3035,3036,3037,3038,3039,3040,3041,3042,3043,3044,3045,3046,3047,3048,3049,3050,3051,3052,3053,3054,3055,3056,3057,3058,3059,3060,3061,3062,3063,3064,3065,3066,3067,3068,3069,3070,3071,3072,3073,3074,3075,3076,3077,3078,3079,3080,3081,3082,3083,3084,3085,3086,3087,3088,3089,3090,3091,3092,3093,3094,3095,3096,3097,3098,3099,3100,3101,3102,3103,3104,3105,3106,3107,3108,3109,3110,3111,3112,3113,3114,3115,3116,3117,3118,3119,3120,3121,3122,3123,3124,3125,3126,3127,3128,3129,3130,3131,3132,3133,3134,3135,3136,3137,3138,3139,3140,3141,3142,3143,3144,3145,3146,3147,3148,3149,3150,3151,3152,3153,3154,3155,3156,3157,3158,3159,3160,3161,3162,3163,3164,3165,3166,3167,3168,3169,3170,3171,3172,3173,3174,3175,3176,3177,3178,3179,3180,3181,3182,3183,3184,3185,3186,3187,3188,3189,3190,3191,3192,3193,3194,3195,3196,3197,3198,3199,3200,3201,3202,3203,3204,3205,3206,3207,3208,3209,3210,3211,3212,3213,3214,3215,3216,3217,3218,3219,3220,3221,3222,3223,3224,3225,3226,3227,3228,3229,3230,3231,3232,3233,3234,3235,3236,3237,3238,3239,3240,3241,3242,3243,3244,3245,3246,3247,3248,3249,3250,3251,3252,3253,3254,3255,3256,3257,3258,3259,3260,3261,3262,3263,3264,3265,3266,3267,3268,3269,3270,3271,3272,3273,3274,3275,3276,3277,3278,3279,3280,3281,3282,3283,3284,3285,3286,3287,3288,3289,3290,3291,3292,3293,3294,3295,3296,3297,3298,3299,3300,3301,3302,3303,3304,3305,3306,3307,3308,3309,3310,3311,3312,3313,3314,3315,3316,3317,3318,3319,3320,3321,3322,3323,3324,3325,3326,3327,3328,3329,3330,3331,3332,3333,3334,3335,3336,3337,3338,3339,3340,3341,3342,3343,3344,3345,3346,3347,3348,3349,3350,3351,3352,3353,3354,3355,3356,3357,3358,3359,3360,3361,3362,3363,3364,3365,3366,3367,3368,3369,3370,3371,3372,3373,3374,3375,3376,3377,3378,3379,3380,3381,3382,3383,3384,3385,3386,3387,3388,3389,3390,3391,3392,3393,3394,3395,3396,3397,3398,3399,3400,3401,3402,3403,3404,3405,3406,3407,3408,3409,3410,3411,3412,3413,3414,3415,3416,3417,3418,3419,3420,3421,3422,3423,3424,3425,3426,3427,3428,3429,3430,3431,3432,3433,3434,3435,3436,3437,3438,3439,3440,3441,3442,3443,3444,3445,3446,3447,3448,3449,3450,3451,3452,3453,3454,3455,3456,3457,3458,3459,3460,3461,3462,3463,3464,3465,3466,3467,3468,3469,3470,3471,3472,3473,3474,3475,3476,3477,3478,3479,3480,3481,3482,3483,3484,3485,3486,3487,3488,3489,3490,3491,3492,3493,3494,3495,3496,3497,3498,3499,3500,3501,3502,3503,3504,3505,3506,3507,3508,3509,3510,3511,3512,3513,3514,3515,3516,3517,3518,3519,3520,3521,3522,3523,3524,3525,3526,3527,3528,3529,3530,3531,3532,3533,3534,3535,3536,3537,3538,3539,3540,3541,3542,3543,3544,3545,3546,3547,3548,3549,3550,3551,3552,3553,3554,3555,3556,3557,3558,3559,3560,3561,3562,3563,3564,3565,3566,3567,3568,3569,3570,3571,3572,3573,3574,3575,3576,3577,3578,3579,3580,3581,3582,3583,3584,3585,3586,3587,3588,3589,3590,3591,3592,3593,3594,3595,3596,3597,3598,3599,3600,3601,3602,3603,3604,3605,3606,3607,3608,3609,3610,3611,3612,3613,3614,3615,3616,3617,3618,3619,3620,3621,3622,3623,3624,3625,3626,3627,3628,3629,3630,3631,3632,3633,3634,3635,3636,3637,3638,3639,3640,3641,3642,3643,3644,3645,3646,3647,3648,3649,3650,3651,3652,3653,3654,3655,3656,3657,3658,3659,3660,3661,3662,3663,3664,3665,3666,3667,3668,3669,3670,3671,3672,3673,3674,3675,3676,3677,3678,3679,3680,3681,3682,3683,3684,3685,3686,3687,3688,3689,3690,3691,3692,3693,3694,3695,3696,3697,3698,3699,3700,3701,3702,3703,3704,3705,3706,3707,3708,3709,3710,3711,3712,3713,3714,3715,3716,3717,3718,3719,3720,3721,3722,3723,3724,3725,3726,3727,3728,3729,3730,3731,3732,3733,3734,3735,3736,3737,3738,3739,3740,3741,3742,3743,3744,3745,3746,3747,3748,3749,3750,3751,3752,3753,3754,3755,3756,3757,3758,3759,3760,3761,3762,3763,3764,3765,3766,3767,3768,3769,3770,3771,3772,3773,3774,3775,3776,3777,3778,3779,3780,3781,3782,3783,3784,3785,3786,3787,3788,3789,3790,3791,3792,3793,3794,3795,3796,3797,3798,3799,3800,3801,3802,3803,3804,3805,3806,3807,3808,3809,3810,3811,3812,3813,3814,3815,3816,3817,3818,3819,3820,3821,3822,3823,3824,3825,3826,3827,3828,3829,3830,3831,3832,3833,3834,3835,3836,3837,3838,3839,3840,3841,3842,3843,3844,3845,3846,3847,3848,3849,3850,3851,3852,3853,3854,3855,3856,3857,3858,3859,3860,3861,3862,3863,3864,3865,3866,3867,3868,3869,3870,3871,3872,3873,3874,3875,3876,3877,3878,3879,3880,3881,3882,3883,3884,3885,3886,3887,3888,3889,3890,3891,3892,3893,3894,3895,3896,3897,3898,3899,3900,3901,3902,3903,3904,3905,3906,3907,3908,3909,3910,3911,3912,3913,3914,3915,3916,3917,3918,3919,3920,3921,3922,3923,3924,3925,3926,3927,3928,3929,3930,3931,3932,3933,3934,3935,3936,3937,3938,3939,3940,3941,3942,3943,3944,3945,3946,3947,3948,3949,3950,3951,3952,3953,3954,3955,3956,3957,3958,3959,3960,3961,3962,3963,3964,3965,3966,3967,3968,3969,3970,3971,3972,3973,3974,3975,3976,3977,3978,3979,3980,3981,3982,3983,3984,3985,3986,3987,3988,3989,3990,3991,3992,3993,3994,3995,3996,3997,3998,3999,4000,4001,4002,4003,4004,4005,4006,4007,4008,4009,4010,4011,4012,4013,4014,4015,4016,4017,4018,4019,4020,4021,4022,4023,4024,4025,4026,4027,4028,4029,4030,4031,4032,4033,4034,4035,4036,4037,4038,4039,4040,4041,4042,4043,4044,4045,4046,4047,4048,4049,4050,4051,4052,4053,4054,4055,4056,4057,4058,4059,4060,4061,4062,4063,4064,4065,4066,4067,4068,4069,4070,4071,4072,4073,4074,4075,4076,4077,4078,4079,4080,4081,4082,4083,4084,4085,4086,4087,4088,4089,4090,4091,4092,4093,4094,4095,4096,4097,4098,4099,4100,4101,4102,4103,4104,4105,4106,4107,4108,4109,4110,4111,4112,4113,4114,4115,4116,4117,4118,4119,4120,4121,4122,4123,4124,4125,4126,4127,4128,4129,4130,4131,4132,4133,4134,4135,4136,4137,4138,4139,4140,4141,4142,4143,4144,4145,4146,4147,4148,4149,4150,4151,4152,4153,4154,4155,4156,4157,4158,4159,4160,4161,4162,4163,4164,4165,4166,4167,4168,4169,4170,4171,4172,4173,4174,4175,4176,4177,4178,4179,4180,4181,4182,4183,4184,4185,4186,4187,4188,4189,4190,4191,4192,4193,4194,4195,4196,4197,4198,4199,4200,4201,4202,4203,4204,4205,4206,4207,4208,4209,4210,4211,4212,4213,4214,4215,4216,4217,4218,4219,4220,4221,4222,4223,4224,4225,4226,4227,4228,4229,4230,4231,4232,4233,4234,4235,4236,4237,4238,4239,4240,4241,4242,4243,4244,4245,4246,4247,4248,4249,4250,4251,4252,4253,4254,4255,4256,4257,4258,4259,4260,4261,4262,4263,4264,4265,4266,4267,4268,4269,4270,4271,4272,4273,4274,4275,4276,4277,4278,4279,4280,4281,4282,4283,4284,4285,4286,4287,4288,4289,4290,4291,4292,4293,4294,4295,4296,4297,4298,4299,4300,4301,4302,4303,4304,4305,4306,4307,4308,4309,4310,4311,4312,4313,4314,4315,4316,4317,4318,4319,4320,4321,4322,4323,4324,4325,4326,4327,4328,4329,4330,4331,4332,4333,4334,4335,4336,4337,4338,4339,4340,4341,4342,4343,4344,4345,4346,4347,4348,4349,4350,4351,4352,4353,4354,4355,4356,4357,4358,4359,4360,4361,4362,4363,4364,4365,4366,4367,4368,4369,4370,4371,4372,4373,4374,4375,4376,4377,4378,4379,4380,4381,4382,4383,4384,4385,4386,4387,4388,4389,4390,4391,4392,4393,4394,4395,4396,4397,4398,4399,4400,4401,4402,4403,4404,4405,4406,4407,4408,4409,4410,4411,4412,4413,4414,4415,4416,4417,4418,4419,4420,4421,4422,4423,4424,4425,4426,4427,4428,4429,4430,4431,4432,4433,4434,4435,4436,4437,4438,4439,4440,4441,4442,4443,4444,4445,4446,4447,4448,4449,4450,4451,4452,4453,4454,4455,4456,4457,4458,4459,4460,4461,4462,4463,4464,4465,4466,4467,4468,4469,4470,4471,4472,4473,4474,4475,4476,4477,4478,4479,4480,4481,4482,4483,4484,4485,4486,4487,4488,4489,4490,4491,4492,4493,4494,4495,4496,4497,4498,4499,4500,4501,4502,4503,4504,4505,4506,4507,4508,4509,4510,4511,4512,4513,4514,4515,4516,4517,4518,4519,4520,4521,4522,4523,4524,4525,4526,4527,4528,4529,4530,4531,4532,4533,4534,4535,4536,4537,4538,4539,4540,4541,4542,4543,4544,4545,4546,4547,4548,4549,4550,4551,4552,4553,4554,4555,4556,4557,4558,4559,4560,4561,4562,4563,4564,4565,4566,4567,4568,4569,4570,4571,4572,4573,4574,4575,4576,4577,4578,4579,4580,4581,4582,4583,4584,4585,4586,4587,4588,4589,4590,4591,4592,4593,4594,4595,4596,4597,4598,4599,4600,4601,4602,4603,4604,4605,4606,4607,4608,4609,4610,4611,4612,4613,4614,4615,4616,4617,4618,4619,4620,4621,4622,4623,4624,4625,4626,4627,4628,4629,4630,4631,4632,4633,4634,4635,4636,4637,4638,4639,4640,4641,4642,4643,4644,4645,4646,4647,4648,4649,4650,4651,4652,4653,4654,4655,4656,4657,4658,4659,4660,4661,4662,4663,4664,4665,4666,4667,4668,4669,4670,4671,4672,4673,4674,4675,4676,4677,4678,4679,4680,4681,4682,4683,4684,4685,4686,4687,4688,4689,4690,4691,4692,4693,4694,4695,4696,4697,4698,4699,4700,4701,4702,4703,4704,4705,4706,4707,4708,4709,4710,4711,4712,4713,4714,4715,4716,4717,4718,4719,4720,4721,4722,4723,4724,4725,4726,4727,4728,4729,4730,4731,4732,4733,4734,4735,4736,4737,4738,4739,4740,4741,4742,4743,4744,4745,4746,4747,4748,4749,4750,4751,4752,4753,4754,4755,4756,4757,4758,4759,4760,4761,4762,4763,4764,4765,4766,4767,4768,4769,4770,4771,4772,4773,4774,4775,4776,4777,4778,4779,4780,4781,4782,4783,4784,4785,4786,4787,4788,4789,4790,4791,4792,4793,4794,4795,4796,4797,4798,4799,4800,4801,4802,4803,4804,4805,4806,4807,4808,4809,4810,4811,4812,4813,4814,4815,4816,4817,4818,4819,4820,4821,4822,4823,4824,4825,4826,4827,4828,4829,4830,4831,4832,4833,4834,4835,4836,4837,4838,4839,4840,4841,4842,4843,4844,4845,4846,4847,4848,4849,4850,4851,4852,4853,4854,4855,4856,4857,4858,4859,4860,4861,4862,4863,4864,4865,4866,4867,4868,4869,4870,4871,4872,4873,4874,4875,4876,4877,4878,4879,4880,4881,4882,4883,4884,4885,4886,4887,4888,4889,4890,4891,4892,4893,4894,4895,4896,4897,4898,4899,4900,4901,4902,4903,4904,4905,4906,4907,4908,4909,4910,4911,4912,4913,4914,4915,4916,4917,4918,4919,4920,4921,4922,4923,4924,4925,4926,4927,4928,4929,4930,4931,4932,4933,4934,4935,4936,4937,4938,4939,4940,4941,4942,4943,4944,4945,4946,4947,4948,4949,4950,4951,4952,4953,4954,4955,4956,4957,4958,4959,4960,4961,4962,4963,4964,4965,4966,4967,4968,4969,4970,4971,4972,4973,4974,4975,4976,4977,4978,4979,4980,4981,4982,4983,4984,4985,4986,4987,4988,4989,4990,4991,4992,4993,4994,4995,4996,4997,4998,4999],\"words\":[\"hot\",\"coach\",\"70\",\"minutes\",\"go\",\"back\",\"work\",\"today\",\"please\",\"play\",\"daisy\",\"cutter\",\"+\",\"jackpot\",\"rest\",\"uplifter\",\"atlanta\",\"that'd\",\"pretty\",\"good\",\"4th\",\"july\",\"yeah\",\"i'm\",\"feeling\",\"ominous\",\"looking\",\"window\",\"depressing\",\"beautiful\",\"finally\",\"got\",\"hair\",\"fixed\",\"watching\",\"movie\",\"really\",\"freaky\",\"theres\",\"eyes\",\"tiles\",\"floor\",\"eugh\",\"yikes\",\"mr\",\"alex\",\"lion\",\"well\",\"raining\",\"cloudy\",\"windy\",\"pizza\",\"yesss\",\"sad\",\"sorry\",\"omg\",\"42\",\"updates\",\"inc\",\"one\",\"official\",\"tweet\",\"ruin\",\"oh\",\"wish\",\"could\",\"stay\",\"foreverrr\",\"mmm\",\"fan\",\"chicago\",\"days\",\"wings\",\"due\",\"current\",\"local\",\"like\",\"capitals\",\"\\\"\",\"first\",\"afraid\",\"combination\",\"that's\",\"awesome\",\"cute\",\"still\",\"bored\",\"need\",\"find\",\"hobby\",\"next\",\"week\",\"umm\",\"shopping\",\"nah\",\"gawd\",\"think\",\"life\",\"whaaa\",\"hmmm\",\"thanks\",\"-\",\"thinkin\",\"ex\",\"miss\",\"come\",\"babe\",\"lol\",\"hurry\",\"footy\",\"funny\",\"sales\",\"videos\",\"&\",\"naturally\",\"prefer\",\"latter\",\"gonna\",\"big\",\"people\",\"flight\",\"recorded\",\"new\",\"song\",\"u\",\"wont\",\"hear\",\"long\",\"time\",\"thooo\",\"might\",\"shows\",\"tho\",\"comeee\",\"another\",\"lovely\",\"morning\",\"cud\",\"get\",\"used\",\"early\",\"thinking\",\"continuing\",\"job\",\"search\",\"start\",\"summer\",\"nanny\",\"nowww\",\"im\",\"jealous\",\"catch\",\"nap\",\"whats\",\"worst\",\"happen\",\")\",\"maybe\",\"shouldnt\",\"take\",\"advice\",\"grad\",\"party\",\"danced\",\"night\",\"haha\",\"upload\",\"pictures\",\"soon\",\"graduation\",\"gear\",\"excited\",\"believe\",\"41\",\"left\",\"aaah\",\"sweater\",\"cozy\",\"google\",\"app\",\"engine\",\"meant\",\"terrorists\",\"let\",\"pass\",\"fast\",\"day\",\"man\",\"ate\",\"best\",\"sandwhich\",\"ever\",\"but\",\"chicken\",\"meat\",\"taste\",\"x\",\"science\",\"behind\",\"tipping\",\"cow\",\"via\",\"very\",\"internship\",\"grateful\",\"opportunity\",\"shower\",\"waiting\",\"bus\",\"no\",\"already\",\"told\",\"yes\",\"girl\",\"love\",\"reading\",\"sunday\",\"supplements\",\"(\",\"know\",\"monday\",\"stfu\",\"times\",\"culture\",\"says\",\"fleet\",\"foxes\",\"glasto\",\"highlight\",\"want\",\"two\",\"little\",\"family\",\"tiger\",\"argh\",\"rose\",\"half\",\"way\",\"getting\",\"level\",\"8\",\"email\",\"made\",\"lose\",\"63\",\"there's\",\"she'll\",\"master\",\"=\",\"upset\",\"lebron\",\"sit\",\"phone\",\"n\",\"tell\",\"game\",\"darn\",\"friday\",\"prob\",\"saying\",\"dm\",\"guess\",\"chance\",\"win\",\"prize\",\"changing\",\"nickname\",\"aw\",\"hahah\",\"guessed\",\"hurt\",\"thought\",\"would\",\"fun\",\"mm\",\"sounds\",\"tasty\",\"planned\",\"costume\",\"plan\",\"cover\",\"rain\",\"coat\",\"somebody\",\"stop\",\"6\",\"o'clock\",\"never\",\"seemed\",\"far\",\"away\",\"baby's\",\"asleep\",\"ariza\",\"awww\",\"thank\",\"much\",\"*\",\"thats\",\"cuz\",\"us\",\"gay\",\"club\",\"music\",\"sucks\",\"plus\",\"open\",\"bathroom\",\"lots\",\"boys\",\"cause\",\"though\",\"congrats\",\"advance\",\"can't\",\"sleeping\",\"couch\",\"parents\",\"introducing\",\"saturday\",\"woke\",\"i'll\",\"eating\",\"cheese\",\"cake\",\"friends\",\"study\",\"searching\",\"deal\",\"flat\",\"  \",\"heh\",\"chocolate\",\"class\",\"belong\",\"favorite\",\"trying\",\"art\",\"architecture\",\"test\",\"hours\",\"joy\",\"cool\",\"presents\",\"breaking\",\"dawn\",\"guest\",\"home\",\"bye\",\"we'll\",\"safe\",\"trip\",\"wants\",\"sunshine\",\"college\",\"food\",\"house\",\"enough\",\"gnite\",\"/\",\"morn\",\"y'all\",\"later\",\"salt\",\"vinegar\",\"chips\",\"loved\",\"switching\",\"towns\",\"normal\",\"keep\",\"mine\",\"moved\",\"breakfast\",\"contests\",\"wait\",\"xoxo\",\"anything\",\"'\",\"battery\",\"barely\",\"lasts\",\"wow\",\"ass\",\"hole\",\"hairline\",\"farther\",\"bit\",\"wedding\",\"dress\",\"lakers\",\"poor\",\"denise\",\"coming\",\"appreciate\",\"offer\",\"unfair\",\"aww\",\"whinging\",\"hey\",\"yahoo\",\"add\",\"unless\",\"mad\",\"sooo\",\"freaking\",\"going\",\"ask\",\"fmlll\",\"yea\",\"calgary\",\"last\",\"montreal\",\"lost\",\"ottawa\",\"ugh\",\"sleep\",\"tonight\",\"waitin\",\"breath\",\"beach\",\"corner\",\"burger\",\"nomnomnom\",\"w\",\"yay\",\"luv\",\"message\",\"molly\",\"sent\",\"lollipop\",\"idea\",\"attend\",\"sensation\",\"white\",\"feels\",\"experience\",\"europe\",\"course\",\"profile\",\"duh\",\"rudy\",\"jean\",\"tip\",\"dont\",\"cry\",\"ur\",\"mom\",\"trick\",\"cancer\",\"relay\",\"happiest\",\"thing\",\"world\",\"feet\",\"soaked\",\"walkin\",\"around\",\"tryna\",\"apartment\",\"room\",\"ugghhh\",\"anywho\",\"gotta\",\"move\",\"btw\",\"storms\",\"done\",\"something\",\"2\",\"wifi\",\"twitter\",\"forms\",\"isnt\",\"updating\",\"real\",\"seem\",\"late\",\"replying\",\"@\",\"dms\",\"kai\",\"tha\",\"pw\",\"yey\",\"7\",\"john\",\"kate\",\"they're\",\"seperating\",\"always\",\"male\",\"pokemon\",\"hatching\",\"eggs\",\"wtb\",\"female\",\"check\",\"election\",\"results\",\"buisness\",\"foward\",\"weekend\",\"sleepover\",\"friend\",\"ok\",\"ended\",\"expected\",\"didnt\",\"called\",\"able\",\"c\",\"austin\",\"hunger\",\"hits\",\"billion\",\"blinking\",\"hard\",\"see\",\"concert\",\"anyway\",\"finish\",\"reallly\",\"backyard\",\"hammock\",\"bad\",\"sons\",\"boi\",\"r\",\"cheatin\",\"missing\",\"badly\",\"hope\",\"better\",\"b\",\"da\",\"longest\",\"most\",\"wks\",\"eva\",\"support\",\"plans\",\"make\",\"why'd\",\"click\",\"link\",\"mya\",\"shy\",\"meee\",\"money\",\"xx\",\"happy\",\"yet\",\"less\",\"sis\",\"child\",\"gone\",\"summmer\",\"sure\",\"discouraging\",\"achey\",\"backed\",\"means\",\"deserve\",\"muffin\",\"heather\",\"hahaha\",\"pain\",\"yeahhh\",\"found\",\"shop\",\"selling\",\"jam\",\"picture\",\"rich\",\"id\",\"pay\",\"three\",\"tour\",\"blogging\",\"granny\",\"passed\",\"qu\\u00ef\",\"\\u00bf\",\"\\u00bd\",\"en\",\"fly\",\"pomegranate\",\"green\",\"tea\",\"angry\",\"becuase\",\"cant\",\"buy\",\"songs\",\"haa\",\"account\",\"chillaxin\",\"screwed\",\"tennis\",\"3\",\"sets\",\"great\",\"chain\",\"warned\",\"deleted\",\"die\",\"pls\",\"send\",\"usually\",\"nights\",\"exam\",\"revise\",\"crap\",\"many\",\"types\",\"wrong\",\"typos\",\"boos\",\"dr\",\"g\",\"medical\",\"examiner\",\"ba\",\"sayin\",\"dinner\",\"fam\",\"full\",\"meal\",\"feel\",\"fat\",\"workout\",\"overdrive\",\"tomorrow\",\"attempting\",\"try\",\"anymore\",\"hate\",\"mondays\",\"interpretation\",\"fashion\",\"miami\",\"dear\",\"what's\",\"model\",\"quality\",\"photos\",\"camera\",\"thinks\",\"broke\",\"residents\",\"clothes\",\"dryer\",\"fuck\",\"hello\",\"honey\",\"xxx\",\"ittt\",\"ill\",\"graduating\",\"nxt\",\"def\",\"stayin\",\"awhile\",\"fl\",\"visit\",\"mean\",\"bite\",\"suck\",\"tit\",\"clone\",\"bought\",\"t-shirt\",\"breakout\",\"arrived\",\"customs\",\"till\",\"february\",\"relevant\",\"fascinated\",\"sentence\",\"gps\",\"satellite\",\"sync\",\"computer\",\"yweakness\",\"texts\",\"ha\",\"indeed\",\"considered\",\"stand-up\",\"homee\",\"tired\",\"magic\",\"seven\",\"london\",\"nice\",\"partner\",\"budapest\",\"soo\",\"damn\",\"follow\",\"hahaaa\",\"photo\",\"fish\",\"horrible\",\"hold\",\"turn\",\"shaky\",\"least\",\"decent\",\"price\",\"dad's\",\"dang\",\"happens\",\"especially\",\"sick\",\"craig\",\"manager\",\"quit\",\"flipped\",\"month\",\"old\",\"mattress\",\"relocate\",\"formed\",\"butt\",\"confuse\",\"serious\",\"mistake\",\"everybody\",\"jobs\",\"without\",\"uh\",\"robert\",\"downey\",\"iron\",\"liked\",\"heath\",\"ledger\",\"seth\",\"every\",\"1\",\"hug\",\"sometimes\",\"virtual\",\"ones\",\"clip\",\"jonas\",\"everything\",\"seems\",\"falling\",\"apart\",\"close\",\"birthday\",\"jerk\",\"noes\",\"darnit\",\"certain\",\"headache\",\"ollowfriday\",\"following\",\"planing\",\"manila\",\"thailand\",\"let's\",\"chemistry\",\"95\",\"bottom\",\"locker\",\"grrreat\",\"wanna\",\"]\",\"mother's\",\"mothers\",\"sizzling\",\"outside\",\"inside\",\"double\",\"tarp\",\"working\",\"booo\",\"driving\",\"lesson\",\"even\",\"worse\",\"sr\",\"count\",\"hows\",\"moving\",\"lay\",\"odds\",\"guys\",\"insomnia\",\"worked\",\"weird\",\"lunch\",\"right\",\"matter\",\"100\",\"followers\",\"using\",\"wwwtweeteraddercom\",\"everyone\",\"train\",\"vip\",\"beer\",\"drinking\",\"goers\",\"theaters\",\"crazy\",\"migraine\",\"must\",\"weather\",\"hotel\",\"sydney\",\"10\",\"hehe\",\"yess\",\"words\",\"sounded\",\"badass\",\"xo\",\"truely\",\"blessed\",\"smiles\",\"lbs\",\"i've\",\"woot\",\"national\",\"running\",\"run\",\"amazing\",\"heard\",\"gaming\",\"playing\",\"older\",\"games\",\"sonic\",\"newer\",\"halo\",\"hehhe\",\"nick\",\"name\",\"whomp\",\"puppet\",\"commercials\",\"god\",\"youtube\",\"sweet\",\"mornin\",\"walking\",\"pup\",\"starting\",\"ready\",\"impossible\",\"wake\",\"cash\",\"cab\",\"king\",\"glad\",\"testing\",\"tested\",\"bullets\",\"suggested\",\"others\",\"ghostbusters\",\"pc\",\"drm\",\"multiplayer\",\"shell\",\"$\",\"60\",\"360\",\"40\",\"buggin\",\"live\",\"okay\",\"heart\",\"anyways\",\"dork\",\"free\",\"haircut\",\"planet\",\"selena\",\"farm\",\"reception\",\"mobile\",\"wonders\",\"person\",\"hook\",\"multiple\",\"screen\",\"set\",\"teehee\",\"bday\",\"looove\",\"sme\",\"bed\",\"goodnight\",\"loves\",\"fingers\",\"smell\",\"poo\",\"school\",\"ending\",\"boo\",\"answer\",\"nicole\",\"shes\",\"hawaii\",\"foot\",\"hurts\",\"madness\",\"returns\",\"miley\",\"cyrus\",\"tickets\",\"triple\",\"matches\",\"shorts\",\"dream\",\"yayyy\",\"signed\",\"warner\",\"bros\",\"suppose\",\"keri\",\"hilson\",\"bobby\",\"valentino\",\"krispy\",\"kreme\",\"doughnut\",\"range\",\"clogged\",\"system\",\"book\",\"weeks\",\"physics\",\"exams\",\"miraculously\",\"woop\",\"spent\",\"entire\",\"procrastinating\",\"clean\",\"car\",\"corrupt\",\"mind\",\"anoop\",\"explain\",\"dreaming\",\"zero\",\"technology\",\"along\",\"nicely\",\"making\",\"problemo\",\"hehehe\",\"bothered\",\"maths\",\"laying\",\"agony\",\"desserts\",\"lactose\",\"intolerant\",\"amy\",\"wine\",\"giggly\",\"tootsie\",\"pop\",\"pops\",\"definitely\",\"either\",\"23\",\"joke\",\"minute\",\"quite\",\"fever\",\"finished\",\"trunks\",\"cosplay\",\"decided\",\"lend\",\"credit\",\"card\",\"cooking\",\"2morrow\",\"sun\",\"actually\",\"shining\",\"recovery\",\"pugs\",\"bigger\",\"yard\",\"i'd\",\"mommy\",\"twitts\",\"mommie\",\"cali\",\"oodnight\",\"witter\",\"ove\",\"yum\",\"daughters\",\"productive\",\"hopefully\",\"h\",\"wanted\",\"status\",\"proofs\",\"laugh\",\"shamed\",\"inviting\",\"dude\",\"killer\",\"whale\",\"put\",\"pool\",\"jasmine\",\"\\u00e2\",\"\\u0099\",\"rep\",\"hearts\",\"superstars\",\"\\u00aa\",\"wouldnt\",\"stupid\",\"signature\",\"apologize\",\"inconvenience\",\"hacked\",\"myspace\",\"may\",\"causing\",\"fix\",\"becoming\",\"teacher\",\"tattoo\",\"artist\",\"ideas\",\"sigh\",\"soul\",\"sight\",\"give\",\"somewhere\",\"else\",\"services\",\"possibility\",\"mcdonalds\",\"health\",\"mostly\",\"lovin\",\"lack\",\"excuse\",\"forgot\",\"cold\",\"took\",\"cruiser\",\"spin\",\"beauty\",\"dog\",\"\\u00a5\",\"putting\",\"sunblock\",\"walk\",\"sunburn\",\"suncream\",\"yesterday\",\"rk\",\"michael\",\"nite\",\"conference\",\"whhhyyy\",\"cannot\",\"makes\",\"since\",\"huge\",\"say\",\"matching\",\"curtain\",\"towels\",\"plates\",\"worry\",\"ralph\",\"started\",\"argument\",\"stand\",\"minded\",\"edit\",\"settings\",\"use\",\"port\",\"instead\",\"25\",\"works\",\"line\",\"learn\",\"nobody\",\"hmm\",\"doin\",\"interesting\",\"dip\",\"starters\",\"end\",\"flicks\",\"write\",\"script\",\"sux\",\"sat\",\"hl\",\"looks\",\"it'll\",\"oughta\",\"series\",\"landed\",\"cut\",\"disney\",\"project\",\"major\",\"wonder\",\"cutie\",\"rekon\",\"huh\",\"j\",\"lie\",\"730\",\"rushing\",\"nothing\",\"personal\",\"group\",\"phonecall\",\"niece\",\"plate\",\"youngest\",\"knocked\",\"rice\",\"things\",\"watch\",\"beast\",\"kicking\",\"tonights\",\"city\",\"tampa\",\"5\",\"hrs\",\"tummy\",\"bums\",\"laptop\",\"accept\",\"cookies\",\"grumpy\",\"african\",\"eminem\",\"sean\",\"kingston\",\"keeping\",\"procrastinate\",\"lot\",\"[\",\"ahem\",\"rule\",\"student\",\"council\",\"2day\",\"problem\",\"past\",\"year\",\"meeting\",\"reals\",\"sparkle\",\"ketchup\",\"rather\",\"finger\",\"hence\",\"weak\",\"pun\",\"rock\",\"saturdays\",\"wooohoo\",\"14\",\"bounced\",\"possibly\",\"award\",\"winning\",\"kiss\",\"mtv\",\"worthless\",\"category\",\"mini\",\"vacation\",\"officially\",\"beaming\",\"onto\",\"canary\",\"wharf\",\"movies\",\"saw\",\"<3\",\"online\",\"supposed\",\"studying\",\"staying\",\"screws\",\"remember\",\"desperate\",\"housewives\",\"bullshit\",\"dreams\",\"needs\",\"discussion\",\"grocery\",\"buyer\",\"junk\",\"granola\",\"bars\",\"face\",\"eat\",\"icecream\",\"creative\",\"ghd\",\"pfft\",\"sif\",\"ron\",\"apparently\",\"ive\",\"mistakes\",\"given\",\"someone\",\"impression\",\"scared\",\"wat\",\"capable\",\"plotting\",\"dads\",\"hes\",\"12\",\"twat\",\"sims\",\"lineup\",\"msia\",\"craziest\",\"thunderstorm\",\"slept\",\"gang\",\"tom\",\"jack\",\"style\",\"replies\",\"folks\",\"thoughts\",\"show\",\"8gb\",\"jump\",\"drive\",\"special\",\"losing\",\"keychain\",\"hha\",\"dance\",\"bawled\",\"guna\",\"whole\",\"ice-cream\",\"perfect\",\"goodbye\",\"grandmother\",\"south\",\"communicate\",\"families\",\"laptops\",\"waterproof\",\"dies\",\"twittering\",\"bath\",\"lmao\",\"kevin\",\"rudd\",\"he's\",\"coolest\",\"pm\",\"agent\",\"head\",\"nocturnal\",\"kisses\",\"ai\",\"nalang\",\"ako\",\"throat\",\"nose\",\"runny\",\"whooping\",\"cough\",\"booster\",\"shot\",\"'(\",\"needles\",\"delicious\",\"mexican\",\"corn\",\"wear\",\"sunglasses\",\"sunny\",\"d-bag\",\"smoking\",\"near\",\"ashes\",\"blowing\",\"wind\",\"anywhere\",\"countdown\",\"heyyy\",\"welcome\",\"brothers\",\"theyve\",\"beth\",\"charge\",\"manning\",\"margarita\",\"machine\",\"coincidence\",\"costs\",\"store\",\"silly\",\"goose\",\"outlets\",\"gud\",\"cue\",\"trouble\",\"hit\",\"resolve\",\"leave\",\"crying\",\"we're\",\"huckmemondays\",\"huck\",\"splits\",\"incredible\",\"wtf\",\"cookout\",\"changed\",\"ice\",\"front\",\"valid\",\"gettin\",\"fo\",\"sho\",\"men\",\"guitar\",\"pick\",\"posed\",\"everytime\",\"everywhere\",\"years\",\"service\",\"missed\",\"perfectly\",\"mixes\",\"promise\",\"march\",\"copy\",\"%\",\"record\",\"waking\",\"leaving\",\"daily\",\"episode\",\"ahh\",\"coffee\",\"smells\",\"dying\",\"thirst\",\"beverage\",\"arnold\",\"palmer\",\"orgasmic\",\"yawns\",\"mugging\",\"library\",\"understand\",\"dark\",\"mocha\",\"freddo\",\"probably\",\"30\",\"grams\",\"mexico\",\"hour\",\"2moro\",\"call\",\"starbucks\",\"destiny\",\"kinda\",\"fucked\",\"germany\",\"ya\",\"hail\",\"mary's\",\"whenever\",\"hang\",\"bet\",\"we'd\",\"stuff\",\"talk\",\"smooth\",\"designed\",\"aye\",\"gunna\",\"choc\",\"chip\",\"kay\",\"place\",\"taking\",\"luck\",\"twitterville\",\"invited\",\"gifts\",\"4\",\"wide\",\"web\",\"high\",\"five\",\"unhealthy\",\"lets\",\"snooze\",\"unusually\",\"annoying\",\"awake\",\"530\",\"roast\",\"beef\",\"yorkshire\",\"pud\",\"sadly\",\"items\",\"available\",\"european\",\"tweets\",\"harder\",\"negotiating\",\"muni\",\"headphones\",\"reason\",\"shun\",\"karen\",\"cot\",\"20\",\"mail\",\"moment\",\"checked\",\"mums\",\"cousin\",\"ago\",\"asking\",\"oc\",\"anna's\",\"realllyyy\",\"sore\",\"neck\",\"yo\",\"peeps\",\"in-laws\",\"lucky\",\"choice\",\"possible\",\"family's\",\"baby\",\"breast\",\"thru\",\"fresh\",\"melissa\",\"comments\",\"fantasy\",\"reality\",\"part\",\"50\",\"cheered\",\"read\",\"dealing\",\"rejection\",\"filthy\",\"theyll\",\"unpack\",\"help\",\"diet\",\"wood\",\"nicks\",\"timber\",\"apologise\",\"neighbour\",\"mate\",\"favour\",\"daniel\",\"red\",\"horse\",\"event\",\"holidays\",\"katie\",\"matt\",\"daddy\",\"unfollowing\",\"ny\",\"concentrate\",\"failed\",\"camping\",\"site\",\"surrounding\",\"idiots\",\"ohk\",\"loop\",\"abt\",\"changes\",\"retake\",\"28th\",\"seeing\",\"icon\",\"appstore\",\"ugly\",\"border\",\"happened\",\"stamp\",\"#\",\"mmo\",\"forums\",\"travel\",\"hi\",\"enchiladas\",\"cooked\",\"looong\",\"debt\",\"death\",\"jon\",\"hilarious\",\"anyone\",\"church\",\"chad\",\"thx\",\"eagle\",\"pic\",\"stylus\",\"nevermind\",\"thisss\",\"\\u00e4\",\"\\u0091\",\"b\\u00e1\",\"\\u00bb\",\"ng\",\"m\\u00e3\",\"ch\\u00e6\",\"\\u00b0\",\"c\\u00e3\\u00b3\",\"c\\u00e6\",\"\\u00a1\",\"graduated\",\"begin\",\"together\",\"packing\",\"til\",\"jamming\",\"jason\",\"aldean\",\"country\",\"hanging\",\"audrey\",\"swimming\",\"gas\",\"shut\",\"auto\",\"fine\",\"water\",\"sleepy\",\"thanx\",\"ghost\",\"hunters\",\"change\",\"background\",\"english\",\"professor\",\"ashamed\",\"single\",\"equals\",\"greatness\",\"hearing\",\"grounded\",\"peace\",\"middle\",\"east\",\"spain\",\"cat\",\"glenn\",\"kfc\",\"aunt's\",\"cop\",\"lt\",\"jealouss\",\"pathetic\",\"fact\",\"fucking\",\"ppl\",\"retarded\",\"puppy\",\"atleast\",\"assed\",\"ir\",\"normally\",\"whatever\",\"seb\",\"oooh\",\"internet\",\"hooked\",\"lifes\",\"spelling\",\"super\",\"everrr\",\"spongebob\",\"squarepants\",\"lazy\",\"rides\",\"freaks\",\"brooklyn\",\"living\",\"chilly\",\"starving\",\"sky\",\"agree\",\"would've\",\"animation\",\"oops\",\"apologies\",\"agreed\",\"scream\",\"played\",\"ipod\",\"comes\",\"bear\",\"paper\",\"dad\",\"krista\",\"brian\",\"4-3\",\"doubles\",\"practice\",\"care\",\"information\",\"frankly\",\"sec\",\"lives\",\"stake\",\"stress\",\"relaxing\",\"promoting\",\"idol\",\"fans\",\"giving\",\"foto\",\"na\",\"dans\",\"yoga\",\"session\",\"sanctuary\",\"koh\",\"resist\",\"nope\",\"bruised\",\"forward\",\"dentist\",\"veggies\",\"blog\",\"updated\",\"~\",\"became\",\"woohoo\",\"wonderful\",\"italian\",\"scientist\",\"said\",\"fear\",\"difficult\",\"moments\",\"beau\",\"ttyl\",\"text\",\"cell\",\"bill\",\"hasnt\",\"paid\",\"lonely\",\"corpus\",\"planning\",\"campfire\",\"auntie\",\"lame\",\"keith\",\"urban\",\"dvd\",\"also\",\"cook\",\"snap\",\"dreads\",\"heaven\",\"code\",\"paint\",\"lawn\",\"fuckk\",\"jenny\",\"outcast\",\"suspended\",\"warped\",\"starts\",\"tues\",\"goes\",\"15\",\"winners\",\"per\",\"details\",\"holocaust\",\"survivor\",\"du\",\"gut\",\"username\",\"badge\",\"general\",\"americans\",\"log\",\"monthly\",\"university\",\"clue\",\"exhausted\",\"16\",\"p\",\"nerf\",\"wad\",\"fight\",\"totally\",\"posted\",\"cla\",\"preso\",\"urls\",\"featured\",\"hallo\",\"focus\",\"ahhh\",\"cleaned\",\"went\",\"iphones\",\"hell\",\"dunkin\",\"donut\",\"battlefield\",\"heroes\",\"tutorial\",\"nuts\",\"realy\",\"fell\",\"wagon\",\"bc\",\"pounds\",\"tmrw\",\"exciting\",\"emotionally\",\"tough\",\"wearing\",\"thin\",\"knows\",\"tooth\",\"ache\",\"aha\",\"dead\",\"alright\",\"industry\",\"resign\",\"515\",\"sandra\",\"nighty\",\"specific\",\"mob\",\"links\",\"sniff\",\"enjoy\",\"joys\",\"large\",\"collection\",\"random\",\"quotes\",\"helps\",\"connect\",\"film\",\"helped\",\"jewish\",\"kids\",\"guy\",\"although\",\"burned\",\"process\",\"phones\",\"whack\",\"honest\",\"son\",\"lookin\",\"asap\",\"hoping\",\"fit\",\"calorie\",\"croatia\",\"suit\",\"sorted\",\"ain't\",\"phx\",\"pr\",\"marketing\",\"\\u00a3\",\"keeps\",\"wild\",\"swings\",\"kmart\",\"darling\",\"hangover\",\"moulin\",\"rouge\",\"laker\",\"team\",\"seriously\",\"sort\",\"likeee\",\"reunited\",\"hunny\",\"bunny\",\"b4\",\"leaves\",\"\\u00f0\",\"\\u009f\",\"\\u00f1\",\"\\u0080\",\"\\u00f0\\u00be\\u00f1\",\"\\u0082\",\"\\u00f0\\u00be\\u00f0\\u00b5\",\"\\u00b8\",\"\\u00f0\\u00be\\u00f0\\u00bd\\u00f1\",\"\\u00f0\\u00b5\",\"cms\",\"drupal\",\"joomla\",\"wordpress\",\"\\u0094\",\"\\u00f0\\u00ba\\u00f0\",\"\\u00f0\\u00bc\\u00f0\\u00b5\\u00f1\",\"\\u00f0\\u00be\\u00f0\\u00b2\",\"\\u00f0\\u00ba\",\"felt\",\"truly\",\"rocking\",\"spoiled\",\"twins\",\"ciao\",\"ju\",\"ability\",\"post\",\"friendfeed\",\"mac\",\"girls\",\"writing\",\"block\",\"rubbish\",\"doctor\",\"forum\",\"closing\",\"none\",\"roll\",\"pymaster\",\"wilco\",\"watchu\",\"oww\",\"hd\",\"dis\",\"stomach\",\"pains\",\"den\",\"sum\",\"nutz\",\"hammer\",\"beginning\",\"dae\",\"pokerstars\",\"gamble\",\"mmhmm\",\"couple\",\"dnt\",\"sadd\",\"shift\",\"wor\",\"zone\",\"tweetless\",\"1000\",\"circuit\",\"wicked\",\"dmb\",\"gotten\",\"dave\",\"jfc\",\"guise\",\"article\",\"goddamn\",\"ronnie\",\"utah\",\"valley\",\"lying\",\"teeth\",\"respond\",\"inject\",\"features\",\"throwin\",\"rolls\",\"pink\",\"ring\",\"snapped\",\"inspiring\",\"story\",\"championship\",\"emilys\",\"nooo\",\"tipsy\",\"humidity\",\"tunnel\",\"office\",\"flood\",\"short\",\"grey\",\"pair\",\"tan\",\"throws\",\"look\",\"outfit\",\"technically\",\"binge\",\"purge\",\"ray\",\"age\",\"young\",\"alone\",\"screw\",\"genius\",\"giants\",\"garlic\",\"fries\",\"missin\",\"girlfriend\",\"pete\",\"wentz\",\"reduce\",\"ego\",\"=p\",\"insult\",\"injury\",\"bumping\",\"prices\",\"depression\",\"glue\",\"factory\",\"gurl\",\"lang\",\"talaga\",\"sa\",\"bahay\",\"yeees\",\"figure\",\"seats\",\"volunteer\",\"basketball\",\"shoe\",\"baseball\",\"deep\",\"voice\",\"gravely\",\"smoke\",\"town\",\"warm\",\"81\",\"awards\",\"shown\",\"june\",\"14th\",\"pa\",\"naman\",\"kol\",\"<\",\"wished\",\"esp\",\"sisters\",\"enjoyed\",\"wats\",\"tim\",\"burton\",\"channel\",\"34\",\"bbq\",\"tv's\",\"response\",\"kim\",\"kardashian\",\"tch\",\"sport\",\"stating\",\"case\",\"em\",\"ud\",\"logical\",\"meh\",\"tanning\",\"bangs\",\"paul\",\"network\",\"weirdest\",\"nightmares\",\"lights\",\"prayers\",\"anytime\",\"pancakes\",\"topped\",\"vanilla\",\"cream\",\"syrup\",\"shout\",\"ashley\",\"imagine\",\"hungry\",\"showered\",\"stinking\",\"prelim\",\"slightly\",\"awkward\",\"exactly\",\"spit\",\"nipple\",\"technique\",\"amanda's\",\"road\",\"rage\",\"hysterical\",\"hahahaha\",\"unread\",\"bop\",\"seen\",\"gael\",\"boy's\",\"smart\",\"caught\",\"mom's\",\"flu\",\"sudah\",\"gak\",\"gini\",\"update\",\"brownies\",\"ya'll\",\"twittter\",\"wayyy\",\"tooo\",\"couldnt\",\"fer\",\"organic\",\"devine\",\"break\",\"magical\",\"follower\",\"fellow\",\"dancer\",\"ford\",\"racing\",\"gave\",\"campaign\",\"twist\",\"norway\",\"rocks\",\"k\",\"fest\",\"3oh\",\"nd\",\"friendly's\",\"gr8\",\"lumpia\",\"pancit\",\"adobo\",\"access\",\"kitchen\",\"topping\",\"bea\",\"met\",\"glorious\",\"intake\",\"werent\",\"aim\",\"andrew\",\"28\",\"daysss\",\"shit\",\"body\",\"accused\",\"sided\",\"issue\",\"hand\",\"pole\",\"accident\",\"hun\",\"spoil\",\"rotten\",\"flickr\",\"video\",\"easy\",\"attended\",\"summerfest\",\"1984\",\"2004\",\"2010\",\"ignored\",\"hating\",\"preg\",\"heat\",\"boxes\",\"documents\",\"blood\",\"spilled\",\"cuts\",\"listened\",\"soundtrack\",\"buddies\",\"easter\",\"corfu\",\"glory\",\"der\",\"von\",\"step\",\"oder\",\"u'll\",\"hamptons\",\"wondering\",\"bakery\",\"gorgeous\",\"panini\",\"loss\",\"yesyes\",\"crank\",\"surgery\",\"tomarrow\",\"6am\",\"scary\",\"solstice\",\"paying\",\"combat\",\"boots\",\"disneyland\",\"massive\",\"blisters\",\"ow\",\"rootbeer\",\"float\",\"calculus\",\"tuesday\",\"5hrs\",\"bang\",\"theory\",\"sheldon\",\"boxset\",\"annoyed\",\"diggnation\",\"nyc\",\"lake\",\"terrific\",\"community\",\"moon\",\"trailer\",\"november\",\"highly\",\"doubt\",\"closed\",\"interests\",\"sucky\",\"roomates\",\"moms\",\"exercise\",\"almost\",\"option\",\"benadryl\",\"tylenol\",\"liver\",\"irc\",\"unfortunately\",\"sf\",\"groceries\",\"hometown\",\"adele\",\"unf\",\"disappointed\",\"wit\",\"boston\",\"ten\",\"sports\",\"tv\",\"condolences\",\"cinemas\",\"seee\",\"usher\",\"flying\",\"solo\",\"bah\",\"net\",\"load\",\"hungover\",\"managed\",\"giggles\",\"wishing\",\"licks\",\"wounds\",\"beat\",\"madden\",\"wooo\",\"jen\",\"aniston\",\"sunburned\",\"horrendous\",\"brighton\",\"worth\",\"swapped\",\"routers\",\"wireless\",\"continues\",\"dns\",\"problems\",\"buying\",\"router\",\"freedom\",\"according\",\"hedgehog\",\"garden\",\"kept\",\"backing\",\"spikes\",\"walked\",\"bless\",\"glued\",\"shaking\",\"rumble\",\"thunder\",\"lightening\",\"leighton\",\"forget\",\"ping\",\"knock\",\"indoor\",\"soccer\",\"945\",\"kick\",\"gah\",\"stuck\",\"folly\",\"rd\",\"usual\",\"boot\",\"rockin\",\"hurricane\",\"wyoming\",\"khloe\",\"kardashians\",\"resume\",\"lupe\",\"lamee\",\"intern\",\"writers\",\"form\",\"=/\",\"seasons\",\"unlimited\",\"ringtones\",\"http//tinyurlcom/freeringring\",\"usa\",\"iphone\",\"piece\",\"compose\",\"fantastic\",\"tommorrow\",\"rely\",\"\\u00b4\",\"attitude\",\"listen\",\"calming\",\"mum\",\"laughed\",\"foil\",\"microphone\",\"client\",\"million\",\"slowly\",\"gross\",\"helping\",\"throw\",\"afternoon\",\"luckily\",\"consider\",\"date\",\"ran\",\"gather\",\"nerve\",\"escape\",\"telling\",\"switch\",\"pics\",\"diamond\",\"leonard\",\"six\",\"pack\",\"places\",\"que\",\"chato\",\"asian\",\"takeaway\",\"boss\",\"rated\",\"megan\",\"fox\",\"criminal\",\"minds\",\"mother\",\"ladder\",\"headfirst\",\"fence\",\"ms\",\"shoes\",\"arcade\",\"fire\",\"singer\",\"drum\",\"orange\",\"sam\",\"houston\",\"overcome\",\"photography\",\"cos\",\"comment\",\"bradie\",\"hoe\",\"alli\",\"tyler\",\"how's\",\"pub\",\"moar\",\"smiling\",\"uk\",\"space\",\"furniture\",\"black\",\"drink\",\"fry\",\"dangerous\",\"okra\",\"cost\",\"arm\",\"urgh\",\"ter\",\"brandy\",\"bahamas\",\"gota\",\"sept\",\"blargh\",\"finding\",\"seller\",\"scammed\",\"bof\",\"episodes\",\"proud\",\"light\",\"foood\",\"evening\",\"foo\",\"egg\",\"schooling\",\"street\",\"cred\",\"honeymoon\",\"hint\",\"doesnt\",\"hoped\",\"decision\",\"caroline\",\"nudge\",\"sexy\",\"camp\",\"training\",\"filling\",\"entries\",\"familiar\",\"laws\",\"jail\",\"named\",\"bubba\",\"uggh\",\"madd\",\"neither\",\"theme\",\"applied\",\"destroytwitter\",\"severe\",\"modelling\",\"audition\",\"asia\",\"tuition\",\"dolled\",\"yah\",\"requires\",\"different\",\"hacks\",\"240\",\"core\",\"280\",\"timeout\",\"magazine\",\"gym\",\"sucked\",\"legs\",\"killing\",\"treadmill\",\"fare\",\"debut\",\"contract\",\"sitting\",\"listening\",\"disappearing\",\"billy\",\"elliot\",\"musical\",\"victoria\",\"palace\",\"theatre\",\"aight\",\"schedule\",\"ethic\",\"loveee\",\"apprentice\",\"final\",\"brother\",\"eviction\",\"wwdc\",\"neil\",\"tonite\",\"homeee\",\"fineee\",\"self\",\"island\",\"geoff\",\"president's\",\"feed\",\"lolz\",\"based\",\"invite\",\"tweetups\",\"screwing\",\"tgif\",\"moree\",\"prevented\",\"attending\",\"terrible\",\"news\",\"yung\",\"driver\",\"yun\",\"tweeties\",\"palm\",\"pre\",\"prepare\",\"launch\",\"page\",\"mobileme\",\"e-mailed\",\"inquiring\",\"wash\",\"grabbed\",\"mucho\",\"itouch\",\"foreva\",\"nasty\",\"jess\",\"gimme\",\"ily\",\"2-4\",\"energy\",\"audit\",\"3pm\",\"informative\",\"masterchef\",\"linkedin\",\"invitations\",\"wolf\",\"messed\",\"identity\",\"plane\",\"land\",\"enjoying\",\"share\",\"dearly\",\"sing\",\"takin\",\"postin\",\"frick\",\"coz\",\"popular\",\"costa\",\"wishes\",\"prone\",\"headaches\",\"paris\",\"fundraising\",\"deadline\",\"carded\",\"laughing\",\"todays\",\"lil\",\"daughter\",\"chris\",\"sleeps\",\"pacific\",\"thks\",\"layin\",\"lonesome\",\"excellent\",\"panic\",\"vegas\",\"august\",\"salary\",\"bills\",\"hahaah\",\"hehee\",\"virginia\",\"15th\",\"definately\",\"shame\",\"bry\",\"reply\",\"lush\",\"rough\",\"draft\",\"version\",\"weirdo\",\"blacks\",\"true\",\"mikey\",\"reported\",\"skating\",\"skate\",\"records\",\"wet\",\"skin\",\"dried\",\"mmmm\",\"butterscotch\",\"pudding\",\"oven\",\"christmas\",\"shaun\",\"ima\",\"laziest\",\"pinch\",\"additions\",\"ah\",\"titanic\",\"row\",\"cried\",\"farmers\",\"markets\",\"crops\",\"producing\",\"cam\",\"beverley\",\"knight\",\"voices\",\"underrated\",\"rid\",\"frozen\",\"yogurt\",\"opening\",\"months\",\"canada\",\"mall\",\"ahead\",\"meeeh\",\"jay\",\"leno\",\"building\",\"chino\",\"beside\",\"glass\",\"potter\",\"singing\",\"impressed\",\"fail\",\"cheer\",\"taken\",\"haaa\",\"neue\",\"shots\",\"yumm\",\"celebration\",\"figuring\",\"bowling\",\"hubby\",\"equation\",\"sometime\",\"fm\",\"=[\",\"top\",\"pumped\",\"fights\",\"decide\",\"absolutely\",\"anybody\",\"company\",\"evil\",\"bring\",\"login\",\"facebook\",\"hav\",\"create\",\"ears\",\"bleed\",\"download\",\"festival\",\"2009\",\"gutted\",\"santa\",\"fe\",\"630\",\"repairs\",\"disown\",\"stopped\",\"tweeting\",\"nor\",\"knee\",\"elbow\",\"pads\",\"list\",\"argos\",\"awsome\",\"probly\",\"gi\",\"gig\",\"exhibition\",\"1800\",\"welcoming\",\"pity\",\"students\",\"molested\",\"|\",\"keys\",\"practically\",\"biblical\",\"question\",\"december\",\"fancy\",\"aswell\",\"charging\",\"rosalie\",\"busy\",\"gets\",\"homesick\",\"vm\",\"loving\",\"knot\",\"boy\",\"stripped\",\"pajamas\",\"venice\",\"se\",\"gina\",\"angelo\",\"brad\",\"design\",\"banner\",\"photoshop\",\"stoked\",\"software\",\"22\",\"posts\",\"jb\",\"18th\",\"messenger\",\"delete\",\"emilie\",\"experiencing\",\"hiccups\",\"dakota\",\"maintenance\",\"shortly\",\"meen\",\"watever\",\"gona\",\"misses\",\"swat\",\"kats\",\"cartoon\",\"southern\",\"california\",\"lately\",\"f\",\"mention\",\"___\",\"bb\",\"loveyou\",\"effect\",\"horoscope\",\"kendall\",\"rc\",\"ubuntu\",\"904\",\"released\",\"thousand\",\"km\",\"upgrade\",\"downloaded\",\"tweetie\",\"recommendations\",\"success\",\"hostess\",\"werd\",\"van\",\"cardboard\",\"driveway\",\"275\",\"stars\",\"freezing\",\"arse\",\"dc\",\"mega\",\"bolt\",\"teddy\",\"sir\",\"etsy\",\"relax\",\"leavin\",\"bay\",\"bubbletweet\",\"appealing\",\"summer's\",\"race\",\"canceled\",\"cloud\",\"cult\",\"studio\",\"chat\",\"quiet\",\"bible\",\"swim\",\"retro\",\"streets\",\"sega\",\"meet\",\"love's\",\"improve\",\"typing\",\"skills\",\"air\",\"graphic\",\"spider\",\"jesus\",\"500\",\"channels\",\"gaaah\",\"dogs\",\"puppies\",\"judd\",\"jones\",\"nu\",\"pot\",\"vb\",\"din\",\"favor\",\"encouraging\",\"profound\",\"zack\",\"alix\",\"jt\",\"marcus\",\"ashlee\",\"ordering\",\"twilight\",\"guide\",\"comp\",\"doves\",\"album\",\"journey\",\"abit\",\"freddie\",\"halfwit\",\"pissed\",\">\",\"cleaning\",\"twitted\",\"presence\",\"re-read\",\"james\",\"bond\",\"marathon\",\"kind\",\"learning\",\"french\",\" \",\"absolutly\",\"tests\",\"fr\",\"earliest\",\"aft\",\"2pm\",\"latest\",\"ard\",\"3ish\",\"loads\",\"wb\",\"ellen\",\"bummer\",\"fanboys\",\"amazon\",\"received\",\"labeled\",\"blank\",\"disc\",\"season\",\"finale\",\"gg\",\"youth\",\"shades\",\"josh\",\"hay\",\"calls\",\"picnic\",\"eiffel\",\"tower\",\"deciding\",\"star\",\"trek\",\"terminator\",\"frown\",\"victory\",\"number\",\"picking\",\"yeeah\",\"bout\",\"birmingham\",\"nanda\",\"onions\",\"mesa\",\"served\",\"mischief\",\"sin\",\"manhattan\",\"pleasure\",\"subway\",\"lisbon\",\"surprises\",\"grand\",\"canyon\",\"today's\",\"significantly\",\"5pm\",\"lengthy\",\"meaning\",\"mix\",\"ummm\",\"freaked\",\"apparent\",\"yeahh\",\"29\",\"followfriday\",\"07\",\"joe\",\"wrapping\",\"allowed\",\"bother\",\"kill\",\"gee\",\"twice\",\"talks\",\"stage\",\"michele\",\"happiness\",\"ridge\",\"forest\",\"hat\",\"drag\",\"atm\",\"apps\",\"television\",\"rocker\",\"homework\",\"killed\",\"actor\",\"survive\",\"intact\",\"lauren\",\"audrina\",\"announcing\",\"upcoming\",\"grandchild\",\"military\",\"brook\",\"cruise\",\"envy\",\"compared\",\"pix\",\"vids\",\"dry\",\"straight\",\"tons\",\"freeze\",\"tag\",\"capture\",\"flag\",\"flooded\",\"ohhh\",\"addictive\",\"brilliant\",\"ball\",\"grrr\",\"bid\",\"farewell\",\"paperwork\",\"alas\",\"jr\",\"needa\",\"character\",\"swoop\",\"simple\",\"http\",\"xmen\",\"thn\",\"bk\",\"sickkk\",\"grr\",\"martha\",\"outta\",\"round\",\"table\",\"hawaiian\",\"grease\",\"word\",\"lady\",\"firday\",\"lot's\",\"pending\",\"ooops\",\"lone\",\"url\",\"photographer\",\"savannah\",\"grants\",\"yap\",\"gaga\",\"h2o\",\"rediculous\",\"raw\",\"smh\",\"children's\",\"drama\",\"competition\",\"increasingly\",\"oatmeal\",\"nicola\",\"join\",\"forced\",\"spanish\",\"geography\",\"finland\",\"speaks\",\"yell\",\"uploading\",\"priceless\",\"memories\",\"blackberry\",\"receive\",\"txt\",\"sudden\",\"tried\",\"batt\",\"228\",\"wolverine\",\"alot\",\"dca\",\"entrance\",\"gag\",\"request\",\"guests\",\"7am\",\"bugs\",\"flowers\",\"bastards\",\"horrid\",\"removed\",\"sense\",\"considering\",\"upright\",\"removing\",\"shops\",\"squidoo\",\"lenses\",\"curious\",\"blast\",\"dmv\",\"license\",\"quote\",\"important\",\"incorporate\",\"rt\",\"hero\",\"satisfied\",\"hummer\",\"outstanding\",\"philly\",\"frustrated\",\"it'd\",\"nicked\",\"drake\",\"lifeee\",\"mystery\",\"solved\",\"speaking\",\"attractive\",\"ohh\",\"jan\",\"cans\",\"future\",\"trending\",\"topic\",\"sweeet\",\"amsterdam\",\"interview\",\"portland\",\"harry\",\"forever\",\"pray\",\"mesh\",\"blow\",\"david\",\"bulaga\",\"philippines\",\"cafe\",\"clock\",\"teriyaki\",\"chix\",\"shall\",\"dessert\",\"430\",\"prep\",\"arts\",\"biology\",\"semester\",\"quarespace\",\"report\",\"history\",\"hitler\",\"born\",\"columbine\",\"heyy\",\"whatchu\",\"90\",\"goood\",\"came\",\"bryan\",\"adams\",\"signing\",\"ck\",\"wire\",\"inet\",\"traffic\",\"limited\",\"idk\",\"contact\",\"shinedown\",\"australia\",\"papa\",\"roach\",\"kuya\",\"eh\",\"tito\",\"mins\",\"relaxed\",\"surely\",\"loud\",\"grumbling\",\"noises\",\"embarrassing\",\"ahaa\",\"breathing\",\"itchy\",\"sneezing\",\"apts\",\"tragedy\",\"adaptor\",\"console\",\"tabloids\",\"ruining\",\"announcement\",\"carrier\",\"poxy\",\"ringing\",\"bro\",\"wednesday\",\"urghhh\",\"lamedrewscancer\",\"seemingly\",\"alexandra\",\"noisy\",\"trucks\",\"930\",\"sb\",\"dew\",\"player\",\"paradise\",\"craving\",\"exception\",\"chillin\",\"luce\",\"field\",\"wanting\",\"kyle\",\"pure\",\"cards\",\"allergy\",\"meds\",\"owe\",\"survey\",\"rewrite\",\"forthcoming\",\"swear\",\"tight\",\"wasnt\",\"jay-z\",\"26\",\"tear\",\"apricot\",\"fiesta\",\"annual\",\"held\",\"downtown\",\"patterson\",\"goin\",\"yrs\",\"somthing\",\"dev\",\"frustrating\",\"patient\",\"texting\",\"alrighty\",\"sand\",\"boat\",\"dumb\",\"simply\",\"agenda\",\"sending\",\"messages\",\"lamp\",\"essay\",\"imma\",\"torrential\",\"rains\",\"sewage\",\"backup\",\"basement\",\"extensive\",\"damage\",\"losses\",\"tourney\",\"biggest\",\"payday\",\"greatest\",\"spirit\",\"pen\",\"whoo\",\"hoo\",\"nerd\",\"kiddin\",\"bebo\",\"comic\",\"con\",\"scar\",\"ear\",\"swapping\",\"stories\",\"engineering\",\"boyz\",\"lacking\",\"related\",\"talking\",\"ergh\",\"dragging\",\"west\",\"side\",\"\\\\\",\"complete\",\"waste\",\"3g\",\"geek\",\"celebrating\",\"celebrate\",\"weight\",\"healthy\",\"habits\",\"chronic\",\"shoulder\",\"gives\",\"vitamins\",\"teaching\",\"father's\",\"vegetables\",\"fruits\",\"sugar\",\"entertaining\",\"patrick\",\"boreeed\",\"yep\",\"yday\",\"wee\",\"note\",\"=]\",\"drunk\",\"talent\",\"\\u00bdn\",\"tix\",\"harris\",\"authors\",\"books\",\"equal\",\"hugging\",\"depressed\",\"speak\",\"tiredd\",\"knees\",\"chapter\",\"extra\",\"wed\",\"cus\",\"uber\",\"studies\",\"yer\",\"smile\",\"tweeted\",\"aaaargh\",\"remembering\",\"enter\",\"malaysia\",\"onasliveonfb\",\"gearing\",\"often\",\"reminding\",\"target\",\"bananas\",\"flags\",\"ka\",\"thumbs\",\"mentioned\",\"clients\",\"heading\",\"nursing\",\"g-ma\",\"role\",\"cavities\",\"intend\",\"dental\",\"jenn\",\"shoudl\",\"tats\",\"bonding\",\"blehhh\",\"ho\",\"hum\",\"clubbing\",\"100th\",\"pregnant\",\"stores\",\"andy\",\"smelly\",\"golden\",\"coast\",\"demand\",\"do-over\",\"nano\",\"throwing\",\"angie\",\"attempt\",\"drinkin\",\"hen\",\"locked\",\"45\",\"min\",\"cuddle\",\"bunch\",\"hugs\",\"crunchy\",\"obsessed\",\"nut\",\"cena\",\"vs\",\"orton\",\"san\",\"calidornia\",\"gloom\",\"kickin\",\"emo\",\"kid\",\"mark\",\"radio\",\"mosquito\",\"m'lady\",\"queries\",\"faster\",\"api\",\"limits\",\"prom\",\"crackin\",\"ria\",\"user\",\"friendly\",\"usefull\",\"toilet\",\"review\",\"3hrs\",\"deff\",\"peggle\",\"corporate\",\"spot\",\"filming\",\"plenty\",\"minority\",\"tweeters\",\"sue\",\"happily\",\"engaged\",\"woman\",\"neighbor\",\"mowing\",\"acted\",\"fault\",\"bag\",\"chinese\",\"content\",\"infection\",\"desk\",\"ireland\",\"gma\",\"yummm\",\"it\\u00ef\",\"\\u00bds\",\"hannah\",\"montana\",\"bff\",\"rip\",\"eddings\",\"moe\",\"pile\",\"5k\",\"rly\",\"distant\",\"where's\",\"husband\",\"neice\",\"girrrl\",\"la\",\"t\\u00ef\",\"dick\",\"names\",\"leaked\",\"memorized\",\"crayon\",\"whites\",\"blue\",\"manage\",\"certainly\",\"setting\",\"mo\",\"julie\",\"distance\",\"cycling\",\"gretchen\",\"startup\",\"beta\",\"discount\",\"expense\",\"degrees\",\"deaf\",\"passing\",\"reminds\",\"85\",\"patience\",\"key\",\"editing\",\"skill\",\"lord\",\"willing\",\"broken\",\"ohnoes\",\"rica\",\"heal\",\"indoors\",\"neways\",\"hah\",\"talkin\",\"earlier\",\"yu\",\"cable\",\"bye-bye\",\"mamma\",\"mia\",\"brought\",\"aladdin\",\"hoy\",\"fui\",\"una\",\"pero\",\"eso\",\"queria\",\"budget\",\"suprised\",\"blah\",\"surprise\",\"orientation\",\"nj\",\"spend\",\"fishing\",\"bothering\",\"2mrw\",\"squeeze\",\"volleyball\",\"power\",\"starstruck\",\"sam's\",\"bagel\",\"oundiessunday\",\"ridiculous\",\"itv\",\"cancelled\",\"primeval\",\"activities\",\"indonesia\",\"waresg\",\"cheerful\",\"frowning\",\"checking\",\"ankle\",\"airport\",\"delays\",\"ignorance\",\"tyme\",\"kuz\",\"kant\",\"crib\",\"stroller\",\"pandas\",\"pirate\",\"skulls\",\"shirt\",\"postal\",\"address\",\"ope\",\"depends\",\"bakers\",\"square\",\"hurtin\",\"8am\",\"appt\",\"small\",\"challenge\",\"grin\",\"weetdeck\",\"os\",\"dell\",\"confirmed\",\"hawks\",\"sinus\",\"skool\",\"drop\",\"mood\",\"crawl\",\"restful\",\"likely\",\"judge\",\"cleanliness\",\"aussie\",\"afl\",\"however\",\"booze\",\"sads\",\"majorly\",\"academy\",\"manchester\",\"xd\",\"outfitters\",\"fed\",\"rafa\",\"stables\",\"horses\",\"muck\",\"forgetting\",\"peter\",\"pan\",\"thomas\",\"tank\",\"ringo\",\"invalid\",\"info\",\"correct\",\"myth\",\"busters\",\"everythings\",\"ch\",\"39\",\"tee\",\"25th\",\"26th\",\"sickk\",\"hangin\",\"kelli\",\"toothpaste\",\"burn\",\"third\",\"omw\",\"mutual\",\"disregard\",\"website\",\"dylan\",\"poem\",\"panadol\",\"twittz\",\"magnum\",\"telly\",\"saucy\",\"he'll\",\"popping\",\"gods\",\"nissan\",\"ace\",\"solid\",\"interface\",\"seating\",\"graduate\",\"hyde\",\"park\",\"flew\",\"pull\",\"weeds\",\"mow\",\"trim\",\"edge\",\"yup\",\"touching\",\"documentary\",\"solely\",\"footage\",\"thirsty\",\"howz\",\"sprint\",\"podcast\",\"elastic\",\"bands\",\"kristen\",\"stewart\",\"bf\",\"rob\",\"sry\",\"breaks\",\"rafa's\",\"defeat\",\"roland\",\"garros\",\"rehearsals\",\"kodak\",\"flip\",\"flop\",\"strap\",\"davids\",\"showed\",\"tic\",\"tacs\",\"piercing\",\"briefing\",\"triggered\",\"planted\",\"strange\",\"lololol\",\"plz\",\"naked\",\"replaying\",\"mod\",\"chem\",\"classics\",\"joining\",\"we've\",\"feedback\",\"browser\",\"compatibility\",\"v3\",\"clear\",\"mission\",\"friend's\",\"delighted\",\"yummy\",\"margaritas\",\"beats\",\"dull\",\"takes\",\"closet\",\"brave\",\"within\",\"ea\",\"reunite\",\"funniest\",\"radiation\",\"hairdryer\",\"motor\",\"toward\",\"facing\",\"release\",\"german\",\"exchange\",\"showing\",\"lynn\",\"champagne\",\"authority\",\"asp\",\"debugging\",\"gosh\",\"dammit\",\"shutting\",\"beachhh\",\"liv\",\"security\",\"door\",\"capacity\",\"goodtimes\",\"diego\",\"drums\",\"rocked\",\"noble\",\"turned\",\"looked\",\"puke\",\"therefore\",\"vanity\",\"wins\",\"second\",\"abby\",\"miserable\",\"br\",\"developers\",\"extensions\",\"directions\",\"di\",\"ko\",\"waahhh\",\"wikipedia\",\"showbiz\",\"central\",\"improved\",\"md\",\"prince\",\"bran\",\"sammy\",\"except\",\"dallas\",\"drowned\",\"punk\",\"sister\",\"restarted\",\"logged\",\"ym\",\"slooow\",\"magnet\",\"disappeared\",\"goodness\",\"rainy\",\"sundays\",\"noticed\",\"topics\",\"consoles\",\"blocked\",\"boring\",\"hamster\",\"otherwise\",\"known\",\"kia\",\"funk\",\"inbox\",\"planting\",\"greenville\",\"taco\",\"bell\",\"alicia\",\"danny\",\"rio\",\"stereo\",\"expensive\",\"runs\",\"improvement\",\"possibilities\",\"cnt\",\"earrings\",\"colors\",\"excitement\",\"tech\",\"imo\",\"powerful\",\"bugger\",\"cheaper\",\"pistachio\",\"nhl\",\"states\",\"wsop\",\"calendar\",\"format\",\"gl\",\"travels\",\"suns\",\"leisure\",\"uploaded\",\"sara\",\"coolio\",\"thts\",\"il\",\"fade\",\"cookie\",\"puss\",\"repeat\",\"jesse\",\"mccartney\",\"watched\",\"veggie\",\"titles\",\"convince\",\"jane\",\"austen\",\"followees\",\"needed\",\"ty\",\"conversations\",\"borders\",\"coldplay\",\"cap\",\"cracker\",\"stinks\",\"longer\",\"affordable\",\"bike\",\"fits\",\"e\",\"kings\",\"leon\",\"stefan\",\"   \",\"control\",\"sold\",\"espn\",\"insides\",\"diagnose\",\"bile\",\"pulled\",\"cops\",\"sbux\",\"employees\",\"apron\",\"ticket\",\"vortex\",\"reminded\",\"plays\",\"ariel\",\"swine\",\"behave\",\"havent\",\"dragon\",\"regret\",\"processing\",\"make-up\",\"clown\",\"becca's\",\"uni\",\"holiday\",\"twitter's\",\"speed\",\"direct\",\"messaged\",\"disorder\",\"legally\",\"insane\",\"murder\",\"ian\",\"anymoreee\",\"nn\",\"offers\",\"dive\",\"beginners\",\"thankful\",\"21st\",\"el\",\"realized\",\"awful\",\"mcfly\",\"voting\",\"addicts\",\"evry\",\"adore\",\"succes\",\"pouring\",\"italy\",\"sound\",\"stina\",\"dem\",\"hardly\",\"gokey\",\"vegetable\",\"curry\",\"twittered\",\"currently\",\"express\",\"contagious\",\"vote\",\"stayed\",\"liking\",\"hafta\",\"apple\",\"iiit\",\"largest\",\"jessie\",\"hiii\",\"sao\",\"th\",\"tu\",\"ti\",\"c\\u00ef\",\"g\\u00ef\",\"m\\u00ef\",\"ch\\u00ef\",\"niley\",\"idc\",\"valerie\",\"9\",\"mallory\",\"graze\",\"box\",\"cherries\",\"wasabi\",\"peanuts\",\"proof\",\"fakes\",\"yeap\",\"tonight's\",\"disagree\",\"fall\",\"chelsea\",\"pixar\",\"nemo\",\"freelance\",\"nearly\",\"pitch\",\"specifically\",\"flame\",\"prospect\",\"laurie\",\"rosie\",\"seizure\",\"lyin\",\"ambulance\",\"txting\",\"designs\",\"plagiarism\",\"dissapointed\",\"gold\",\"spar\",\"silver\",\"ryan\",\"bronze\",\"brandon\",\"x2\",\"athlete\",\"amanda\",\"un\",\"river\",\"jacob\",\"returned\",\"floating\",\"stick\",\"grammar\",\"gtfo\",\"bridge\",\"adopt\",\"alexis\",\"adorable\",\"unfortunatelly\",\"favourite\",\"necklace\",\"downside\",\"prepared\",\"madrid\",\"awe\",\"okayy\",\"boom\",\"chicka\",\"chika\",\"boogie\",\"kebab\",\"brunch\",\"athens\",\"privacy\",\"ends\",\"unexpected\",\"whether\",\"tires\",\"younger\",\"toronto\",\"trips\",\"gotcha\",\"lurk\",\"applying\",\"crossed\",\"vain\",\"added\",\"assignment\",\"bottle\",\"knuckles\",\"cz\",\"explore\",\"nae\",\"tym\",\"recording\",\"dh\",\"fortunately\",\"spotted\",\"scifi\",\"suzanne\",\"fires\",\"ahahahah\",\"ughhh\",\"closer\",\"slumber\",\"parties\",\"peoples\",\"dropped\",\"toothbrush\",\"flushed\",\"drugs\",\"doom\",\"hairdressers\",\"youuu\",\"nottt\",\"bruv\",\"garbage\",\"uy\",\"harsh\",\"begining\",\"lamb\",\"noone\",\"stag\",\"230\",\"lls\",\"spayed\",\"    \",\"mraz\",\"hella\",\"christian\",\"slater\",\"coupon\",\"sighs\",\"funds\",\"runaway\",\"coherent\",\"arent\",\"flippin\",\"completely\",\"thrilled\",\"hangout\",\"tragic\",\"borrow\",\"brick\",\"mines\",\"ie\",\"implement\",\"worthwhile\",\"grandfather\",\"anna\",\"bleh\",\"downloading\",\"product\",\"commercial\",\"hahahahha\",\"demi\",\"=(\",\"wisdom\",\"fascinating\",\"noise\",\"minimum\",\"hilarie\",\"sophia\",\"lovelovelove\",\"tehe\",\"txts\",\"tj\",\"adhd\",\"qualify\",\"morgan\",\"sings\",\"taylor\",\"cole\",\"ahaha\",\"jus\",\"feelin\",\"pictured\",\"eatin\",\"eclectic\",\"swedish\",\"p3\",\"moto\",\"stunt\",\"ride\",\"romania\",\"ne\",\"u're\",\"zante\",\"jessica\",\"alba\",\"useless\",\"punta\",\"cana\",\"fml\",\"vaca\",\"digg\",\"orlando\",\"tweeps\",\"deals\",\"syndrome\",\"hospital\",\"loose\",\"stone\",\"motivation\",\"spell\",\"fair\",\"spending\",\"5-6\",\"seconds\",\"difference\",\"kita\",\"revision\",\"doo\",\"followed\",\"weekends\",\"breasts\",\"nervous\",\"msn\",\"transformers\",\"dare\",\"wesome\",\"htt\",\"cashed\",\"kitty\",\"piggy\",\"bank\",\"overdraft\",\"tweepers\",\"6th\",\"eps\",\"chile\",\"alexa\",\"sale\",\"graduations\",\"obama\",\"bowler\",\"cheap\",\"ladies\",\"human\",\"bein\",\"nobody's\",\"textin\",\"oan\",\"booored\",\"24\",\"blasting\",\"anyhoo\",\"mish\",\"g'night\",\"hellooo\",\"busiest\",\"mang\",\"oklahoma\",\"warren\",\"courses\",\"nothings\",\"dishwasher\",\"despise\",\"dishes\",\"pickled\",\"nikki\",\"pleaseee\",\"soulja\",\"http//ustream/2uhs\",\"700\",\"blahh\",\"bbl\",\"painting\",\"fuckin\",\"mask\",\"rollers\",\"tape\",\"whaaat\",\"eff\",\"stunning\",\"hunting\",\"kris\",\"allen\",\"married\",\"contacting\",\"crutches\",\"submitted\",\"nomination\",\"mike\",\"rowe\",\"gm\",\"savings\",\"haircuts\",\"marking\",\"scheme\",\"stil\",\"waaah\",\"lame-o\",\"lashes\",\"restart\",\"thou\",\"shalt\",\"belle\",\"st\",\"ave\",\"york\",\"bitch\",\"main\",\"written\",\"mimis\",\"induced\",\"fatigue\",\"3am\",\"sesh\",\"voted\",\"58\",\"suitable\",\"hide\",\"preorder\",\"brekkie\",\"steve\",\"pip\",\"isabel\",\"awaiting\",\"taxi\",\"bristol\",\"mum's\",\"retweeted\",\"retweet\",\"thankfully\",\"edition\",\"potty\",\"5am\",\"brain\",\"exploded\",\"grew\",\"joan\",\"legend\",\"addicted\",\"rehab\",\"archives\",\"section\",\"saddened\",\"sink\",\"voters\",\"locate\",\"location\",\"sms\",\"friggin\",\"heavily\",\"nba\",\"fuzz\",\"everyones\",\"holly\",\"queen\",\"coool\",\"transferring\",\"ku\",\"bio\",\"busted\",\"four\",\"1st\",\"communion\",\"cuddles\",\"purring\",\"ant\",\"cara\",\"nina\",\"awesomee\",\"salted\",\"carmel\",\"tonya\",\"2morro\",\"attention\",\"station\",\"7pm\",\"intuition\",\"bugged\",\"hates\",\"press\",\"piano\",\"ava\",\"cheers\",\"hmph\",\"logo\",\"avatar\",\"properly\",\"veteran\",\"photobucket\",\"goign\",\"ts\",\"sheeesh\",\"fried\",\"tune\",\"officialy\",\"v\",\"countryside\",\"tractor\",\"pulling\",\"manure\",\"paulo\",\"famous\",\"okie\",\"dokie\",\"ash\",\"tegan\",\"yasmin\",\"asked\",\"sci\",\"ad\",\"lightning\",\"nephews\",\"obviously\",\"alike\",\"recovering\",\"erased\",\"files\",\"mess\",\"ggrrr\",\"saddd\",\"tanto\",\"meu\",\"89\",\"ooh\",\"arabic\",\"letters\",\"cutest\",\"wowp\",\"elaine\",\"underneath\",\"colleagues\",\"department\",\"members\",\"watermelon\",\"died\",\"ps\",\"reads\",\"cares\",\"dining\",\"fab\",\"chunk\",\"sweetheart\",\"yummiest\",\"chub\",\"ncis\",\"myy\",\"hw\",\"commerce\",\"chef\",\"destroy\",\"hiding\",\"monies\",\"tassie\",\"apply\",\"describe\",\"crappy\",\"amazed\",\"employed\",\"amount\",\"heels\",\"vid\",\"raise\",\"niiice\",\"zzz\",\"knew\",\"overpriced\",\"lease\",\"brooke\",\"leg\",\"ewww\",\"notice\",\"detail\",\"finals\",\"girlies\",\"goodmorning\",\"rent\",\"push\",\"size\",\"dollar\",\"aunt\",\"remain\",\"joined\",\"several\",\"exist\",\"drove\",\"eeek\",\"order\",\"electric\",\"parts\",\"distortion\",\"pedal\",\"bahaha\",\"18\",\"turning\",\"progressive\",\"intriguing\",\"mcdonald's\",\"grapes\",\"migraines\",\"chores\",\"bug\",\"cleanup\",\"shaq\",\"razor\",\"crotch\",\"buttons\",\"program\",\"raymond\",\"mornings\",\"holla\",\"allow\",\"frustration\",\"spoken\",\"attacked\",\"stall\",\"vast\",\"temptation\",\"belated\",\"b-day\",\"bargain\",\"ct\",\"baked\",\"ziti\",\"recipe\",\"mi\",\"buddy\",\"lemon\",\"juice\",\"sth\",\"ict\",\"nowhere\",\"pff\",\"admin\",\"appts\",\"midst\",\"curb\",\"bliss\",\"worries\",\"preordered\",\"tours\",\"ouchhh\",\"shaped\",\"lump\",\"wound\",\"performin\",\"kaka\",\"gue\",\"mau\",\"gk\",\"deh\",\"golf\",\"someday\",\"thanking\",\"=d\",\"omfg\",\"todaaay\",\"pond\",\"forecast\",\"woo\",\"uncles\",\"unused\",\"brooks\",\"seat\",\"ruined\",\"cma\",\"sipping\",\"bravo\",\"ridiculously\",\"era\",\"cuuute\",\"girlfriends\",\"spots\",\"eye\",\"initials\",\"include\",\"numbers\",\"wizard\",\"oz\",\"becoz\",\"stomach's\",\"uhhh\",\"shape\",\"texas\",\"-)\",\"goodluck\",\"metro\",\"lived\",\"speakers\",\"2p\",\"professional\",\"ftw\",\"cup\",\"crowd\",\"acting\",\"unimpressed\",\"shirts\",\"hain\",\"yaar\",\"infact\",\"wil\",\"publicist\",\"geez\",\"watta\",\"smallville\",\"itss\",\"act\",\"feelings\",\"felling\",\"hip\",\"hop\",\"2mro\",\"adventure\",\"blogspot\",\"makeup\",\"payment\",\"interval\",\"ewo\",\"lylady\",\"grizzly\",\"plain\",\"avoid\",\"sake\",\"customer\",\"images\",\"filled\",\"balloons\",\"twitpic\",\"holy\",\"jailbreak\",\"themes\",\"whatnot\",\"deary\",\"cruel\",\"harmful\",\"disease\",\"spring\",\"exaggerating\",\"bat\",\"angels\",\"3rd\",\"rangers\",\"whoa\",\"oceanup\",\"skype\",\"wife\",\"pointless\",\"wing\",\"firefly\",\"msg\",\"dreamt\",\"buried\",\"registered\",\"cartoons\",\"wizards\",\"waverly\",\"alice\",\"wonderland\",\"drew\",\"vancouver\",\"jakarta\",\"jet\",\"mars\",\"assessments\",\"haunt\",\"loooking\",\"dicaprio\",\"director\",\"donating\",\"10k\",\"pocket\",\"tov\",\"shabbat\",\"gash\",\"sunrise\",\"tree\",\"houses\",\"blocking\",\"expect\",\"achieving\",\"force\",\"rach\",\"clones\",\"fixing\",\"quizzes\",\"stressed\",\"pwning\",\"beaten\",\"challenges\",\"claim\",\"polly\",\"hurting\",\"reorganizing\",\"moves\",\"queensland\",\"mouth\",\"army\",\"happening\",\"ftl\",\"confusing\",\"comfort\",\"cowboy\",\"urg\",\"pet\",\"society\",\"entertainment\",\"center\",\"tiny\",\"washer\",\"gordon\",\"brown\",\"epic\",\"t-shirts\",\"charlie\",\"american\",\"jewelry\",\"weston\",\"tweople\",\"sociology\",\"including\",\"pish\",\"consumed\",\"aoki\",\"packed\",\"calling\",\"tara\",\"cardio\",\"burnt\",\"1/2\",\"goto\",\"coworkers\",\"injured\",\"hooray\",\"smashed\",\"honestly\",\"anniversary\",\"clicked\",\"button\",\"seafood\",\"`\",\"wth\",\"victor\",\"lizard\",\"walmart\",\"ben\",\"jerrys\",\"jk\",\"bgt\",\"evans\",\"gchat\",\"headed\",\"supreme\",\"ultra\",\"ayy\",\"teary\",\"eyed\",\"meth\",\"crash\",\"flash\",\"heavens\",\"opened\",\"band\",\"alcohol\",\"cigarettes\",\"plurking\",\"l\",\"workin\",\"stops\",\"momma\",\"faded\",\"remembered\",\"treat\",\"gloomy\",\"jogging\",\"flirting\",\"birds\",\"turtles\",\"creatures\",\"migrate\",\"accidentally\",\"parking\",\"entourage\",\"pei\",\"boyfriend\",\"supper\",\"atomic\",\"npr\",\"shiz\",\"sank\",\"pat\",\"argue\",\"congratulations\",\"bacon\",\"melt\",\"everyday\",\"sniffle\",\"exact\",\"fav\",\"vampire\",\"yeaah\",\"rlly\",\"sch\",\"extended\",\"felton\",\"september\",\"psychology\",\"hundreds\",\"fake\",\"michigan\",\"designer\",\"compositions\",\"waltz\",\"lullaby\",\"gremlins\",\"who's\",\"glove\",\"shoppin\",\"jog\",\"skipped\",\"belly\",\"hurtsss\",\"hiking\",\"oscar\",\"nico\",\"figured\",\"gadgets\",\"aaron\",\"lisa\",\"caused\",\"rss\",\"clothing\",\"gift\",\"ut\",\"overslept\",\"commitments\",\"physically\",\"spiritually\",\"de\",\"het\",\"nicer\",\"commute\",\"kinds\",\"handbags\",\"overtime\",\"4u\",\"concept\",\"period\",\"steal\",\"lock\",\"cage\",\"4life\",\"todd\",\"wkend\",\"strike\",\"lottery\",\"wrote\",\"stood\",\"tripped\",\"150\",\"heaps\",\"america\",\"point\",\"canteen\",\"cafeteria\",\"management\",\"oct\",\"31\",\"purse\",\"stockton\",\"iw\",\"sih\",\"scheduled\",\"fuccckkk\",\"kl\",\"lah\",\"sidney\",\"belfast\",\"cd\",\"occur\",\"alarm\",\"sell\",\"fetish\",\"az\",\"heads\",\"burritos\",\"directv\",\"gabriel\",\"tht\",\"peach\",\"cobbler\",\"catching\",\"mtb\",\"theyre\",\"majority\",\"fifa\",\"convert\",\"pes\",\"nightmare\",\"brighten\",\"intro\",\"homie\",\"holdin\",\"drinks\",\"ahahah\",\"gd\",\"realised\",\"upgraded\",\"810\",\"lts\",\"enroute\",\"910\",\"bury\",\"dayyy\",\"shoot\",\"jp\",\"fathers\",\"gossip\",\"withdrawl\",\"symptoms\",\"wiat\",\"\\u00ab\",\"riding\",\"remaining\",\"circles\",\"candy\",\"strangers\",\"eventful\",\"mug\",\"brekky\",\"choose\",\"workshops\",\"social\",\"daughter's\",\"pre-school\",\"mighty\",\"balls\",\"dreaded\",\"atx\",\"scrabble\",\"duel\",\"diff\",\"pwned\",\"fred\",\"suddenly\",\"makin\",\"crummy\",\"hugz\",\"champaign\",\"hte\",\"certified\",\"tahiti\",\"tourism\",\"specialist\",\"christ\",\"spiritual\",\"steroids\",\"19\",\"suicide\",\"posting\",\"spam\",\"sleeep\",\"alittle\",\"worried\",\"register\",\"horribly\",\"bumming\",\"anger\",\"sadness\",\"nervousness\",\"celebs\",\"headshots\",\"woken\",\"gray\",\"bird\",\"underdog\",\"runners\",\"hee\",\"babe's\",\"enrolled\",\"ust\",\"med\",\"loll\",\"type\",\"fone\",\"culdnt\",\"nono\",\"200\",\"oo\",\"nicee\",\"13th\",\"relaxation\",\"uncle\",\"nda\",\"thursday\",\"aku\",\"wana\",\"elusive\",\"recommend\",\"xs\",\"mixed\",\"dozen\",\"ads\",\"noggin\",\"900\",\"edits\",\"laughs\",\"cc\",\"shia\",\"pia\",\"hurtful\",\"delayed\",\"sorryyy\",\"demons\",\"chair\",\"dentist's\",\"hooking\",\"rapidshare\",\"frog\",\"earth\",\"disgusting\",\"creature\",\"terribly\",\"elf\",\"tall\",\"sushi\",\"save\",\"myyy\",\"goddd\",\"crack\",\"tacos\",\"te\",\"pro\",\"gamer\",\"here's\",\"radical\",\"courtesy\",\"eternity\",\"djing\",\"jets\",\"jack's\",\"usb\",\"shits\",\"finnally\",\"gmail\",\"vino\",\"errand\",\"bella\",\"dorky\",\"superstar\",\"whose\",\"build\",\"lunchtime\",\"friendster\",\"experiences\",\"estate\",\"agents\",\"apartments\",\"condos\",\"0\",\"earthquake\",\"porter\",\"haunting\",\"forces\",\"strategies\",\"competitive\",\"advantage\",\"sleepovers\",\"phew\",\"across\",\"giggle\",\"nature\",\"sence\",\"humor\",\"ahahahaha\",\"board\",\"wud\",\"nvr\",\"gain\",\"weights\",\"glasses\",\"3d\",\"indiana\",\"exceptionally\",\"subscribe\",\"ton\",\"cami\",\"films\",\"comedy\",\"futurama\",\"chiropractor\",\"fixes\",\"dats\",\"gudluck\",\"ooooh\",\"rumour\",\"os3\",\"refers\",\"3gs\",\"dunno\",\"one's\",\"complain\",\"bugging\",\"yoo\",\"wp\",\"installs\",\"happenin\",\"originally\",\"ack\",\"sign\",\"graeme\",\"juicy\",\"mannn\",\"nails\",\"330\",\"ish\",\"celery\",\"travesty\",\"storm\",\"poster\",\"marley\",\"diesel\",\"lax\",\"toss\",\"spark\",\"offf\",\"collect\",\"typhoon\",\"classes\",\"shaping\",\"pee\",\"pants\",\"bets\",\"wifey\",\"bonne\",\"nuit\",\"\\u00e3\",\"layover\",\"drawing\",\"artists\",\"beyond\",\"twits\",\"vey\",\"unmotivated\",\"performing\",\"environment\",\"tou\",\"woow\",\"vicky\",\"christina\",\"barcelona\",\"reader\",\"q\",\"51\",\"thingy\",\"arghh\",\"nerves\",\"asks\",\"twitting\",\"fella\",\"m8\",\"painted\",\"toy\",\"irving\",\"coughing\",\"fallin\",\"novel\",\"deserved\",\"rofl\",\"florida\",\"result\",\"aaa\",\"capoeira\",\"tryout\",\"tax\",\"sheet\"],\"x\":{\"__ndarray__\":\"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\",\"dtype\":\"float32\",\"shape\":[5000]},\"y\":{\"__ndarray__\":\"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\",\"dtype\":\"float32\",\"shape\":[5000]}},\"selected\":{\"id\":\"1284\",\"type\":\"Selection\"},\"selection_policy\":{\"id\":\"1283\",\"type\":\"UnionRenderers\"}},\"id\":\"1270\",\"type\":\"ColumnDataSource\"},{\"attributes\":{\"formatter\":{\"id\":\"1279\",\"type\":\"BasicTickFormatter\"},\"ticker\":{\"id\":\"1251\",\"type\":\"BasicTicker\"}},\"id\":\"1250\",\"type\":\"LinearAxis\"},{\"attributes\":{\"ticker\":{\"id\":\"1246\",\"type\":\"BasicTicker\"}},\"id\":\"1249\",\"type\":\"Grid\"},{\"attributes\":{},\"id\":\"1260\",\"type\":\"ZoomOutTool\"},{\"attributes\":{},\"id\":\"1251\",\"type\":\"BasicTicker\"},{\"attributes\":{},\"id\":\"1257\",\"type\":\"PanTool\"},{\"attributes\":{\"callback\":null},\"id\":\"1237\",\"type\":\"DataRange1d\"},{\"attributes\":{},\"id\":\"1258\",\"type\":\"WheelZoomTool\"},{\"attributes\":{\"bottom_units\":\"screen\",\"fill_alpha\":{\"value\":0.5},\"fill_color\":{\"value\":\"lightgrey\"},\"left_units\":\"screen\",\"level\":\"overlay\",\"line_alpha\":{\"value\":1.0},\"line_color\":{\"value\":\"black\"},\"line_dash\":[4,4],\"line_width\":{\"value\":2},\"render_mode\":\"css\",\"right_units\":\"screen\",\"top_units\":\"screen\"},\"id\":\"1282\",\"type\":\"BoxAnnotation\"},{\"attributes\":{},\"id\":\"1246\",\"type\":\"BasicTicker\"},{\"attributes\":{\"overlay\":{\"id\":\"1282\",\"type\":\"BoxAnnotation\"}},\"id\":\"1261\",\"type\":\"BoxZoomTool\"}],\"root_ids\":[\"1236\"]},\"title\":\"Bokeh Application\",\"version\":\"1.3.0\"}};\n",
       "  var render_items = [{\"docid\":\"80a081a9-557a-4dac-8f9c-c345b21502cc\",\"roots\":{\"1236\":\"1af6d3db-cc66-4a5c-a180-5f0e26abdee7\"}}];\n",
       "  root.Bokeh.embed.embed_items_notebook(docs_json, render_items);\n",
       "\n",
       "  }\n",
       "  if (root.Bokeh !== undefined) {\n",
       "    embed_document(root);\n",
       "  } else {\n",
       "    var attempts = 0;\n",
       "    var timer = setInterval(function(root) {\n",
       "      if (root.Bokeh !== undefined) {\n",
       "        embed_document(root);\n",
       "        clearInterval(timer);\n",
       "      }\n",
       "      attempts++;\n",
       "      if (attempts > 100) {\n",
       "        console.log(\"Bokeh: ERROR: Unable to run BokehJS code because BokehJS library is missing\");\n",
       "        clearInterval(timer);\n",
       "      }\n",
       "    }, 10, root)\n",
       "  }\n",
       "})(window);"
      ],
      "application/vnd.bokehjs_exec.v0+json": ""
     },
     "metadata": {
      "application/vnd.bokehjs_exec.v0+json": {
       "id": "1236"
      }
     },
     "output_type": "display_data"
    }
   ],
   "source": [
    "TOOLS=\"hover,crosshair,pan,wheel_zoom,zoom_in,zoom_out,box_zoom,\"\n",
    "\n",
    "p = figure(tools=TOOLS)\n",
    "\n",
    "p.scatter(x='x', y='y', source=tsne_df)\n",
    "\n",
    "hover = p.select(dict(type=HoverTool))\n",
    "hover.tooltips = [\n",
    "    (\"word\", \"@words\"),\n",
    "]\n",
    "\n",
    "output_notebook()\n",
    "\n",
    "show(p)"
   ]
  },
  {
   "cell_type": "markdown",
   "metadata": {},
   "source": [
    "## Transforming"
   ]
  },
  {
   "cell_type": "markdown",
   "metadata": {},
   "source": [
    "We use TF-IDF weightings to weight word vectors accordingly"
   ]
  },
  {
   "cell_type": "code",
   "execution_count": 116,
   "metadata": {},
   "outputs": [],
   "source": [
    "vectorizer = TfidfVectorizer(analyzer=lambda x: x, min_df=10)\n",
    "matrix = vectorizer.fit_transform([x.words for x in X_train])\n",
    "tfidf = dict(zip(vectorizer.get_feature_names(), vectorizer.idf_))"
   ]
  },
  {
   "cell_type": "code",
   "execution_count": 117,
   "metadata": {},
   "outputs": [],
   "source": [
    "def create_tweet_vector(words, ndims=200):\n",
    "    vector = np.zeros((1, ndims))\n",
    "    count = 0\n",
    "    \n",
    "    for w in words:\n",
    "        try:\n",
    "            vector += tweet_w2v.wv[w].reshape((1, ndims)) * tfidf[w]\n",
    "            count += 1\n",
    "        except KeyError:\n",
    "            continue\n",
    "    \n",
    "    if count != 0:\n",
    "        return np.divide(vector,count)\n",
    "    else:\n",
    "        return vector"
   ]
  },
  {
   "cell_type": "code",
   "execution_count": 118,
   "metadata": {},
   "outputs": [
    {
     "data": {
      "application/vnd.jupyter.widget-view+json": {
       "model_id": "a2efda208a2145369cfb5701704ffaae",
       "version_major": 2,
       "version_minor": 0
      },
      "text/plain": [
       "HBox(children=(IntProgress(value=1, bar_style='info', max=1), HTML(value='')))"
      ]
     },
     "metadata": {},
     "output_type": "display_data"
    },
    {
     "data": {
      "application/vnd.jupyter.widget-view+json": {
       "model_id": "ea663113b0f74f9fa0e4ffa20b28c925",
       "version_major": 2,
       "version_minor": 0
      },
      "text/plain": [
       "HBox(children=(IntProgress(value=1, bar_style='info', max=1), HTML(value='')))"
      ]
     },
     "metadata": {},
     "output_type": "display_data"
    }
   ],
   "source": [
    "train_vec_tweets = np.concatenate([create_tweet_vector(x, N_DIM) for x in tqdm_notebook(map(lambda x: x.words, X_train))])\n",
    "train_vec_tweets = scale(train_vec_tweets)\n",
    "\n",
    "test_vec_tweets = np.concatenate([create_tweet_vector(x, N_DIM) for x in tqdm_notebook(map(lambda x: x.words, X_test))])\n",
    "test_vec_tweets = scale(test_vec_tweets)"
   ]
  },
  {
   "cell_type": "markdown",
   "metadata": {},
   "source": [
    "## Neural Architecture in Keras"
   ]
  },
  {
   "cell_type": "code",
   "execution_count": 119,
   "metadata": {},
   "outputs": [
    {
     "name": "stdout",
     "output_type": "stream",
     "text": [
      "Epoch 1/9\n",
      " - 47s - loss: 0.4821 - acc: 0.7688\n",
      "Epoch 2/9\n",
      " - 47s - loss: 0.4721 - acc: 0.7749\n",
      "Epoch 3/9\n",
      " - 46s - loss: 0.4692 - acc: 0.7763\n",
      "Epoch 4/9\n",
      " - 46s - loss: 0.4675 - acc: 0.7771\n",
      "Epoch 5/9\n",
      " - 46s - loss: 0.4663 - acc: 0.7778\n",
      "Epoch 6/9\n",
      " - 46s - loss: 0.4653 - acc: 0.7784\n",
      "Epoch 7/9\n",
      " - 47s - loss: 0.4644 - acc: 0.7788\n",
      "Epoch 8/9\n",
      " - 47s - loss: 0.4638 - acc: 0.7790\n",
      "Epoch 9/9\n",
      " - 47s - loss: 0.4633 - acc: 0.7792\n",
      "320000/320000 [==============================] - 5s 15us/step\n"
     ]
    }
   ],
   "source": [
    "model = Sequential([\n",
    "    Dense(32, input_dim=N_DIM),\n",
    "    Activation('relu'),\n",
    "    Dense(1),\n",
    "    Activation('sigmoid')\n",
    "])\n",
    "model.compile(optimizer='adam',\n",
    "             loss='binary_crossentropy',\n",
    "             metrics=['accuracy'])\n",
    "\n",
    "model.fit(train_vec_tweets, y_train, epochs=9, batch_size=32, verbose=2)\n",
    "\n",
    "score = model.evaluate(test_vec_tweets, y_test, batch_size=32)"
   ]
  },
  {
   "cell_type": "code",
   "execution_count": 120,
   "metadata": {},
   "outputs": [
    {
     "data": {
      "text/plain": [
       "[0.46631969130039214, 0.77763125]"
      ]
     },
     "execution_count": 120,
     "metadata": {},
     "output_type": "execute_result"
    }
   ],
   "source": [
    "score"
   ]
  },
  {
   "cell_type": "code",
   "execution_count": 121,
   "metadata": {},
   "outputs": [],
   "source": [
    "def predict_text(texts):\n",
    "    texts = [tokenize(text) for text in texts]\n",
    "    matrix = np.concatenate([create_tweet_vector(t, N_DIM) for t in texts])\n",
    "    return model.predict(matrix)"
   ]
  },
  {
   "cell_type": "code",
   "execution_count": 122,
   "metadata": {},
   "outputs": [
    {
     "data": {
      "text/plain": [
       "array([[2.372824e-05],\n",
       "       [9.997180e-01]], dtype=float32)"
      ]
     },
     "execution_count": 122,
     "metadata": {},
     "output_type": "execute_result"
    }
   ],
   "source": [
    "predict_text([\"I hate everything. Today sucks!\", \"I love myself. Life is awesome!\"])"
   ]
  },
  {
   "cell_type": "markdown",
   "metadata": {},
   "source": [
    "## Pickling the neural model, w2vec model and tfidf lookup"
   ]
  },
  {
   "cell_type": "code",
   "execution_count": 161,
   "metadata": {},
   "outputs": [],
   "source": [
    "'''\n",
    "pkl.dump(model, open(\"data/sentiment_classifier00.pkl\", \"wb\"))\n",
    "pkl.dump(tweet_w2v, open(\"data/tweet_w2v00.pkl\", \"wb\"))\n",
    "pkl.dump(tfidf, open(\"data/tfidf_lookup00.pkl\", \"wb\"))\n",
    "pkl.dump(tokenizer, open(\"data/tweet_tokenizer00.pkl\", \"wb\"))\n",
    "'''"
   ]
  },
  {
   "cell_type": "markdown",
   "metadata": {},
   "source": [
    "## Productionalizing Code"
   ]
  },
  {
   "cell_type": "code",
   "execution_count": 128,
   "metadata": {},
   "outputs": [],
   "source": [
    "class SentimentAnalyzer:\n",
    "    \n",
    "    def __init__(self):\n",
    "        self.ndims = 200\n",
    "    \n",
    "    def load_model(self):\n",
    "        self.classifier = pkl.load(open(\"data/sentiment_classifier00.pkl\", \"rb\"))\n",
    "        self.word2vec = pkl.load(open(\"data/tweet_w2v00.pkl\", \"rb\"))\n",
    "        self.tfidf = pkl.load(open(\"data/tfidf_lookup00.pkl\", \"rb\"))\n",
    "        self.tokenizer = pkl.load(open(\"data/tweet_tokenizer00.pkl\", \"rb\"))\n",
    "        \n",
    "    def tokenize(self, tweet):\n",
    "        sub_regex = r'(#[A-Za-z0-9])|(https)\\?!\\.,'\n",
    "        tweet = str(tweet)\n",
    "        tokens = self.tokenizer.tokenize(tweet)\n",
    "        tokens = [re.sub(sub_regex, '', t) for t in tokens]\n",
    "        tokens = [t.lower() for t in tokens if t is not None and t != '']\n",
    "        tokens = [self.expand_contractions(t) for t in tokens]\n",
    "        tokens = [t for t in tokens if t not in STOPWORDS]\n",
    "        return tokens\n",
    "        \n",
    "    def expand_contractions(self, text):\n",
    "        try:\n",
    "            return contractions[text]\n",
    "        except:\n",
    "            return text\n",
    "        \n",
    "    def create_tweet_vector(self, words):\n",
    "        vector = np.zeros((1, self.ndims))\n",
    "        count = 0\n",
    "\n",
    "        for w in words:\n",
    "            try:\n",
    "                vector += self.word2vec.wv[w].reshape((1, self.ndims)) * self.tfidf[w]\n",
    "                count += 1\n",
    "            except KeyError:\n",
    "                continue\n",
    "\n",
    "        if count != 0:\n",
    "            return np.divide(vector,count)\n",
    "        else:\n",
    "            return vector\n",
    "    \n",
    "    def predict_sentiment(self, texts):\n",
    "        texts = [self.tokenize(text) for text in texts]\n",
    "        tweet_vectors = np.concatenate([self.create_tweet_vector(text) for text in texts])\n",
    "        return self.classifier.predict(tweet_vectors)\n"
   ]
  },
  {
   "cell_type": "code",
   "execution_count": 134,
   "metadata": {},
   "outputs": [],
   "source": [
    "sa = SentimentAnalyzer()\n",
    "sa.load_model()"
   ]
  },
  {
   "cell_type": "code",
   "execution_count": 159,
   "metadata": {},
   "outputs": [
    {
     "data": {
      "text/plain": [
       "array([[0.9714031]], dtype=float32)"
      ]
     },
     "execution_count": 159,
     "metadata": {},
     "output_type": "execute_result"
    }
   ],
   "source": [
    "sa.predict_sentiment([\"NOT GOOD\"])"
   ]
  },
  {
   "cell_type": "code",
   "execution_count": null,
   "metadata": {},
   "outputs": [],
   "source": []
  }
 ],
 "metadata": {
  "kernelspec": {
   "display_name": "Python 3",
   "language": "python",
   "name": "python3"
  },
  "language_info": {
   "codemirror_mode": {
    "name": "ipython",
    "version": 3
   },
   "file_extension": ".py",
   "mimetype": "text/x-python",
   "name": "python",
   "nbconvert_exporter": "python",
   "pygments_lexer": "ipython3",
   "version": "3.7.3"
  }
 },
 "nbformat": 4,
 "nbformat_minor": 2
}
